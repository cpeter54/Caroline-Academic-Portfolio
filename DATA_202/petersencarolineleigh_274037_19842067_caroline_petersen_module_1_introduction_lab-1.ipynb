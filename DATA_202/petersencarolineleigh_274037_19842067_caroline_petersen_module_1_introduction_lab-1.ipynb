{
 "cells": [
  {
   "cell_type": "markdown",
   "id": "24d0b655",
   "metadata": {},
   "source": [
    "# DATA 202 - Module 1: Introduction Lab Assignment\n",
    "* Instructor: Dr. Josh Fagan:\n",
    "* [Jupyter Notebook Tips and Tricks](http://bit.ly/34embJh)\n",
    "* [Markdown Cheatsheet](http://bit.ly/2UkNVXV)\n",
    "* Magic command to list all variables: `%whos`"
   ]
  },
  {
   "cell_type": "markdown",
   "id": "f25d4293",
   "metadata": {},
   "source": [
    "### Instructions\n",
    "\n",
    "Welcome to the first assignment of DATA 202! This assignment is meant to help you review/familiarize yourself with Jupyter, and review some fundamental operations in Python. "
   ]
  },
  {
   "cell_type": "markdown",
   "id": "c33a5f71",
   "metadata": {},
   "source": [
    "---\n",
    "### Collaboration Policy\n",
    "\n",
    "Data science is a collaborative activity. While you may talk with others about the labs, we ask that you **write your solutions individually**. If you do discuss the assignments with others please **include their names** below."
   ]
  },
  {
   "cell_type": "markdown",
   "id": "cab1ec17",
   "metadata": {},
   "source": [
    "**Collaborators**: *list collaborators here*\n",
    "* Joseph Beller (vol study center)\n",
    "* Jessi Hudgins "
   ]
  },
  {
   "cell_type": "markdown",
   "id": "292b0066",
   "metadata": {
    "nbgrader": {
     "grade": false,
     "grade_id": "running-a-cell",
     "locked": true,
     "schema_version": 2,
     "solution": false
    },
    "tags": []
   },
   "source": [
    "---\n",
    "## Questions\n"
   ]
  },
  {
   "cell_type": "markdown",
   "id": "852196f6",
   "metadata": {},
   "source": [
    "### Question 1 - Stages of Life\n",
    "Write an `if-elif-else` chain that determines a person’s stage of life. Set a value for the variable `age`, and then:\n",
    "\n",
    "* If the person is less than 2 years old, print a message that the person is a baby.\n",
    "* If the person is at least 2 years old but less than 4, print a message that the person is a toddler.\n",
    "* If the person is at least 4 years old but less than 13, print a message that the person is a kid.\n",
    "* If the person is at least 13 years old but less than 20, print a message that the person is a teenager.\n",
    "* If the person is at least 20 years old but less than 65, print a message that the person is an adult."
   ]
  },
  {
   "cell_type": "code",
   "execution_count": 1,
   "id": "25302d85",
   "metadata": {},
   "outputs": [
    {
     "name": "stdout",
     "output_type": "stream",
     "text": [
      "You are an adult.\n"
     ]
    }
   ],
   "source": [
    "age = 45\n",
    "\n",
    "if age <= 2: \n",
    "    print(f'You are a baby.')\n",
    "elif age < 4: \n",
    "    print(f'You are a toddler.')\n",
    "elif age < 13: \n",
    "    print(f'You are a kid.')\n",
    "elif age < 20: \n",
    "    print(f'You are a tennager.')\n",
    "else: \n",
    "    print('You are an adult.')"
   ]
  },
  {
   "cell_type": "markdown",
   "id": "86c91a7f",
   "metadata": {},
   "source": [
    "#### Question 1 Grading Notes\n",
    "\n",
    "Deductions:\n",
    "- Left off cases (-5)\n",
    "\n",
    "Question 1 Grade:\n",
    "\n",
    "15/20"
   ]
  },
  {
   "cell_type": "markdown",
   "id": "eaa659a1",
   "metadata": {},
   "source": [
    "### Question 2 - Checking Usernames\n",
    "Do the following to create a program that simulates how websites ensure that everyone has a unique username.\n",
    "\n",
    "* Make a list of five or more usernames called `current_users`.\n",
    "*  Make another list of five usernames called `new_users`. Make sure one or two of the new usernames are also in the `current_users` list.\n",
    "* Loop through the `new_users` list to see if each new username has already been used. If it has, print a message that the person will need to enter a new username. If a username has not been used, print a message saying that the username is available.\n",
    "* Make sure your comparison is case insensitive. If 'John' has been used, 'JOHN' should not be accepted. (To do this, you’ll need to make a copy of `current_users` containing the lowercase versions of all existing users.)"
   ]
  },
  {
   "cell_type": "code",
   "execution_count": 2,
   "id": "998d675c",
   "metadata": {},
   "outputs": [
    {
     "name": "stdout",
     "output_type": "stream",
     "text": [
      "The name uptownCrunK is already taken, please choose another name.\n",
      "steph_insal is available.\n",
      "The name awootab is already taken, please choose another name.\n",
      "r3th1ka is available.\n",
      "olivette107 is available.\n"
     ]
    }
   ],
   "source": [
    "current_users = ['grak130', 'cpeter54', 'i8drip', 'UptownCrunk', 'awootab']\n",
    "new_users = ['uptownCrunK', 'steph_insal', 'awootab', 'r3th1ka', 'olivette107']\n",
    "\n",
    "current_users_lower = [user.lower() for user in current_users]\n",
    "\n",
    "for new_user in new_users: \n",
    "    if new_user.lower() in current_users_lower:\n",
    "        print(f'The name {new_user} is already taken, please choose another name.')\n",
    "    else: \n",
    "        print(f'{new_user} is available.')"
   ]
  },
  {
   "cell_type": "markdown",
   "id": "746d2f86",
   "metadata": {},
   "source": [
    "#### Question 2 Grading Notes\n",
    "\n",
    "Question 2 Grade:\n",
    "\n",
    "20/20"
   ]
  },
  {
   "cell_type": "markdown",
   "id": "1ac267d5-6a75-4ebc-bfee-000b6ae0e48d",
   "metadata": {},
   "source": [
    "### Problem 3 - The game of life\n",
    "In \"Rabbitville\", the rabbit population squares each year.\n",
    "e.g. If you start with 4 rabbits, you'll have 16 in 1 year, and 256 in 2 years.\n",
    "Once the population exceeds 10,000 bunnies, food will be scarce, and population will begin to decrease.\n",
    "\n",
    "Write a Python function to simulate the game of life given start population and terminal population as parameters.\n",
    "- Include Docstring\n",
    "- Return dictionary that stores number of full years till terminal population and final population\n",
    "\n",
    "e.g. If you start with 4 rabbits, in 3 years population will be 65536, which is greather than 10000 & food will become scarce"
   ]
  },
  {
   "cell_type": "code",
   "execution_count": 4,
   "id": "5428a6a3",
   "metadata": {},
   "outputs": [
    {
     "name": "stdout",
     "output_type": "stream",
     "text": [
      "{'time': 3, 'population': 65536}\n"
     ]
    },
    {
     "data": {
      "text/plain": [
       "{'time': 3, 'population': 65536}"
      ]
     },
     "execution_count": 4,
     "metadata": {},
     "output_type": "execute_result"
    }
   ],
   "source": [
    "def rabbitville(start_population, terminal_population):\n",
    "    \n",
    "    ''' calculates the time until overpopulation and decline in Rabbitville '''\n",
    "    \n",
    "    population = start_population\n",
    "    years = 0\n",
    "    \n",
    "    while population < terminal_population:\n",
    "        population *= population\n",
    "        years += 1\n",
    "        \n",
    "        if population >= terminal_population:\n",
    "            break\n",
    "            \n",
    "    return {'time': years, 'population': population}\n",
    "\n",
    "simulation_result = rabbitville(4, 10000)\n",
    "print(simulation_result)  \n",
    "rabbitville(4,10000)"
   ]
  },
  {
   "cell_type": "markdown",
   "id": "da4e6c06",
   "metadata": {},
   "source": [
    "#### Question 3 Grading Notes\n",
    "\n",
    "\n",
    "Question 3 Grade:\n",
    "\n",
    "20/20"
   ]
  },
  {
   "cell_type": "markdown",
   "id": "7ef06c18-077b-4d43-8cee-99277b6b9fc8",
   "metadata": {},
   "source": [
    "### Problem 4 - Weekly Pay Calculator\n",
    "\n",
    "Given two pices of information, # of hours worked (e.g. 33 or 42) and regular pay rate (e.g. $12), calculate a single value equal to the amount of the weekly paycheck.\n",
    "Overtime hours (hours beyond 40) are paid at 1.5 * regular pay rate.\n",
    "Regular hours (hours <=40) are paid at the regular pay rate.\n",
    "\n",
    "Write a Python function to calculate and return the correct pay given hours worked and base rate as parameters. \n",
    "- Include Docstring\n",
    "- Supply default value of 40 for hours worked."
   ]
  },
  {
   "cell_type": "code",
   "execution_count": 3,
   "id": "ea4b1853",
   "metadata": {},
   "outputs": [
    {
     "name": "stdout",
     "output_type": "stream",
     "text": [
      "You received overtime!\n",
      "Your weekly pay is $1100.0.\n"
     ]
    }
   ],
   "source": [
    "def weekly_pay(hours, pay):\n",
    "    \n",
    "    ''' determines weekly pay amount given hours worked to determine overtime '''\n",
    "    \n",
    "    if hours <= 40:\n",
    "        return hours * pay\n",
    "    \n",
    "    elif hours > 40: \n",
    "        regular_pay = 40 * pay\n",
    "        overtime_pay = (hours - 40) * (pay * 1.5)\n",
    "        total_pay = regular_pay + overtime_pay\n",
    "        print('You received overtime!')\n",
    "        return total_pay\n",
    "\n",
    "result = weekly_pay(50, 20)\n",
    "print(f'Your weekly pay is ${result}.')"
   ]
  },
  {
   "cell_type": "markdown",
   "id": "4f95c225",
   "metadata": {},
   "source": [
    "#### Question 4 Grading Notes\n",
    "\n",
    "Deductions:\n",
    "- Does not give hours worked default value of 40 (-2)\n",
    "\n",
    "Question 4 Grade:\n",
    "\n",
    "18/20"
   ]
  },
  {
   "cell_type": "markdown",
   "id": "39b90dea-58ef-4266-b691-bf689aeb8f99",
   "metadata": {},
   "source": [
    "### Problem 5 - Temperature Conversion \n",
    "\n",
    "Create a lambda function to convert Fahrenheit to Celsius.\n",
    "\n",
    "Hint: $(F − 32)(5/9) = C$"
   ]
  },
  {
   "cell_type": "code",
   "execution_count": 5,
   "id": "b6176b34",
   "metadata": {},
   "outputs": [
    {
     "name": "stdout",
     "output_type": "stream",
     "text": [
      "7.222222222222222\n"
     ]
    }
   ],
   "source": [
    "C = lambda F : (F-32)*5/9\n",
    "print(C(45))"
   ]
  },
  {
   "cell_type": "markdown",
   "id": "f8463e4c",
   "metadata": {},
   "source": [
    "#### Question 5 Grading Notes\n",
    "\n",
    "Question 5 Grade:\n",
    "\n",
    "20/20"
   ]
  },
  {
   "cell_type": "markdown",
   "id": "6edd8c68",
   "metadata": {
    "deletable": false
   },
   "source": [
    "---\n",
    "## Submission\n",
    "\n",
    "Make sure you have run all cells in your notebook in order. I recommend going to the \"Kernel\" menu at the top and selecting \"Restart & Run All\". This will ensure that everything runs correctly when it is run sequentially. "
   ]
  },
  {
   "cell_type": "markdown",
   "id": "4388a3fb",
   "metadata": {},
   "source": [
    "## Final Grade\n",
    "\n",
    "\n",
    "93/100"
   ]
  },
  {
   "cell_type": "code",
   "execution_count": null,
   "id": "09f1607d",
   "metadata": {},
   "outputs": [],
   "source": []
  }
 ],
 "metadata": {
  "kernelspec": {
   "display_name": "Python 3 (ipykernel)",
   "language": "python",
   "name": "python3"
  },
  "language_info": {
   "codemirror_mode": {
    "name": "ipython",
    "version": 3
   },
   "file_extension": ".py",
   "mimetype": "text/x-python",
   "name": "python",
   "nbconvert_exporter": "python",
   "pygments_lexer": "ipython3",
   "version": "3.11.4"
  }
 },
 "nbformat": 4,
 "nbformat_minor": 5
}
