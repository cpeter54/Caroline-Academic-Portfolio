{
 "cells": [
  {
   "cell_type": "markdown",
   "id": "24d0b655",
   "metadata": {},
   "source": [
    "# DATA 202 - Module 2: Data Management with Pandas\n",
    "* Instructor: Dr. Josh Fagan\n",
    "* [Jupyter Notebook Tips and Tricks](http://bit.ly/34embJh)\n",
    "* [Markdown Cheatsheet](http://bit.ly/2UkNVXV)\n",
    "* Magic command to list all variables: `%whos`"
   ]
  },
  {
   "cell_type": "markdown",
   "id": "f25d4293",
   "metadata": {},
   "source": [
    "### Instructions\n",
    "\n",
    "Welcome to the second assignment of DATA 202. This assignment is meant to help you review/familiarize yourself with indexing, combining, and working with data types in Pandas.\n",
    "\n",
    "To receive credit for a assignment, answer all questions correctly and submit before the deadline listed on Canvas."
   ]
  },
  {
   "cell_type": "markdown",
   "id": "c33a5f71",
   "metadata": {},
   "source": [
    "---\n",
    "### Collaboration Policy\n",
    "\n",
    "Data science is a collaborative activity. While you may talk with others about the labs, we ask that you **write your solutions individually**. If you do discuss the assignments with others please **include their names** below."
   ]
  },
  {
   "cell_type": "markdown",
   "id": "cab1ec17",
   "metadata": {},
   "source": [
    "**Collaborators**: *list collaborators here*\n",
    "* Jessi Hudgins\n",
    "* Y"
   ]
  },
  {
   "cell_type": "markdown",
   "id": "292b0066",
   "metadata": {
    "nbgrader": {
     "grade": false,
     "grade_id": "running-a-cell",
     "locked": true,
     "schema_version": 2,
     "solution": false
    },
    "tags": []
   },
   "source": [
    "---\n",
    "## Exercises\n"
   ]
  },
  {
   "cell_type": "markdown",
   "id": "900a2e43",
   "metadata": {},
   "source": [
    "To answer all of the exercises you will need to import the pandas package. Please do that below."
   ]
  },
  {
   "cell_type": "code",
   "execution_count": 1,
   "id": "af26da7b",
   "metadata": {},
   "outputs": [],
   "source": [
    "import pandas as pd"
   ]
  },
  {
   "cell_type": "markdown",
   "id": "1717c129",
   "metadata": {},
   "source": [
    "### Exercise 1 - Loading and Basic Exploration\n",
    "\n",
    "Load the `business_flights.csv` and `economy_flights.csv` datasets into two separate Panda's DataFrames called `business` and `economy`, respectively.\n",
    "\n",
    "Include appropriate arguments to have `date` stored as a `datetime`. \n",
    "\n",
    "**NOTE:** This will likely produce a bunch of red highlighted text, but they are just warnings and you can ignore them."
   ]
  },
  {
   "cell_type": "code",
   "execution_count": 2,
   "id": "3a94564d",
   "metadata": {},
   "outputs": [
    {
     "name": "stderr",
     "output_type": "stream",
     "text": [
      "/var/folders/4m/qvc8ly2d0mz07rthdgkms0tc0000gn/T/ipykernel_64436/991244262.py:1: UserWarning: Parsing dates in DD/MM/YYYY format when dayfirst=False (the default) was specified. This may lead to inconsistently parsed dates! Specify a format to ensure consistent parsing.\n",
      "  business = pd.read_csv('business_flights.csv', parse_dates=['date'])\n",
      "/var/folders/4m/qvc8ly2d0mz07rthdgkms0tc0000gn/T/ipykernel_64436/991244262.py:2: UserWarning: Parsing dates in DD/MM/YYYY format when dayfirst=False (the default) was specified. This may lead to inconsistently parsed dates! Specify a format to ensure consistent parsing.\n",
      "  economy = pd.read_csv('economy_flights.csv', parse_dates=['date'])\n"
     ]
    }
   ],
   "source": [
    "business = pd.read_csv('business_flights.csv', parse_dates=['date'])\n",
    "economy = pd.read_csv('economy_flights.csv', parse_dates=['date'])"
   ]
  },
  {
   "cell_type": "markdown",
   "id": "7fe71435",
   "metadata": {},
   "source": [
    "Display the first 5 rows of `business`."
   ]
  },
  {
   "cell_type": "code",
   "execution_count": 3,
   "id": "fee3307a",
   "metadata": {},
   "outputs": [
    {
     "data": {
      "text/html": [
       "<div>\n",
       "<style scoped>\n",
       "    .dataframe tbody tr th:only-of-type {\n",
       "        vertical-align: middle;\n",
       "    }\n",
       "\n",
       "    .dataframe tbody tr th {\n",
       "        vertical-align: top;\n",
       "    }\n",
       "\n",
       "    .dataframe thead th {\n",
       "        text-align: right;\n",
       "    }\n",
       "</style>\n",
       "<table border=\"1\" class=\"dataframe\">\n",
       "  <thead>\n",
       "    <tr style=\"text-align: right;\">\n",
       "      <th></th>\n",
       "      <th>date</th>\n",
       "      <th>airline</th>\n",
       "      <th>ch_code</th>\n",
       "      <th>num_code</th>\n",
       "      <th>dep_time</th>\n",
       "      <th>from</th>\n",
       "      <th>time_taken</th>\n",
       "      <th>stop</th>\n",
       "      <th>arr_time</th>\n",
       "      <th>to</th>\n",
       "      <th>price</th>\n",
       "    </tr>\n",
       "  </thead>\n",
       "  <tbody>\n",
       "    <tr>\n",
       "      <th>0</th>\n",
       "      <td>2022-11-02</td>\n",
       "      <td>Air India</td>\n",
       "      <td>AI</td>\n",
       "      <td>868</td>\n",
       "      <td>18:00</td>\n",
       "      <td>Delhi</td>\n",
       "      <td>02h 00m</td>\n",
       "      <td>non-stop</td>\n",
       "      <td>20:00</td>\n",
       "      <td>Mumbai</td>\n",
       "      <td>25,612</td>\n",
       "    </tr>\n",
       "    <tr>\n",
       "      <th>1</th>\n",
       "      <td>2022-11-02</td>\n",
       "      <td>Air India</td>\n",
       "      <td>AI</td>\n",
       "      <td>624</td>\n",
       "      <td>19:00</td>\n",
       "      <td>Delhi</td>\n",
       "      <td>02h 15m</td>\n",
       "      <td>non-stop</td>\n",
       "      <td>21:15</td>\n",
       "      <td>Mumbai</td>\n",
       "      <td>25,612</td>\n",
       "    </tr>\n",
       "    <tr>\n",
       "      <th>2</th>\n",
       "      <td>2022-11-02</td>\n",
       "      <td>Air India</td>\n",
       "      <td>AI</td>\n",
       "      <td>531</td>\n",
       "      <td>20:00</td>\n",
       "      <td>Delhi</td>\n",
       "      <td>24h 45m</td>\n",
       "      <td>1-stop</td>\n",
       "      <td>20:45</td>\n",
       "      <td>Mumbai</td>\n",
       "      <td>42,220</td>\n",
       "    </tr>\n",
       "    <tr>\n",
       "      <th>3</th>\n",
       "      <td>2022-11-02</td>\n",
       "      <td>Air India</td>\n",
       "      <td>AI</td>\n",
       "      <td>839</td>\n",
       "      <td>21:25</td>\n",
       "      <td>Delhi</td>\n",
       "      <td>26h 30m</td>\n",
       "      <td>1-stop</td>\n",
       "      <td>23:55</td>\n",
       "      <td>Mumbai</td>\n",
       "      <td>44,450</td>\n",
       "    </tr>\n",
       "    <tr>\n",
       "      <th>4</th>\n",
       "      <td>2022-11-02</td>\n",
       "      <td>Air India</td>\n",
       "      <td>AI</td>\n",
       "      <td>544</td>\n",
       "      <td>17:15</td>\n",
       "      <td>Delhi</td>\n",
       "      <td>06h 40m</td>\n",
       "      <td>1-stop\\n\\t\\t\\t\\t\\t\\t\\t\\t\\t\\t\\t\\t\\n\\t\\t\\t\\t\\t\\t...</td>\n",
       "      <td>23:55</td>\n",
       "      <td>Mumbai</td>\n",
       "      <td>46,690</td>\n",
       "    </tr>\n",
       "  </tbody>\n",
       "</table>\n",
       "</div>"
      ],
      "text/plain": [
       "        date    airline ch_code  num_code dep_time   from time_taken  \\\n",
       "0 2022-11-02  Air India      AI       868    18:00  Delhi    02h 00m   \n",
       "1 2022-11-02  Air India      AI       624    19:00  Delhi    02h 15m   \n",
       "2 2022-11-02  Air India      AI       531    20:00  Delhi    24h 45m   \n",
       "3 2022-11-02  Air India      AI       839    21:25  Delhi    26h 30m   \n",
       "4 2022-11-02  Air India      AI       544    17:15  Delhi    06h 40m   \n",
       "\n",
       "                                                stop arr_time      to   price  \n",
       "0                                          non-stop     20:00  Mumbai  25,612  \n",
       "1                                          non-stop     21:15  Mumbai  25,612  \n",
       "2                                             1-stop    20:45  Mumbai  42,220  \n",
       "3                                             1-stop    23:55  Mumbai  44,450  \n",
       "4  1-stop\\n\\t\\t\\t\\t\\t\\t\\t\\t\\t\\t\\t\\t\\n\\t\\t\\t\\t\\t\\t...    23:55  Mumbai  46,690  "
      ]
     },
     "execution_count": 3,
     "metadata": {},
     "output_type": "execute_result"
    }
   ],
   "source": [
    "business.head()"
   ]
  },
  {
   "cell_type": "markdown",
   "id": "cac0430f",
   "metadata": {},
   "source": [
    "Display the first 5 rows of `economy`."
   ]
  },
  {
   "cell_type": "code",
   "execution_count": 4,
   "id": "05a6882c",
   "metadata": {},
   "outputs": [
    {
     "data": {
      "text/html": [
       "<div>\n",
       "<style scoped>\n",
       "    .dataframe tbody tr th:only-of-type {\n",
       "        vertical-align: middle;\n",
       "    }\n",
       "\n",
       "    .dataframe tbody tr th {\n",
       "        vertical-align: top;\n",
       "    }\n",
       "\n",
       "    .dataframe thead th {\n",
       "        text-align: right;\n",
       "    }\n",
       "</style>\n",
       "<table border=\"1\" class=\"dataframe\">\n",
       "  <thead>\n",
       "    <tr style=\"text-align: right;\">\n",
       "      <th></th>\n",
       "      <th>date</th>\n",
       "      <th>airline</th>\n",
       "      <th>ch_code</th>\n",
       "      <th>num_code</th>\n",
       "      <th>dep_time</th>\n",
       "      <th>from</th>\n",
       "      <th>time_taken</th>\n",
       "      <th>stop</th>\n",
       "      <th>arr_time</th>\n",
       "      <th>to</th>\n",
       "      <th>price</th>\n",
       "    </tr>\n",
       "  </thead>\n",
       "  <tbody>\n",
       "    <tr>\n",
       "      <th>0</th>\n",
       "      <td>2022-11-02</td>\n",
       "      <td>SpiceJet</td>\n",
       "      <td>SG</td>\n",
       "      <td>8709</td>\n",
       "      <td>18:55</td>\n",
       "      <td>Delhi</td>\n",
       "      <td>02h 10m</td>\n",
       "      <td>non-stop</td>\n",
       "      <td>21:05</td>\n",
       "      <td>Mumbai</td>\n",
       "      <td>5,953</td>\n",
       "    </tr>\n",
       "    <tr>\n",
       "      <th>1</th>\n",
       "      <td>2022-11-02</td>\n",
       "      <td>SpiceJet</td>\n",
       "      <td>SG</td>\n",
       "      <td>8157</td>\n",
       "      <td>06:20</td>\n",
       "      <td>Delhi</td>\n",
       "      <td>02h 20m</td>\n",
       "      <td>non-stop</td>\n",
       "      <td>08:40</td>\n",
       "      <td>Mumbai</td>\n",
       "      <td>5,953</td>\n",
       "    </tr>\n",
       "    <tr>\n",
       "      <th>2</th>\n",
       "      <td>2022-11-02</td>\n",
       "      <td>AirAsia</td>\n",
       "      <td>I5</td>\n",
       "      <td>764</td>\n",
       "      <td>04:25</td>\n",
       "      <td>Delhi</td>\n",
       "      <td>02h 10m</td>\n",
       "      <td>non-stop</td>\n",
       "      <td>06:35</td>\n",
       "      <td>Mumbai</td>\n",
       "      <td>5,956</td>\n",
       "    </tr>\n",
       "    <tr>\n",
       "      <th>3</th>\n",
       "      <td>2022-11-02</td>\n",
       "      <td>Vistara</td>\n",
       "      <td>UK</td>\n",
       "      <td>995</td>\n",
       "      <td>10:20</td>\n",
       "      <td>Delhi</td>\n",
       "      <td>02h 15m</td>\n",
       "      <td>non-stop</td>\n",
       "      <td>12:35</td>\n",
       "      <td>Mumbai</td>\n",
       "      <td>5,955</td>\n",
       "    </tr>\n",
       "    <tr>\n",
       "      <th>4</th>\n",
       "      <td>2022-11-02</td>\n",
       "      <td>Vistara</td>\n",
       "      <td>UK</td>\n",
       "      <td>963</td>\n",
       "      <td>08:50</td>\n",
       "      <td>Delhi</td>\n",
       "      <td>02h 20m</td>\n",
       "      <td>non-stop</td>\n",
       "      <td>11:10</td>\n",
       "      <td>Mumbai</td>\n",
       "      <td>5,955</td>\n",
       "    </tr>\n",
       "  </tbody>\n",
       "</table>\n",
       "</div>"
      ],
      "text/plain": [
       "        date   airline ch_code  num_code dep_time   from time_taken  \\\n",
       "0 2022-11-02  SpiceJet      SG      8709    18:55  Delhi    02h 10m   \n",
       "1 2022-11-02  SpiceJet      SG      8157    06:20  Delhi    02h 20m   \n",
       "2 2022-11-02   AirAsia      I5       764    04:25  Delhi    02h 10m   \n",
       "3 2022-11-02   Vistara      UK       995    10:20  Delhi    02h 15m   \n",
       "4 2022-11-02   Vistara      UK       963    08:50  Delhi    02h 20m   \n",
       "\n",
       "        stop arr_time      to  price  \n",
       "0  non-stop     21:05  Mumbai  5,953  \n",
       "1  non-stop     08:40  Mumbai  5,953  \n",
       "2  non-stop     06:35  Mumbai  5,956  \n",
       "3  non-stop     12:35  Mumbai  5,955  \n",
       "4  non-stop     11:10  Mumbai  5,955  "
      ]
     },
     "execution_count": 4,
     "metadata": {},
     "output_type": "execute_result"
    }
   ],
   "source": [
    "economy.head()"
   ]
  },
  {
   "cell_type": "markdown",
   "id": "a1279380",
   "metadata": {},
   "source": [
    "#### Exercise 1 Grading Notes\n",
    "\n",
    "Grade:\n",
    "\n",
    "10/10"
   ]
  },
  {
   "cell_type": "markdown",
   "id": "796f3e5d",
   "metadata": {},
   "source": [
    "### Exercise 2 - Join Feature to Data Sets\n",
    "\n",
    "Run the next two cells below without changes to create two new DataFrames which contain an extra feature of information for each DataFrame, `business` and `economy`."
   ]
  },
  {
   "cell_type": "code",
   "execution_count": 5,
   "id": "62a49f81",
   "metadata": {},
   "outputs": [
    {
     "data": {
      "text/html": [
       "<div>\n",
       "<style scoped>\n",
       "    .dataframe tbody tr th:only-of-type {\n",
       "        vertical-align: middle;\n",
       "    }\n",
       "\n",
       "    .dataframe tbody tr th {\n",
       "        vertical-align: top;\n",
       "    }\n",
       "\n",
       "    .dataframe thead th {\n",
       "        text-align: right;\n",
       "    }\n",
       "</style>\n",
       "<table border=\"1\" class=\"dataframe\">\n",
       "  <thead>\n",
       "    <tr style=\"text-align: right;\">\n",
       "      <th></th>\n",
       "      <th>airline</th>\n",
       "      <th>class</th>\n",
       "    </tr>\n",
       "  </thead>\n",
       "  <tbody>\n",
       "    <tr>\n",
       "      <th>0</th>\n",
       "      <td>Air India</td>\n",
       "      <td>business</td>\n",
       "    </tr>\n",
       "    <tr>\n",
       "      <th>1</th>\n",
       "      <td>Air India</td>\n",
       "      <td>business</td>\n",
       "    </tr>\n",
       "    <tr>\n",
       "      <th>2</th>\n",
       "      <td>Air India</td>\n",
       "      <td>business</td>\n",
       "    </tr>\n",
       "    <tr>\n",
       "      <th>3</th>\n",
       "      <td>Air India</td>\n",
       "      <td>business</td>\n",
       "    </tr>\n",
       "    <tr>\n",
       "      <th>4</th>\n",
       "      <td>Air India</td>\n",
       "      <td>business</td>\n",
       "    </tr>\n",
       "  </tbody>\n",
       "</table>\n",
       "</div>"
      ],
      "text/plain": [
       "     airline     class\n",
       "0  Air India  business\n",
       "1  Air India  business\n",
       "2  Air India  business\n",
       "3  Air India  business\n",
       "4  Air India  business"
      ]
     },
     "execution_count": 5,
     "metadata": {},
     "output_type": "execute_result"
    }
   ],
   "source": [
    "class_business = pd.DataFrame(business.airline)\n",
    "class_business['class'] = 'business'\n",
    "class_business.head()"
   ]
  },
  {
   "cell_type": "code",
   "execution_count": 6,
   "id": "1e9f6b1e",
   "metadata": {},
   "outputs": [
    {
     "data": {
      "text/html": [
       "<div>\n",
       "<style scoped>\n",
       "    .dataframe tbody tr th:only-of-type {\n",
       "        vertical-align: middle;\n",
       "    }\n",
       "\n",
       "    .dataframe tbody tr th {\n",
       "        vertical-align: top;\n",
       "    }\n",
       "\n",
       "    .dataframe thead th {\n",
       "        text-align: right;\n",
       "    }\n",
       "</style>\n",
       "<table border=\"1\" class=\"dataframe\">\n",
       "  <thead>\n",
       "    <tr style=\"text-align: right;\">\n",
       "      <th></th>\n",
       "      <th>airline</th>\n",
       "      <th>class</th>\n",
       "    </tr>\n",
       "  </thead>\n",
       "  <tbody>\n",
       "    <tr>\n",
       "      <th>0</th>\n",
       "      <td>SpiceJet</td>\n",
       "      <td>economy</td>\n",
       "    </tr>\n",
       "    <tr>\n",
       "      <th>1</th>\n",
       "      <td>SpiceJet</td>\n",
       "      <td>economy</td>\n",
       "    </tr>\n",
       "    <tr>\n",
       "      <th>2</th>\n",
       "      <td>AirAsia</td>\n",
       "      <td>economy</td>\n",
       "    </tr>\n",
       "    <tr>\n",
       "      <th>3</th>\n",
       "      <td>Vistara</td>\n",
       "      <td>economy</td>\n",
       "    </tr>\n",
       "    <tr>\n",
       "      <th>4</th>\n",
       "      <td>Vistara</td>\n",
       "      <td>economy</td>\n",
       "    </tr>\n",
       "  </tbody>\n",
       "</table>\n",
       "</div>"
      ],
      "text/plain": [
       "    airline    class\n",
       "0  SpiceJet  economy\n",
       "1  SpiceJet  economy\n",
       "2   AirAsia  economy\n",
       "3   Vistara  economy\n",
       "4   Vistara  economy"
      ]
     },
     "execution_count": 6,
     "metadata": {},
     "output_type": "execute_result"
    }
   ],
   "source": [
    "class_economy = pd.DataFrame(economy.airline)\n",
    "class_economy['class'] = 'economy'\n",
    "class_economy.head()"
   ]
  },
  {
   "cell_type": "markdown",
   "id": "702022ef",
   "metadata": {},
   "source": [
    "Use the `join` function to combine the `business` DataFrame and the `class_business` DataFrame. Handle column conflicts with a right suffix of `_dup`. \n",
    "\n",
    "Overrite the `business` DataFrame with the combined DataFrame.\n",
    "\n",
    "Display the first 5 rows of the new DataFrame to confirm changes."
   ]
  },
  {
   "cell_type": "code",
   "execution_count": 7,
   "id": "f4c32c2d",
   "metadata": {},
   "outputs": [
    {
     "data": {
      "text/html": [
       "<div>\n",
       "<style scoped>\n",
       "    .dataframe tbody tr th:only-of-type {\n",
       "        vertical-align: middle;\n",
       "    }\n",
       "\n",
       "    .dataframe tbody tr th {\n",
       "        vertical-align: top;\n",
       "    }\n",
       "\n",
       "    .dataframe thead th {\n",
       "        text-align: right;\n",
       "    }\n",
       "</style>\n",
       "<table border=\"1\" class=\"dataframe\">\n",
       "  <thead>\n",
       "    <tr style=\"text-align: right;\">\n",
       "      <th></th>\n",
       "      <th>date</th>\n",
       "      <th>airline</th>\n",
       "      <th>ch_code</th>\n",
       "      <th>num_code</th>\n",
       "      <th>dep_time</th>\n",
       "      <th>from</th>\n",
       "      <th>time_taken</th>\n",
       "      <th>stop</th>\n",
       "      <th>arr_time</th>\n",
       "      <th>to</th>\n",
       "      <th>price</th>\n",
       "      <th>airline_dup</th>\n",
       "      <th>class</th>\n",
       "    </tr>\n",
       "  </thead>\n",
       "  <tbody>\n",
       "    <tr>\n",
       "      <th>0</th>\n",
       "      <td>2022-11-02</td>\n",
       "      <td>Air India</td>\n",
       "      <td>AI</td>\n",
       "      <td>868</td>\n",
       "      <td>18:00</td>\n",
       "      <td>Delhi</td>\n",
       "      <td>02h 00m</td>\n",
       "      <td>non-stop</td>\n",
       "      <td>20:00</td>\n",
       "      <td>Mumbai</td>\n",
       "      <td>25,612</td>\n",
       "      <td>Air India</td>\n",
       "      <td>business</td>\n",
       "    </tr>\n",
       "    <tr>\n",
       "      <th>1</th>\n",
       "      <td>2022-11-02</td>\n",
       "      <td>Air India</td>\n",
       "      <td>AI</td>\n",
       "      <td>624</td>\n",
       "      <td>19:00</td>\n",
       "      <td>Delhi</td>\n",
       "      <td>02h 15m</td>\n",
       "      <td>non-stop</td>\n",
       "      <td>21:15</td>\n",
       "      <td>Mumbai</td>\n",
       "      <td>25,612</td>\n",
       "      <td>Air India</td>\n",
       "      <td>business</td>\n",
       "    </tr>\n",
       "    <tr>\n",
       "      <th>2</th>\n",
       "      <td>2022-11-02</td>\n",
       "      <td>Air India</td>\n",
       "      <td>AI</td>\n",
       "      <td>531</td>\n",
       "      <td>20:00</td>\n",
       "      <td>Delhi</td>\n",
       "      <td>24h 45m</td>\n",
       "      <td>1-stop</td>\n",
       "      <td>20:45</td>\n",
       "      <td>Mumbai</td>\n",
       "      <td>42,220</td>\n",
       "      <td>Air India</td>\n",
       "      <td>business</td>\n",
       "    </tr>\n",
       "    <tr>\n",
       "      <th>3</th>\n",
       "      <td>2022-11-02</td>\n",
       "      <td>Air India</td>\n",
       "      <td>AI</td>\n",
       "      <td>839</td>\n",
       "      <td>21:25</td>\n",
       "      <td>Delhi</td>\n",
       "      <td>26h 30m</td>\n",
       "      <td>1-stop</td>\n",
       "      <td>23:55</td>\n",
       "      <td>Mumbai</td>\n",
       "      <td>44,450</td>\n",
       "      <td>Air India</td>\n",
       "      <td>business</td>\n",
       "    </tr>\n",
       "    <tr>\n",
       "      <th>4</th>\n",
       "      <td>2022-11-02</td>\n",
       "      <td>Air India</td>\n",
       "      <td>AI</td>\n",
       "      <td>544</td>\n",
       "      <td>17:15</td>\n",
       "      <td>Delhi</td>\n",
       "      <td>06h 40m</td>\n",
       "      <td>1-stop\\n\\t\\t\\t\\t\\t\\t\\t\\t\\t\\t\\t\\t\\n\\t\\t\\t\\t\\t\\t...</td>\n",
       "      <td>23:55</td>\n",
       "      <td>Mumbai</td>\n",
       "      <td>46,690</td>\n",
       "      <td>Air India</td>\n",
       "      <td>business</td>\n",
       "    </tr>\n",
       "  </tbody>\n",
       "</table>\n",
       "</div>"
      ],
      "text/plain": [
       "        date    airline ch_code  num_code dep_time   from time_taken  \\\n",
       "0 2022-11-02  Air India      AI       868    18:00  Delhi    02h 00m   \n",
       "1 2022-11-02  Air India      AI       624    19:00  Delhi    02h 15m   \n",
       "2 2022-11-02  Air India      AI       531    20:00  Delhi    24h 45m   \n",
       "3 2022-11-02  Air India      AI       839    21:25  Delhi    26h 30m   \n",
       "4 2022-11-02  Air India      AI       544    17:15  Delhi    06h 40m   \n",
       "\n",
       "                                                stop arr_time      to   price  \\\n",
       "0                                          non-stop     20:00  Mumbai  25,612   \n",
       "1                                          non-stop     21:15  Mumbai  25,612   \n",
       "2                                             1-stop    20:45  Mumbai  42,220   \n",
       "3                                             1-stop    23:55  Mumbai  44,450   \n",
       "4  1-stop\\n\\t\\t\\t\\t\\t\\t\\t\\t\\t\\t\\t\\t\\n\\t\\t\\t\\t\\t\\t...    23:55  Mumbai  46,690   \n",
       "\n",
       "  airline_dup     class  \n",
       "0   Air India  business  \n",
       "1   Air India  business  \n",
       "2   Air India  business  \n",
       "3   Air India  business  \n",
       "4   Air India  business  "
      ]
     },
     "execution_count": 7,
     "metadata": {},
     "output_type": "execute_result"
    }
   ],
   "source": [
    "combined_dataframes = business.join(class_business, rsuffix='_dup')\n",
    "\n",
    "business = combined_dataframes \n",
    "business.head()"
   ]
  },
  {
   "cell_type": "markdown",
   "id": "5b684364",
   "metadata": {},
   "source": [
    "Use the `join` function to combine the `economy` DataFrame and the `class_economy` DataFrame. Handle column conflicts with a right suffix of `_dup`. \n",
    "\n",
    "Overrite the `economy` DataFrame with the combined DataFrame.\n",
    "\n",
    "Display the first 5 rows of the new DataFrame to confirm changes."
   ]
  },
  {
   "cell_type": "code",
   "execution_count": 8,
   "id": "5b701ad2",
   "metadata": {},
   "outputs": [
    {
     "data": {
      "text/html": [
       "<div>\n",
       "<style scoped>\n",
       "    .dataframe tbody tr th:only-of-type {\n",
       "        vertical-align: middle;\n",
       "    }\n",
       "\n",
       "    .dataframe tbody tr th {\n",
       "        vertical-align: top;\n",
       "    }\n",
       "\n",
       "    .dataframe thead th {\n",
       "        text-align: right;\n",
       "    }\n",
       "</style>\n",
       "<table border=\"1\" class=\"dataframe\">\n",
       "  <thead>\n",
       "    <tr style=\"text-align: right;\">\n",
       "      <th></th>\n",
       "      <th>date</th>\n",
       "      <th>airline</th>\n",
       "      <th>ch_code</th>\n",
       "      <th>num_code</th>\n",
       "      <th>dep_time</th>\n",
       "      <th>from</th>\n",
       "      <th>time_taken</th>\n",
       "      <th>stop</th>\n",
       "      <th>arr_time</th>\n",
       "      <th>to</th>\n",
       "      <th>price</th>\n",
       "      <th>airline_dup</th>\n",
       "      <th>class</th>\n",
       "    </tr>\n",
       "  </thead>\n",
       "  <tbody>\n",
       "    <tr>\n",
       "      <th>0</th>\n",
       "      <td>2022-11-02</td>\n",
       "      <td>SpiceJet</td>\n",
       "      <td>SG</td>\n",
       "      <td>8709</td>\n",
       "      <td>18:55</td>\n",
       "      <td>Delhi</td>\n",
       "      <td>02h 10m</td>\n",
       "      <td>non-stop</td>\n",
       "      <td>21:05</td>\n",
       "      <td>Mumbai</td>\n",
       "      <td>5,953</td>\n",
       "      <td>SpiceJet</td>\n",
       "      <td>economy</td>\n",
       "    </tr>\n",
       "    <tr>\n",
       "      <th>1</th>\n",
       "      <td>2022-11-02</td>\n",
       "      <td>SpiceJet</td>\n",
       "      <td>SG</td>\n",
       "      <td>8157</td>\n",
       "      <td>06:20</td>\n",
       "      <td>Delhi</td>\n",
       "      <td>02h 20m</td>\n",
       "      <td>non-stop</td>\n",
       "      <td>08:40</td>\n",
       "      <td>Mumbai</td>\n",
       "      <td>5,953</td>\n",
       "      <td>SpiceJet</td>\n",
       "      <td>economy</td>\n",
       "    </tr>\n",
       "    <tr>\n",
       "      <th>2</th>\n",
       "      <td>2022-11-02</td>\n",
       "      <td>AirAsia</td>\n",
       "      <td>I5</td>\n",
       "      <td>764</td>\n",
       "      <td>04:25</td>\n",
       "      <td>Delhi</td>\n",
       "      <td>02h 10m</td>\n",
       "      <td>non-stop</td>\n",
       "      <td>06:35</td>\n",
       "      <td>Mumbai</td>\n",
       "      <td>5,956</td>\n",
       "      <td>AirAsia</td>\n",
       "      <td>economy</td>\n",
       "    </tr>\n",
       "    <tr>\n",
       "      <th>3</th>\n",
       "      <td>2022-11-02</td>\n",
       "      <td>Vistara</td>\n",
       "      <td>UK</td>\n",
       "      <td>995</td>\n",
       "      <td>10:20</td>\n",
       "      <td>Delhi</td>\n",
       "      <td>02h 15m</td>\n",
       "      <td>non-stop</td>\n",
       "      <td>12:35</td>\n",
       "      <td>Mumbai</td>\n",
       "      <td>5,955</td>\n",
       "      <td>Vistara</td>\n",
       "      <td>economy</td>\n",
       "    </tr>\n",
       "    <tr>\n",
       "      <th>4</th>\n",
       "      <td>2022-11-02</td>\n",
       "      <td>Vistara</td>\n",
       "      <td>UK</td>\n",
       "      <td>963</td>\n",
       "      <td>08:50</td>\n",
       "      <td>Delhi</td>\n",
       "      <td>02h 20m</td>\n",
       "      <td>non-stop</td>\n",
       "      <td>11:10</td>\n",
       "      <td>Mumbai</td>\n",
       "      <td>5,955</td>\n",
       "      <td>Vistara</td>\n",
       "      <td>economy</td>\n",
       "    </tr>\n",
       "  </tbody>\n",
       "</table>\n",
       "</div>"
      ],
      "text/plain": [
       "        date   airline ch_code  num_code dep_time   from time_taken  \\\n",
       "0 2022-11-02  SpiceJet      SG      8709    18:55  Delhi    02h 10m   \n",
       "1 2022-11-02  SpiceJet      SG      8157    06:20  Delhi    02h 20m   \n",
       "2 2022-11-02   AirAsia      I5       764    04:25  Delhi    02h 10m   \n",
       "3 2022-11-02   Vistara      UK       995    10:20  Delhi    02h 15m   \n",
       "4 2022-11-02   Vistara      UK       963    08:50  Delhi    02h 20m   \n",
       "\n",
       "        stop arr_time      to  price airline_dup    class  \n",
       "0  non-stop     21:05  Mumbai  5,953    SpiceJet  economy  \n",
       "1  non-stop     08:40  Mumbai  5,953    SpiceJet  economy  \n",
       "2  non-stop     06:35  Mumbai  5,956     AirAsia  economy  \n",
       "3  non-stop     12:35  Mumbai  5,955     Vistara  economy  \n",
       "4  non-stop     11:10  Mumbai  5,955     Vistara  economy  "
      ]
     },
     "execution_count": 8,
     "metadata": {},
     "output_type": "execute_result"
    }
   ],
   "source": [
    "combined_dataframes = economy.join(class_economy, rsuffix='_dup')\n",
    "\n",
    "economy = combined_dataframes \n",
    "economy.head()"
   ]
  },
  {
   "cell_type": "markdown",
   "id": "6af00aa9",
   "metadata": {},
   "source": [
    "#### Exercise 2 Grading Notes\n",
    "\n",
    "Grade:\n",
    "\n",
    "18/18"
   ]
  },
  {
   "cell_type": "markdown",
   "id": "720cf63b",
   "metadata": {},
   "source": [
    "### Exercise 3 - Combine Economy and Business\n",
    "\n",
    "Concatinate the `business` and `economy` DataFrames. Store the result in a DataFrame called `flights`.\n",
    "\n",
    "Print the shape of `business`, `economy` and `flights` to do a sanity check."
   ]
  },
  {
   "cell_type": "code",
   "execution_count": 9,
   "id": "8526491a",
   "metadata": {},
   "outputs": [
    {
     "name": "stdout",
     "output_type": "stream",
     "text": [
      "(93487, 13)\n",
      "(206774, 13)\n",
      "(300261, 13)\n"
     ]
    }
   ],
   "source": [
    "flights = pd.concat([business, economy])\n",
    "\n",
    "print(business.shape)\n",
    "print(economy.shape)\n",
    "print(flights.shape)"
   ]
  },
  {
   "cell_type": "markdown",
   "id": "c906eea6",
   "metadata": {},
   "source": [
    "#### Exercise 3 Grading Notes\n",
    "\n",
    "Grade:\n",
    "\n",
    "18/18"
   ]
  },
  {
   "cell_type": "markdown",
   "id": "a76643dd",
   "metadata": {},
   "source": [
    "### Exercise 4 - Explore Data Types\n",
    "\n",
    "Using one pandas command, display the data types of each column in `flights`."
   ]
  },
  {
   "cell_type": "code",
   "execution_count": 10,
   "id": "78baa65f",
   "metadata": {},
   "outputs": [
    {
     "name": "stdout",
     "output_type": "stream",
     "text": [
      "date           datetime64[ns]\n",
      "airline                object\n",
      "ch_code                object\n",
      "num_code                int64\n",
      "dep_time               object\n",
      "from                   object\n",
      "time_taken             object\n",
      "stop                   object\n",
      "arr_time               object\n",
      "to                     object\n",
      "price                  object\n",
      "airline_dup            object\n",
      "class                  object\n",
      "dtype: object\n"
     ]
    }
   ],
   "source": [
    "print(flights.dtypes)"
   ]
  },
  {
   "cell_type": "markdown",
   "id": "ccb89a4d",
   "metadata": {},
   "source": [
    "Cast `num_code` as a string. \n",
    "\n",
    "**NOTEs:**\n",
    "- Be sure to overrite the old column so the change is made to the `flights` DataFrame.\n",
    "- Display the data types again to make sure the changes took place"
   ]
  },
  {
   "cell_type": "code",
   "execution_count": 11,
   "id": "c93b2aae",
   "metadata": {},
   "outputs": [
    {
     "name": "stdout",
     "output_type": "stream",
     "text": [
      "date           datetime64[ns]\n",
      "airline                object\n",
      "ch_code                object\n",
      "num_code               object\n",
      "dep_time               object\n",
      "from                   object\n",
      "time_taken             object\n",
      "stop                   object\n",
      "arr_time               object\n",
      "to                     object\n",
      "price                  object\n",
      "airline_dup            object\n",
      "class                  object\n",
      "dtype: object\n"
     ]
    }
   ],
   "source": [
    "flights.num_code = flights.num_code.astype(str)\n",
    "\n",
    "print(flights.dtypes)"
   ]
  },
  {
   "cell_type": "markdown",
   "id": "1e4c7bcf",
   "metadata": {},
   "source": [
    "#### Exercise 4 Grading Notes\n",
    "\n",
    "Grade:\n",
    "\n",
    "18/18"
   ]
  },
  {
   "cell_type": "markdown",
   "id": "5e7c6795",
   "metadata": {},
   "source": [
    "### Exercise 5 - Explore Day of Week\n",
    "\n",
    "Find what day of the week each flight occured on. Add `.value_counts()` to your line of code to get a break down of number of flights per day of the week. "
   ]
  },
  {
   "cell_type": "code",
   "execution_count": 12,
   "id": "435ec60a",
   "metadata": {},
   "outputs": [
    {
     "data": {
      "text/plain": [
       "Monday       50508\n",
       "Thursday     50395\n",
       "Sunday       48984\n",
       "Wednesday    39664\n",
       "Saturday     37734\n",
       "Tuesday      37328\n",
       "Friday       35648\n",
       "Name: date, dtype: int64"
      ]
     },
     "execution_count": 12,
     "metadata": {},
     "output_type": "execute_result"
    }
   ],
   "source": [
    "flights.date.dt.day_name().value_counts()"
   ]
  },
  {
   "cell_type": "markdown",
   "id": "bb8b648d",
   "metadata": {},
   "source": [
    "#### Exercise 5 Grading Notes\n",
    "\n",
    "Grade:\n",
    "\n",
    "18/18"
   ]
  },
  {
   "cell_type": "markdown",
   "id": "03d210e3",
   "metadata": {},
   "source": [
    "### Exercise 6 - Indexing\n",
    "\n",
    "Using `.loc[]` return the 50th row of the `num_code` column in `flights`"
   ]
  },
  {
   "cell_type": "code",
   "execution_count": 13,
   "id": "52e08023",
   "metadata": {},
   "outputs": [
    {
     "name": "stdout",
     "output_type": "stream",
     "text": [
      "49     955\n",
      "49    9643\n",
      "Name: num_code, dtype: object\n"
     ]
    }
   ],
   "source": [
    "row = flights.loc[49, 'num_code']\n",
    "print(row)"
   ]
  },
  {
   "cell_type": "markdown",
   "id": "5aa6bc64",
   "metadata": {},
   "source": [
    "Are there any surprises? Why?"
   ]
  },
  {
   "cell_type": "code",
   "execution_count": 14,
   "id": "0cfae00b",
   "metadata": {},
   "outputs": [],
   "source": [
    "# Returns all corresponding values in the ‘num_code’ column which could lead to multiple flights returning \n",
    "# There were two values that printed out suggesting there is duplicate index values in this data frame."
   ]
  },
  {
   "cell_type": "markdown",
   "id": "3d13f839",
   "metadata": {},
   "source": [
    "Using `.iloc[]` return the 50th row of the `num_code` column in `flights`\n",
    "\n",
    "**Note:** Remember indexing starts at 0"
   ]
  },
  {
   "cell_type": "code",
   "execution_count": 15,
   "id": "4dadcf5f",
   "metadata": {},
   "outputs": [
    {
     "name": "stdout",
     "output_type": "stream",
     "text": [
      "955\n"
     ]
    }
   ],
   "source": [
    "row = flights.iloc[49, flights.columns.get_loc('num_code')]\n",
    "print(row)"
   ]
  },
  {
   "cell_type": "markdown",
   "id": "7c2b4259",
   "metadata": {},
   "source": [
    "Are there any surprises? Why?"
   ]
  },
  {
   "cell_type": "code",
   "execution_count": 16,
   "id": "6d0ec394",
   "metadata": {},
   "outputs": [],
   "source": [
    "# Only one value was returned, which is surprising since using .loc returned two"
   ]
  },
  {
   "cell_type": "markdown",
   "id": "ab36401f",
   "metadata": {},
   "source": [
    "#### Exercise 6 Grading Notes\n",
    "\n",
    "Grade:\n",
    "\n",
    "18/18"
   ]
  },
  {
   "cell_type": "markdown",
   "id": "6edd8c68",
   "metadata": {
    "deletable": false
   },
   "source": [
    "---\n",
    "## Submission\n",
    "\n",
    "Make sure you have run all cells in your notebook in order before running the cell below, so that all images/graphs appear in the output. I recommend going to the \"Kernel\" menu at the top and selecting \"Restart & Run All\". This will ensure that everything runs correctly when it is run sequentially. "
   ]
  },
  {
   "cell_type": "markdown",
   "id": "0689aaeb",
   "metadata": {},
   "source": [
    "## Final Grade\n",
    "100/100"
   ]
  },
  {
   "cell_type": "code",
   "execution_count": null,
   "id": "a04cd50d",
   "metadata": {},
   "outputs": [],
   "source": []
  }
 ],
 "metadata": {
  "kernelspec": {
   "display_name": "Python 3 (ipykernel)",
   "language": "python",
   "name": "python3"
  },
  "language_info": {
   "codemirror_mode": {
    "name": "ipython",
    "version": 3
   },
   "file_extension": ".py",
   "mimetype": "text/x-python",
   "name": "python",
   "nbconvert_exporter": "python",
   "pygments_lexer": "ipython3",
   "version": "3.11.4"
  }
 },
 "nbformat": 4,
 "nbformat_minor": 5
}
