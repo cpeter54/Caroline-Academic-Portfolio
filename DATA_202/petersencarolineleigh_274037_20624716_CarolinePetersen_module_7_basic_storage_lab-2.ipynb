{
 "cells": [
  {
   "cell_type": "markdown",
   "id": "24d0b655",
   "metadata": {},
   "source": [
    "# DATA 202 - Module 7: Storage Strategies\n",
    "* Instructor: Dr. Josh Fagan\n",
    "* [Jupyter Notebook Tips and Tricks](http://bit.ly/34embJh)\n",
    "* [Markdown Cheatsheet](http://bit.ly/2UkNVXV)\n",
    "* Magic command to list all variables: `%whos`"
   ]
  },
  {
   "cell_type": "markdown",
   "id": "f25d4293",
   "metadata": {},
   "source": [
    "### Instructions\n",
    "\n",
    "Welcome to the Module 8 assignment of DATA 202. This assignment is meant to help you review/familiarize yourself with the basics of SQL for storing data.\n",
    "\n",
    "To receive credit for a assignment, answer all questions correctly and submit before the deadline listed on Canvas."
   ]
  },
  {
   "cell_type": "markdown",
   "id": "c33a5f71",
   "metadata": {},
   "source": [
    "---\n",
    "### Collaboration Policy\n",
    "\n",
    "Data science is a collaborative activity. While you may talk with others about the labs, we ask that you **write your solutions individually**. If you do discuss the assignments with others please **include their names** below."
   ]
  },
  {
   "cell_type": "markdown",
   "id": "cab1ec17",
   "metadata": {},
   "source": [
    "**Collaborators**: *list collaborators here*\n",
    "* Joseph Beller (vol study center)\n",
    "* Y"
   ]
  },
  {
   "cell_type": "markdown",
   "id": "15c6d15c",
   "metadata": {},
   "source": [
    "## Exercise 0 - Setup\n",
    "Run the following cells, without changes, to setup SQL and create the notebooks table."
   ]
  },
  {
   "cell_type": "code",
   "execution_count": 1,
   "id": "b9e40086",
   "metadata": {},
   "outputs": [
    {
     "data": {
      "text/plain": [
       "'Connected: @None'"
      ]
     },
     "execution_count": 1,
     "metadata": {},
     "output_type": "execute_result"
    }
   ],
   "source": [
    "%load_ext sql\n",
    "%sql sqlite://"
   ]
  },
  {
   "cell_type": "code",
   "execution_count": 2,
   "id": "aa39c511",
   "metadata": {},
   "outputs": [
    {
     "name": "stdout",
     "output_type": "stream",
     "text": [
      " * sqlite://\n",
      "Done.\n",
      "1 rows affected.\n",
      "1 rows affected.\n",
      "1 rows affected.\n",
      "1 rows affected.\n",
      "1 rows affected.\n",
      "Done.\n"
     ]
    },
    {
     "data": {
      "text/html": [
       "<table>\n",
       "    <thead>\n",
       "        <tr>\n",
       "            <th>id</th>\n",
       "            <th>Name</th>\n",
       "            <th>Animal</th>\n",
       "            <th>Age</th>\n",
       "        </tr>\n",
       "    </thead>\n",
       "    <tbody>\n",
       "        <tr>\n",
       "            <td>1</td>\n",
       "            <td>Beverly</td>\n",
       "            <td>Rabbit</td>\n",
       "            <td>4</td>\n",
       "        </tr>\n",
       "        <tr>\n",
       "            <td>2</td>\n",
       "            <td>Jasper</td>\n",
       "            <td>Cat</td>\n",
       "            <td>12</td>\n",
       "        </tr>\n",
       "        <tr>\n",
       "            <td>3</td>\n",
       "            <td>Moose</td>\n",
       "            <td>Dog</td>\n",
       "            <td>9</td>\n",
       "        </tr>\n",
       "        <tr>\n",
       "            <td>4</td>\n",
       "            <td>Reagan</td>\n",
       "            <td>Dog</td>\n",
       "            <td>6</td>\n",
       "        </tr>\n",
       "        <tr>\n",
       "            <td>5</td>\n",
       "            <td>Franklin</td>\n",
       "            <td>Dog</td>\n",
       "            <td>7</td>\n",
       "        </tr>\n",
       "    </tbody>\n",
       "</table>"
      ],
      "text/plain": [
       "[(1, 'Beverly', 'Rabbit', 4),\n",
       " (2, 'Jasper', 'Cat', 12),\n",
       " (3, 'Moose', 'Dog', 9),\n",
       " (4, 'Reagan', 'Dog', 6),\n",
       " (5, 'Franklin', 'Dog', 7)]"
      ]
     },
     "execution_count": 2,
     "metadata": {},
     "output_type": "execute_result"
    }
   ],
   "source": [
    "%%sql\n",
    "\n",
    "CREATE TABLE pets(id int, Name varchar(50), Animal varchar(50), Age int);\n",
    "INSERT INTO pets VALUES(1, 'Beverly', 'Rabbit', 4);\n",
    "INSERT INTO pets VALUES(2, 'Jasper', 'Cat', 12);\n",
    "INSERT INTO pets VALUES(3, 'Moose', 'Dog', 9);\n",
    "INSERT INTO pets VALUES(4, 'Reagan', 'Dog', 6);\n",
    "INSERT INTO pets VALUES(5, 'Franklin', 'Dog', 7);\n",
    "SELECT * FROM pets"
   ]
  },
  {
   "cell_type": "markdown",
   "id": "b414e12e",
   "metadata": {},
   "source": [
    "## Exercise 1\n",
    "Write a query to return the `Age`, `Name`, `Animal` features (in that order) of the records that have a `Name` feature that starts with 'A' through 'J'."
   ]
  },
  {
   "cell_type": "code",
   "execution_count": 3,
   "id": "662fb1ba",
   "metadata": {},
   "outputs": [
    {
     "name": "stdout",
     "output_type": "stream",
     "text": [
      " * sqlite://\n",
      "Done.\n"
     ]
    },
    {
     "data": {
      "text/html": [
       "<table>\n",
       "    <thead>\n",
       "        <tr>\n",
       "            <th>Age</th>\n",
       "            <th>Name</th>\n",
       "            <th>Animal</th>\n",
       "        </tr>\n",
       "    </thead>\n",
       "    <tbody>\n",
       "        <tr>\n",
       "            <td>4</td>\n",
       "            <td>Beverly</td>\n",
       "            <td>Rabbit</td>\n",
       "        </tr>\n",
       "        <tr>\n",
       "            <td>12</td>\n",
       "            <td>Jasper</td>\n",
       "            <td>Cat</td>\n",
       "        </tr>\n",
       "        <tr>\n",
       "            <td>7</td>\n",
       "            <td>Franklin</td>\n",
       "            <td>Dog</td>\n",
       "        </tr>\n",
       "    </tbody>\n",
       "</table>"
      ],
      "text/plain": [
       "[(4, 'Beverly', 'Rabbit'), (12, 'Jasper', 'Cat'), (7, 'Franklin', 'Dog')]"
      ]
     },
     "execution_count": 3,
     "metadata": {},
     "output_type": "execute_result"
    }
   ],
   "source": [
    "%%sql\n",
    "SELECT Age, Name, Animal FROM pets \n",
    "WHERE Name BETWEEN 'A' AND 'K'"
   ]
  },
  {
   "cell_type": "markdown",
   "id": "e74d9c9d",
   "metadata": {},
   "source": [
    "### Exercise 1 Grading Notes\n",
    "\n",
    "Exercise 1 Grade:\n",
    "\n",
    "25/25"
   ]
  },
  {
   "cell_type": "markdown",
   "id": "a5ed64d3",
   "metadata": {},
   "source": [
    "## Exercise 2\n",
    "Write a query to return all the features for records that have 'lin' in the name or are older than 10. "
   ]
  },
  {
   "cell_type": "code",
   "execution_count": 4,
   "id": "c39f7c66",
   "metadata": {},
   "outputs": [
    {
     "name": "stdout",
     "output_type": "stream",
     "text": [
      " * sqlite://\n",
      "Done.\n"
     ]
    },
    {
     "data": {
      "text/html": [
       "<table>\n",
       "    <thead>\n",
       "        <tr>\n",
       "            <th>id</th>\n",
       "            <th>Name</th>\n",
       "            <th>Animal</th>\n",
       "            <th>Age</th>\n",
       "        </tr>\n",
       "    </thead>\n",
       "    <tbody>\n",
       "        <tr>\n",
       "            <td>2</td>\n",
       "            <td>Jasper</td>\n",
       "            <td>Cat</td>\n",
       "            <td>12</td>\n",
       "        </tr>\n",
       "        <tr>\n",
       "            <td>5</td>\n",
       "            <td>Franklin</td>\n",
       "            <td>Dog</td>\n",
       "            <td>7</td>\n",
       "        </tr>\n",
       "    </tbody>\n",
       "</table>"
      ],
      "text/plain": [
       "[(2, 'Jasper', 'Cat', 12), (5, 'Franklin', 'Dog', 7)]"
      ]
     },
     "execution_count": 4,
     "metadata": {},
     "output_type": "execute_result"
    }
   ],
   "source": [
    "%%sql \n",
    "SELECT * FROM pets \n",
    "WHERE Name LIKE '%lin%' OR Age > '10'"
   ]
  },
  {
   "cell_type": "markdown",
   "id": "2e385060",
   "metadata": {},
   "source": [
    "### Exercise 2 Grading Notes\n",
    "\n",
    "Exercise 2 Grade:\n",
    "\n",
    "25/25"
   ]
  },
  {
   "cell_type": "markdown",
   "id": "95d24e22",
   "metadata": {},
   "source": [
    "## Exercise 3\n",
    "\"Dog years\" are usually calculated as 7 times \"Human years.\"\n",
    "\n",
    "Write a query to return each dogs name, and age multiplied by 7. "
   ]
  },
  {
   "cell_type": "code",
   "execution_count": 5,
   "id": "fd33251f",
   "metadata": {},
   "outputs": [
    {
     "name": "stdout",
     "output_type": "stream",
     "text": [
      " * sqlite://\n",
      "Done.\n"
     ]
    },
    {
     "data": {
      "text/html": [
       "<table>\n",
       "    <thead>\n",
       "        <tr>\n",
       "            <th>Age</th>\n",
       "            <th>Name</th>\n",
       "        </tr>\n",
       "    </thead>\n",
       "    <tbody>\n",
       "        <tr>\n",
       "            <td>63</td>\n",
       "            <td>Moose</td>\n",
       "        </tr>\n",
       "        <tr>\n",
       "            <td>42</td>\n",
       "            <td>Reagan</td>\n",
       "        </tr>\n",
       "        <tr>\n",
       "            <td>49</td>\n",
       "            <td>Franklin</td>\n",
       "        </tr>\n",
       "    </tbody>\n",
       "</table>"
      ],
      "text/plain": [
       "[(63, 'Moose'), (42, 'Reagan'), (49, 'Franklin')]"
      ]
     },
     "execution_count": 5,
     "metadata": {},
     "output_type": "execute_result"
    }
   ],
   "source": [
    "%%sql \n",
    "SELECT (Age*7) AS Age, Name FROM pets\n",
    "WHERE Animal = 'Dog'"
   ]
  },
  {
   "cell_type": "markdown",
   "id": "12c34a0e",
   "metadata": {},
   "source": [
    "### Exercise 3 Grading Notes\n",
    "\n",
    "Exercise 3 Grade:\n",
    "\n",
    "25/25"
   ]
  },
  {
   "cell_type": "markdown",
   "id": "2a1d9a38",
   "metadata": {},
   "source": [
    "## Exercise 4\n",
    "Write a query to create the string 'Name is a Animal' for each animal in the table.\n",
    "\n",
    "Only return the first 3 records."
   ]
  },
  {
   "cell_type": "code",
   "execution_count": 9,
   "id": "0a26c9dc",
   "metadata": {},
   "outputs": [
    {
     "name": "stdout",
     "output_type": "stream",
     "text": [
      " * sqlite://\n",
      "Done.\n"
     ]
    },
    {
     "data": {
      "text/html": [
       "<table>\n",
       "    <thead>\n",
       "        <tr>\n",
       "            <th>NameAsAnimal</th>\n",
       "        </tr>\n",
       "    </thead>\n",
       "    <tbody>\n",
       "        <tr>\n",
       "            <td>Beverly is a Rabbit</td>\n",
       "        </tr>\n",
       "        <tr>\n",
       "            <td>Jasper is a Cat</td>\n",
       "        </tr>\n",
       "        <tr>\n",
       "            <td>Moose is a Dog</td>\n",
       "        </tr>\n",
       "    </tbody>\n",
       "</table>"
      ],
      "text/plain": [
       "[('Beverly is a Rabbit',), ('Jasper is a Cat',), ('Moose is a Dog',)]"
      ]
     },
     "execution_count": 9,
     "metadata": {},
     "output_type": "execute_result"
    }
   ],
   "source": [
    "%%sql \n",
    "SELECT Name || ' is a ' || Animal AS NameAsAnimal FROM pets\n",
    "LIMIT 3"
   ]
  },
  {
   "cell_type": "markdown",
   "id": "86343d0a",
   "metadata": {},
   "source": [
    "### Exercise 4 Grading Notes\n",
    "\n",
    "Exercise 4 Grade:\n",
    "\n",
    "25/25"
   ]
  },
  {
   "cell_type": "markdown",
   "id": "6edd8c68",
   "metadata": {
    "deletable": false
   },
   "source": [
    "---\n",
    "## Submission\n",
    "\n",
    "Make sure you have run all cells in your notebook in order before running the cell below, so that all images/graphs appear in the output. I recommend going to the \"Kernel\" menu at the top and selecting \"Restart & Run All\". This will ensure that everything runs correctly when it is run sequentially. "
   ]
  },
  {
   "cell_type": "markdown",
   "id": "66862767",
   "metadata": {},
   "source": [
    "## Final Grade\n",
    "\n",
    "100/100"
   ]
  },
  {
   "cell_type": "code",
   "execution_count": null,
   "id": "feb9209c",
   "metadata": {},
   "outputs": [],
   "source": []
  }
 ],
 "metadata": {
  "kernelspec": {
   "display_name": "Python 3 (ipykernel)",
   "language": "python",
   "name": "python3"
  },
  "language_info": {
   "codemirror_mode": {
    "name": "ipython",
    "version": 3
   },
   "file_extension": ".py",
   "mimetype": "text/x-python",
   "name": "python",
   "nbconvert_exporter": "python",
   "pygments_lexer": "ipython3",
   "version": "3.9.13"
  }
 },
 "nbformat": 4,
 "nbformat_minor": 5
}
