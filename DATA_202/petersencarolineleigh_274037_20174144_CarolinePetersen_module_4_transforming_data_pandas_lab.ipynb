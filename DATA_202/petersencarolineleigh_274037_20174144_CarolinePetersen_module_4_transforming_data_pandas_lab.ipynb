{
 "cells": [
  {
   "cell_type": "markdown",
   "id": "24d0b655",
   "metadata": {},
   "source": [
    "# DATA 202 - Module 4: Transforming Data with Pandas\n",
    "* Instructor: Dr. Josh Fagan\n",
    "* [Jupyter Notebook Tips and Tricks](http://bit.ly/34embJh)\n",
    "* [Markdown Cheatsheet](http://bit.ly/2UkNVXV)\n",
    "* Magic command to list all variables: `%whos`"
   ]
  },
  {
   "cell_type": "markdown",
   "id": "f25d4293",
   "metadata": {},
   "source": [
    "### Instructions\n",
    "\n",
    "Welcome to the Module 4 assignment of DATA 202. This assignment is meant to help you review/familiarize yourself with transforming datasets in Pandas.\n",
    "\n",
    "To receive credit for a assignment, answer all questions correctly and submit before the deadline listed on Canvas."
   ]
  },
  {
   "cell_type": "markdown",
   "id": "c33a5f71",
   "metadata": {},
   "source": [
    "---\n",
    "### Collaboration Policy\n",
    "\n",
    "Data science is a collaborative activity. While you may talk with others about the labs, we ask that you **write your solutions individually**. If you do discuss the assignments with others please **include their names** below."
   ]
  },
  {
   "cell_type": "markdown",
   "id": "cab1ec17",
   "metadata": {},
   "source": [
    "**Collaborators**: *list collaborators here*\n",
    "* Joseph Beller\n",
    "* Jessi Hudgins  \n"
   ]
  },
  {
   "cell_type": "markdown",
   "id": "292b0066",
   "metadata": {
    "nbgrader": {
     "grade": false,
     "grade_id": "running-a-cell",
     "locked": true,
     "schema_version": 2,
     "solution": false
    },
    "tags": []
   },
   "source": [
    "---\n",
    "## Exercises\n"
   ]
  },
  {
   "cell_type": "code",
   "execution_count": 1,
   "id": "af26da7b",
   "metadata": {},
   "outputs": [],
   "source": [
    "# To answer all of the exercises you will need to import the pandas package. \n",
    "# Please do that below, in this code block.\n",
    "import pandas as pd"
   ]
  },
  {
   "cell_type": "markdown",
   "id": "1717c129",
   "metadata": {},
   "source": [
    "### Exercise 0 - Loading and Basic Exploration\n",
    "\n",
    "In this assignment, we will use the `business_flights.csv` dataset found on the Canvas site. \n",
    "\n",
    "- Load the data into a `DataFrame` called `flights`.\n",
    "- Include appropriate arguments to have `date` stored as a `datetime`. (This will likely result in a bunch of red error, just ignore them.)\n",
    "- Display the first 5 rows of `flights`."
   ]
  },
  {
   "cell_type": "code",
   "execution_count": 2,
   "id": "3a94564d",
   "metadata": {},
   "outputs": [
    {
     "data": {
      "text/html": [
       "<div>\n",
       "<style scoped>\n",
       "    .dataframe tbody tr th:only-of-type {\n",
       "        vertical-align: middle;\n",
       "    }\n",
       "\n",
       "    .dataframe tbody tr th {\n",
       "        vertical-align: top;\n",
       "    }\n",
       "\n",
       "    .dataframe thead th {\n",
       "        text-align: right;\n",
       "    }\n",
       "</style>\n",
       "<table border=\"1\" class=\"dataframe\">\n",
       "  <thead>\n",
       "    <tr style=\"text-align: right;\">\n",
       "      <th></th>\n",
       "      <th>date</th>\n",
       "      <th>airline</th>\n",
       "      <th>ch_code</th>\n",
       "      <th>num_code</th>\n",
       "      <th>dep_time</th>\n",
       "      <th>from</th>\n",
       "      <th>time_taken</th>\n",
       "      <th>stop</th>\n",
       "      <th>arr_time</th>\n",
       "      <th>to</th>\n",
       "      <th>price</th>\n",
       "    </tr>\n",
       "  </thead>\n",
       "  <tbody>\n",
       "    <tr>\n",
       "      <th>0</th>\n",
       "      <td>11-02-2022</td>\n",
       "      <td>Air India</td>\n",
       "      <td>AI</td>\n",
       "      <td>868</td>\n",
       "      <td>18:00</td>\n",
       "      <td>Delhi</td>\n",
       "      <td>02h 00m</td>\n",
       "      <td>non-stop</td>\n",
       "      <td>20:00</td>\n",
       "      <td>Mumbai</td>\n",
       "      <td>25,612</td>\n",
       "    </tr>\n",
       "    <tr>\n",
       "      <th>1</th>\n",
       "      <td>11-02-2022</td>\n",
       "      <td>Air India</td>\n",
       "      <td>AI</td>\n",
       "      <td>624</td>\n",
       "      <td>19:00</td>\n",
       "      <td>Delhi</td>\n",
       "      <td>02h 15m</td>\n",
       "      <td>non-stop</td>\n",
       "      <td>21:15</td>\n",
       "      <td>Mumbai</td>\n",
       "      <td>25,612</td>\n",
       "    </tr>\n",
       "    <tr>\n",
       "      <th>2</th>\n",
       "      <td>11-02-2022</td>\n",
       "      <td>Air India</td>\n",
       "      <td>AI</td>\n",
       "      <td>531</td>\n",
       "      <td>20:00</td>\n",
       "      <td>Delhi</td>\n",
       "      <td>24h 45m</td>\n",
       "      <td>1-stop</td>\n",
       "      <td>20:45</td>\n",
       "      <td>Mumbai</td>\n",
       "      <td>42,220</td>\n",
       "    </tr>\n",
       "    <tr>\n",
       "      <th>3</th>\n",
       "      <td>11-02-2022</td>\n",
       "      <td>Air India</td>\n",
       "      <td>AI</td>\n",
       "      <td>839</td>\n",
       "      <td>21:25</td>\n",
       "      <td>Delhi</td>\n",
       "      <td>26h 30m</td>\n",
       "      <td>1-stop</td>\n",
       "      <td>23:55</td>\n",
       "      <td>Mumbai</td>\n",
       "      <td>44,450</td>\n",
       "    </tr>\n",
       "    <tr>\n",
       "      <th>4</th>\n",
       "      <td>11-02-2022</td>\n",
       "      <td>Air India</td>\n",
       "      <td>AI</td>\n",
       "      <td>544</td>\n",
       "      <td>17:15</td>\n",
       "      <td>Delhi</td>\n",
       "      <td>06h 40m</td>\n",
       "      <td>1-stop\\n\\t\\t\\t\\t\\t\\t\\t\\t\\t\\t\\t\\t\\n\\t\\t\\t\\t\\t\\t...</td>\n",
       "      <td>23:55</td>\n",
       "      <td>Mumbai</td>\n",
       "      <td>46,690</td>\n",
       "    </tr>\n",
       "  </tbody>\n",
       "</table>\n",
       "</div>"
      ],
      "text/plain": [
       "         date    airline ch_code  num_code dep_time   from time_taken  \\\n",
       "0  11-02-2022  Air India      AI       868    18:00  Delhi    02h 00m   \n",
       "1  11-02-2022  Air India      AI       624    19:00  Delhi    02h 15m   \n",
       "2  11-02-2022  Air India      AI       531    20:00  Delhi    24h 45m   \n",
       "3  11-02-2022  Air India      AI       839    21:25  Delhi    26h 30m   \n",
       "4  11-02-2022  Air India      AI       544    17:15  Delhi    06h 40m   \n",
       "\n",
       "                                                stop arr_time      to   price  \n",
       "0                                          non-stop     20:00  Mumbai  25,612  \n",
       "1                                          non-stop     21:15  Mumbai  25,612  \n",
       "2                                             1-stop    20:45  Mumbai  42,220  \n",
       "3                                             1-stop    23:55  Mumbai  44,450  \n",
       "4  1-stop\\n\\t\\t\\t\\t\\t\\t\\t\\t\\t\\t\\t\\t\\n\\t\\t\\t\\t\\t\\t...    23:55  Mumbai  46,690  "
      ]
     },
     "execution_count": 2,
     "metadata": {},
     "output_type": "execute_result"
    }
   ],
   "source": [
    "flights = pd.read_csv('/Users/carolinelpetersen/Desktop/DATA202/business_flights.csv')\n",
    "flights.head()"
   ]
  },
  {
   "cell_type": "markdown",
   "id": "86c91a7f",
   "metadata": {},
   "source": [
    "### Exercise 0 Grading Notes\n",
    "\n",
    "Deductions:\n",
    "- You were asked to \"Include appropriate arguments to have `date` stored as a `datetime`.\" (-3)\n",
    "\n",
    "\n",
    "Exercise 0 Grade:\n",
    "\n",
    "2/5"
   ]
  },
  {
   "cell_type": "markdown",
   "id": "4d611602",
   "metadata": {},
   "source": [
    "### Exercise 1 - Make Prices More Useful\n",
    "\n",
    "Run the `.describe()` function on the `price` column of `flights. "
   ]
  },
  {
   "cell_type": "code",
   "execution_count": 3,
   "id": "5623b731",
   "metadata": {},
   "outputs": [
    {
     "data": {
      "text/plain": [
       "count      93487\n",
       "unique      2358\n",
       "top       54,608\n",
       "freq        1445\n",
       "Name: price, dtype: object"
      ]
     },
     "execution_count": 3,
     "metadata": {},
     "output_type": "execute_result"
    }
   ],
   "source": [
    "flights.price.describe()"
   ]
  },
  {
   "cell_type": "markdown",
   "id": "cb27fe00",
   "metadata": {},
   "source": [
    "There is not much helpful information there, lets find out why!\n",
    "\n",
    "Display the data type of each column in `flights`."
   ]
  },
  {
   "cell_type": "code",
   "execution_count": 4,
   "id": "1f308c47",
   "metadata": {},
   "outputs": [
    {
     "data": {
      "text/plain": [
       "date          object\n",
       "airline       object\n",
       "ch_code       object\n",
       "num_code       int64\n",
       "dep_time      object\n",
       "from          object\n",
       "time_taken    object\n",
       "stop          object\n",
       "arr_time      object\n",
       "to            object\n",
       "price         object\n",
       "dtype: object"
      ]
     },
     "execution_count": 4,
     "metadata": {},
     "output_type": "execute_result"
    }
   ],
   "source": [
    "flights.dtypes"
   ]
  },
  {
   "cell_type": "markdown",
   "id": "dc4bb82b",
   "metadata": {},
   "source": [
    "Why does our earlier command not give us min, max, and percentile values?"
   ]
  },
  {
   "cell_type": "code",
   "execution_count": 5,
   "id": "52eac95c",
   "metadata": {},
   "outputs": [],
   "source": [
    "# The price column is stored as a string so it isn't viewed as numerical data for describe() to \n",
    "# run statistical analysis on"
   ]
  },
  {
   "cell_type": "markdown",
   "id": "53f8dd2a",
   "metadata": {},
   "source": [
    "Try to cast the column as an `int` using the `astype` command.\n",
    "\n",
    "What happens when you try to cast the `price` column as an `int`?"
   ]
  },
  {
   "cell_type": "code",
   "execution_count": 6,
   "id": "fbe32fb0",
   "metadata": {},
   "outputs": [
    {
     "ename": "ValueError",
     "evalue": "invalid literal for int() with base 10: '25,612'",
     "output_type": "error",
     "traceback": [
      "\u001b[0;31m---------------------------------------------------------------------------\u001b[0m",
      "\u001b[0;31mValueError\u001b[0m                                Traceback (most recent call last)",
      "Cell \u001b[0;32mIn[6], line 1\u001b[0m\n\u001b[0;32m----> 1\u001b[0m flights\u001b[38;5;241m.\u001b[39mprice\u001b[38;5;241m.\u001b[39mastype(\u001b[38;5;28mint\u001b[39m)\n",
      "File \u001b[0;32m~/anaconda3/lib/python3.11/site-packages/pandas/core/generic.py:6240\u001b[0m, in \u001b[0;36mNDFrame.astype\u001b[0;34m(self, dtype, copy, errors)\u001b[0m\n\u001b[1;32m   6233\u001b[0m     results \u001b[38;5;241m=\u001b[39m [\n\u001b[1;32m   6234\u001b[0m         \u001b[38;5;28mself\u001b[39m\u001b[38;5;241m.\u001b[39miloc[:, i]\u001b[38;5;241m.\u001b[39mastype(dtype, copy\u001b[38;5;241m=\u001b[39mcopy)\n\u001b[1;32m   6235\u001b[0m         \u001b[38;5;28;01mfor\u001b[39;00m i \u001b[38;5;129;01min\u001b[39;00m \u001b[38;5;28mrange\u001b[39m(\u001b[38;5;28mlen\u001b[39m(\u001b[38;5;28mself\u001b[39m\u001b[38;5;241m.\u001b[39mcolumns))\n\u001b[1;32m   6236\u001b[0m     ]\n\u001b[1;32m   6238\u001b[0m \u001b[38;5;28;01melse\u001b[39;00m:\n\u001b[1;32m   6239\u001b[0m     \u001b[38;5;66;03m# else, only a single dtype is given\u001b[39;00m\n\u001b[0;32m-> 6240\u001b[0m     new_data \u001b[38;5;241m=\u001b[39m \u001b[38;5;28mself\u001b[39m\u001b[38;5;241m.\u001b[39m_mgr\u001b[38;5;241m.\u001b[39mastype(dtype\u001b[38;5;241m=\u001b[39mdtype, copy\u001b[38;5;241m=\u001b[39mcopy, errors\u001b[38;5;241m=\u001b[39merrors)\n\u001b[1;32m   6241\u001b[0m     \u001b[38;5;28;01mreturn\u001b[39;00m \u001b[38;5;28mself\u001b[39m\u001b[38;5;241m.\u001b[39m_constructor(new_data)\u001b[38;5;241m.\u001b[39m__finalize__(\u001b[38;5;28mself\u001b[39m, method\u001b[38;5;241m=\u001b[39m\u001b[38;5;124m\"\u001b[39m\u001b[38;5;124mastype\u001b[39m\u001b[38;5;124m\"\u001b[39m)\n\u001b[1;32m   6243\u001b[0m \u001b[38;5;66;03m# GH 33113: handle empty frame or series\u001b[39;00m\n",
      "File \u001b[0;32m~/anaconda3/lib/python3.11/site-packages/pandas/core/internals/managers.py:448\u001b[0m, in \u001b[0;36mBaseBlockManager.astype\u001b[0;34m(self, dtype, copy, errors)\u001b[0m\n\u001b[1;32m    447\u001b[0m \u001b[38;5;28;01mdef\u001b[39;00m \u001b[38;5;21mastype\u001b[39m(\u001b[38;5;28mself\u001b[39m: T, dtype, copy: \u001b[38;5;28mbool\u001b[39m \u001b[38;5;241m=\u001b[39m \u001b[38;5;28;01mFalse\u001b[39;00m, errors: \u001b[38;5;28mstr\u001b[39m \u001b[38;5;241m=\u001b[39m \u001b[38;5;124m\"\u001b[39m\u001b[38;5;124mraise\u001b[39m\u001b[38;5;124m\"\u001b[39m) \u001b[38;5;241m-\u001b[39m\u001b[38;5;241m>\u001b[39m T:\n\u001b[0;32m--> 448\u001b[0m     \u001b[38;5;28;01mreturn\u001b[39;00m \u001b[38;5;28mself\u001b[39m\u001b[38;5;241m.\u001b[39mapply(\u001b[38;5;124m\"\u001b[39m\u001b[38;5;124mastype\u001b[39m\u001b[38;5;124m\"\u001b[39m, dtype\u001b[38;5;241m=\u001b[39mdtype, copy\u001b[38;5;241m=\u001b[39mcopy, errors\u001b[38;5;241m=\u001b[39merrors)\n",
      "File \u001b[0;32m~/anaconda3/lib/python3.11/site-packages/pandas/core/internals/managers.py:352\u001b[0m, in \u001b[0;36mBaseBlockManager.apply\u001b[0;34m(self, f, align_keys, ignore_failures, **kwargs)\u001b[0m\n\u001b[1;32m    350\u001b[0m         applied \u001b[38;5;241m=\u001b[39m b\u001b[38;5;241m.\u001b[39mapply(f, \u001b[38;5;241m*\u001b[39m\u001b[38;5;241m*\u001b[39mkwargs)\n\u001b[1;32m    351\u001b[0m     \u001b[38;5;28;01melse\u001b[39;00m:\n\u001b[0;32m--> 352\u001b[0m         applied \u001b[38;5;241m=\u001b[39m \u001b[38;5;28mgetattr\u001b[39m(b, f)(\u001b[38;5;241m*\u001b[39m\u001b[38;5;241m*\u001b[39mkwargs)\n\u001b[1;32m    353\u001b[0m \u001b[38;5;28;01mexcept\u001b[39;00m (\u001b[38;5;167;01mTypeError\u001b[39;00m, \u001b[38;5;167;01mNotImplementedError\u001b[39;00m):\n\u001b[1;32m    354\u001b[0m     \u001b[38;5;28;01mif\u001b[39;00m \u001b[38;5;129;01mnot\u001b[39;00m ignore_failures:\n",
      "File \u001b[0;32m~/anaconda3/lib/python3.11/site-packages/pandas/core/internals/blocks.py:526\u001b[0m, in \u001b[0;36mBlock.astype\u001b[0;34m(self, dtype, copy, errors)\u001b[0m\n\u001b[1;32m    508\u001b[0m \u001b[38;5;250m\u001b[39m\u001b[38;5;124;03m\"\"\"\u001b[39;00m\n\u001b[1;32m    509\u001b[0m \u001b[38;5;124;03mCoerce to the new dtype.\u001b[39;00m\n\u001b[1;32m    510\u001b[0m \n\u001b[0;32m   (...)\u001b[0m\n\u001b[1;32m    522\u001b[0m \u001b[38;5;124;03mBlock\u001b[39;00m\n\u001b[1;32m    523\u001b[0m \u001b[38;5;124;03m\"\"\"\u001b[39;00m\n\u001b[1;32m    524\u001b[0m values \u001b[38;5;241m=\u001b[39m \u001b[38;5;28mself\u001b[39m\u001b[38;5;241m.\u001b[39mvalues\n\u001b[0;32m--> 526\u001b[0m new_values \u001b[38;5;241m=\u001b[39m astype_array_safe(values, dtype, copy\u001b[38;5;241m=\u001b[39mcopy, errors\u001b[38;5;241m=\u001b[39merrors)\n\u001b[1;32m    528\u001b[0m new_values \u001b[38;5;241m=\u001b[39m maybe_coerce_values(new_values)\n\u001b[1;32m    529\u001b[0m newb \u001b[38;5;241m=\u001b[39m \u001b[38;5;28mself\u001b[39m\u001b[38;5;241m.\u001b[39mmake_block(new_values)\n",
      "File \u001b[0;32m~/anaconda3/lib/python3.11/site-packages/pandas/core/dtypes/astype.py:299\u001b[0m, in \u001b[0;36mastype_array_safe\u001b[0;34m(values, dtype, copy, errors)\u001b[0m\n\u001b[1;32m    296\u001b[0m     \u001b[38;5;28;01mreturn\u001b[39;00m values\u001b[38;5;241m.\u001b[39mcopy()\n\u001b[1;32m    298\u001b[0m \u001b[38;5;28;01mtry\u001b[39;00m:\n\u001b[0;32m--> 299\u001b[0m     new_values \u001b[38;5;241m=\u001b[39m astype_array(values, dtype, copy\u001b[38;5;241m=\u001b[39mcopy)\n\u001b[1;32m    300\u001b[0m \u001b[38;5;28;01mexcept\u001b[39;00m (\u001b[38;5;167;01mValueError\u001b[39;00m, \u001b[38;5;167;01mTypeError\u001b[39;00m):\n\u001b[1;32m    301\u001b[0m     \u001b[38;5;66;03m# e.g. astype_nansafe can fail on object-dtype of strings\u001b[39;00m\n\u001b[1;32m    302\u001b[0m     \u001b[38;5;66;03m#  trying to convert to float\u001b[39;00m\n\u001b[1;32m    303\u001b[0m     \u001b[38;5;28;01mif\u001b[39;00m errors \u001b[38;5;241m==\u001b[39m \u001b[38;5;124m\"\u001b[39m\u001b[38;5;124mignore\u001b[39m\u001b[38;5;124m\"\u001b[39m:\n",
      "File \u001b[0;32m~/anaconda3/lib/python3.11/site-packages/pandas/core/dtypes/astype.py:230\u001b[0m, in \u001b[0;36mastype_array\u001b[0;34m(values, dtype, copy)\u001b[0m\n\u001b[1;32m    227\u001b[0m     values \u001b[38;5;241m=\u001b[39m values\u001b[38;5;241m.\u001b[39mastype(dtype, copy\u001b[38;5;241m=\u001b[39mcopy)\n\u001b[1;32m    229\u001b[0m \u001b[38;5;28;01melse\u001b[39;00m:\n\u001b[0;32m--> 230\u001b[0m     values \u001b[38;5;241m=\u001b[39m astype_nansafe(values, dtype, copy\u001b[38;5;241m=\u001b[39mcopy)\n\u001b[1;32m    232\u001b[0m \u001b[38;5;66;03m# in pandas we don't store numpy str dtypes, so convert to object\u001b[39;00m\n\u001b[1;32m    233\u001b[0m \u001b[38;5;28;01mif\u001b[39;00m \u001b[38;5;28misinstance\u001b[39m(dtype, np\u001b[38;5;241m.\u001b[39mdtype) \u001b[38;5;129;01mand\u001b[39;00m \u001b[38;5;28missubclass\u001b[39m(values\u001b[38;5;241m.\u001b[39mdtype\u001b[38;5;241m.\u001b[39mtype, \u001b[38;5;28mstr\u001b[39m):\n",
      "File \u001b[0;32m~/anaconda3/lib/python3.11/site-packages/pandas/core/dtypes/astype.py:170\u001b[0m, in \u001b[0;36mastype_nansafe\u001b[0;34m(arr, dtype, copy, skipna)\u001b[0m\n\u001b[1;32m    166\u001b[0m     \u001b[38;5;28;01mraise\u001b[39;00m \u001b[38;5;167;01mValueError\u001b[39;00m(msg)\n\u001b[1;32m    168\u001b[0m \u001b[38;5;28;01mif\u001b[39;00m copy \u001b[38;5;129;01mor\u001b[39;00m is_object_dtype(arr\u001b[38;5;241m.\u001b[39mdtype) \u001b[38;5;129;01mor\u001b[39;00m is_object_dtype(dtype):\n\u001b[1;32m    169\u001b[0m     \u001b[38;5;66;03m# Explicit copy, or required since NumPy can't view from / to object.\u001b[39;00m\n\u001b[0;32m--> 170\u001b[0m     \u001b[38;5;28;01mreturn\u001b[39;00m arr\u001b[38;5;241m.\u001b[39mastype(dtype, copy\u001b[38;5;241m=\u001b[39m\u001b[38;5;28;01mTrue\u001b[39;00m)\n\u001b[1;32m    172\u001b[0m \u001b[38;5;28;01mreturn\u001b[39;00m arr\u001b[38;5;241m.\u001b[39mastype(dtype, copy\u001b[38;5;241m=\u001b[39mcopy)\n",
      "\u001b[0;31mValueError\u001b[0m: invalid literal for int() with base 10: '25,612'"
     ]
    }
   ],
   "source": [
    "flights.price.astype(int)"
   ]
  },
  {
   "cell_type": "code",
   "execution_count": 7,
   "id": "7f113745",
   "metadata": {},
   "outputs": [],
   "source": [
    "# You get an error because the commas in the price column can't be converted to an integer"
   ]
  },
  {
   "cell_type": "markdown",
   "id": "74aade0d",
   "metadata": {},
   "source": [
    "Python is not happy about us trying to cast as an `int` because there are commas in the prices. To handle this we cannot use Pandas built in specialty functions, we have to get creative and make our own casting method. \n",
    "\n",
    "Use the `map` function with an inline `lambda` function to do two things:\n",
    "1. Remove the commas\n",
    "2. Change each value in the `price` column to an integer. \n",
    "\n",
    "Hint: `my_string.replace(',', '')`"
   ]
  },
  {
   "cell_type": "code",
   "execution_count": 8,
   "id": "aacd1a3d",
   "metadata": {},
   "outputs": [],
   "source": [
    "flights.price = flights.price.map(lambda d: int(d.replace(',', '')))"
   ]
  },
  {
   "cell_type": "markdown",
   "id": "c2e9c887",
   "metadata": {},
   "source": [
    "Display the type for the `price` column again."
   ]
  },
  {
   "cell_type": "code",
   "execution_count": 9,
   "id": "c27a8508",
   "metadata": {},
   "outputs": [
    {
     "data": {
      "text/plain": [
       "dtype('int64')"
      ]
     },
     "execution_count": 9,
     "metadata": {},
     "output_type": "execute_result"
    }
   ],
   "source": [
    "flights.price.dtypes"
   ]
  },
  {
   "cell_type": "markdown",
   "id": "d730236a",
   "metadata": {},
   "source": [
    "Again, use the describe function to display valuable statistics about the `price` column of `flights`."
   ]
  },
  {
   "cell_type": "code",
   "execution_count": 10,
   "id": "9c239ee6",
   "metadata": {},
   "outputs": [
    {
     "data": {
      "text/plain": [
       "count     93487.000000\n",
       "mean      52540.081124\n",
       "std       12969.314606\n",
       "min       12000.000000\n",
       "25%       45185.000000\n",
       "50%       53164.000000\n",
       "75%       60396.000000\n",
       "max      123071.000000\n",
       "Name: price, dtype: float64"
      ]
     },
     "execution_count": 10,
     "metadata": {},
     "output_type": "execute_result"
    }
   ],
   "source": [
    "flights.price.describe()"
   ]
  },
  {
   "cell_type": "markdown",
   "id": "f5a4d6af",
   "metadata": {},
   "source": [
    "### Exercise 1 Grading Notes\n",
    "\n",
    "Exercise 1 Grade:\n",
    "\n",
    "25/25"
   ]
  },
  {
   "cell_type": "markdown",
   "id": "be175cf7",
   "metadata": {},
   "source": [
    "### Exercise 2 - Clean Up Number of Stops\n",
    "\n",
    "Display the unique values and their respective number of occurances of the `stop` column in the `flights` DataFrame.  "
   ]
  },
  {
   "cell_type": "code",
   "execution_count": 11,
   "id": "2f5107c1",
   "metadata": {},
   "outputs": [
    {
     "data": {
      "text/plain": [
       "1-stop\\n\\t\\t\\t\\t\\t\\t\\t\\t\\t\\t\\t\\t\\n\\t\\t\\t\\t\\t\\t\\t\\t\\t\\t\\t\\t                   81487\n",
       "non-stop                                                                      8102\n",
       "2+-stop                                                                       1083\n",
       "1-stop\\n\\t\\t\\t\\t\\t\\t\\t\\t\\t\\t\\t\\tVia IDR\\n\\t\\t\\t\\t\\t\\t\\t\\t\\t\\t\\t\\t              810\n",
       "1-stop\\n\\t\\t\\t\\t\\t\\t\\t\\t\\t\\t\\t\\tVia IXU\\n\\t\\t\\t\\t\\t\\t\\t\\t\\t\\t\\t\\t              776\n",
       "1-stop\\n\\t\\t\\t\\t\\t\\t\\t\\t\\t\\t\\t\\tVia PAT\\n\\t\\t\\t\\t\\t\\t\\t\\t\\t\\t\\t\\t              257\n",
       "1-stop\\n\\t\\t\\t\\t\\t\\t\\t\\t\\t\\t\\t\\tVia Patna\\n\\t\\t\\t\\t\\t\\t\\t\\t\\t\\t\\t\\t            242\n",
       "1-stop\\n\\t\\t\\t\\t\\t\\t\\t\\t\\t\\t\\t\\tVia BBI\\n\\t\\t\\t\\t\\t\\t\\t\\t\\t\\t\\t\\t              152\n",
       "1-stop\\n\\t\\t\\t\\t\\t\\t\\t\\t\\t\\t\\t\\tVia STV\\n\\t\\t\\t\\t\\t\\t\\t\\t\\t\\t\\t\\t               93\n",
       "1-stop\\n\\t\\t\\t\\t\\t\\t\\t\\t\\t\\t\\t\\tVia IXE\\n\\t\\t\\t\\t\\t\\t\\t\\t\\t\\t\\t\\t               86\n",
       "1-stop\\n\\t\\t\\t\\t\\t\\t\\t\\t\\t\\t\\t\\tVia Bhubaneswar\\n\\t\\t\\t\\t\\t\\t\\t\\t\\t\\t\\t\\t       75\n",
       "1-stop\\n\\t\\t\\t\\t\\t\\t\\t\\t\\t\\t\\t\\tVia Hyderabad\\n\\t\\t\\t\\t\\t\\t\\t\\t\\t\\t\\t\\t         71\n",
       "1-stop\\n\\t\\t\\t\\t\\t\\t\\t\\t\\t\\t\\t\\tVia Delhi\\n\\t\\t\\t\\t\\t\\t\\t\\t\\t\\t\\t\\t             59\n",
       "1-stop\\n\\t\\t\\t\\t\\t\\t\\t\\t\\t\\t\\t\\tVia Raipur\\n\\t\\t\\t\\t\\t\\t\\t\\t\\t\\t\\t\\t            43\n",
       "1-stop\\n\\t\\t\\t\\t\\t\\t\\t\\t\\t\\t\\t\\tVia Chennai\\n\\t\\t\\t\\t\\t\\t\\t\\t\\t\\t\\t\\t           42\n",
       "1-stop\\n\\t\\t\\t\\t\\t\\t\\t\\t\\t\\t\\t\\tVia Guwahati\\n\\t\\t\\t\\t\\t\\t\\t\\t\\t\\t\\t\\t          29\n",
       "1-stop\\n\\t\\t\\t\\t\\t\\t\\t\\t\\t\\t\\t\\tVia VTZ\\n\\t\\t\\t\\t\\t\\t\\t\\t\\t\\t\\t\\t               17\n",
       "1-stop\\n\\t\\t\\t\\t\\t\\t\\t\\t\\t\\t\\t\\tVia NDC\\n\\t\\t\\t\\t\\t\\t\\t\\t\\t\\t\\t\\t               14\n",
       "1-stop\\n\\t\\t\\t\\t\\t\\t\\t\\t\\t\\t\\t\\tVia Kolkata\\n\\t\\t\\t\\t\\t\\t\\t\\t\\t\\t\\t\\t           14\n",
       "1-stop\\n\\t\\t\\t\\t\\t\\t\\t\\t\\t\\t\\t\\tVia RPR\\n\\t\\t\\t\\t\\t\\t\\t\\t\\t\\t\\t\\t               13\n",
       "1-stop\\n\\t\\t\\t\\t\\t\\t\\t\\t\\t\\t\\t\\tVia Lucknow\\n\\t\\t\\t\\t\\t\\t\\t\\t\\t\\t\\t\\t           10\n",
       "1-stop\\n\\t\\t\\t\\t\\t\\t\\t\\t\\t\\t\\t\\tVia GAU\\n\\t\\t\\t\\t\\t\\t\\t\\t\\t\\t\\t\\t                3\n",
       "1-stop\\n\\t\\t\\t\\t\\t\\t\\t\\t\\t\\t\\t\\tVia GAY\\n\\t\\t\\t\\t\\t\\t\\t\\t\\t\\t\\t\\t                3\n",
       "1-stop\\n\\t\\t\\t\\t\\t\\t\\t\\t\\t\\t\\t\\tVia Surat\\n\\t\\t\\t\\t\\t\\t\\t\\t\\t\\t\\t\\t              3\n",
       "1-stop                                                                           2\n",
       "1-stop\\n\\t\\t\\t\\t\\t\\t\\t\\t\\t\\t\\t\\tVia HYD\\n\\t\\t\\t\\t\\t\\t\\t\\t\\t\\t\\t\\t                1\n",
       "Name: stop, dtype: int64"
      ]
     },
     "execution_count": 11,
     "metadata": {},
     "output_type": "execute_result"
    }
   ],
   "source": [
    "flights.stop.value_counts()"
   ]
  },
  {
   "cell_type": "markdown",
   "id": "d04797b7",
   "metadata": {},
   "source": [
    "How many unique values do you think the `stop` column could contain?"
   ]
  },
  {
   "cell_type": "code",
   "execution_count": 12,
   "id": "e6add6ed",
   "metadata": {},
   "outputs": [],
   "source": [
    "# 25"
   ]
  },
  {
   "cell_type": "markdown",
   "id": "c7b30153",
   "metadata": {},
   "source": [
    "Use the `map` function to update all of the values in `stop` to be 'zero', 'one', or 'two_or_more'. \n",
    "\n",
    "Make sure everything looks good by displaying the unique values and their respective number of occurances of the `stop` column in the `flights` DataFrame.  "
   ]
  },
  {
   "cell_type": "code",
   "execution_count": 13,
   "id": "af13f334",
   "metadata": {},
   "outputs": [
    {
     "data": {
      "text/plain": [
       "one            84302\n",
       "zero            8102\n",
       "two or more     1083\n",
       "Name: stop, dtype: int64"
      ]
     },
     "execution_count": 13,
     "metadata": {},
     "output_type": "execute_result"
    }
   ],
   "source": [
    "def stop_map(stop):\n",
    "    if \"1-stop\" in stop:\n",
    "        return \"one\"\n",
    "    elif stop == \"2+-stop\":\n",
    "        return \"two or more\"\n",
    "    else:\n",
    "        return \"zero\"\n",
    "\n",
    "flights.stop = flights.stop.map(stop_map)\n",
    "\n",
    "flights.stop.value_counts()"
   ]
  },
  {
   "cell_type": "markdown",
   "id": "86758398",
   "metadata": {},
   "source": [
    "### Exercise 2 Grading Notes\n",
    "\n",
    "Exercise 2 Grade:\n",
    "\n",
    "25/25"
   ]
  },
  {
   "cell_type": "markdown",
   "id": "26ba7093",
   "metadata": {},
   "source": [
    "### Exercise 3 - Make Flight Code\n",
    "The `flight` dataset has a column for Flight Character Code, `ch_code`, and a column for Flight Numerical Code, `num_code`. We want to have one column that combines those two pieces of information into one Flight Code which we will store in a column called `flight_code`. For example, if a record has a `ch_code` of 'UK' and a `num_code` of '985' we want `flight_code` to store 'UK-985'.\n",
    "\n",
    "Use the `apply` function to create and add the desired column to the `flight` DataFrame. \n",
    "\n",
    "- Take a look at the first 5 rows of flights now and make sure the column exists and looks good.\n",
    "- Leave the `%%time` statement at the start of the cell to see how long the execution took."
   ]
  },
  {
   "cell_type": "code",
   "execution_count": 14,
   "id": "905d311a",
   "metadata": {},
   "outputs": [
    {
     "name": "stdout",
     "output_type": "stream",
     "text": [
      "         date    airline ch_code  num_code dep_time   from time_taken  stop  \\\n",
      "0  11-02-2022  Air India      AI       868    18:00  Delhi    02h 00m  zero   \n",
      "1  11-02-2022  Air India      AI       624    19:00  Delhi    02h 15m  zero   \n",
      "2  11-02-2022  Air India      AI       531    20:00  Delhi    24h 45m   one   \n",
      "3  11-02-2022  Air India      AI       839    21:25  Delhi    26h 30m   one   \n",
      "4  11-02-2022  Air India      AI       544    17:15  Delhi    06h 40m   one   \n",
      "\n",
      "  arr_time      to  price flight_code  \n",
      "0    20:00  Mumbai  25612    AI - 868  \n",
      "1    21:15  Mumbai  25612    AI - 624  \n",
      "2    20:45  Mumbai  42220    AI - 531  \n",
      "3    23:55  Mumbai  44450    AI - 839  \n",
      "4    23:55  Mumbai  46690    AI - 544  \n",
      "CPU times: user 235 ms, sys: 16 ms, total: 251 ms\n",
      "Wall time: 248 ms\n"
     ]
    }
   ],
   "source": [
    "%%time\n",
    "def flight_code(row): \n",
    "    return f\"{row['ch_code']} - {row['num_code']}\"\n",
    "\n",
    "flights['flight_code'] = flights.apply(flight_code, axis=1)\n",
    "\n",
    "print(flights.head())"
   ]
  },
  {
   "cell_type": "raw",
   "id": "cadfb28a",
   "metadata": {},
   "source": [
    "Perform the same opperation (adding `ch_code` and `num_code` to get `flight_code`) but this time, do not use `apply()` just use standard opperations on columns."
   ]
  },
  {
   "cell_type": "code",
   "execution_count": 15,
   "id": "a0da1ed1",
   "metadata": {},
   "outputs": [
    {
     "name": "stdout",
     "output_type": "stream",
     "text": [
      "         date    airline ch_code  num_code dep_time   from time_taken  stop  \\\n",
      "0  11-02-2022  Air India      AI       868    18:00  Delhi    02h 00m  zero   \n",
      "1  11-02-2022  Air India      AI       624    19:00  Delhi    02h 15m  zero   \n",
      "2  11-02-2022  Air India      AI       531    20:00  Delhi    24h 45m   one   \n",
      "3  11-02-2022  Air India      AI       839    21:25  Delhi    26h 30m   one   \n",
      "4  11-02-2022  Air India      AI       544    17:15  Delhi    06h 40m   one   \n",
      "\n",
      "  arr_time      to  price flight_code  \n",
      "0    20:00  Mumbai  25612      AI-868  \n",
      "1    21:15  Mumbai  25612      AI-624  \n",
      "2    20:45  Mumbai  42220      AI-531  \n",
      "3    23:55  Mumbai  44450      AI-839  \n",
      "4    23:55  Mumbai  46690      AI-544  \n",
      "CPU times: user 41.7 ms, sys: 5.56 ms, total: 47.3 ms\n",
      "Wall time: 44.8 ms\n"
     ]
    }
   ],
   "source": [
    "%%time\n",
    "flights.flight_code = flights.ch_code.astype(str) + '-' + flights.num_code.astype(str)\n",
    "\n",
    "print(flights.head())"
   ]
  },
  {
   "cell_type": "markdown",
   "id": "9940d9a7",
   "metadata": {},
   "source": [
    "### Exercise 3 Grading Notes\n",
    "\n",
    "Exercise 3 Grade:\n",
    "\n",
    "25/25"
   ]
  },
  {
   "cell_type": "markdown",
   "id": "8347f2e5",
   "metadata": {},
   "source": [
    "### Exerise 4 - Explore Groupby\n",
    "What is the minimum, maximum, and average cost of flights by airline? Sort your answer in descending order by mean value."
   ]
  },
  {
   "cell_type": "code",
   "execution_count": 16,
   "id": "e021337f",
   "metadata": {},
   "outputs": [
    {
     "data": {
      "text/html": [
       "<div>\n",
       "<style scoped>\n",
       "    .dataframe tbody tr th:only-of-type {\n",
       "        vertical-align: middle;\n",
       "    }\n",
       "\n",
       "    .dataframe tbody tr th {\n",
       "        vertical-align: top;\n",
       "    }\n",
       "\n",
       "    .dataframe thead th {\n",
       "        text-align: right;\n",
       "    }\n",
       "</style>\n",
       "<table border=\"1\" class=\"dataframe\">\n",
       "  <thead>\n",
       "    <tr style=\"text-align: right;\">\n",
       "      <th></th>\n",
       "      <th>min</th>\n",
       "      <th>max</th>\n",
       "      <th>mean</th>\n",
       "    </tr>\n",
       "    <tr>\n",
       "      <th>airline</th>\n",
       "      <th></th>\n",
       "      <th></th>\n",
       "      <th></th>\n",
       "    </tr>\n",
       "  </thead>\n",
       "  <tbody>\n",
       "    <tr>\n",
       "      <th>Vistara</th>\n",
       "      <td>17604</td>\n",
       "      <td>123071</td>\n",
       "      <td>55477.027777</td>\n",
       "    </tr>\n",
       "    <tr>\n",
       "      <th>Air India</th>\n",
       "      <td>12000</td>\n",
       "      <td>90970</td>\n",
       "      <td>47131.039212</td>\n",
       "    </tr>\n",
       "  </tbody>\n",
       "</table>\n",
       "</div>"
      ],
      "text/plain": [
       "             min     max          mean\n",
       "airline                               \n",
       "Vistara    17604  123071  55477.027777\n",
       "Air India  12000   90970  47131.039212"
      ]
     },
     "execution_count": 16,
     "metadata": {},
     "output_type": "execute_result"
    }
   ],
   "source": [
    "import numpy as np # This gives you access to np.mean\n",
    "flights.groupby('airline').price.agg(['min', 'max', np.mean]).sort_values(by='mean', ascending=False)"
   ]
  },
  {
   "cell_type": "markdown",
   "id": "de215a4d",
   "metadata": {},
   "source": [
    "### Exercise 4 Grading Notes\n",
    "\n",
    "Exercise 4 Grade:\n",
    "\n",
    "20/20"
   ]
  },
  {
   "cell_type": "markdown",
   "id": "6edd8c68",
   "metadata": {
    "deletable": false
   },
   "source": [
    "---\n",
    "## Submission\n",
    "\n",
    "Make sure you have run all cells in your notebook in order before running the cell below, so that all images/graphs appear in the output. I recommend going to the \"Kernel\" menu at the top and selecting \"Restart & Run All\". This will ensure that everything runs correctly when it is run sequentially. "
   ]
  },
  {
   "cell_type": "markdown",
   "id": "cf609cec",
   "metadata": {},
   "source": [
    "## Final Grade\n",
    "97/100"
   ]
  },
  {
   "cell_type": "code",
   "execution_count": null,
   "id": "39438294",
   "metadata": {},
   "outputs": [],
   "source": []
  }
 ],
 "metadata": {
  "kernelspec": {
   "display_name": "Python 3 (ipykernel)",
   "language": "python",
   "name": "python3"
  },
  "language_info": {
   "codemirror_mode": {
    "name": "ipython",
    "version": 3
   },
   "file_extension": ".py",
   "mimetype": "text/x-python",
   "name": "python",
   "nbconvert_exporter": "python",
   "pygments_lexer": "ipython3",
   "version": "3.11.7"
  }
 },
 "nbformat": 4,
 "nbformat_minor": 5
}
