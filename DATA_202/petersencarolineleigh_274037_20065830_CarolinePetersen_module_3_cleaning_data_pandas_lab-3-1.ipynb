{
 "cells": [
  {
   "cell_type": "markdown",
   "id": "24d0b655",
   "metadata": {},
   "source": [
    "# DATA 202 - Module 3: Cleaning Data\n",
    "* Instructor: Dr. Josh Fagan\n",
    "* [Jupyter Notebook Tips and Tricks](http://bit.ly/34embJh)\n",
    "* [Markdown Cheatsheet](http://bit.ly/2UkNVXV)\n",
    "* Magic command to list all variables: `%whos`"
   ]
  },
  {
   "cell_type": "markdown",
   "id": "f25d4293",
   "metadata": {},
   "source": [
    "### Instructions\n",
    "\n",
    "Welcome to the third assignment of DATA 202. This assignment is meant to help you review/familiarize yourself with cleaning datasets in Pandas\n",
    "\n",
    "To receive credit for a assignment, answer all questions correctly and submit before the deadline listed on Canvas."
   ]
  },
  {
   "cell_type": "markdown",
   "id": "c33a5f71",
   "metadata": {},
   "source": [
    "---\n",
    "### Collaboration Policy\n",
    "\n",
    "Data science is a collaborative activity. While you may talk with others about the labs, we ask that you **write your solutions individually**. If you do discuss the assignments with others please **include their names** below."
   ]
  },
  {
   "cell_type": "markdown",
   "id": "cab1ec17",
   "metadata": {},
   "source": [
    "**Collaborators**: *list collaborators here*\n",
    "* Joseph Beller (vol study center tutoring)\n",
    "* Y"
   ]
  },
  {
   "cell_type": "markdown",
   "id": "292b0066",
   "metadata": {
    "nbgrader": {
     "grade": false,
     "grade_id": "running-a-cell",
     "locked": true,
     "schema_version": 2,
     "solution": false
    },
    "tags": []
   },
   "source": [
    "---\n",
    "## Exercises\n"
   ]
  },
  {
   "cell_type": "code",
   "execution_count": 1,
   "id": "af26da7b",
   "metadata": {},
   "outputs": [],
   "source": [
    "# To answer all of the exercises you will need to import the pandas package. \n",
    "# Please do that below, in this code block.\n",
    "import pandas as pd"
   ]
  },
  {
   "cell_type": "markdown",
   "id": "1717c129",
   "metadata": {},
   "source": [
    "### Exercise 0 - Loading and Basic Exploration\n",
    "\n",
    "In this assignment, we will use the `wine_reviews.csv` dataset found on the Canvas site. Load the data into a `DataFrame` called `reviews`.\n",
    "\n",
    "Display the first 5 rows of `reviews`."
   ]
  },
  {
   "cell_type": "code",
   "execution_count": 2,
   "id": "3a94564d",
   "metadata": {},
   "outputs": [
    {
     "data": {
      "text/html": [
       "<div>\n",
       "<style scoped>\n",
       "    .dataframe tbody tr th:only-of-type {\n",
       "        vertical-align: middle;\n",
       "    }\n",
       "\n",
       "    .dataframe tbody tr th {\n",
       "        vertical-align: top;\n",
       "    }\n",
       "\n",
       "    .dataframe thead th {\n",
       "        text-align: right;\n",
       "    }\n",
       "</style>\n",
       "<table border=\"1\" class=\"dataframe\">\n",
       "  <thead>\n",
       "    <tr style=\"text-align: right;\">\n",
       "      <th></th>\n",
       "      <th>Unnamed: 0</th>\n",
       "      <th>country</th>\n",
       "      <th>description</th>\n",
       "      <th>designation</th>\n",
       "      <th>points</th>\n",
       "      <th>price</th>\n",
       "      <th>province</th>\n",
       "      <th>region_1</th>\n",
       "      <th>region_2</th>\n",
       "      <th>taster_name</th>\n",
       "      <th>taster_twitter_handle</th>\n",
       "      <th>title</th>\n",
       "      <th>variety</th>\n",
       "      <th>winery</th>\n",
       "    </tr>\n",
       "  </thead>\n",
       "  <tbody>\n",
       "    <tr>\n",
       "      <th>0</th>\n",
       "      <td>0</td>\n",
       "      <td>Italy</td>\n",
       "      <td>Aromas include tropical fruit, broom, brimston...</td>\n",
       "      <td>Vulkà Bianco</td>\n",
       "      <td>87</td>\n",
       "      <td>NaN</td>\n",
       "      <td>Sicily &amp; Sardinia</td>\n",
       "      <td>Etna</td>\n",
       "      <td>NaN</td>\n",
       "      <td>Kerin O’Keefe</td>\n",
       "      <td>@kerinokeefe</td>\n",
       "      <td>Nicosia 2013 Vulkà Bianco  (Etna)</td>\n",
       "      <td>White Blend</td>\n",
       "      <td>Nicosia</td>\n",
       "    </tr>\n",
       "    <tr>\n",
       "      <th>1</th>\n",
       "      <td>1</td>\n",
       "      <td>Portugal</td>\n",
       "      <td>This is ripe and fruity, a wine that is smooth...</td>\n",
       "      <td>Avidagos</td>\n",
       "      <td>87</td>\n",
       "      <td>15.0</td>\n",
       "      <td>Douro</td>\n",
       "      <td>NaN</td>\n",
       "      <td>NaN</td>\n",
       "      <td>Roger Voss</td>\n",
       "      <td>@vossroger</td>\n",
       "      <td>Quinta dos Avidagos 2011 Avidagos Red (Douro)</td>\n",
       "      <td>Portuguese Red</td>\n",
       "      <td>Quinta dos Avidagos</td>\n",
       "    </tr>\n",
       "    <tr>\n",
       "      <th>2</th>\n",
       "      <td>2</td>\n",
       "      <td>US</td>\n",
       "      <td>Tart and snappy, the flavors of lime flesh and...</td>\n",
       "      <td>NaN</td>\n",
       "      <td>87</td>\n",
       "      <td>14.0</td>\n",
       "      <td>Oregon</td>\n",
       "      <td>Willamette Valley</td>\n",
       "      <td>Willamette Valley</td>\n",
       "      <td>Paul Gregutt</td>\n",
       "      <td>@paulgwine</td>\n",
       "      <td>Rainstorm 2013 Pinot Gris (Willamette Valley)</td>\n",
       "      <td>Pinot Gris</td>\n",
       "      <td>Rainstorm</td>\n",
       "    </tr>\n",
       "    <tr>\n",
       "      <th>3</th>\n",
       "      <td>3</td>\n",
       "      <td>US</td>\n",
       "      <td>Pineapple rind, lemon pith and orange blossom ...</td>\n",
       "      <td>Reserve Late Harvest</td>\n",
       "      <td>87</td>\n",
       "      <td>13.0</td>\n",
       "      <td>Michigan</td>\n",
       "      <td>Lake Michigan Shore</td>\n",
       "      <td>NaN</td>\n",
       "      <td>Alexander Peartree</td>\n",
       "      <td>NaN</td>\n",
       "      <td>St. Julian 2013 Reserve Late Harvest Riesling ...</td>\n",
       "      <td>Riesling</td>\n",
       "      <td>St. Julian</td>\n",
       "    </tr>\n",
       "    <tr>\n",
       "      <th>4</th>\n",
       "      <td>4</td>\n",
       "      <td>US</td>\n",
       "      <td>Much like the regular bottling from 2012, this...</td>\n",
       "      <td>Vintner's Reserve Wild Child Block</td>\n",
       "      <td>87</td>\n",
       "      <td>65.0</td>\n",
       "      <td>Oregon</td>\n",
       "      <td>Willamette Valley</td>\n",
       "      <td>Willamette Valley</td>\n",
       "      <td>Paul Gregutt</td>\n",
       "      <td>@paulgwine</td>\n",
       "      <td>Sweet Cheeks 2012 Vintner's Reserve Wild Child...</td>\n",
       "      <td>Pinot Noir</td>\n",
       "      <td>Sweet Cheeks</td>\n",
       "    </tr>\n",
       "  </tbody>\n",
       "</table>\n",
       "</div>"
      ],
      "text/plain": [
       "   Unnamed: 0   country                                        description  \\\n",
       "0           0     Italy  Aromas include tropical fruit, broom, brimston...   \n",
       "1           1  Portugal  This is ripe and fruity, a wine that is smooth...   \n",
       "2           2        US  Tart and snappy, the flavors of lime flesh and...   \n",
       "3           3        US  Pineapple rind, lemon pith and orange blossom ...   \n",
       "4           4        US  Much like the regular bottling from 2012, this...   \n",
       "\n",
       "                          designation  points  price           province  \\\n",
       "0                        Vulkà Bianco      87    NaN  Sicily & Sardinia   \n",
       "1                            Avidagos      87   15.0              Douro   \n",
       "2                                 NaN      87   14.0             Oregon   \n",
       "3                Reserve Late Harvest      87   13.0           Michigan   \n",
       "4  Vintner's Reserve Wild Child Block      87   65.0             Oregon   \n",
       "\n",
       "              region_1           region_2         taster_name  \\\n",
       "0                 Etna                NaN       Kerin O’Keefe   \n",
       "1                  NaN                NaN          Roger Voss   \n",
       "2    Willamette Valley  Willamette Valley        Paul Gregutt   \n",
       "3  Lake Michigan Shore                NaN  Alexander Peartree   \n",
       "4    Willamette Valley  Willamette Valley        Paul Gregutt   \n",
       "\n",
       "  taster_twitter_handle                                              title  \\\n",
       "0          @kerinokeefe                  Nicosia 2013 Vulkà Bianco  (Etna)   \n",
       "1            @vossroger      Quinta dos Avidagos 2011 Avidagos Red (Douro)   \n",
       "2           @paulgwine       Rainstorm 2013 Pinot Gris (Willamette Valley)   \n",
       "3                   NaN  St. Julian 2013 Reserve Late Harvest Riesling ...   \n",
       "4           @paulgwine   Sweet Cheeks 2012 Vintner's Reserve Wild Child...   \n",
       "\n",
       "          variety               winery  \n",
       "0     White Blend              Nicosia  \n",
       "1  Portuguese Red  Quinta dos Avidagos  \n",
       "2      Pinot Gris            Rainstorm  \n",
       "3        Riesling           St. Julian  \n",
       "4      Pinot Noir         Sweet Cheeks  "
      ]
     },
     "execution_count": 2,
     "metadata": {},
     "output_type": "execute_result"
    }
   ],
   "source": [
    "reviews = pd.read_csv('/Users/carolinelpetersen/Desktop/data science/data/wine_reviews.csv')\n",
    "reviews.head()"
   ]
  },
  {
   "cell_type": "markdown",
   "id": "207b2579",
   "metadata": {},
   "source": [
    "## Introduce Error\n",
    "This is not so much an exercise as an organization subsection that introduces some error into our dataset that we need to fix. All you need to do is run the following cell block without edits. "
   ]
  },
  {
   "cell_type": "code",
   "execution_count": 3,
   "id": "f5207fc4",
   "metadata": {},
   "outputs": [],
   "source": [
    "import random\n",
    "\n",
    "random.seed(10)\n",
    "i = random.randint(0, len(reviews))\n",
    "reviews.points.at[i] = reviews.points[i]*10\n",
    "i = random.randint(0, len(reviews))\n",
    "reviews = pd.concat([reviews, reviews.iloc[i:i+3]])\n",
    "reviews = reviews.reset_index()\n",
    "reviews.points = reviews.points.astype(str)"
   ]
  },
  {
   "cell_type": "markdown",
   "id": "f0c9bfd0",
   "metadata": {},
   "source": [
    "## Exercise 1\n",
    "Display the number of 'NaN' values for each feature. Which column in `reviews` has the most `NaN` values?"
   ]
  },
  {
   "cell_type": "code",
   "execution_count": 4,
   "id": "7e54ca93",
   "metadata": {},
   "outputs": [
    {
     "data": {
      "text/plain": [
       "index                        0\n",
       "Unnamed: 0                   0\n",
       "country                     63\n",
       "description                  0\n",
       "designation              37468\n",
       "points                       0\n",
       "price                     8996\n",
       "province                    63\n",
       "region_1                 21247\n",
       "region_2                 79461\n",
       "taster_name              26244\n",
       "taster_twitter_handle    31214\n",
       "title                        0\n",
       "variety                      1\n",
       "winery                       0\n",
       "dtype: int64"
      ]
     },
     "execution_count": 4,
     "metadata": {},
     "output_type": "execute_result"
    }
   ],
   "source": [
    "pd.isnull(reviews).sum()"
   ]
  },
  {
   "cell_type": "markdown",
   "id": "9f3017ae",
   "metadata": {},
   "source": [
    "Your answer here: region_2  "
   ]
  },
  {
   "cell_type": "markdown",
   "id": "86c91a7f",
   "metadata": {},
   "source": [
    "### Exercise 1 Grading Notes\n",
    "\n",
    "Exercise 1 Grade:\n",
    "\n",
    "14/14"
   ]
  },
  {
   "cell_type": "markdown",
   "id": "4c66a4f1",
   "metadata": {},
   "source": [
    "## Exercise 2\n",
    "There are a lot of missing `region_2` values, so much so, that it might not be useful to include this feature in our analysis. \n",
    "\n",
    "Remove the `region_2` feature from the dataset. \n",
    "\n",
    "Display the first 5 rows to make sure changes have been made.\n",
    "\n",
    "Hint: Explore pandas `drop()` function.\n",
    "\n"
   ]
  },
  {
   "cell_type": "code",
   "execution_count": 5,
   "id": "cf1d2d71",
   "metadata": {},
   "outputs": [
    {
     "data": {
      "text/html": [
       "<div>\n",
       "<style scoped>\n",
       "    .dataframe tbody tr th:only-of-type {\n",
       "        vertical-align: middle;\n",
       "    }\n",
       "\n",
       "    .dataframe tbody tr th {\n",
       "        vertical-align: top;\n",
       "    }\n",
       "\n",
       "    .dataframe thead th {\n",
       "        text-align: right;\n",
       "    }\n",
       "</style>\n",
       "<table border=\"1\" class=\"dataframe\">\n",
       "  <thead>\n",
       "    <tr style=\"text-align: right;\">\n",
       "      <th></th>\n",
       "      <th>index</th>\n",
       "      <th>Unnamed: 0</th>\n",
       "      <th>country</th>\n",
       "      <th>description</th>\n",
       "      <th>designation</th>\n",
       "      <th>points</th>\n",
       "      <th>price</th>\n",
       "      <th>province</th>\n",
       "      <th>region_1</th>\n",
       "      <th>taster_name</th>\n",
       "      <th>taster_twitter_handle</th>\n",
       "      <th>title</th>\n",
       "      <th>variety</th>\n",
       "      <th>winery</th>\n",
       "    </tr>\n",
       "  </thead>\n",
       "  <tbody>\n",
       "    <tr>\n",
       "      <th>0</th>\n",
       "      <td>0</td>\n",
       "      <td>0</td>\n",
       "      <td>Italy</td>\n",
       "      <td>Aromas include tropical fruit, broom, brimston...</td>\n",
       "      <td>Vulkà Bianco</td>\n",
       "      <td>87</td>\n",
       "      <td>NaN</td>\n",
       "      <td>Sicily &amp; Sardinia</td>\n",
       "      <td>Etna</td>\n",
       "      <td>Kerin O’Keefe</td>\n",
       "      <td>@kerinokeefe</td>\n",
       "      <td>Nicosia 2013 Vulkà Bianco  (Etna)</td>\n",
       "      <td>White Blend</td>\n",
       "      <td>Nicosia</td>\n",
       "    </tr>\n",
       "    <tr>\n",
       "      <th>1</th>\n",
       "      <td>1</td>\n",
       "      <td>1</td>\n",
       "      <td>Portugal</td>\n",
       "      <td>This is ripe and fruity, a wine that is smooth...</td>\n",
       "      <td>Avidagos</td>\n",
       "      <td>87</td>\n",
       "      <td>15.0</td>\n",
       "      <td>Douro</td>\n",
       "      <td>NaN</td>\n",
       "      <td>Roger Voss</td>\n",
       "      <td>@vossroger</td>\n",
       "      <td>Quinta dos Avidagos 2011 Avidagos Red (Douro)</td>\n",
       "      <td>Portuguese Red</td>\n",
       "      <td>Quinta dos Avidagos</td>\n",
       "    </tr>\n",
       "    <tr>\n",
       "      <th>2</th>\n",
       "      <td>2</td>\n",
       "      <td>2</td>\n",
       "      <td>US</td>\n",
       "      <td>Tart and snappy, the flavors of lime flesh and...</td>\n",
       "      <td>NaN</td>\n",
       "      <td>87</td>\n",
       "      <td>14.0</td>\n",
       "      <td>Oregon</td>\n",
       "      <td>Willamette Valley</td>\n",
       "      <td>Paul Gregutt</td>\n",
       "      <td>@paulgwine</td>\n",
       "      <td>Rainstorm 2013 Pinot Gris (Willamette Valley)</td>\n",
       "      <td>Pinot Gris</td>\n",
       "      <td>Rainstorm</td>\n",
       "    </tr>\n",
       "    <tr>\n",
       "      <th>3</th>\n",
       "      <td>3</td>\n",
       "      <td>3</td>\n",
       "      <td>US</td>\n",
       "      <td>Pineapple rind, lemon pith and orange blossom ...</td>\n",
       "      <td>Reserve Late Harvest</td>\n",
       "      <td>87</td>\n",
       "      <td>13.0</td>\n",
       "      <td>Michigan</td>\n",
       "      <td>Lake Michigan Shore</td>\n",
       "      <td>Alexander Peartree</td>\n",
       "      <td>NaN</td>\n",
       "      <td>St. Julian 2013 Reserve Late Harvest Riesling ...</td>\n",
       "      <td>Riesling</td>\n",
       "      <td>St. Julian</td>\n",
       "    </tr>\n",
       "    <tr>\n",
       "      <th>4</th>\n",
       "      <td>4</td>\n",
       "      <td>4</td>\n",
       "      <td>US</td>\n",
       "      <td>Much like the regular bottling from 2012, this...</td>\n",
       "      <td>Vintner's Reserve Wild Child Block</td>\n",
       "      <td>87</td>\n",
       "      <td>65.0</td>\n",
       "      <td>Oregon</td>\n",
       "      <td>Willamette Valley</td>\n",
       "      <td>Paul Gregutt</td>\n",
       "      <td>@paulgwine</td>\n",
       "      <td>Sweet Cheeks 2012 Vintner's Reserve Wild Child...</td>\n",
       "      <td>Pinot Noir</td>\n",
       "      <td>Sweet Cheeks</td>\n",
       "    </tr>\n",
       "  </tbody>\n",
       "</table>\n",
       "</div>"
      ],
      "text/plain": [
       "   index  Unnamed: 0   country  \\\n",
       "0      0           0     Italy   \n",
       "1      1           1  Portugal   \n",
       "2      2           2        US   \n",
       "3      3           3        US   \n",
       "4      4           4        US   \n",
       "\n",
       "                                         description  \\\n",
       "0  Aromas include tropical fruit, broom, brimston...   \n",
       "1  This is ripe and fruity, a wine that is smooth...   \n",
       "2  Tart and snappy, the flavors of lime flesh and...   \n",
       "3  Pineapple rind, lemon pith and orange blossom ...   \n",
       "4  Much like the regular bottling from 2012, this...   \n",
       "\n",
       "                          designation points  price           province  \\\n",
       "0                        Vulkà Bianco     87    NaN  Sicily & Sardinia   \n",
       "1                            Avidagos     87   15.0              Douro   \n",
       "2                                 NaN     87   14.0             Oregon   \n",
       "3                Reserve Late Harvest     87   13.0           Michigan   \n",
       "4  Vintner's Reserve Wild Child Block     87   65.0             Oregon   \n",
       "\n",
       "              region_1         taster_name taster_twitter_handle  \\\n",
       "0                 Etna       Kerin O’Keefe          @kerinokeefe   \n",
       "1                  NaN          Roger Voss            @vossroger   \n",
       "2    Willamette Valley        Paul Gregutt           @paulgwine    \n",
       "3  Lake Michigan Shore  Alexander Peartree                   NaN   \n",
       "4    Willamette Valley        Paul Gregutt           @paulgwine    \n",
       "\n",
       "                                               title         variety  \\\n",
       "0                  Nicosia 2013 Vulkà Bianco  (Etna)     White Blend   \n",
       "1      Quinta dos Avidagos 2011 Avidagos Red (Douro)  Portuguese Red   \n",
       "2      Rainstorm 2013 Pinot Gris (Willamette Valley)      Pinot Gris   \n",
       "3  St. Julian 2013 Reserve Late Harvest Riesling ...        Riesling   \n",
       "4  Sweet Cheeks 2012 Vintner's Reserve Wild Child...      Pinot Noir   \n",
       "\n",
       "                winery  \n",
       "0              Nicosia  \n",
       "1  Quinta dos Avidagos  \n",
       "2            Rainstorm  \n",
       "3           St. Julian  \n",
       "4         Sweet Cheeks  "
      ]
     },
     "execution_count": 5,
     "metadata": {},
     "output_type": "execute_result"
    }
   ],
   "source": [
    "reviews = reviews.drop(columns=['region_2'])\n",
    "reviews.head()"
   ]
  },
  {
   "cell_type": "markdown",
   "id": "95725c82",
   "metadata": {},
   "source": [
    "### Exercise 2 Grading Notes\n",
    "\n",
    "Exercise 2 Grade:\n",
    "\n",
    "14/14"
   ]
  },
  {
   "cell_type": "markdown",
   "id": "6172f218",
   "metadata": {},
   "source": [
    "## Exercies 3\n",
    "There is only one record with a missing `variety` field, and that is a pretty important field. \n",
    "\n",
    "Remove the record with the missing `variety` field from the dataset. Check to see what changes have been made on reviews by displaying the number of NaN values in the `variety` column after the operation. \n",
    "\n",
    "Hints: we can easily use `dropna()` by taking advantage of the `subset` parameter."
   ]
  },
  {
   "cell_type": "code",
   "execution_count": 6,
   "id": "65a902f4",
   "metadata": {},
   "outputs": [
    {
     "data": {
      "text/plain": [
       "0"
      ]
     },
     "execution_count": 6,
     "metadata": {},
     "output_type": "execute_result"
    }
   ],
   "source": [
    "reviews = reviews.dropna(subset=['variety'])\n",
    "pd.isnull(reviews['variety']).sum()"
   ]
  },
  {
   "cell_type": "markdown",
   "id": "70ece0a6",
   "metadata": {},
   "source": [
    "### Exercise 3 Grading Notes\n",
    "\n",
    "Exercise 3 Grade:\n",
    "\n",
    "14/14"
   ]
  },
  {
   "cell_type": "markdown",
   "id": "7140e895",
   "metadata": {},
   "source": [
    "## Exercise 4\n",
    "Replace all `NaN` values in the `price` column with the average price from the full `DataFrame`. Check to see what changes have been made on `reviews` by displaying the number of `NaN` values in the price column after the operation. "
   ]
  },
  {
   "cell_type": "code",
   "execution_count": 7,
   "id": "9f84431c",
   "metadata": {},
   "outputs": [
    {
     "data": {
      "text/plain": [
       "0"
      ]
     },
     "execution_count": 7,
     "metadata": {},
     "output_type": "execute_result"
    }
   ],
   "source": [
    "x = reviews['price'].mean()\n",
    "reviews['price'].fillna(x, inplace = True)\n",
    "pd.isnull(reviews['price']).sum()"
   ]
  },
  {
   "cell_type": "markdown",
   "id": "d2364c79",
   "metadata": {},
   "source": [
    "### Exercise 4 Grading Notes\n",
    "\n",
    "Exercise 4 Grade:\n",
    "\n",
    "14/14"
   ]
  },
  {
   "cell_type": "markdown",
   "id": "a891d241",
   "metadata": {},
   "source": [
    "## Exercise 5\n",
    "Use the `.describe()` function on the `price` column to see basic statistics on all the values in the column. "
   ]
  },
  {
   "cell_type": "code",
   "execution_count": 8,
   "id": "8afdc1f4",
   "metadata": {},
   "outputs": [
    {
     "data": {
      "text/plain": [
       "count    129973.000000\n",
       "mean         35.362986\n",
       "std          39.576876\n",
       "min           4.000000\n",
       "25%          18.000000\n",
       "50%          28.000000\n",
       "75%          40.000000\n",
       "max        3300.000000\n",
       "Name: price, dtype: float64"
      ]
     },
     "execution_count": 8,
     "metadata": {},
     "output_type": "execute_result"
    }
   ],
   "source": [
    "reviews['price'].describe()"
   ]
  },
  {
   "cell_type": "markdown",
   "id": "7ebf8cb6",
   "metadata": {},
   "source": [
    "Now do the same thing with the `points` column. "
   ]
  },
  {
   "cell_type": "code",
   "execution_count": 9,
   "id": "0db253de",
   "metadata": {},
   "outputs": [
    {
     "data": {
      "text/plain": [
       "count     129973\n",
       "unique        22\n",
       "top           88\n",
       "freq       17206\n",
       "Name: points, dtype: object"
      ]
     },
     "execution_count": 9,
     "metadata": {},
     "output_type": "execute_result"
    }
   ],
   "source": [
    "reviews['points'].describe()"
   ]
  },
  {
   "cell_type": "markdown",
   "id": "d9815ad8",
   "metadata": {},
   "source": [
    "Why do we not get all of the statistics with the `points` column? There is no mean, min, max, or any of the quartiles. Let's look and find out why. \n",
    "\n",
    "Execute the function to check the datatype of each column."
   ]
  },
  {
   "cell_type": "code",
   "execution_count": 10,
   "id": "7bdb77f9",
   "metadata": {},
   "outputs": [
    {
     "data": {
      "text/plain": [
       "index                      int64\n",
       "Unnamed: 0                 int64\n",
       "country                   object\n",
       "description               object\n",
       "designation               object\n",
       "points                    object\n",
       "price                    float64\n",
       "province                  object\n",
       "region_1                  object\n",
       "taster_name               object\n",
       "taster_twitter_handle     object\n",
       "title                     object\n",
       "variety                   object\n",
       "winery                    object\n",
       "dtype: object"
      ]
     },
     "execution_count": 10,
     "metadata": {},
     "output_type": "execute_result"
    }
   ],
   "source": [
    "reviews.dtypes"
   ]
  },
  {
   "cell_type": "markdown",
   "id": "f5ad19b5",
   "metadata": {},
   "source": [
    "From this we can see the `price` column is `float` but the `points` column is a `string`. We know `points` are integers, so we clearly have to clean our data of this wrong format. This will allow us to perform mathematical calculations on the data to do such tasks as finding the maximum point from a region, find the average points per price, and finding median point value over all. \n",
    "\n",
    "In the cell below, cast the `point` column as an `int`."
   ]
  },
  {
   "cell_type": "code",
   "execution_count": 11,
   "id": "7f4c8a9c",
   "metadata": {},
   "outputs": [],
   "source": [
    "reviews.points = reviews.points.astype(int)"
   ]
  },
  {
   "cell_type": "code",
   "execution_count": 12,
   "id": "e00c48c8",
   "metadata": {},
   "outputs": [
    {
     "data": {
      "text/plain": [
       "index                      int64\n",
       "Unnamed: 0                 int64\n",
       "country                   object\n",
       "description               object\n",
       "designation               object\n",
       "points                     int64\n",
       "price                    float64\n",
       "province                  object\n",
       "region_1                  object\n",
       "taster_name               object\n",
       "taster_twitter_handle     object\n",
       "title                     object\n",
       "variety                   object\n",
       "winery                    object\n",
       "dtype: object"
      ]
     },
     "execution_count": 12,
     "metadata": {},
     "output_type": "execute_result"
    }
   ],
   "source": [
    "reviews.dtypes"
   ]
  },
  {
   "cell_type": "markdown",
   "id": "763b6771",
   "metadata": {},
   "source": [
    "Now run the `describe()` command again to see the statistics specific to the `point` feature. "
   ]
  },
  {
   "cell_type": "code",
   "execution_count": 13,
   "id": "c575c9f5",
   "metadata": {},
   "outputs": [
    {
     "data": {
      "text/plain": [
       "count    129973.000000\n",
       "mean         88.453640\n",
       "std           3.866619\n",
       "min          80.000000\n",
       "25%          86.000000\n",
       "50%          88.000000\n",
       "75%          91.000000\n",
       "max         950.000000\n",
       "Name: points, dtype: float64"
      ]
     },
     "execution_count": 13,
     "metadata": {},
     "output_type": "execute_result"
    }
   ],
   "source": [
    "reviews.points.describe()"
   ]
  },
  {
   "cell_type": "markdown",
   "id": "6974fa0b",
   "metadata": {},
   "source": [
    "### Exercise 5 Grading Notes\n",
    "\n",
    "Exercise 5 Grade:\n",
    "\n",
    "14/14"
   ]
  },
  {
   "cell_type": "markdown",
   "id": "d86e9a22",
   "metadata": {},
   "source": [
    "## Exercise 6\n",
    "### Preamble\n",
    "In this exercise we want to correct any erroneous `points` values. As stated previously, we can use meta data to check to see what values features can and should take on. We have looked at the `point` feature before, but just as a recap, the values range from 80-100, again based on supplied metadata and documentation. \n",
    "\n",
    "Run the cell below to see if we have any erroneous `points` values. "
   ]
  },
  {
   "cell_type": "code",
   "execution_count": 14,
   "id": "059bc9d4",
   "metadata": {},
   "outputs": [
    {
     "data": {
      "text/plain": [
       "80       397\n",
       "81       692\n",
       "82      1836\n",
       "83      3025\n",
       "84      6480\n",
       "85      9533\n",
       "86     12600\n",
       "87     16933\n",
       "88     17206\n",
       "89     12226\n",
       "90     15410\n",
       "91     11359\n",
       "92      9613\n",
       "93      6489\n",
       "94      3758\n",
       "95      1534\n",
       "96       523\n",
       "97       229\n",
       "98        77\n",
       "99        33\n",
       "100       19\n",
       "950        1\n",
       "Name: points, dtype: int64"
      ]
     },
     "execution_count": 14,
     "metadata": {},
     "output_type": "execute_result"
    }
   ],
   "source": [
    "reviews.points.value_counts().sort_index()"
   ]
  },
  {
   "cell_type": "markdown",
   "id": "25de8927",
   "metadata": {},
   "source": [
    "From this output we can see there is one value well above 100. We have one of two options for fixing our value.\n",
    "\n",
    "1) Remove the whole record. \n",
    "2) Try to guess what the point value should be.\n",
    "\n",
    "We can see the value ends with a \"0\" so we could guess that a decimal was placed incorrectly and try to fix it by just removing the extra order of magnitude position.\n",
    "\n",
    "Let's go with our second option and correct the value by effectively dividing by 10. \n",
    "\n",
    "### Problem Statement\n",
    "1. Find the location of the erroneous point value.\n",
    "2. Change the value to be its current value, divided by 10. \n",
    "\n",
    "Hints: \n",
    "1. The erroneous point value is the maximum value in the `points` colum. You can use this to help you find the right location, or just use the hard coded value in a comparison. \n",
    "2. Use loc[] to avoid any warnings"
   ]
  },
  {
   "cell_type": "code",
   "execution_count": 15,
   "id": "33e441c8",
   "metadata": {},
   "outputs": [
    {
     "data": {
      "text/plain": [
       "74894"
      ]
     },
     "execution_count": 15,
     "metadata": {},
     "output_type": "execute_result"
    }
   ],
   "source": [
    "reviews.loc[reviews.points == 950].index[0]"
   ]
  },
  {
   "cell_type": "code",
   "execution_count": 16,
   "id": "0f788edc",
   "metadata": {},
   "outputs": [],
   "source": [
    "reviews.loc[74894, 'points'] = 950/10"
   ]
  },
  {
   "cell_type": "markdown",
   "id": "d2068a6c",
   "metadata": {},
   "source": [
    "Run the cell below to check and make sure you have solved the issue. "
   ]
  },
  {
   "cell_type": "code",
   "execution_count": 17,
   "id": "2000a27a",
   "metadata": {},
   "outputs": [
    {
     "data": {
      "text/plain": [
       "80       397\n",
       "81       692\n",
       "82      1836\n",
       "83      3025\n",
       "84      6480\n",
       "85      9533\n",
       "86     12600\n",
       "87     16933\n",
       "88     17206\n",
       "89     12226\n",
       "90     15410\n",
       "91     11359\n",
       "92      9613\n",
       "93      6489\n",
       "94      3758\n",
       "95      1535\n",
       "96       523\n",
       "97       229\n",
       "98        77\n",
       "99        33\n",
       "100       19\n",
       "Name: points, dtype: int64"
      ]
     },
     "execution_count": 17,
     "metadata": {},
     "output_type": "execute_result"
    }
   ],
   "source": [
    "reviews.points.value_counts().sort_index()"
   ]
  },
  {
   "cell_type": "markdown",
   "id": "476773b8",
   "metadata": {},
   "source": [
    "### Exercise 6 Grading Notes\n",
    "\n",
    "Deductions:\n",
    "- Hardcoded the values (-2)\n",
    "\n",
    "Exercise 5 Grade:\n",
    "\n",
    "13/15"
   ]
  },
  {
   "cell_type": "markdown",
   "id": "c9df9397",
   "metadata": {},
   "source": [
    "## Exercise 7"
   ]
  },
  {
   "cell_type": "markdown",
   "id": "0989518e",
   "metadata": {},
   "source": [
    "Show what duplicate lines exist in the dataset."
   ]
  },
  {
   "cell_type": "code",
   "execution_count": 20,
   "id": "1a974d78",
   "metadata": {},
   "outputs": [
    {
     "name": "stdout",
     "output_type": "stream",
     "text": [
      "0         False\n",
      "1         False\n",
      "2         False\n",
      "3         False\n",
      "4         False\n",
      "          ...  \n",
      "129969    False\n",
      "129970    False\n",
      "129971     True\n",
      "129972     True\n",
      "129973     True\n",
      "Length: 129973, dtype: bool\n"
     ]
    }
   ],
   "source": [
    "print(reviews.duplicated())"
   ]
  },
  {
   "cell_type": "markdown",
   "id": "35f2ed3c",
   "metadata": {},
   "source": [
    "Remove the duplicate lines."
   ]
  },
  {
   "cell_type": "code",
   "execution_count": 21,
   "id": "86f60f29",
   "metadata": {},
   "outputs": [],
   "source": [
    "reviews.drop_duplicates(inplace = True)"
   ]
  },
  {
   "cell_type": "markdown",
   "id": "969d5e56",
   "metadata": {},
   "source": [
    "Perform another check to see if you fixed the problem"
   ]
  },
  {
   "cell_type": "code",
   "execution_count": 22,
   "id": "00170043",
   "metadata": {},
   "outputs": [
    {
     "name": "stdout",
     "output_type": "stream",
     "text": [
      "0\n"
     ]
    }
   ],
   "source": [
    "print(reviews.duplicated().sum())"
   ]
  },
  {
   "cell_type": "markdown",
   "id": "1f54fb38",
   "metadata": {},
   "source": [
    "### Exercise 7 Grading Notes\n",
    "\n",
    "Exercise 7 Grade:\n",
    "\n",
    "15/15"
   ]
  },
  {
   "cell_type": "markdown",
   "id": "6edd8c68",
   "metadata": {
    "deletable": false
   },
   "source": [
    "---\n",
    "## Submission\n",
    "\n",
    "Make sure you have run all cells in your notebook in order before running the cell below, so that all images/graphs appear in the output. I recommend going to the \"Kernel\" menu at the top and selecting \"Restart & Run All\". This will ensure that everything runs correctly when it is run sequentially. "
   ]
  },
  {
   "cell_type": "markdown",
   "id": "f2e65236",
   "metadata": {},
   "source": [
    "### Final Grade\n",
    "98/100"
   ]
  },
  {
   "cell_type": "code",
   "execution_count": null,
   "id": "7e04263a",
   "metadata": {},
   "outputs": [],
   "source": []
  }
 ],
 "metadata": {
  "kernelspec": {
   "display_name": "Python 3 (ipykernel)",
   "language": "python",
   "name": "python3"
  },
  "language_info": {
   "codemirror_mode": {
    "name": "ipython",
    "version": 3
   },
   "file_extension": ".py",
   "mimetype": "text/x-python",
   "name": "python",
   "nbconvert_exporter": "python",
   "pygments_lexer": "ipython3",
   "version": "3.9.13"
  }
 },
 "nbformat": 4,
 "nbformat_minor": 5
}
