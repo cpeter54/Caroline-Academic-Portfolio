{
 "cells": [
  {
   "cell_type": "markdown",
   "metadata": {},
   "source": [
    "# Lab 3: Arrays"
   ]
  },
  {
   "cell_type": "markdown",
   "metadata": {},
   "source": [
    "## Your Name: Caroline Petersen"
   ]
  },
  {
   "cell_type": "markdown",
   "metadata": {},
   "source": [
    "**Evaluate the cell below before starting!**"
   ]
  },
  {
   "cell_type": "code",
   "execution_count": 1,
   "metadata": {},
   "outputs": [],
   "source": [
    "# Don't change this cell; just run it.\n",
    "import pandas as pd\n",
    "import numpy as np\n",
    "\n",
    "%matplotlib inline\n",
    "import matplotlib.pyplot as plt\n",
    "\n",
    "plt.style.use(\"ggplot\")"
   ]
  },
  {
   "cell_type": "markdown",
   "metadata": {},
   "source": [
    "You should have the following files (that were zipped with this notebook) in the same folder as this notebook:\n",
    "\n",
    "- `fake_temps.csv`\n",
    "- `unemployment.csv`\n"
   ]
  },
  {
   "cell_type": "markdown",
   "metadata": {},
   "source": [
    "## Number Sizes"
   ]
  },
  {
   "cell_type": "markdown",
   "metadata": {},
   "source": [
    "In the next problem, we will use some very large numbers.  For most OSs (Mac, Linux, and sometimes Windows), the default size of integers are 64-bit integers, which are large enough for it.  On the other hand, for some reason some versions of Windows use 32-bit integers, which are *not* large enough.\n",
    "\n",
    "So, we can force our arrays to contain 64-bit integers by using the optional argument `dtype=np.int64`.  For instance, like this:"
   ]
  },
  {
   "cell_type": "code",
   "execution_count": 2,
   "metadata": {
    "tags": []
   },
   "outputs": [
    {
     "data": {
      "text/plain": [
       "array([2147483647, 2147483650, 2147483653, 2147483656, 2147483659,\n",
       "       2147483662, 2147483665, 2147483668])"
      ]
     },
     "execution_count": 2,
     "metadata": {},
     "output_type": "execute_result"
    }
   ],
   "source": [
    "max_32bit_int = 2_147_483_647\n",
    "\n",
    "large_number_array_64bit = np.arange(max_32bit_int, max_32bit_int + 22, 3, dtype=np.int64)  # this always works!\n",
    "large_number_array_64bit"
   ]
  },
  {
   "cell_type": "markdown",
   "metadata": {},
   "source": [
    "If your default integer size is 32-bit, you'd have trouble.  Let's force the integers to be 32-bit integers:"
   ]
  },
  {
   "cell_type": "code",
   "execution_count": 3,
   "metadata": {
    "tags": []
   },
   "outputs": [
    {
     "name": "stderr",
     "output_type": "stream",
     "text": [
      "/var/folders/4m/qvc8ly2d0mz07rthdgkms0tc0000gn/T/ipykernel_29306/3829173103.py:3: DeprecationWarning: NumPy will stop allowing conversion of out-of-bound Python integers to integer arrays.  The conversion of 2147483650 to int32 will fail in the future.\n",
      "For the old behavior, usually:\n",
      "    np.array(value).astype(dtype)`\n",
      "will give the desired result (the cast overflows).\n",
      "  large_number_array_32bit = np.arange(max_32bit_int, max_32bit_int + 22, 3, dtype=np.int32)  # this does NOT work!\n"
     ]
    },
    {
     "data": {
      "text/plain": [
       "array([ 2147483647, -2147483646, -2147483643, -2147483640, -2147483637,\n",
       "       -2147483634, -2147483631, -2147483628], dtype=int32)"
      ]
     },
     "execution_count": 3,
     "metadata": {},
     "output_type": "execute_result"
    }
   ],
   "source": [
    "max_32bit_int = 2_147_483_647\n",
    "\n",
    "large_number_array_32bit = np.arange(max_32bit_int, max_32bit_int + 22, 3, dtype=np.int32)  # this does NOT work!\n",
    "large_number_array_32bit"
   ]
  },
  {
   "cell_type": "markdown",
   "metadata": {},
   "source": [
    "If you are running Mac or Linux, you probably do not need to worry about it, but if you are using Windows, I would recommend you add the option `dtype=np.int64` when using `np.arange` (as done above) in Part 1 below, to make sure you do not run into problems!"
   ]
  },
  {
   "cell_type": "markdown",
   "metadata": {},
   "source": [
    "## 1. Checking Some Math Formulas"
   ]
  },
  {
   "cell_type": "markdown",
   "metadata": {},
   "source": [
    "One can give a mathematical proof of the following fact: for any positive integer $n$, one has that\n",
    "\n",
    "$$\n",
    "1^3 + 2^3 + 3^3 + \\cdots + n^3 = (1 + 2 + 3 + \\cdots + n)^2.\n",
    "$$\n",
    "\n",
    "Let's try to verify this formula for  some numbers using *arrays*."
   ]
  },
  {
   "cell_type": "markdown",
   "metadata": {},
   "source": [
    "**Question 1.1:** In the cell below, replace the `...` so that `cubes_array` contains all the cubes of the integers up to the value of `n` given below.  (`n` is preset to $1{,}000$.  Do not change it for now.)"
   ]
  },
  {
   "cell_type": "code",
   "execution_count": 48,
   "metadata": {},
   "outputs": [],
   "source": [
    "n = 1000  # do not change\n",
    "\n",
    "# array with 1**3, 2**3, 3**3, ..., n**3\n",
    "cubes_array = np.arange(1, n+1)**3"
   ]
  },
  {
   "cell_type": "markdown",
   "metadata": {},
   "source": [
    "---\n",
    "\n",
    "Below, we want to run a little test to see the result above was correct.  But remember how comparisons work with arrays.  For example:\n"
   ]
  },
  {
   "cell_type": "code",
   "execution_count": 49,
   "metadata": {},
   "outputs": [],
   "source": [
    "array1 = np.array([1, 2, 3])\n",
    "array2 =  np.array([1, 2, 3])\n",
    "array3 =  np.array([1, 2, 4])"
   ]
  },
  {
   "cell_type": "markdown",
   "metadata": {},
   "source": [
    "If we do `array1 == array2` we do not get `True` or `False`, but an array:"
   ]
  },
  {
   "cell_type": "code",
   "execution_count": 50,
   "metadata": {},
   "outputs": [
    {
     "data": {
      "text/plain": [
       "array([ True,  True,  True])"
      ]
     },
     "execution_count": 50,
     "metadata": {},
     "output_type": "execute_result"
    }
   ],
   "source": [
    "array1 == array2"
   ]
  },
  {
   "cell_type": "code",
   "execution_count": 51,
   "metadata": {},
   "outputs": [
    {
     "data": {
      "text/plain": [
       "array([ True,  True, False])"
      ]
     },
     "execution_count": 51,
     "metadata": {},
     "output_type": "execute_result"
    }
   ],
   "source": [
    "array1 == array3"
   ]
  },
  {
   "cell_type": "markdown",
   "metadata": {},
   "source": [
    "We get `True` for every entry that matches and `False` for the ones that don't.  So, to see if the arrays are actually equal (meaning, *all* entries match), we use `np.array_equal`:"
   ]
  },
  {
   "cell_type": "code",
   "execution_count": 52,
   "metadata": {},
   "outputs": [
    {
     "data": {
      "text/plain": [
       "True"
      ]
     },
     "execution_count": 52,
     "metadata": {},
     "output_type": "execute_result"
    }
   ],
   "source": [
    "np.array_equal(array1, array2)"
   ]
  },
  {
   "cell_type": "code",
   "execution_count": 53,
   "metadata": {},
   "outputs": [
    {
     "data": {
      "text/plain": [
       "False"
      ]
     },
     "execution_count": 53,
     "metadata": {},
     "output_type": "execute_result"
    }
   ],
   "source": [
    "np.array_equal(array1, array3)"
   ]
  },
  {
   "cell_type": "markdown",
   "metadata": {},
   "source": [
    "---"
   ]
  },
  {
   "cell_type": "markdown",
   "metadata": {},
   "source": [
    "**Question 1.2:** Let's verify that you are getting the correct answer.  Replace the `...` below so that `first_5_cubes` contains the first 5 elements of `cubes_array` and `last_5_cubes` contains the last 5 elements.  Then run the cell.  If your previous part was correct, you should get `True` as the output.\n",
    "\n",
    "*Hint:* You can \"slice\" the `cubes_array`."
   ]
  },
  {
   "cell_type": "code",
   "execution_count": 54,
   "metadata": {},
   "outputs": [
    {
     "data": {
      "text/plain": [
       "True"
      ]
     },
     "execution_count": 54,
     "metadata": {},
     "output_type": "execute_result"
    }
   ],
   "source": [
    "first_5_cubes = cubes_array[:5]\n",
    "last_5_cubes = cubes_array[-5:]\n",
    "\n",
    "# test with hardcoded cubes\n",
    "np.array_equal(\n",
    "    first_5_cubes, np.array([1**3, 2**3, 3**3, 4**3, 5**3])\n",
    ") and np.array_equal(\n",
    "    last_5_cubes, np.array([996**3, 997**3, 998**3, 999**3, 1000**3])\n",
    ")"
   ]
  },
  {
   "cell_type": "markdown",
   "metadata": {},
   "source": [
    "**Question 1.3:**  Now we verify the formula for $n=1000$!  Replace `...` below so that `sum_cubes` contains the sum of all elements of `cubes_array` and `sum_to_n` contains $1 + 2 + 3 + \\cdots + n$ (using the variable `n` for the last element!).  Then, run the cell.  If you've done it correctly, you should get `True` as the output."
   ]
  },
  {
   "cell_type": "code",
   "execution_count": 55,
   "metadata": {},
   "outputs": [
    {
     "data": {
      "text/plain": [
       "True"
      ]
     },
     "execution_count": 55,
     "metadata": {},
     "output_type": "execute_result"
    }
   ],
   "source": [
    "sum_cubes = np.sum(cubes_array)\n",
    "sum_to_n = np.sum(np.arange(1, n + 1))\n",
    "\n",
    "sum_cubes == sum_to_n**2"
   ]
  },
  {
   "cell_type": "markdown",
   "metadata": {},
   "source": [
    "---\n",
    "\n",
    "Using NumPy arrays to compute sums of cubes is quite fast!  (Especially compared to using Python *without* NumPy.)  But there is a faster way!  We have a formula for the sum of consecutive integers:\n",
    "\n",
    "$$\n",
    "1 + 2 + 3 + \\cdots + n = \\frac{n(n+1)}{2}.\n",
    "$$\n",
    "\n",
    "This formula is not hard to deduce. Add the first (i.e., $1$) to the last (i.e., $n$), the second (i.e., $2$) to the second to the last (i.e., $n-1$), and so on.  Each pair adds to $n+1$ and have half of the terms (i.e., $n/2$) pairs to add, giving $n/2$ times $n+1$.  (Well, at least if $n$ is even.)\n",
    "\n",
    "This means that, using $1^3 + 2^3 + 3^3 + \\cdots + n^3 = (1 + 2 + 3 + \\cdots + n)^2$, we have:\n",
    "\n",
    "$$\n",
    "1^3 + 2^3 + 3^3 + \\cdots + n^3 = \\frac{n^2(n+1)^2}{4}.\n",
    "$$\n",
    "\n",
    "---"
   ]
  },
  {
   "cell_type": "markdown",
   "metadata": {},
   "source": [
    "**Question 1.4:** Enter the code in the cell below that gives `True` if the formula above works for the value given to `n`.\n",
    "\n",
    "*Hint:* Of course, as above, use `==` to check if the two sides are equal.  Use your `cubes_array` again for the left side of the equation, and write an expression for the left side."
   ]
  },
  {
   "cell_type": "code",
   "execution_count": 56,
   "metadata": {},
   "outputs": [
    {
     "data": {
      "text/plain": [
       "True"
      ]
     },
     "execution_count": 56,
     "metadata": {},
     "output_type": "execute_result"
    }
   ],
   "source": [
    "np.sum(cubes_array) == n**2 * (n+1)**2 / 4"
   ]
  },
  {
   "cell_type": "markdown",
   "metadata": {},
   "source": [
    "You could change the value of `n` in Question 1.1 above and run your answers the cells from Questions 1.3 and 1.4 again to check if the formulas hold for other values of `n`.  (The cell from Question 1.2 will give `False` if you change `n`, though.)"
   ]
  },
  {
   "cell_type": "markdown",
   "metadata": {},
   "source": [
    "## 2. Computing Interest"
   ]
  },
  {
   "cell_type": "markdown",
   "metadata": {},
   "source": [
    "In this question we will use arrays to do some computations with compound interest.\n",
    "\n",
    "Note that NumPy has the function `np.full(repetitions, value)` gives an array of length `repetitions` where every entry has value `value`.\n",
    "\n",
    "For instance:"
   ]
  },
  {
   "cell_type": "code",
   "execution_count": null,
   "metadata": {},
   "outputs": [],
   "source": [
    "np.full(10, 3)"
   ]
  },
  {
   "cell_type": "markdown",
   "metadata": {},
   "source": [
    "---\n",
    "\n",
    "**Question 2.1:**  Let's say you put $P$ dollars in a savings account, and leave it there for $t$ years.  (Below we will use $P=100$ and $t=3$.)  Create an array with entries all equal to $P$ (use the variable `P`) and length equal to the number of **months** (not years, but use the variable `t`).  (It will print your array for verification.)"
   ]
  },
  {
   "cell_type": "code",
   "execution_count": 13,
   "metadata": {},
   "outputs": [
    {
     "data": {
      "text/plain": [
       "array([100, 100, 100, 100, 100, 100, 100, 100, 100, 100, 100, 100, 100,\n",
       "       100, 100, 100, 100, 100, 100, 100, 100, 100, 100, 100, 100, 100,\n",
       "       100, 100, 100, 100, 100, 100, 100, 100, 100, 100])"
      ]
     },
     "execution_count": 13,
     "metadata": {},
     "output_type": "execute_result"
    }
   ],
   "source": [
    "P = 100  # initial amount (called \"principal\")\n",
    "t = 3  # number of years\n",
    "\n",
    "P_array = np.full(12 * t, P)\n",
    "\n",
    "P_array"
   ]
  },
  {
   "cell_type": "markdown",
   "metadata": {},
   "source": [
    "Our goal is to create an array that will have the value in your saving account for each month."
   ]
  },
  {
   "cell_type": "markdown",
   "metadata": {},
   "source": [
    "**Question 2.2:**  Let's say that your savings account pays interest of $r$ percent a year.  This means that every month the value of your account is multiplied by\n",
    "\n",
    "$$\n",
    "\\left(1 + \\frac{r}{100 \\cdot 12}\\right)\n",
    "$$\n",
    "\n",
    "to obtain the value for the next month.  (The $12$ is to go from *yearly* rate to *monthly* rate and the $100$ is to convert the percentage to a ratio.)  \n",
    "\n",
    "In the cell below (where $r = 3$, for a $3\\%$ interest), enter the expression above in the variable `factor`:"
   ]
  },
  {
   "cell_type": "code",
   "execution_count": 14,
   "metadata": {},
   "outputs": [
    {
     "data": {
      "text/plain": [
       "1.0025"
      ]
     },
     "execution_count": 14,
     "metadata": {},
     "output_type": "execute_result"
    }
   ],
   "source": [
    "r = 3  # interest rate\n",
    "factor = 1 + r / (100 * 12)\n",
    "\n",
    "factor"
   ]
  },
  {
   "cell_type": "markdown",
   "metadata": {},
   "source": [
    "**Question 2.3:** It will be helpful for our computation to have an array with\n",
    "\n",
    "```python\n",
    "[1, factor, factor**2, factor**3, ...]\n",
    "```\n",
    "\n",
    "of length equal to the number of months.  (Again, you *cannot* hardcode the number of months.  You must use `t` to get the number of months!)  Save such array in the variable `factors_array` below."
   ]
  },
  {
   "cell_type": "code",
   "execution_count": 16,
   "metadata": {},
   "outputs": [
    {
     "data": {
      "text/plain": [
       "array([1.        , 1.0025    , 1.00500625, 1.00751877, 1.01003756,\n",
       "       1.01256266, 1.01509406, 1.0176318 , 1.02017588, 1.02272632,\n",
       "       1.02528313, 1.02784634, 1.03041596, 1.032992  , 1.03557448,\n",
       "       1.03816341, 1.04075882, 1.04336072, 1.04596912, 1.04858404,\n",
       "       1.0512055 , 1.05383352, 1.0564681 , 1.05910927, 1.06175704,\n",
       "       1.06441144, 1.06707247, 1.06974015, 1.0724145 , 1.07509553,\n",
       "       1.07778327, 1.08047773, 1.08317892, 1.08588687, 1.08860159,\n",
       "       1.09132309])"
      ]
     },
     "execution_count": 16,
     "metadata": {},
     "output_type": "execute_result"
    }
   ],
   "source": [
    "factors_array = factor ** np.arange(12*t)\n",
    "\n",
    "factors_array"
   ]
  },
  {
   "cell_type": "markdown",
   "metadata": {},
   "source": [
    "**Question 2.4:**  The formula for the amount of money you will have after $m$ months is simply\n",
    "\n",
    "$$\n",
    "P \\cdot \\left(1 + \\frac{r}{100 \\cdot 12}\\right)^m.\n",
    "$$\n",
    "\n",
    "Thus, to get an array with your balance each month, you need\n",
    "\n",
    "```python\n",
    "[P, P * factor, P * factor**2, P * factor**3, ...]\n",
    "```\n",
    "\n",
    "Use `P` and `factors_array` to produce the array above and save it in the variable `balance_array`.\n"
   ]
  },
  {
   "cell_type": "code",
   "execution_count": 17,
   "metadata": {},
   "outputs": [
    {
     "data": {
      "text/plain": [
       "array([100.        , 100.25      , 100.500625  , 100.75187656,\n",
       "       101.00375625, 101.25626564, 101.50940631, 101.76317982,\n",
       "       102.01758777, 102.27263174, 102.52831332, 102.78463411,\n",
       "       103.04159569, 103.29919968, 103.55744768, 103.8163413 ,\n",
       "       104.07588215, 104.33607186, 104.59691204, 104.85840432,\n",
       "       105.12055033, 105.3833517 , 105.64681008, 105.91092711,\n",
       "       106.17570443, 106.44114369, 106.70724655, 106.97401466,\n",
       "       107.2414497 , 107.50955332, 107.77832721, 108.04777303,\n",
       "       108.31789246, 108.58868719, 108.86015891, 109.1323093 ])"
      ]
     },
     "execution_count": 17,
     "metadata": {},
     "output_type": "execute_result"
    }
   ],
   "source": [
    "balance_array = factors_array * P\n",
    "\n",
    "balance_array"
   ]
  },
  {
   "cell_type": "markdown",
   "metadata": {},
   "source": [
    "**Question 2.5:** Let's now introduce *monthly deposits*.  Let's say you deposit $A$ dollars (below we set `A = 30`, for $\\$30$ dollars) every month.  We need to add those amounts to our account.  So we need to add\n",
    "\n",
    "```python\n",
    "[0, A, 2 * A, 3 * A, ...]\n",
    "```\n",
    "\n",
    "to our account (where the length is the number of months).\n",
    "\n",
    "Save the array above in the variable `deposits_array` below.  (**Do not hardcode the number of months!**  As always, use `t`.)"
   ]
  },
  {
   "cell_type": "code",
   "execution_count": 18,
   "metadata": {},
   "outputs": [
    {
     "data": {
      "text/plain": [
       "array([   0,   30,   60,   90,  120,  150,  180,  210,  240,  270,  300,\n",
       "        330,  360,  390,  420,  450,  480,  510,  540,  570,  600,  630,\n",
       "        660,  690,  720,  750,  780,  810,  840,  870,  900,  930,  960,\n",
       "        990, 1020, 1050])"
      ]
     },
     "execution_count": 18,
     "metadata": {},
     "output_type": "execute_result"
    }
   ],
   "source": [
    "A = 30  # monthly deposits\n",
    "deposits_array = A * np.arange(12*t)\n",
    "deposits_array"
   ]
  },
  {
   "cell_type": "markdown",
   "metadata": {},
   "source": [
    "**Question 2.6:** We cannot simply add these numbers to our `balance_array`, as it would not include interest paid over the deposits.  What we actually need is an array of the form\n",
    "\n",
    "```python\n",
    "[P, \n",
    " P * factor + A, \n",
    " P * factor**2 + A * factor + A, \n",
    " P * factor**3 + A * factor**2 + A * factor + A, ...] =\n",
    "balance_array + \n",
    "[0, \n",
    " A, \n",
    " A + A * factor, \n",
    " A + A* factor + A * factor**2, \n",
    " A + A* factor + A * factor**2 + A * factor**3, ...]\n",
    "```\n",
    "Here we will produce this second array:\n",
    "\n",
    "```python\n",
    "[0, \n",
    " A, \n",
    " A + A * factor, \n",
    " A + A* factor + A * factor**2, \n",
    " A + A* factor + A * factor**2 + A * factor**3, ...].\n",
    "```\n",
    "\n",
    "Let's start by producing\n",
    "\n",
    "```python\n",
    "[A, A * factor, A * factor**2, ...]\n",
    "```\n",
    "\n",
    "with length equal to the total number of months *minus 1*.  Save it in the variable `A_fac_pwr` below.\n",
    "\n",
    "*Hint:* You can use the `factors_array` again, but remove its last term."
   ]
  },
  {
   "cell_type": "code",
   "execution_count": 19,
   "metadata": {},
   "outputs": [
    {
     "data": {
      "text/plain": [
       "array([30.        , 30.075     , 30.1501875 , 30.22556297, 30.30112688,\n",
       "       30.37687969, 30.45282189, 30.52895395, 30.60527633, 30.68178952,\n",
       "       30.758494  , 30.83539023, 30.91247871, 30.9897599 , 31.0672343 ,\n",
       "       31.14490239, 31.22276465, 31.30082156, 31.37907361, 31.4575213 ,\n",
       "       31.5361651 , 31.61500551, 31.69404302, 31.77327813, 31.85271133,\n",
       "       31.93234311, 32.01217396, 32.0922044 , 32.17243491, 32.252866  ,\n",
       "       32.33349816, 32.41433191, 32.49536774, 32.57660616, 32.65804767])"
      ]
     },
     "execution_count": 19,
     "metadata": {},
     "output_type": "execute_result"
    }
   ],
   "source": [
    "A_fac_pwr = A * factors_array[:-1]\n",
    "\n",
    "A_fac_pwr"
   ]
  },
  {
   "cell_type": "markdown",
   "metadata": {
    "tags": []
   },
   "source": [
    "**Question 2.7:**  Now we want to go from our `A_fac_pwr`\n",
    "\n",
    "```python\n",
    "[A, A * factor, A * factor**2, A * factor**3, ...]\n",
    "```\n",
    "\n",
    "to\n",
    "\n",
    "```python\n",
    "[A, \n",
    " A + A * factor, \n",
    " A + A * factor + A * factor**2, \n",
    " A + A * factor + A * factor**2 + A * factor**3, ...].\n",
    "```\n",
    "\n",
    "That is simply the *cumulative sum* of the array!  The cumulative sum of $(x_1, x_2, x_3, x_4)$ is simply\n",
    "\n",
    "$$\n",
    "\\begin{align*}\n",
    " (&x_1, \\\\\n",
    "&x_1 + x_2, \\\\\n",
    "&x_1 + x_2 + x_3\\\\\n",
    "&x_1 + x_2 + x_3 + x_4).\n",
    "\\end{align*}\n",
    "$$\n",
    "\n",
    "Fortunately NumPy can do that for us with the function [np.cumsum](https://numpy.org/doc/stable/reference/generated/numpy.cumsum.html).  For instance `np.cumsum(np.array([1, 2, 3, 4]))` gives `[1, 3, 6, 10]`.\n",
    "\n",
    "Use `np.cumsum` to get the array above and save it in the variable `A_interest`."
   ]
  },
  {
   "cell_type": "code",
   "execution_count": 22,
   "metadata": {},
   "outputs": [
    {
     "data": {
      "text/plain": [
       "array([  30.        ,   60.075     ,   90.2251875 ,  120.45075047,\n",
       "        150.75187734,  181.12875704,  211.58157893,  242.11053288,\n",
       "        272.71580921,  303.39759873,  334.15609273,  364.99148296,\n",
       "        395.90396167,  426.89372157,  457.96095588,  489.10585827,\n",
       "        520.32862291,  551.62944447,  583.00851808,  614.46603938,\n",
       "        646.00220448,  677.61720999,  709.31125301,  741.08453114,\n",
       "        772.93724247,  804.86958558,  836.88175954,  868.97396394,\n",
       "        901.14639885,  933.39926485,  965.73276301,  998.14709492,\n",
       "       1030.64246265, 1063.21906881, 1095.87711648])"
      ]
     },
     "execution_count": 22,
     "metadata": {},
     "output_type": "execute_result"
    }
   ],
   "source": [
    "A_interest = np.cumsum(A_fac_pwr)\n",
    "\n",
    "A_interest"
   ]
  },
  {
   "cell_type": "markdown",
   "metadata": {},
   "source": [
    "**Question 2.8:** Now we can get an array with balances with the monthly deposits.  All we need to do is to add to `balance_array` the array `A_interest` **shifted** by one.  So, we can add a zero to the front of `A_interest` using `np.appennd`.  For instance,  `np.append(0, np.array([1, 2, 3]))` gives `[0, 1, 2, 3]`.\n",
    "\n",
    "Save the result *rounded to 2 decimal places* (use `np.round`) in `balance_with_interest`."
   ]
  },
  {
   "cell_type": "code",
   "execution_count": 24,
   "metadata": {},
   "outputs": [
    {
     "data": {
      "text/plain": [
       "array([ 100.  ,  130.25,  160.58,  190.98,  221.45,  252.01,  282.64,\n",
       "        313.34,  344.13,  374.99,  405.93,  436.94,  468.03,  499.2 ,\n",
       "        530.45,  561.78,  593.18,  624.66,  656.23,  687.87,  719.59,\n",
       "        751.39,  783.26,  815.22,  847.26,  879.38,  911.58,  943.86,\n",
       "        976.22, 1008.66, 1041.18, 1073.78, 1106.46, 1139.23, 1172.08,\n",
       "       1205.01])"
      ]
     },
     "execution_count": 24,
     "metadata": {},
     "output_type": "execute_result"
    }
   ],
   "source": [
    "balance_with_interest = np.round(balance_array + np.append(0, A_interest), 2)\n",
    "\n",
    "balance_with_interest"
   ]
  },
  {
   "cell_type": "markdown",
   "metadata": {
    "tags": []
   },
   "source": [
    "---\n",
    "\n",
    "In the next part we will find the month in which our balance was 1000 or over.  For this, we can use `np.argmax`, which gives the index for the **first occurence** of the maximum of an array.\n",
    "\n",
    "For instance:"
   ]
  },
  {
   "cell_type": "code",
   "execution_count": 25,
   "metadata": {},
   "outputs": [
    {
     "data": {
      "text/plain": [
       "4"
      ]
     },
     "execution_count": 25,
     "metadata": {},
     "output_type": "execute_result"
    }
   ],
   "source": [
    "some_array = np.array([1, 4, 5, 7, 11, 2, 10, 11])\n",
    "np.argmax(some_array)"
   ]
  },
  {
   "cell_type": "markdown",
   "metadata": {},
   "source": [
    "And indeed:"
   ]
  },
  {
   "cell_type": "code",
   "execution_count": 26,
   "metadata": {},
   "outputs": [
    {
     "data": {
      "text/plain": [
       "11"
      ]
     },
     "execution_count": 26,
     "metadata": {},
     "output_type": "execute_result"
    }
   ],
   "source": [
    "some_array[np.argmax(some_array)]"
   ]
  },
  {
   "cell_type": "markdown",
   "metadata": {},
   "source": [
    "If we have an array of *booleans* (i.e., `True` and `False` values), `False` is treated like `0` and `True` like `1`, so `True` is greater than `False`."
   ]
  },
  {
   "cell_type": "code",
   "execution_count": 27,
   "metadata": {},
   "outputs": [
    {
     "data": {
      "text/plain": [
       "True"
      ]
     },
     "execution_count": 27,
     "metadata": {},
     "output_type": "execute_result"
    }
   ],
   "source": [
    "True > False"
   ]
  },
  {
   "cell_type": "markdown",
   "metadata": {},
   "source": [
    "So, we can use a trick to find the index for the first value greater than or equal to 6 in `some_array`:"
   ]
  },
  {
   "cell_type": "code",
   "execution_count": 28,
   "metadata": {},
   "outputs": [
    {
     "data": {
      "text/plain": [
       "3"
      ]
     },
     "execution_count": 28,
     "metadata": {},
     "output_type": "execute_result"
    }
   ],
   "source": [
    "np.argmax(some_array >= 6)"
   ]
  },
  {
   "cell_type": "markdown",
   "metadata": {},
   "source": [
    "Checking:"
   ]
  },
  {
   "cell_type": "code",
   "execution_count": 29,
   "metadata": {},
   "outputs": [
    {
     "data": {
      "text/plain": [
       "7"
      ]
     },
     "execution_count": 29,
     "metadata": {},
     "output_type": "execute_result"
    }
   ],
   "source": [
    "some_array[3]"
   ]
  },
  {
   "cell_type": "markdown",
   "metadata": {},
   "source": [
    "---"
   ]
  },
  {
   "cell_type": "markdown",
   "metadata": {},
   "source": [
    "**Question 2.9:** Find the first month after we started for which the balance was above $\\$1{,}000$ in the savings account (with the monthly deposits) and the corresponding amount.\n",
    "\n",
    "**Note:** You cannot manually enter the numerical index to find the amount!  It has to be done with code.\n",
    "\n",
    "*Hint:* I do something similar above."
   ]
  },
  {
   "cell_type": "code",
   "execution_count": 30,
   "metadata": {},
   "outputs": [
    {
     "name": "stdout",
     "output_type": "stream",
     "text": [
      "The account was first above 1,000 after 29 months, and the corresponding balance was 1008.66.\n"
     ]
    }
   ],
   "source": [
    "month_above_1000 = np.argmax(balance_with_interest >= 1000)\n",
    "balance_above_1000 = balance_with_interest[month_above_1000]\n",
    "\n",
    "# the code below should print the answer\n",
    "print(f\"The account was first above 1,000 after {month_above_1000} months, and the corresponding balance was {balance_above_1000}.\")"
   ]
  },
  {
   "cell_type": "markdown",
   "metadata": {},
   "source": [
    "## 3. Unemployment\n"
   ]
  },
  {
   "cell_type": "markdown",
   "metadata": {},
   "source": [
    "The Federal Reserve Bank publishes data about jobs in the US, including unemployment. Adapted from this [data source](https://fred.stlouisfed.org/series/NEIPTERM156SFRBRIC), you should have a file in your directory called `unemployment.csv`. The top (header) row of the csv file is: \n",
    "<br><br>\n",
    "DATE,rate\n",
    "<br>\n",
    "<br>\n",
    "...followed by 106 rows of data, each of which look like this:\n",
    "<br><br>\n",
    "1/1/1994, 11.0621318\n",
    "<br>\n",
    "(105 more rows)"
   ]
  },
  {
   "cell_type": "markdown",
   "metadata": {},
   "source": [
    "Let's import it as a data frame and take a loot at it:"
   ]
  },
  {
   "cell_type": "code",
   "execution_count": 31,
   "metadata": {},
   "outputs": [
    {
     "data": {
      "text/html": [
       "<div>\n",
       "<style scoped>\n",
       "    .dataframe tbody tr th:only-of-type {\n",
       "        vertical-align: middle;\n",
       "    }\n",
       "\n",
       "    .dataframe tbody tr th {\n",
       "        vertical-align: top;\n",
       "    }\n",
       "\n",
       "    .dataframe thead th {\n",
       "        text-align: right;\n",
       "    }\n",
       "</style>\n",
       "<table border=\"1\" class=\"dataframe\">\n",
       "  <thead>\n",
       "    <tr style=\"text-align: right;\">\n",
       "      <th></th>\n",
       "      <th>DATE</th>\n",
       "      <th>rate</th>\n",
       "    </tr>\n",
       "  </thead>\n",
       "  <tbody>\n",
       "    <tr>\n",
       "      <th>0</th>\n",
       "      <td>1/1/1994</td>\n",
       "      <td>11.062132</td>\n",
       "    </tr>\n",
       "    <tr>\n",
       "      <th>1</th>\n",
       "      <td>4/1/1994</td>\n",
       "      <td>10.771927</td>\n",
       "    </tr>\n",
       "    <tr>\n",
       "      <th>2</th>\n",
       "      <td>7/1/1994</td>\n",
       "      <td>10.473954</td>\n",
       "    </tr>\n",
       "    <tr>\n",
       "      <th>3</th>\n",
       "      <td>10/1/1994</td>\n",
       "      <td>10.237754</td>\n",
       "    </tr>\n",
       "    <tr>\n",
       "      <th>4</th>\n",
       "      <td>1/1/1995</td>\n",
       "      <td>10.129244</td>\n",
       "    </tr>\n",
       "    <tr>\n",
       "      <th>...</th>\n",
       "      <td>...</td>\n",
       "      <td>...</td>\n",
       "    </tr>\n",
       "    <tr>\n",
       "      <th>101</th>\n",
       "      <td>4/1/2019</td>\n",
       "      <td>8.398822</td>\n",
       "    </tr>\n",
       "    <tr>\n",
       "      <th>102</th>\n",
       "      <td>7/1/2019</td>\n",
       "      <td>8.384811</td>\n",
       "    </tr>\n",
       "    <tr>\n",
       "      <th>103</th>\n",
       "      <td>10/1/2019</td>\n",
       "      <td>8.185098</td>\n",
       "    </tr>\n",
       "    <tr>\n",
       "      <th>104</th>\n",
       "      <td>1/1/2020</td>\n",
       "      <td>8.193350</td>\n",
       "    </tr>\n",
       "    <tr>\n",
       "      <th>105</th>\n",
       "      <td>4/1/2020</td>\n",
       "      <td>17.526427</td>\n",
       "    </tr>\n",
       "  </tbody>\n",
       "</table>\n",
       "<p>106 rows × 2 columns</p>\n",
       "</div>"
      ],
      "text/plain": [
       "          DATE       rate\n",
       "0     1/1/1994  11.062132\n",
       "1     4/1/1994  10.771927\n",
       "2     7/1/1994  10.473954\n",
       "3    10/1/1994  10.237754\n",
       "4     1/1/1995  10.129244\n",
       "..         ...        ...\n",
       "101   4/1/2019   8.398822\n",
       "102   7/1/2019   8.384811\n",
       "103  10/1/2019   8.185098\n",
       "104   1/1/2020   8.193350\n",
       "105   4/1/2020  17.526427\n",
       "\n",
       "[106 rows x 2 columns]"
      ]
     },
     "execution_count": 31,
     "metadata": {},
     "output_type": "execute_result"
    }
   ],
   "source": [
    "unemployment_df = pd.read_csv(\"unemployment.csv\")\n",
    "unemployment_df"
   ]
  },
  {
   "cell_type": "markdown",
   "metadata": {},
   "source": [
    "We now create an array `unemployment` array with the unemployment rate at the start of one quarter (a 3-month period) of a year.  The first element is the unemployment rate at the start of the first quarter of 1994."
   ]
  },
  {
   "cell_type": "code",
   "execution_count": 32,
   "metadata": {
    "tags": []
   },
   "outputs": [
    {
     "data": {
      "text/plain": [
       "array([11.0621318 , 10.77192681, 10.47395408, 10.23775372, 10.12924418,\n",
       "       10.08505433, 10.09470675, 10.10429865, 10.00289988,  9.94828977,\n",
       "        9.84656195,  9.72221778,  9.70639297,  9.49478348,  9.28279782,\n",
       "        9.18564733,  9.10251786,  8.83775274,  9.04325487,  8.87303686,\n",
       "        8.74115895,  8.85862643,  8.69734467,  8.51900016,  8.38336457,\n",
       "        8.35803268,  8.42160372,  8.39918382,  8.53696216,  8.74852923,\n",
       "        8.96491626,  9.69812334,  9.8843541 ,  9.85440023,  9.80141715,\n",
       "        9.70052054,  9.87146099,  9.99305547, 10.06601017, 10.02528758,\n",
       "        9.80750916,  9.70754028,  9.66014001,  9.71349668,  9.51378419,\n",
       "        9.41164514,  9.32471497,  9.31158911,  9.175878  ,  9.13138532,\n",
       "        9.11731782,  9.04490222,  9.03843861,  9.12256338,  9.10862179,\n",
       "        9.16845725,  9.36947717,  9.55386078, 10.14547204, 10.6605132 ,\n",
       "       11.91843408, 12.55413321, 12.70880901, 12.87197174, 12.61789539,\n",
       "       12.5560314 , 12.35204874, 12.42164764, 12.22870426, 12.22399113,\n",
       "       12.20685955, 12.0956744 , 11.7485114 , 11.64090462, 11.68979043,\n",
       "       11.50281179, 11.6886761 , 11.42145876, 11.25671401, 11.22757866,\n",
       "       10.73856881, 10.61484664, 10.59218988, 10.36748565, 10.24274687,\n",
       "       10.08811825,  9.94625708,  9.78745994,  9.57925101,  9.63343188,\n",
       "        9.5297541 ,  9.68956476,  9.3908837 ,  9.08596396,  8.98739792,\n",
       "        8.87508178,  8.80248787,  8.69415948,  8.54810616,  8.58484551,\n",
       "        8.75104485,  8.39882182,  8.38481077,  8.18509812,  8.19334971,\n",
       "       17.5264272 ])"
      ]
     },
     "execution_count": 32,
     "metadata": {},
     "output_type": "execute_result"
    }
   ],
   "source": [
    "# Run this cell to load the data.  You don't need to read it.\n",
    "unemployment = unemployment_df[\"rate\"].to_numpy()\n",
    "unemployment"
   ]
  },
  {
   "cell_type": "markdown",
   "metadata": {},
   "source": [
    "---\n",
    "\n",
    "**Question 3.1:** Let's label each number with its date.  We'll say that the first quarter of 1994 is 1994.0, the second quarter is 1994.25, the third quarter is 1994.5, and so on.  Create an array called `measurement_dates` with the dates for each number in `unemployment`.\n",
    "\n",
    "*Hint:* What is the last quarter? What are the step sizes between quarters?"
   ]
  },
  {
   "cell_type": "code",
   "execution_count": 33,
   "metadata": {},
   "outputs": [
    {
     "data": {
      "text/plain": [
       "array([1994.  , 1994.25, 1994.5 , 1994.75, 1995.  , 1995.25, 1995.5 ,\n",
       "       1995.75, 1996.  , 1996.25, 1996.5 , 1996.75, 1997.  , 1997.25,\n",
       "       1997.5 , 1997.75, 1998.  , 1998.25, 1998.5 , 1998.75, 1999.  ,\n",
       "       1999.25, 1999.5 , 1999.75, 2000.  , 2000.25, 2000.5 , 2000.75,\n",
       "       2001.  , 2001.25, 2001.5 , 2001.75, 2002.  , 2002.25, 2002.5 ,\n",
       "       2002.75, 2003.  , 2003.25, 2003.5 , 2003.75, 2004.  , 2004.25,\n",
       "       2004.5 , 2004.75, 2005.  , 2005.25, 2005.5 , 2005.75, 2006.  ,\n",
       "       2006.25, 2006.5 , 2006.75, 2007.  , 2007.25, 2007.5 , 2007.75,\n",
       "       2008.  , 2008.25, 2008.5 , 2008.75, 2009.  , 2009.25, 2009.5 ,\n",
       "       2009.75, 2010.  , 2010.25, 2010.5 , 2010.75, 2011.  , 2011.25,\n",
       "       2011.5 , 2011.75, 2012.  , 2012.25, 2012.5 , 2012.75, 2013.  ,\n",
       "       2013.25, 2013.5 , 2013.75, 2014.  , 2014.25, 2014.5 , 2014.75,\n",
       "       2015.  , 2015.25, 2015.5 , 2015.75, 2016.  , 2016.25, 2016.5 ,\n",
       "       2016.75, 2017.  , 2017.25, 2017.5 , 2017.75, 2018.  , 2018.25,\n",
       "       2018.5 , 2018.75, 2019.  , 2019.25, 2019.5 , 2019.75, 2020.  ,\n",
       "       2020.25])"
      ]
     },
     "execution_count": 33,
     "metadata": {},
     "output_type": "execute_result"
    }
   ],
   "source": [
    "measurement_dates = np.arange(1994, 1994 + len(unemployment) * 0.25, 0.25)\n",
    "measurement_dates"
   ]
  },
  {
   "cell_type": "markdown",
   "metadata": {},
   "source": [
    "The following cells will visualize the data and help you answer the following questions. You do not need to change anything, but you should run them."
   ]
  },
  {
   "cell_type": "code",
   "execution_count": 34,
   "metadata": {},
   "outputs": [
    {
     "data": {
      "image/png": "[encoded data removed]",
      "text/plain": [
       "<Figure size 640x480 with 1 Axes>"
      ]
     },
     "metadata": {},
     "output_type": "display_data"
    }
   ],
   "source": [
    "## This graph shows unemployment rates over time. Just run this cell. \n",
    "plt.plot(measurement_dates, unemployment)\n",
    "\n",
    "plt.xlabel(\"Years\")\n",
    "plt.ylabel(\"Unemployment Rate\")\n",
    "\n",
    "plt.show()"
   ]
  },
  {
   "cell_type": "code",
   "execution_count": 35,
   "metadata": {},
   "outputs": [
    {
     "data": {
      "image/png": "[encoded data removed]",
      "text/plain": [
       "<Figure size 640x480 with 1 Axes>"
      ]
     },
     "metadata": {},
     "output_type": "display_data"
    }
   ],
   "source": [
    "## This graph shows the change in unemployment rates over time. Just run this cell.\n",
    "plt.plot(measurement_dates[1:], np.diff(unemployment))\n",
    "\n",
    "plt.xlabel(\"Years\")\n",
    "plt.ylabel(\"Unemployment Rate Diff\")\n",
    "\n",
    "plt.show()"
   ]
  },
  {
   "cell_type": "markdown",
   "metadata": {},
   "source": [
    "**Question 3.2:** What was the biggest increase in the unemployment rate from one quarter to the next?  Calculate the answer using Python code, *not* by looking at the data yourself.  \n",
    "\n",
    "*Hint:* An increase means that if we are finding the difference between elements 1 and 2 of an array, element 2 is greater than element 1. Therefore, the difference will be positive.\n",
    "\n",
    "*Hint 2:* `np.diff(some_array)` gives an array with the differences between consecutive entries of `some_array`."
   ]
  },
  {
   "cell_type": "code",
   "execution_count": 36,
   "metadata": {},
   "outputs": [
    {
     "data": {
      "text/plain": [
       "9.333077491000001"
      ]
     },
     "execution_count": 36,
     "metadata": {},
     "output_type": "execute_result"
    }
   ],
   "source": [
    "biggest_increase = np.max(np.diff(unemployment))\n",
    "biggest_increase"
   ]
  },
  {
   "cell_type": "markdown",
   "metadata": {},
   "source": [
    "**Question 3.3:** In what year and quarter did that **increase** happen?\n",
    "\n",
    "*Hint:* Use the function, `np.argmax` again!\n",
    "\n",
    "*Hint 2:* Note that `nd.diff(some_array)` is one element shorter than `some_array`, as we cannot subtract anything from the first element of `some_array`.  Make sure you compensate for that!"
   ]
  },
  {
   "cell_type": "code",
   "execution_count": 37,
   "metadata": {
    "for_assignment_type": "student"
   },
   "outputs": [
    {
     "name": "stdout",
     "output_type": "stream",
     "text": [
      "The maximum increase occurred in the 2020.25 quater.\n"
     ]
    }
   ],
   "source": [
    "max_increase_quarter = measurement_dates[np.argmax(np.diff(unemployment))+1]\n",
    "print(f\"The maximum increase occurred in the {max_increase_quarter} quater.\")"
   ]
  },
  {
   "cell_type": "markdown",
   "metadata": {},
   "source": [
    "**Question 3.4:** What was the biggest *decrease* in unemployment, and when did it happen (year and quarter)?\n",
    "\n",
    "*Hint:* What does `np.argmin` do? Check the numpy documentation [here](https://numpy.org/doc/stable/reference/generated/numpy.argmin.html). "
   ]
  },
  {
   "cell_type": "code",
   "execution_count": 38,
   "metadata": {
    "for_assignment_type": "student"
   },
   "outputs": [
    {
     "name": "stdout",
     "output_type": "stream",
     "text": [
      "The maximum increase occurred in the 2014.0 quater.\n"
     ]
    }
   ],
   "source": [
    "max_decrease_quarter = measurement_dates[np.argmin(np.diff(unemployment))+1]\n",
    "print(f\"The maximum increase occurred in the {max_decrease_quarter} quater.\")"
   ]
  },
  {
   "cell_type": "markdown",
   "metadata": {},
   "source": [
    "## 4. Data Cleaning\n",
    "\n",
    "One potential issue that you may run into is incorrect data types in your dataset. For example, strings may be used instead of floats/integers or that values are in the wrong format. Before we conduct any analysis, we need to make sure our data is in a workable format before we continue. For this exercise, we've created some fake data for you to play with."
   ]
  },
  {
   "cell_type": "code",
   "execution_count": 39,
   "metadata": {},
   "outputs": [
    {
     "data": {
      "text/html": [
       "<div>\n",
       "<style scoped>\n",
       "    .dataframe tbody tr th:only-of-type {\n",
       "        vertical-align: middle;\n",
       "    }\n",
       "\n",
       "    .dataframe tbody tr th {\n",
       "        vertical-align: top;\n",
       "    }\n",
       "\n",
       "    .dataframe thead th {\n",
       "        text-align: right;\n",
       "    }\n",
       "</style>\n",
       "<table border=\"1\" class=\"dataframe\">\n",
       "  <thead>\n",
       "    <tr style=\"text-align: right;\">\n",
       "      <th></th>\n",
       "      <th>Temperatures</th>\n",
       "    </tr>\n",
       "  </thead>\n",
       "  <tbody>\n",
       "    <tr>\n",
       "      <th>0</th>\n",
       "      <td>1F</td>\n",
       "    </tr>\n",
       "    <tr>\n",
       "      <th>1</th>\n",
       "      <td>1.2F</td>\n",
       "    </tr>\n",
       "    <tr>\n",
       "      <th>2</th>\n",
       "      <td>3.6F</td>\n",
       "    </tr>\n",
       "    <tr>\n",
       "      <th>3</th>\n",
       "      <td>2F</td>\n",
       "    </tr>\n",
       "    <tr>\n",
       "      <th>4</th>\n",
       "      <td>5.8F</td>\n",
       "    </tr>\n",
       "    <tr>\n",
       "      <th>5</th>\n",
       "      <td>6.2F</td>\n",
       "    </tr>\n",
       "    <tr>\n",
       "      <th>6</th>\n",
       "      <td>9F</td>\n",
       "    </tr>\n",
       "    <tr>\n",
       "      <th>7</th>\n",
       "      <td>13F</td>\n",
       "    </tr>\n",
       "    <tr>\n",
       "      <th>8</th>\n",
       "      <td>42F</td>\n",
       "    </tr>\n",
       "    <tr>\n",
       "      <th>9</th>\n",
       "      <td>1.7F</td>\n",
       "    </tr>\n",
       "  </tbody>\n",
       "</table>\n",
       "</div>"
      ],
      "text/plain": [
       "  Temperatures\n",
       "0           1F\n",
       "1         1.2F\n",
       "2         3.6F\n",
       "3           2F\n",
       "4         5.8F\n",
       "5         6.2F\n",
       "6           9F\n",
       "7          13F\n",
       "8          42F\n",
       "9         1.7F"
      ]
     },
     "execution_count": 39,
     "metadata": {},
     "output_type": "execute_result"
    }
   ],
   "source": [
    "## Do NOT change this cell. Just run it.\n",
    "unclean_temps = pd.read_csv(\"fake_temps.csv\")\n",
    "unclean_temps"
   ]
  },
  {
   "cell_type": "markdown",
   "metadata": {},
   "source": [
    "We would like the temperatures to be *numerical* data (*floats*, in particular), so that we can properly manipulate it.  Let's check what is the type (run the cell below without changing it):"
   ]
  },
  {
   "cell_type": "code",
   "execution_count": 40,
   "metadata": {},
   "outputs": [
    {
     "data": {
      "text/plain": [
       "Temperatures    object\n",
       "dtype: object"
      ]
     },
     "execution_count": 40,
     "metadata": {},
     "output_type": "execute_result"
    }
   ],
   "source": [
    "unclean_temps.dtypes"
   ]
  },
  {
   "cell_type": "markdown",
   "metadata": {},
   "source": [
    "We see we have an *object* type (which is, basically, a string!), not a float.  So, we need to convert it.  We can try `astype`, which is the tool for convertions like this:"
   ]
  },
  {
   "cell_type": "code",
   "execution_count": 41,
   "metadata": {},
   "outputs": [
    {
     "ename": "ValueError",
     "evalue": "could not convert string to float: '1F'",
     "output_type": "error",
     "traceback": [
      "\u001b[0;31m---------------------------------------------------------------------------\u001b[0m",
      "\u001b[0;31mValueError\u001b[0m                                Traceback (most recent call last)",
      "Cell \u001b[0;32mIn[41], line 1\u001b[0m\n\u001b[0;32m----> 1\u001b[0m unclean_temps\u001b[38;5;241m.\u001b[39mastype({\u001b[38;5;124m\"\u001b[39m\u001b[38;5;124mTemperatures\u001b[39m\u001b[38;5;124m\"\u001b[39m: \u001b[38;5;124m\"\u001b[39m\u001b[38;5;124mfloat32\u001b[39m\u001b[38;5;124m\"\u001b[39m})\n",
      "File \u001b[0;32m~/anaconda3/lib/python3.11/site-packages/pandas/core/generic.py:6226\u001b[0m, in \u001b[0;36mNDFrame.astype\u001b[0;34m(self, dtype, copy, errors)\u001b[0m\n\u001b[1;32m   6224\u001b[0m             res_col \u001b[38;5;241m=\u001b[39m col\u001b[38;5;241m.\u001b[39mcopy() \u001b[38;5;28;01mif\u001b[39;00m copy \u001b[38;5;28;01melse\u001b[39;00m col\n\u001b[1;32m   6225\u001b[0m         \u001b[38;5;28;01melse\u001b[39;00m:\n\u001b[0;32m-> 6226\u001b[0m             res_col \u001b[38;5;241m=\u001b[39m col\u001b[38;5;241m.\u001b[39mastype(dtype\u001b[38;5;241m=\u001b[39mcdt, copy\u001b[38;5;241m=\u001b[39mcopy, errors\u001b[38;5;241m=\u001b[39merrors)\n\u001b[1;32m   6227\u001b[0m         results\u001b[38;5;241m.\u001b[39mappend(res_col)\n\u001b[1;32m   6229\u001b[0m \u001b[38;5;28;01melif\u001b[39;00m is_extension_array_dtype(dtype) \u001b[38;5;129;01mand\u001b[39;00m \u001b[38;5;28mself\u001b[39m\u001b[38;5;241m.\u001b[39mndim \u001b[38;5;241m>\u001b[39m \u001b[38;5;241m1\u001b[39m:\n\u001b[1;32m   6230\u001b[0m     \u001b[38;5;66;03m# GH 18099/22869: columnwise conversion to extension dtype\u001b[39;00m\n\u001b[1;32m   6231\u001b[0m     \u001b[38;5;66;03m# GH 24704: use iloc to handle duplicate column names\u001b[39;00m\n\u001b[1;32m   6232\u001b[0m     \u001b[38;5;66;03m# TODO(EA2D): special case not needed with 2D EAs\u001b[39;00m\n",
      "File \u001b[0;32m~/anaconda3/lib/python3.11/site-packages/pandas/core/generic.py:6240\u001b[0m, in \u001b[0;36mNDFrame.astype\u001b[0;34m(self, dtype, copy, errors)\u001b[0m\n\u001b[1;32m   6233\u001b[0m     results \u001b[38;5;241m=\u001b[39m [\n\u001b[1;32m   6234\u001b[0m         \u001b[38;5;28mself\u001b[39m\u001b[38;5;241m.\u001b[39miloc[:, i]\u001b[38;5;241m.\u001b[39mastype(dtype, copy\u001b[38;5;241m=\u001b[39mcopy)\n\u001b[1;32m   6235\u001b[0m         \u001b[38;5;28;01mfor\u001b[39;00m i \u001b[38;5;129;01min\u001b[39;00m \u001b[38;5;28mrange\u001b[39m(\u001b[38;5;28mlen\u001b[39m(\u001b[38;5;28mself\u001b[39m\u001b[38;5;241m.\u001b[39mcolumns))\n\u001b[1;32m   6236\u001b[0m     ]\n\u001b[1;32m   6238\u001b[0m \u001b[38;5;28;01melse\u001b[39;00m:\n\u001b[1;32m   6239\u001b[0m     \u001b[38;5;66;03m# else, only a single dtype is given\u001b[39;00m\n\u001b[0;32m-> 6240\u001b[0m     new_data \u001b[38;5;241m=\u001b[39m \u001b[38;5;28mself\u001b[39m\u001b[38;5;241m.\u001b[39m_mgr\u001b[38;5;241m.\u001b[39mastype(dtype\u001b[38;5;241m=\u001b[39mdtype, copy\u001b[38;5;241m=\u001b[39mcopy, errors\u001b[38;5;241m=\u001b[39merrors)\n\u001b[1;32m   6241\u001b[0m     \u001b[38;5;28;01mreturn\u001b[39;00m \u001b[38;5;28mself\u001b[39m\u001b[38;5;241m.\u001b[39m_constructor(new_data)\u001b[38;5;241m.\u001b[39m__finalize__(\u001b[38;5;28mself\u001b[39m, method\u001b[38;5;241m=\u001b[39m\u001b[38;5;124m\"\u001b[39m\u001b[38;5;124mastype\u001b[39m\u001b[38;5;124m\"\u001b[39m)\n\u001b[1;32m   6243\u001b[0m \u001b[38;5;66;03m# GH 33113: handle empty frame or series\u001b[39;00m\n",
      "File \u001b[0;32m~/anaconda3/lib/python3.11/site-packages/pandas/core/internals/managers.py:448\u001b[0m, in \u001b[0;36mBaseBlockManager.astype\u001b[0;34m(self, dtype, copy, errors)\u001b[0m\n\u001b[1;32m    447\u001b[0m \u001b[38;5;28;01mdef\u001b[39;00m \u001b[38;5;21mastype\u001b[39m(\u001b[38;5;28mself\u001b[39m: T, dtype, copy: \u001b[38;5;28mbool\u001b[39m \u001b[38;5;241m=\u001b[39m \u001b[38;5;28;01mFalse\u001b[39;00m, errors: \u001b[38;5;28mstr\u001b[39m \u001b[38;5;241m=\u001b[39m \u001b[38;5;124m\"\u001b[39m\u001b[38;5;124mraise\u001b[39m\u001b[38;5;124m\"\u001b[39m) \u001b[38;5;241m-\u001b[39m\u001b[38;5;241m>\u001b[39m T:\n\u001b[0;32m--> 448\u001b[0m     \u001b[38;5;28;01mreturn\u001b[39;00m \u001b[38;5;28mself\u001b[39m\u001b[38;5;241m.\u001b[39mapply(\u001b[38;5;124m\"\u001b[39m\u001b[38;5;124mastype\u001b[39m\u001b[38;5;124m\"\u001b[39m, dtype\u001b[38;5;241m=\u001b[39mdtype, copy\u001b[38;5;241m=\u001b[39mcopy, errors\u001b[38;5;241m=\u001b[39merrors)\n",
      "File \u001b[0;32m~/anaconda3/lib/python3.11/site-packages/pandas/core/internals/managers.py:352\u001b[0m, in \u001b[0;36mBaseBlockManager.apply\u001b[0;34m(self, f, align_keys, ignore_failures, **kwargs)\u001b[0m\n\u001b[1;32m    350\u001b[0m         applied \u001b[38;5;241m=\u001b[39m b\u001b[38;5;241m.\u001b[39mapply(f, \u001b[38;5;241m*\u001b[39m\u001b[38;5;241m*\u001b[39mkwargs)\n\u001b[1;32m    351\u001b[0m     \u001b[38;5;28;01melse\u001b[39;00m:\n\u001b[0;32m--> 352\u001b[0m         applied \u001b[38;5;241m=\u001b[39m \u001b[38;5;28mgetattr\u001b[39m(b, f)(\u001b[38;5;241m*\u001b[39m\u001b[38;5;241m*\u001b[39mkwargs)\n\u001b[1;32m    353\u001b[0m \u001b[38;5;28;01mexcept\u001b[39;00m (\u001b[38;5;167;01mTypeError\u001b[39;00m, \u001b[38;5;167;01mNotImplementedError\u001b[39;00m):\n\u001b[1;32m    354\u001b[0m     \u001b[38;5;28;01mif\u001b[39;00m \u001b[38;5;129;01mnot\u001b[39;00m ignore_failures:\n",
      "File \u001b[0;32m~/anaconda3/lib/python3.11/site-packages/pandas/core/internals/blocks.py:526\u001b[0m, in \u001b[0;36mBlock.astype\u001b[0;34m(self, dtype, copy, errors)\u001b[0m\n\u001b[1;32m    508\u001b[0m \u001b[38;5;250m\u001b[39m\u001b[38;5;124;03m\"\"\"\u001b[39;00m\n\u001b[1;32m    509\u001b[0m \u001b[38;5;124;03mCoerce to the new dtype.\u001b[39;00m\n\u001b[1;32m    510\u001b[0m \n\u001b[0;32m   (...)\u001b[0m\n\u001b[1;32m    522\u001b[0m \u001b[38;5;124;03mBlock\u001b[39;00m\n\u001b[1;32m    523\u001b[0m \u001b[38;5;124;03m\"\"\"\u001b[39;00m\n\u001b[1;32m    524\u001b[0m values \u001b[38;5;241m=\u001b[39m \u001b[38;5;28mself\u001b[39m\u001b[38;5;241m.\u001b[39mvalues\n\u001b[0;32m--> 526\u001b[0m new_values \u001b[38;5;241m=\u001b[39m astype_array_safe(values, dtype, copy\u001b[38;5;241m=\u001b[39mcopy, errors\u001b[38;5;241m=\u001b[39merrors)\n\u001b[1;32m    528\u001b[0m new_values \u001b[38;5;241m=\u001b[39m maybe_coerce_values(new_values)\n\u001b[1;32m    529\u001b[0m newb \u001b[38;5;241m=\u001b[39m \u001b[38;5;28mself\u001b[39m\u001b[38;5;241m.\u001b[39mmake_block(new_values)\n",
      "File \u001b[0;32m~/anaconda3/lib/python3.11/site-packages/pandas/core/dtypes/astype.py:299\u001b[0m, in \u001b[0;36mastype_array_safe\u001b[0;34m(values, dtype, copy, errors)\u001b[0m\n\u001b[1;32m    296\u001b[0m     \u001b[38;5;28;01mreturn\u001b[39;00m values\u001b[38;5;241m.\u001b[39mcopy()\n\u001b[1;32m    298\u001b[0m \u001b[38;5;28;01mtry\u001b[39;00m:\n\u001b[0;32m--> 299\u001b[0m     new_values \u001b[38;5;241m=\u001b[39m astype_array(values, dtype, copy\u001b[38;5;241m=\u001b[39mcopy)\n\u001b[1;32m    300\u001b[0m \u001b[38;5;28;01mexcept\u001b[39;00m (\u001b[38;5;167;01mValueError\u001b[39;00m, \u001b[38;5;167;01mTypeError\u001b[39;00m):\n\u001b[1;32m    301\u001b[0m     \u001b[38;5;66;03m# e.g. astype_nansafe can fail on object-dtype of strings\u001b[39;00m\n\u001b[1;32m    302\u001b[0m     \u001b[38;5;66;03m#  trying to convert to float\u001b[39;00m\n\u001b[1;32m    303\u001b[0m     \u001b[38;5;28;01mif\u001b[39;00m errors \u001b[38;5;241m==\u001b[39m \u001b[38;5;124m\"\u001b[39m\u001b[38;5;124mignore\u001b[39m\u001b[38;5;124m\"\u001b[39m:\n",
      "File \u001b[0;32m~/anaconda3/lib/python3.11/site-packages/pandas/core/dtypes/astype.py:230\u001b[0m, in \u001b[0;36mastype_array\u001b[0;34m(values, dtype, copy)\u001b[0m\n\u001b[1;32m    227\u001b[0m     values \u001b[38;5;241m=\u001b[39m values\u001b[38;5;241m.\u001b[39mastype(dtype, copy\u001b[38;5;241m=\u001b[39mcopy)\n\u001b[1;32m    229\u001b[0m \u001b[38;5;28;01melse\u001b[39;00m:\n\u001b[0;32m--> 230\u001b[0m     values \u001b[38;5;241m=\u001b[39m astype_nansafe(values, dtype, copy\u001b[38;5;241m=\u001b[39mcopy)\n\u001b[1;32m    232\u001b[0m \u001b[38;5;66;03m# in pandas we don't store numpy str dtypes, so convert to object\u001b[39;00m\n\u001b[1;32m    233\u001b[0m \u001b[38;5;28;01mif\u001b[39;00m \u001b[38;5;28misinstance\u001b[39m(dtype, np\u001b[38;5;241m.\u001b[39mdtype) \u001b[38;5;129;01mand\u001b[39;00m \u001b[38;5;28missubclass\u001b[39m(values\u001b[38;5;241m.\u001b[39mdtype\u001b[38;5;241m.\u001b[39mtype, \u001b[38;5;28mstr\u001b[39m):\n",
      "File \u001b[0;32m~/anaconda3/lib/python3.11/site-packages/pandas/core/dtypes/astype.py:170\u001b[0m, in \u001b[0;36mastype_nansafe\u001b[0;34m(arr, dtype, copy, skipna)\u001b[0m\n\u001b[1;32m    166\u001b[0m     \u001b[38;5;28;01mraise\u001b[39;00m \u001b[38;5;167;01mValueError\u001b[39;00m(msg)\n\u001b[1;32m    168\u001b[0m \u001b[38;5;28;01mif\u001b[39;00m copy \u001b[38;5;129;01mor\u001b[39;00m is_object_dtype(arr\u001b[38;5;241m.\u001b[39mdtype) \u001b[38;5;129;01mor\u001b[39;00m is_object_dtype(dtype):\n\u001b[1;32m    169\u001b[0m     \u001b[38;5;66;03m# Explicit copy, or required since NumPy can't view from / to object.\u001b[39;00m\n\u001b[0;32m--> 170\u001b[0m     \u001b[38;5;28;01mreturn\u001b[39;00m arr\u001b[38;5;241m.\u001b[39mastype(dtype, copy\u001b[38;5;241m=\u001b[39m\u001b[38;5;28;01mTrue\u001b[39;00m)\n\u001b[1;32m    172\u001b[0m \u001b[38;5;28;01mreturn\u001b[39;00m arr\u001b[38;5;241m.\u001b[39mastype(dtype, copy\u001b[38;5;241m=\u001b[39mcopy)\n",
      "\u001b[0;31mValueError\u001b[0m: could not convert string to float: '1F'"
     ]
    }
   ],
   "source": [
    "unclean_temps.astype({\"Temperatures\": \"float32\"})"
   ]
  },
  {
   "cell_type": "markdown",
   "metadata": {},
   "source": [
    "We get an error!  That's due to the `F`'s we have by the numbers.  So, we first need to remove them."
   ]
  },
  {
   "cell_type": "markdown",
   "metadata": {},
   "source": [
    "For this, we can use the method [str.replace](https://pandas.pydata.org/docs/reference/api/pandas.Series.str.replace.html) from Pandas, which can replace strings in columns (i.e., *series*)"
   ]
  },
  {
   "cell_type": "markdown",
   "metadata": {},
   "source": [
    "For example:"
   ]
  },
  {
   "cell_type": "code",
   "execution_count": 42,
   "metadata": {},
   "outputs": [
    {
     "data": {
      "text/html": [
       "<div>\n",
       "<style scoped>\n",
       "    .dataframe tbody tr th:only-of-type {\n",
       "        vertical-align: middle;\n",
       "    }\n",
       "\n",
       "    .dataframe tbody tr th {\n",
       "        vertical-align: top;\n",
       "    }\n",
       "\n",
       "    .dataframe thead th {\n",
       "        text-align: right;\n",
       "    }\n",
       "</style>\n",
       "<table border=\"1\" class=\"dataframe\">\n",
       "  <thead>\n",
       "    <tr style=\"text-align: right;\">\n",
       "      <th></th>\n",
       "      <th>col1</th>\n",
       "      <th>col2</th>\n",
       "    </tr>\n",
       "  </thead>\n",
       "  <tbody>\n",
       "    <tr>\n",
       "      <th>0</th>\n",
       "      <td>CAR</td>\n",
       "      <td>ARE</td>\n",
       "    </tr>\n",
       "    <tr>\n",
       "      <th>1</th>\n",
       "      <td>BAR</td>\n",
       "      <td>FAR</td>\n",
       "    </tr>\n",
       "    <tr>\n",
       "      <th>2</th>\n",
       "      <td>ONE</td>\n",
       "      <td>ONE</td>\n",
       "    </tr>\n",
       "  </tbody>\n",
       "</table>\n",
       "</div>"
      ],
      "text/plain": [
       "  col1 col2\n",
       "0  CAR  ARE\n",
       "1  BAR  FAR\n",
       "2  ONE  ONE"
      ]
     },
     "execution_count": 42,
     "metadata": {},
     "output_type": "execute_result"
    }
   ],
   "source": [
    "df = pd.DataFrame({\"col1\": [\"CAR\", \"BAR\", \"ONE\"], \"col2\": [\"ARE\", \"FAR\", \"ONE\"]})\n",
    "df"
   ]
  },
  {
   "cell_type": "code",
   "execution_count": 43,
   "metadata": {},
   "outputs": [
    {
     "data": {
      "text/plain": [
       "0    CXR\n",
       "1    BXR\n",
       "2    ONE\n",
       "Name: col1, dtype: object"
      ]
     },
     "execution_count": 43,
     "metadata": {},
     "output_type": "execute_result"
    }
   ],
   "source": [
    "df[\"col1\"].str.replace(\"A\", \"X\")"
   ]
  },
  {
   "cell_type": "markdown",
   "metadata": {},
   "source": [
    "We can change directly on `df` using `assign`:"
   ]
  },
  {
   "cell_type": "code",
   "execution_count": 44,
   "metadata": {},
   "outputs": [
    {
     "data": {
      "text/html": [
       "<div>\n",
       "<style scoped>\n",
       "    .dataframe tbody tr th:only-of-type {\n",
       "        vertical-align: middle;\n",
       "    }\n",
       "\n",
       "    .dataframe tbody tr th {\n",
       "        vertical-align: top;\n",
       "    }\n",
       "\n",
       "    .dataframe thead th {\n",
       "        text-align: right;\n",
       "    }\n",
       "</style>\n",
       "<table border=\"1\" class=\"dataframe\">\n",
       "  <thead>\n",
       "    <tr style=\"text-align: right;\">\n",
       "      <th></th>\n",
       "      <th>col1</th>\n",
       "      <th>col2</th>\n",
       "    </tr>\n",
       "  </thead>\n",
       "  <tbody>\n",
       "    <tr>\n",
       "      <th>0</th>\n",
       "      <td>CXR</td>\n",
       "      <td>ARE</td>\n",
       "    </tr>\n",
       "    <tr>\n",
       "      <th>1</th>\n",
       "      <td>BXR</td>\n",
       "      <td>FAR</td>\n",
       "    </tr>\n",
       "    <tr>\n",
       "      <th>2</th>\n",
       "      <td>ONE</td>\n",
       "      <td>ONE</td>\n",
       "    </tr>\n",
       "  </tbody>\n",
       "</table>\n",
       "</div>"
      ],
      "text/plain": [
       "  col1 col2\n",
       "0  CXR  ARE\n",
       "1  BXR  FAR\n",
       "2  ONE  ONE"
      ]
     },
     "execution_count": 44,
     "metadata": {},
     "output_type": "execute_result"
    }
   ],
   "source": [
    "df.assign(col1=df[\"col1\"].str.replace(\"A\", \"X\"))"
   ]
  },
  {
   "cell_type": "markdown",
   "metadata": {},
   "source": [
    "(Note that this gives a *new* data frame, and does *not* replace the original `df`!)"
   ]
  },
  {
   "cell_type": "markdown",
   "metadata": {},
   "source": [
    "Now it is your turn.  Remove the `F`s in `unclean_temps` by simply replacing `F` by an empty string on the temperatures column.  Save it in the `unclean_temps_no_F` variable."
   ]
  },
  {
   "cell_type": "markdown",
   "metadata": {},
   "source": [
    "---\n",
    "\n",
    "**Question 4.1:** Remove the `F`'s from the temperatures column."
   ]
  },
  {
   "cell_type": "code",
   "execution_count": 45,
   "metadata": {},
   "outputs": [
    {
     "data": {
      "text/html": [
       "<div>\n",
       "<style scoped>\n",
       "    .dataframe tbody tr th:only-of-type {\n",
       "        vertical-align: middle;\n",
       "    }\n",
       "\n",
       "    .dataframe tbody tr th {\n",
       "        vertical-align: top;\n",
       "    }\n",
       "\n",
       "    .dataframe thead th {\n",
       "        text-align: right;\n",
       "    }\n",
       "</style>\n",
       "<table border=\"1\" class=\"dataframe\">\n",
       "  <thead>\n",
       "    <tr style=\"text-align: right;\">\n",
       "      <th></th>\n",
       "      <th>Temperatures</th>\n",
       "    </tr>\n",
       "  </thead>\n",
       "  <tbody>\n",
       "    <tr>\n",
       "      <th>0</th>\n",
       "      <td>1</td>\n",
       "    </tr>\n",
       "    <tr>\n",
       "      <th>1</th>\n",
       "      <td>1.2</td>\n",
       "    </tr>\n",
       "    <tr>\n",
       "      <th>2</th>\n",
       "      <td>3.6</td>\n",
       "    </tr>\n",
       "    <tr>\n",
       "      <th>3</th>\n",
       "      <td>2</td>\n",
       "    </tr>\n",
       "    <tr>\n",
       "      <th>4</th>\n",
       "      <td>5.8</td>\n",
       "    </tr>\n",
       "    <tr>\n",
       "      <th>5</th>\n",
       "      <td>6.2</td>\n",
       "    </tr>\n",
       "    <tr>\n",
       "      <th>6</th>\n",
       "      <td>9</td>\n",
       "    </tr>\n",
       "    <tr>\n",
       "      <th>7</th>\n",
       "      <td>13</td>\n",
       "    </tr>\n",
       "    <tr>\n",
       "      <th>8</th>\n",
       "      <td>42</td>\n",
       "    </tr>\n",
       "    <tr>\n",
       "      <th>9</th>\n",
       "      <td>1.7</td>\n",
       "    </tr>\n",
       "  </tbody>\n",
       "</table>\n",
       "</div>"
      ],
      "text/plain": [
       "  Temperatures\n",
       "0            1\n",
       "1          1.2\n",
       "2          3.6\n",
       "3            2\n",
       "4          5.8\n",
       "5          6.2\n",
       "6            9\n",
       "7           13\n",
       "8           42\n",
       "9          1.7"
      ]
     },
     "execution_count": 45,
     "metadata": {},
     "output_type": "execute_result"
    }
   ],
   "source": [
    "unclean_temps_no_F = unclean_temps.assign(\n",
    "    Temperatures= unclean_temps[\"Temperatures\"].str.replace(\"F\", \"\")\n",
    ")\n",
    "unclean_temps_no_F"
   ]
  },
  {
   "cell_type": "markdown",
   "metadata": {},
   "source": [
    "**Question 4.2:** Create a data frame `clean_temps` that has the same temperatues as in `unclean_temps` but with the `Temperatures` column as float.\n",
    "\n",
    "*Hint:* Use `unclean_temps_no_F` and the method `astype`."
   ]
  },
  {
   "cell_type": "code",
   "execution_count": 46,
   "metadata": {},
   "outputs": [
    {
     "data": {
      "text/html": [
       "<div>\n",
       "<style scoped>\n",
       "    .dataframe tbody tr th:only-of-type {\n",
       "        vertical-align: middle;\n",
       "    }\n",
       "\n",
       "    .dataframe tbody tr th {\n",
       "        vertical-align: top;\n",
       "    }\n",
       "\n",
       "    .dataframe thead th {\n",
       "        text-align: right;\n",
       "    }\n",
       "</style>\n",
       "<table border=\"1\" class=\"dataframe\">\n",
       "  <thead>\n",
       "    <tr style=\"text-align: right;\">\n",
       "      <th></th>\n",
       "      <th>Temperatures</th>\n",
       "    </tr>\n",
       "  </thead>\n",
       "  <tbody>\n",
       "    <tr>\n",
       "      <th>0</th>\n",
       "      <td>1.0</td>\n",
       "    </tr>\n",
       "    <tr>\n",
       "      <th>1</th>\n",
       "      <td>1.2</td>\n",
       "    </tr>\n",
       "    <tr>\n",
       "      <th>2</th>\n",
       "      <td>3.6</td>\n",
       "    </tr>\n",
       "    <tr>\n",
       "      <th>3</th>\n",
       "      <td>2.0</td>\n",
       "    </tr>\n",
       "    <tr>\n",
       "      <th>4</th>\n",
       "      <td>5.8</td>\n",
       "    </tr>\n",
       "    <tr>\n",
       "      <th>5</th>\n",
       "      <td>6.2</td>\n",
       "    </tr>\n",
       "    <tr>\n",
       "      <th>6</th>\n",
       "      <td>9.0</td>\n",
       "    </tr>\n",
       "    <tr>\n",
       "      <th>7</th>\n",
       "      <td>13.0</td>\n",
       "    </tr>\n",
       "    <tr>\n",
       "      <th>8</th>\n",
       "      <td>42.0</td>\n",
       "    </tr>\n",
       "    <tr>\n",
       "      <th>9</th>\n",
       "      <td>1.7</td>\n",
       "    </tr>\n",
       "  </tbody>\n",
       "</table>\n",
       "</div>"
      ],
      "text/plain": [
       "   Temperatures\n",
       "0           1.0\n",
       "1           1.2\n",
       "2           3.6\n",
       "3           2.0\n",
       "4           5.8\n",
       "5           6.2\n",
       "6           9.0\n",
       "7          13.0\n",
       "8          42.0\n",
       "9           1.7"
      ]
     },
     "execution_count": 46,
     "metadata": {},
     "output_type": "execute_result"
    }
   ],
   "source": [
    "clean_temps = unclean_temps_no_F.assign(Temperatures=unclean_temps_no_F[\"Temperatures\"].astype(\"float\"))\n",
    "clean_temps"
   ]
  },
  {
   "cell_type": "markdown",
   "metadata": {},
   "source": [
    "Check the types again:"
   ]
  },
  {
   "cell_type": "code",
   "execution_count": 47,
   "metadata": {},
   "outputs": [
    {
     "data": {
      "text/plain": [
       "Temperatures    float64\n",
       "dtype: object"
      ]
     },
     "execution_count": 47,
     "metadata": {},
     "output_type": "execute_result"
    }
   ],
   "source": [
    "clean_temps.dtypes"
   ]
  },
  {
   "cell_type": "markdown",
   "metadata": {},
   "source": [
    "Congratulations! You've done some introductory data cleaning, converting temperature strings to floats. "
   ]
  },
  {
   "cell_type": "markdown",
   "metadata": {},
   "source": [
    "## 5. Submission\n",
    "\n",
    " **To submit this lab**, please download your notebook and submit in Canvas under Lab 3 (under Assignments). To download, go to the toolbar at the top of this page, click File > Download. Then, rename the file adding your last name (see below), go to our class's Canvas page, and upload your file under \"Lab 3\".\n",
    " \n",
    "For easy identification, **please add your surname to the file**, as in: `lab_03_DS201_Name.ipynb`"
   ]
  }
 ],
 "metadata": {
  "kernelspec": {
   "display_name": "Python 3 (ipykernel)",
   "language": "python",
   "name": "python3"
  },
  "language_info": {
   "codemirror_mode": {
    "name": "ipython",
    "version": 3
   },
   "file_extension": ".py",
   "mimetype": "text/x-python",
   "name": "python",
   "nbconvert_exporter": "python",
   "pygments_lexer": "ipython3",
   "version": "3.11.4"
  }
 },
 "nbformat": 4,
 "nbformat_minor": 4
}
