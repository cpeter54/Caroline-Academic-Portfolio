{
 "cells": [
  {
   "cell_type": "markdown",
   "metadata": {},
   "source": [
    "# Lab 1: Expressions\n",
    "\n",
    "Welcome to *Data Science 201: Data Knowledge and Discovery*!  Each week you will complete a lab assignment like this one.  Each lab is made available on a Monday, and then you can join the Zoom lab on Friday of that we to work on it. It is due to be submitted via Canvas on the following Monday as a Jupyter notebook (see end of this lab for submission instructions).  \n",
    "\n",
    "**Note:** If you complete the entire lab so that all tests pass and submit it by 11:59pm on Thursday, then you don't need to attend lab on Friday."
   ]
  },
  {
   "cell_type": "markdown",
   "metadata": {},
   "source": [
    "### Today's lab\n",
    "\n",
    "In today's lab, you'll learn how to:\n",
    "\n",
    "1. Navigate Jupyter notebooks (like this one);\n",
    "2. Write and evaluate some basic *expressions* in Python, the computer language of the course;\n",
    "3. Call *functions* to use code other people have written; and\n",
    "4. Break down Python code into smaller parts to understand it.\n",
    "\n",
    "This lab covers parts of [Chapter 3](http://www.inferentialthinking.com/chapters/03/programming-in-python.html) of the online textbook. You should read the book, but not right now. Instead, let's get started!"
   ]
  },
  {
   "cell_type": "markdown",
   "metadata": {},
   "source": [
    "## 1. Jupyter notebooks\n",
    "This webpage is called a Jupyter notebook. A notebook is a place to write programs and view their results."
   ]
  },
  {
   "cell_type": "markdown",
   "metadata": {},
   "source": [
    "### 1.1. Text cells\n",
    "\n",
    "---\n",
    "\n",
    "In a notebook, each rectangle containing text or code is called a *cell*.\n",
    "\n",
    "Text cells (like this one) can be edited by double-clicking on them. They're written in a simple format called [Markdown](http://daringfireball.net/projects/markdown/syntax) to add formatting and section headings.  You don't need to learn Markdown, but you might want to.\n",
    "\n",
    "After you edit a text cell, click the \"run cell\" button at the top that looks like ▶ to confirm any changes. (Try not to delete the instructions of the lab.)\n",
    "\n",
    "Alternatively, you can run a cell (and move the next one) by typing `Shift + Enter` or `Shift + Return` (i.e., press both keys simultaneously).\n",
    "\n",
    "---"
   ]
  },
  {
   "cell_type": "markdown",
   "metadata": {},
   "source": [
    "**Question 1.1.1:** The paragraph below is in its own text cell.  Try editing it so that your own name appears in it (instead of mine), and then click the \"run cell\" ▶ button (or press `Shift + Enter/Return`) to display the formatted text."
   ]
  },
  {
   "cell_type": "markdown",
   "metadata": {},
   "source": [
    "**Enter your name:** My name is Caroline Petersen"
   ]
  },
  {
   "cell_type": "markdown",
   "metadata": {},
   "source": [
    "### 1.2. Code cells\n",
    "\n",
    "---\n",
    "\n",
    "Other cells contain code in the Python 3 language. Running a code cell will execute all of the code it contains.\n",
    "\n",
    "To run the code in a code cell, first click on that cell to activate it.  It'll be highlighted with a little green or blue rectangle.  Next, either press ▶ or again press `Shit + Enter`.\n",
    "\n",
    "Try running this cell:"
   ]
  },
  {
   "cell_type": "code",
   "execution_count": null,
   "metadata": {},
   "outputs": [
    {
     "name": "stdout",
     "output_type": "stream",
     "text": [
      "Hello, World!\n"
     ]
    }
   ],
   "source": [
    "print(\"Hello, World!\")"
   ]
  },
  {
   "cell_type": "markdown",
   "metadata": {},
   "source": [
    "You can also have new lines using `\\n`.  For instance, run the cell below:"
   ]
  },
  {
   "cell_type": "code",
   "execution_count": 2,
   "metadata": {},
   "outputs": [
    {
     "name": "stdout",
     "output_type": "stream",
     "text": [
      "Hello, world!\n",
      "It's good to be alive!\n"
     ]
    }
   ],
   "source": [
    "print(\"Hello, world!\\nIt's good to be alive!\")"
   ]
  },
  {
   "cell_type": "markdown",
   "metadata": {},
   "source": [
    "As you can see, it makes two lines, with the `\\n` being replaced by the line break.  (Note that we don't have spaces around the `\\n`!)\n",
    "\n",
    "---"
   ]
  },
  {
   "cell_type": "markdown",
   "metadata": {},
   "source": [
    "**Question 1.2.1:** Use the empty cell below to print\n",
    "\n",
    "```\n",
    "Line 1\n",
    "Line 2\n",
    "   \n",
    "Line 4\n",
    "```\n",
    "\n",
    "(Note that there is no space before the beginning of each line.  Also, line 3 is blank!)  You have to make it with a *single print command*."
   ]
  },
  {
   "cell_type": "code",
   "execution_count": 6,
   "metadata": {},
   "outputs": [
    {
     "name": "stdout",
     "output_type": "stream",
     "text": [
      "Line 1\n",
      "Line 2\n",
      " \n",
      "Line 4\n"
     ]
    }
   ],
   "source": [
    "print(\"Line 1\\nLine 2\\n \\nLine 4\")"
   ]
  },
  {
   "cell_type": "markdown",
   "metadata": {},
   "source": [
    "---\n",
    "\n",
    "We can also use `\\t` for \"tabs\", which can be used to align the output.  For instance:"
   ]
  },
  {
   "cell_type": "code",
   "execution_count": 4,
   "metadata": {},
   "outputs": [
    {
     "name": "stdout",
     "output_type": "stream",
     "text": [
      "A\t1\n",
      "BB\t2\n",
      "CCC\t3\n"
     ]
    }
   ],
   "source": [
    "print(\"A\\t1\\nBB\\t2\\nCCC\\t3\")"
   ]
  },
  {
   "cell_type": "markdown",
   "metadata": {},
   "source": [
    "So, we separate columns with `\\t` and lines with `\\n`."
   ]
  },
  {
   "cell_type": "markdown",
   "metadata": {},
   "source": [
    "If we have that a column have different widths, we might need extra `\\t`'s  to align them.  For instance, if I try:"
   ]
  },
  {
   "cell_type": "code",
   "execution_count": 5,
   "metadata": {},
   "outputs": [
    {
     "name": "stdout",
     "output_type": "stream",
     "text": [
      "Name:\tJohn Doe\n",
      "Age:\t24\n",
      "Marriage Satus:\tSingle\n"
     ]
    }
   ],
   "source": [
    "print(\"Name:\\tJohn Doe\\nAge:\\t24\\nMarriage Satus:\\tSingle\")"
   ]
  },
  {
   "cell_type": "markdown",
   "metadata": {},
   "source": [
    "These were not aligned correctly.  So, we need extra `\\t`'s  after `Name` and `Age`:"
   ]
  },
  {
   "cell_type": "code",
   "execution_count": 6,
   "metadata": {},
   "outputs": [
    {
     "name": "stdout",
     "output_type": "stream",
     "text": [
      "Name:\t\tJohn Doe\n",
      "Age:\t\t24\n",
      "Marriage Satus:\tSingle\n"
     ]
    }
   ],
   "source": [
    "print(\"Name:\\t\\tJohn Doe\\nAge:\\t\\t24\\nMarriage Satus:\\tSingle\")"
   ]
  },
  {
   "cell_type": "markdown",
   "metadata": {},
   "source": [
    "---"
   ]
  },
  {
   "cell_type": "markdown",
   "metadata": {},
   "source": [
    "**Question 1.2.2:**  Replace the `...` below by an expression that uses tabs (i.e., `\\t`'s) and new lines (i.e., `\\n`'s) to print:\n",
    "\n",
    "```\n",
    "Dozen Eggs                    $5.00\n",
    "Milk (half gallon)            $2.00\n",
    "Flour Tortilla (10 ct)        $2.00\n",
    "Macaroni and Cheese (5 pack)  $5.50\n",
    "```\n",
    "\n",
    "(The spacing does not have to exactly match the above, but the products and prices have to be perfectly aligned.)  \n",
    "\n",
    "*Hint:* Start with one `\\t` separating the columns in each row, then add more to each row as needed."
   ]
  },
  {
   "cell_type": "code",
   "execution_count": 7,
   "metadata": {},
   "outputs": [
    {
     "name": "stdout",
     "output_type": "stream",
     "text": [
      "Acetaminophin\t500 mg\n",
      "Amoxicillin\t875 mg\n",
      "Lisinopril\t10 mg\n",
      "Sertraline\t50 mg\n"
     ]
    }
   ],
   "source": [
    "print(\"Acetaminophin\\t500 mg\\nAmoxicillin\\t875 mg\\nLisinopril\\t10 mg\\nSertraline\\t50 mg\")"
   ]
  },
  {
   "cell_type": "markdown",
   "metadata": {
    "tags": []
   },
   "source": [
    "### 1.3. Writing Jupyter notebooks\n",
    "You can use Jupyter notebooks for your own projects or documents.  When you make your own notebook, you'll need to create your own cells for text and code.\n",
    "\n",
    "There are three ways to add a new cell below the current one. (The current cell is the one with a vertical blue line on its left.)\n",
    "\n",
    "1. Click the + button in the menu bar.\n",
    "2. Type `b` (lowercase letter B).  (For this one, you cannot be editing the cell.  If you are, just click to the left of (and outside) the cell first.)\n",
    "3. Click on the icon with a rectangle and a plus sign below that appears on the top right of the selected cell.  (This might not appear if there is no space in the top right of the cell to display it.)\n",
    "\n",
    "The new cell will start out as a *code* cell, used to enter Python code instead of text.  You can change it to a *text (Markdown)* cell by clicking inside it so it's highlighted, clicking the drop-down box next to the restart (⟳) button in the menu bar, and choosing \"Markdown\".\n",
    "\n",
    "**Question 1.3.1:** Add a code cell below this one.  Write code in it that prints out:\n",
    "   \n",
    "    A whole new cell!\n",
    "\n",
    "Run your cell to verify that it works."
   ]
  },
  {
   "cell_type": "code",
   "execution_count": null,
   "metadata": {},
   "outputs": [
    {
     "name": "stdout",
     "output_type": "stream",
     "text": [
      "A whole new cell!\n"
     ]
    }
   ],
   "source": [
    "print(\"A whole new cell!\")"
   ]
  },
  {
   "cell_type": "markdown",
   "metadata": {
    "tags": []
   },
   "source": [
    "### 1.4. Errors\n",
    "\n",
    "---\n",
    "\n",
    "Python is a language, and like natural human languages, it has rules.  It differs from natural language in two important ways:\n",
    "1. The rules are *simple*.  You can learn most of them in a few weeks and gain reasonable proficiency with the language in a semester.\n",
    "2. The rules are *rigid*.  If you're proficient in a natural language, you can understand a non-proficient speaker, glossing over small mistakes.  A computer running Python code is not smart enough to do that.\n",
    "\n",
    "Whenever you write code, you'll make mistakes.  When you run a code cell that has errors, Python will sometimes produce error messages to tell you what you did wrong.\n",
    "\n",
    "Errors are okay; even experienced programmers make many errors.  When you make an error, you just have to find the source of the problem, fix it, and move on.\n",
    "\n",
    "---\n",
    "\n",
    "We have made an error in the next cell.  Run it and see what happens."
   ]
  },
  {
   "cell_type": "code",
   "execution_count": 7,
   "metadata": {},
   "outputs": [
    {
     "name": "stdout",
     "output_type": "stream",
     "text": [
      "This line is missing something.\n"
     ]
    }
   ],
   "source": [
    "print(\"This line is missing something.\")"
   ]
  },
  {
   "cell_type": "markdown",
   "metadata": {},
   "source": [
    "You should see an error message: a `SyntaxError` indicating an illegal structure.  \"`incomplete input`\" means that something is missing to make the code valid. "
   ]
  },
  {
   "cell_type": "markdown",
   "metadata": {},
   "source": [
    "**Question 1.4.1:** Try to fix the code above so that you can run the cell and see the intended message instead of an error."
   ]
  },
  {
   "cell_type": "markdown",
   "metadata": {},
   "source": [
    "## 2. Numbers\n",
    "\n",
    "Quantitative information arises everywhere in data science. In addition to representing commands to print out lines, expressions can represent numbers and methods of combining numbers. The expression `3.2500` evaluates to the number 3.25. (Run the cell and see.)"
   ]
  },
  {
   "cell_type": "code",
   "execution_count": null,
   "metadata": {},
   "outputs": [
    {
     "data": {
      "text/plain": [
       "3.25"
      ]
     },
     "execution_count": 1,
     "metadata": {},
     "output_type": "execute_result"
    }
   ],
   "source": [
    "3.2500"
   ]
  },
  {
   "cell_type": "markdown",
   "metadata": {},
   "source": [
    "Notice that we didn't have to `print`. When you run a notebook cell, if the last line has a value, then Jupyter helpfully prints out that value for you. However, it won't print out prior lines automatically."
   ]
  },
  {
   "cell_type": "code",
   "execution_count": 4,
   "metadata": {
    "scrolled": true
   },
   "outputs": [
    {
     "name": "stdout",
     "output_type": "stream",
     "text": [
      "2\n",
      "3\n"
     ]
    },
    {
     "data": {
      "text/plain": [
       "4"
      ]
     },
     "execution_count": 4,
     "metadata": {},
     "output_type": "execute_result"
    }
   ],
   "source": [
    "print(2)\n",
    "print(3)\n",
    "4"
   ]
  },
  {
   "cell_type": "markdown",
   "metadata": {},
   "source": [
    "Above, you should see that 4 is the value of the last expression, 2 is printed, but 3 is lost forever because it was neither printed nor last.\n",
    "\n",
    "You don't want to print everything all the time anyway.  But if you feel sorry for 3, change the cell above to print it."
   ]
  },
  {
   "cell_type": "markdown",
   "metadata": {},
   "source": [
    "### 2.1. Arithmetic\n",
    "The line in the next cell subtracts.  Its value is what you'd expect.  Run it."
   ]
  },
  {
   "cell_type": "code",
   "execution_count": 5,
   "metadata": {},
   "outputs": [
    {
     "data": {
      "text/plain": [
       "1.75"
      ]
     },
     "execution_count": 5,
     "metadata": {},
     "output_type": "execute_result"
    }
   ],
   "source": [
    "3.25 - 1.5"
   ]
  },
  {
   "cell_type": "markdown",
   "metadata": {},
   "source": [
    "Many basic arithmetic operations are built in to Python.  The textbook section on [Expressions](http://www.inferentialthinking.com/chapters/03/1/expressions.html) describes all the arithmetic operators used in the course.  The common operator that differs from typical math notation is `**`, which raises one number to the power of the other. So, `2**3` stands for $2^3$ and evaluates to $8$. \n",
    "\n",
    "The order of operations is what you learned in elementary school, and Python also has parentheses.  For example, compare the outputs of the cells below. Use parentheses for a happy new year!"
   ]
  },
  {
   "cell_type": "code",
   "execution_count": null,
   "metadata": {
    "tags": []
   },
   "outputs": [],
   "source": [
    "7 + 6 * 5 - 6 * 3**2 * 2**3 / 4 * 7"
   ]
  },
  {
   "cell_type": "code",
   "execution_count": null,
   "metadata": {},
   "outputs": [],
   "source": [
    "7 + (6 * 5 - (6 * 3))**2 * ((2**3) / 4 * 7)"
   ]
  },
  {
   "cell_type": "markdown",
   "metadata": {
    "tags": []
   },
   "source": [
    "In standard math notation, the first expression is\n",
    "\n",
    "$$7 + 6 \\times 5 - 6 \\times 3^2 \\times \\frac{2^3}{4} \\times 7,$$\n",
    "\n",
    "while the second expression is\n",
    "\n",
    "$$7 + (6 \\times 5 - (6 \\times 3))^2 \\times \\left(\\frac{\\left(2^3\\right)}{4} \\times 7\\right).$$\n",
    "\n",
    "---"
   ]
  },
  {
   "cell_type": "markdown",
   "metadata": {
    "tags": []
   },
   "source": [
    "**Question 2.1.1:** Write a Python expression in this next cell that's equal to \n",
    "$$\n",
    "5 \\times \\left(3 \\frac{10}{11}\\right) - 44 \\frac{1}{3} + 2^{.5 \\times 22} - \\frac{7}{33}.\n",
    "$$\n",
    "That's five times three and ten elevenths, minus forty four and a third, plus two to the power of half of twenty two, minus seven thirty thirds.  (So, by \"$3 \\frac{10}{11}$\" we mean $3+\\frac{10}{11}$, not $3 \\times \\frac{10}{11}$.)\n",
    "\n",
    "Replace the ellipses (`...`) with your expression.\n",
    "\n",
    "*Hint:* The correct output should be a familiar number."
   ]
  },
  {
   "cell_type": "code",
   "execution_count": 1,
   "metadata": {},
   "outputs": [
    {
     "data": {
      "text/plain": [
       "1.298074214633707e+33"
      ]
     },
     "execution_count": 1,
     "metadata": {},
     "output_type": "execute_result"
    }
   ],
   "source": [
    "5*(30/11)-(44/3)+(2**(5*22))-(7/33)"
   ]
  },
  {
   "cell_type": "markdown",
   "metadata": {},
   "source": [
    "## 3. Names\n",
    "\n",
    "In natural language, we have terminology that lets us quickly reference very complicated concepts.  We don't say, \"That's a large mammal with brown fur and sharp teeth!\"  Instead, we just say, \"Bear!\"\n",
    "\n",
    "Similarly, an effective strategy for writing code is to define names for data as we compute it, like a lawyer would define terms for complex ideas at the start of a legal document to simplify the rest of the writing.\n",
    "\n",
    "In Python, we do this with *assignment statements*. An assignment statement has a name on the left side of an `=` sign and an expression to be evaluated on the right."
   ]
  },
  {
   "cell_type": "code",
   "execution_count": null,
   "metadata": {},
   "outputs": [],
   "source": [
    "ten = 3 * 2 + 4"
   ]
  },
  {
   "cell_type": "markdown",
   "metadata": {},
   "source": [
    "When you run that cell, Python first evaluates the first line.  It computes the value of the expression `3 * 2 + 4`, which is the number 10.  Then it gives that value the name `ten`.  At that point, the code in the cell is done running.\n",
    "\n",
    "After you run that cell, the value 10 is bound to the name `ten`:"
   ]
  },
  {
   "cell_type": "code",
   "execution_count": null,
   "metadata": {},
   "outputs": [],
   "source": [
    "ten"
   ]
  },
  {
   "cell_type": "markdown",
   "metadata": {},
   "source": [
    "The statement `ten = 3 * 2 + 4` is not asserting that `ten` is already equal to `3 * 2 + 4`, as we might expect by analogy with math notation.  Rather, that line of code changes what `ten` means; it now refers to the value 10, whereas before it meant nothing at all.\n",
    "\n",
    "If the designers of Python had been ruthlessly pedantic, they might have made us write\n",
    "\n",
    "    define the name ten to hereafter have the value of 3 * 2 + 4 \n",
    "\n",
    "instead.  You will probably appreciate the brevity of \"`=`\"!  But keep in mind that this is the real meaning.\n",
    "\n",
    "---\n",
    "\n",
    "**Question 3.1:** Modify this code so that it returns teh number 22 rather than an error."
   ]
  },
  {
   "cell_type": "code",
   "execution_count": 2,
   "metadata": {
    "scrolled": true
   },
   "outputs": [
    {
     "name": "stdout",
     "output_type": "stream",
     "text": [
      "22\n"
     ]
    }
   ],
   "source": [
    "eleven = 11\n",
    "print(2*eleven)"
   ]
  },
  {
   "cell_type": "markdown",
   "metadata": {},
   "source": [
    "---\n",
    "\n",
    "A common pattern in Jupyter notebooks is to assign a value to a name and then immediately evaluate the name in the last line in the cell so that the value is displayed as output. "
   ]
  },
  {
   "cell_type": "code",
   "execution_count": null,
   "metadata": {},
   "outputs": [],
   "source": [
    "close_to_pi = 355/113\n",
    "close_to_pi"
   ]
  },
  {
   "cell_type": "markdown",
   "metadata": {},
   "source": [
    "Another common pattern is that a series of lines in a single cell will build up a complex computation in stages, naming the intermediate results."
   ]
  },
  {
   "cell_type": "code",
   "execution_count": null,
   "metadata": {},
   "outputs": [],
   "source": [
    "bimonthly_salary = 840\n",
    "monthly_salary = 2 * bimonthly_salary\n",
    "number_of_months_in_a_year = 12\n",
    "yearly_salary = number_of_months_in_a_year * monthly_salary\n",
    "yearly_salary"
   ]
  },
  {
   "cell_type": "markdown",
   "metadata": {},
   "source": [
    "Names in Python can have letters (upper- and lower-case letters are both okay and count as different letters), underscores, and numbers.  The first character can't be a number (otherwise a name might look like a number).  And names can't contain spaces, since spaces are used to separate pieces of code from each other.\n",
    "\n",
    "Other than those rules, what you name something doesn't matter *to Python*.  For example, this cell does the same thing as the above cell, except everything has a different name:"
   ]
  },
  {
   "cell_type": "code",
   "execution_count": null,
   "metadata": {},
   "outputs": [],
   "source": [
    "a = 840\n",
    "b = 2 * a\n",
    "c = 12\n",
    "d = c * b\n",
    "d"
   ]
  },
  {
   "cell_type": "markdown",
   "metadata": {},
   "source": [
    "**However**, names are very important for making your code *readable* to yourself and others.  The cell above is shorter, but it's totally useless without an explanation of what it does.\n",
    "\n",
    "According to a famous joke among computer scientists, naming things is one of the two hardest problems in computer science.  (The other two are cache invalidation and \"off-by-one\" errors.  And people say computer scientists have an odd sense of humor...)\n",
    "\n",
    "---"
   ]
  },
  {
   "cell_type": "markdown",
   "metadata": {},
   "source": [
    "**Question 3.2:** Assign the name `seconds_in_a_decade` to the number of seconds between the start of January 1, 2010 and the end of December 31, 2019.\n",
    "\n",
    "*Hint:* If you're stuck, the next section shows you how to get hints.  **Don't forget about leap years!**"
   ]
  },
  {
   "cell_type": "code",
   "execution_count": 3,
   "metadata": {},
   "outputs": [
    {
     "name": "stdout",
     "output_type": "stream",
     "text": [
      "315532800\n"
     ]
    },
    {
     "data": {
      "text/plain": [
       "315532800"
      ]
     },
     "execution_count": 3,
     "metadata": {},
     "output_type": "execute_result"
    }
   ],
   "source": [
    "# Change the next line so that it computes the number of\n",
    "# seconds in a decade and assigns that number the name\n",
    "# seconds_in_a_decade.\n",
    "seconds_in_a_day = 24*60*60\n",
    "seconds_in_leapyear = (seconds_in_a_day*366)*2\n",
    "seconds_in_normal_years = (seconds_in_a_day*365)*8\n",
    "seconds_in_a_decade = seconds_in_normal_years + seconds_in_leapyear\n",
    "print(seconds_in_a_decade)\n",
    "# We've put this line in this cell so that it will print\n",
    "# the value you've given to seconds_in_a_decade when you\n",
    "# run it.  You don't need to change this.\n",
    "seconds_in_a_decade"
   ]
  },
  {
   "cell_type": "markdown",
   "metadata": {},
   "source": [
    "### 3.1 f-Strings\n",
    "\n",
    "We can also use variable names when printing, using the so called [f-strings (or formatted strings)](https://docs.python.org/3/reference/lexical_analysis.html#f-strings).  For example:"
   ]
  },
  {
   "cell_type": "code",
   "execution_count": null,
   "metadata": {},
   "outputs": [],
   "source": [
    "current_age = 49\n",
    "print(f\"I am {current_age} years old.\")"
   ]
  },
  {
   "cell_type": "markdown",
   "metadata": {},
   "source": [
    "Note that instead of only having quotes, we have an `f` before them!  (It can be single or double quotes, just like usual with strings.)  Then, when putting a variable name between braces (as in `{current_age}`), the value of the variable will be printed in its place.\n",
    "\n",
    "Note what happens if we forget the `f`:"
   ]
  },
  {
   "cell_type": "code",
   "execution_count": null,
   "metadata": {},
   "outputs": [],
   "source": [
    "current_age = 49\n",
    "print(\"I am {current_age} years old.\")"
   ]
  },
  {
   "cell_type": "markdown",
   "metadata": {},
   "source": [
    "You can also use perform computations inside the braces, as in:"
   ]
  },
  {
   "cell_type": "code",
   "execution_count": null,
   "metadata": {},
   "outputs": [],
   "source": [
    "extra_years = 5\n",
    "print(f\"In {extra_years} years, I will be {current_age + extra_years}.\")"
   ]
  },
  {
   "cell_type": "markdown",
   "metadata": {},
   "source": [
    "---\n",
    "\n",
    "**Question 3.1.1:** Assign the value 1987 for the variable `birth_year` and 2034 for `future_year`.  Then, make the print statement print\n",
    "```\n",
    "In 2034 a person born in 1987 will be 47.\n",
    "```\n",
    "but where all the numbers are printed using the variables and f-strings.  In other words,\n",
    "```python\n",
    "print(\"In 2034 a person born in 1987 will be 47.\")\n",
    "```\n",
    "is **not** acceptable!"
   ]
  },
  {
   "cell_type": "code",
   "execution_count": 8,
   "metadata": {},
   "outputs": [
    {
     "name": "stdout",
     "output_type": "stream",
     "text": [
      "In 2034 a person born in 1987 will be 47.\n"
     ]
    }
   ],
   "source": [
    "birth_year = 1987\n",
    "future_year = 2034\n",
    "print(f\"In {future_year} a person born in {birth_year} will be {future_year-birth_year}.\")"
   ]
  },
  {
   "cell_type": "markdown",
   "metadata": {},
   "source": [
    "---\n",
    "\n",
    "f-Strings can also be used to format *floats* (i.e., numbers with decimals).  For instance, suppose we have a proportion of $2/7$ of a population is left handed."
   ]
  },
  {
   "cell_type": "code",
   "execution_count": null,
   "metadata": {},
   "outputs": [],
   "source": [
    "left_handed_proportion = 2 / 7\n",
    "left_handed_proportion"
   ]
  },
  {
   "cell_type": "markdown",
   "metadata": {},
   "source": [
    "To display it with only two decimal places, we do:"
   ]
  },
  {
   "cell_type": "code",
   "execution_count": null,
   "metadata": {},
   "outputs": [],
   "source": [
    "print(f\"The proportion of left-handed people in the population is {left_handed_proportion:.2f}.\")"
   ]
  },
  {
   "cell_type": "markdown",
   "metadata": {},
   "source": [
    "The `:` after the variable name (inside the braces) means that what follows is a formatting option.  The `.2` means that we want two decimal places and the `f` is for a *float*."
   ]
  },
  {
   "cell_type": "markdown",
   "metadata": {},
   "source": [
    "If we want convert the number to a *percentage*, we can use"
   ]
  },
  {
   "cell_type": "code",
   "execution_count": null,
   "metadata": {},
   "outputs": [],
   "source": [
    "print(f\"The percentage of left-handed people in the population is {left_handed_proportion:%}.\")"
   ]
  },
  {
   "cell_type": "markdown",
   "metadata": {},
   "source": [
    "If we want a percentage with three decimal places we do:"
   ]
  },
  {
   "cell_type": "code",
   "execution_count": null,
   "metadata": {},
   "outputs": [],
   "source": [
    "print(f\"The percentage of left-handed people in the population is {left_handed_proportion:.3%}.\")"
   ]
  },
  {
   "cell_type": "markdown",
   "metadata": {},
   "source": [
    "---\n",
    "\n",
    "**Question 3.1.2:** The formula for compound interest (assuming interest is compound *daily*) is\n",
    "\n",
    "$$\n",
    "F = P \\cdot \\left(1 + \\frac{r}{365} \\right)^{365 \\cdot t}\n",
    "$$\n",
    "\n",
    "where $F$ is the *final value* (the amount of you have after $t$ years), $P$ is the *principal* (your initial amount), $r$ is the annual interest rate (as a *proportion*, not a percentage!), and $t$ is the number of years.\n",
    "\n",
    "Fill in the values below to find and print the amount you have after $10$ years if you start with $\\$500$ in a savings account with annual interest rate of $0.03$ (meaning, $3\\%$).\n",
    "\n",
    "It should print\n",
    "\n",
    "```\n",
    "In an account with annual rate of 3.00%, an investment of $500.00 will yield $674.92 in 10 years.\n",
    "```\n",
    "but all number should be coming from the variables.  (Just replace the `...`'s with the appropriate expressions.)"
   ]
  },
  {
   "cell_type": "code",
   "execution_count": 2,
   "metadata": {},
   "outputs": [
    {
     "name": "stdout",
     "output_type": "stream",
     "text": [
      "In an account with annual rate of 0.03, an investiment of $500 will yield $674.9210832480354 in 10 years.\n"
     ]
    }
   ],
   "source": [
    "P = 500\n",
    "r = 0.03\n",
    "t = 10\n",
    "F = P*(1+(r/365))**(365*t)\n",
    "print(f\"In an account with annual rate of {r}, an investiment of ${P} will yield ${F} in {t} years.\")"
   ]
  },
  {
   "cell_type": "markdown",
   "metadata": {},
   "source": [
    "### 3.2. Comments\n",
    "You may have noticed these lines in the cell above:\n",
    "\n",
    "    # Change the next line so that it computes the number of\n",
    "    # seconds in a decade and assigns that number the name\n",
    "    # seconds_in_a_decade.\n",
    "\n",
    "That is called a *comment*.  It doesn't make anything happen in Python; Python ignores anything on a line after a `#`.  Instead, it's there to communicate something about the code to you, the human reader.  Comments are extremely useful.\n",
    "\n",
    "(In Jupyter notebooks we can explain code with nicely formatted text like this, but when coding outside of a Jupyter notebook, introducing comments is essential to document and explain the code!)"
   ]
  },
  {
   "cell_type": "markdown",
   "metadata": {},
   "source": [
    "## 4. Submission\n",
    "\n",
    "To submit this lab, please download your notebook as a `.ipynb` file and submit in Canvas under *Lab 1* (under *Assignments*). To download, go to the toolbar at the top of this page, click **File** > **Download**. Then, go to our class's Canvas page and upload your file under \"Lab 1\". \n",
    "\n",
    "For easy identification, **please add your surname to the file**, as in: `lab_01_DS201_LastName.ipynb`."
   ]
  }
 ],
 "metadata": {
  "anaconda-cloud": {},
  "kernelspec": {
   "display_name": "Python 3 (ipykernel)",
   "language": "python",
   "name": "python3"
  },
  "language_info": {
   "codemirror_mode": {
    "name": "ipython",
    "version": 3
   },
   "file_extension": ".py",
   "mimetype": "text/x-python",
   "name": "python",
   "nbconvert_exporter": "python",
   "pygments_lexer": "ipython3",
   "version": "3.11.4"
  }
 },
 "nbformat": 4,
 "nbformat_minor": 4
}
