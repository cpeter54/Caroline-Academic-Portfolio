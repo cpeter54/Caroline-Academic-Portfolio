{
 "cells": [
  {
   "cell_type": "markdown",
   "metadata": {},
   "source": [
    "# Lab 7: Probabilities and Sampling\n",
    "\n",
    "Welcome to Lab 7. In this lab we will learn about [randomness](https://inferentialthinking.com/chapters/09/Randomness.html) and [sampling](https://inferentialthinking.com/chapters/10/Sampling_and_Empirical_Distributions.html) strategies.\n",
    "\n",
    "\n",
    "The data used in this lab will contain salary data and statistics for basketball players from the 2021-2022 NBA season. These data were collected from [basketball-reference](http://www.basketball-reference.com) and [spotrac](http://www.spotrac.com)."
   ]
  },
  {
   "cell_type": "code",
   "execution_count": 122,
   "metadata": {
    "tags": []
   },
   "outputs": [],
   "source": [
    "import numpy as np\n",
    "import pandas as pd\n",
    "import matplotlib.pyplot as plt\n",
    "\n",
    "%matplotlib inline\n",
    "plt.rcParams['figure.figsize'] = (10, 8)\n",
    "\n",
    "# style\n",
    "# plt.style.use('fivethirtyeight')\n",
    "plt.style.use(\"ggplot\")"
   ]
  },
  {
   "cell_type": "markdown",
   "metadata": {},
   "source": [
    "## Your Name: Caroline Petersen"
   ]
  },
  {
   "cell_type": "markdown",
   "metadata": {},
   "source": [
    "## 1. Poker"
   ]
  },
  {
   "cell_type": "markdown",
   "metadata": {},
   "source": [
    "In this section we study probabilities of in the [game of poker](https://en.wikipedia.org/wiki/Poker)."
   ]
  },
  {
   "cell_type": "markdown",
   "metadata": {},
   "source": [
    "The game is played with a [standard 52-card deck](https://en.wikipedia.org/wiki/Standard_52-card_deck).  Each card has a rank and a suit.  Let's create a deck as a data frame.\n",
    "\n",
    "We will also add a value for each card, which can also be used to get cards in sequence.  (We will have strings for our ranks, since we have `\"A\"` for ace, for example.  The values can be used for ordering the cards in sequence, for instance, with a hand with `[9, 10, J, Q, K]` or `[10, J, Q, K, A]`.)\n",
    "\n",
    "For that we will use a [np.repeat](https://numpy.org/doc/stable/reference/generated/numpy.repeat.html) and [np.tile](https://numpy.org/doc/stable/reference/generated/numpy.tile.html)."
   ]
  },
  {
   "cell_type": "code",
   "execution_count": 123,
   "metadata": {
    "tags": []
   },
   "outputs": [
    {
     "data": {
      "text/html": [
       "<div>\n",
       "<style scoped>\n",
       "    .dataframe tbody tr th:only-of-type {\n",
       "        vertical-align: middle;\n",
       "    }\n",
       "\n",
       "    .dataframe tbody tr th {\n",
       "        vertical-align: top;\n",
       "    }\n",
       "\n",
       "    .dataframe thead th {\n",
       "        text-align: right;\n",
       "    }\n",
       "</style>\n",
       "<table border=\"1\" class=\"dataframe\">\n",
       "  <thead>\n",
       "    <tr style=\"text-align: right;\">\n",
       "      <th></th>\n",
       "      <th>Rank</th>\n",
       "      <th>Suit</th>\n",
       "      <th>Value</th>\n",
       "    </tr>\n",
       "  </thead>\n",
       "  <tbody>\n",
       "    <tr>\n",
       "      <th>0</th>\n",
       "      <td>A</td>\n",
       "      <td>Diamonds</td>\n",
       "      <td>13</td>\n",
       "    </tr>\n",
       "    <tr>\n",
       "      <th>1</th>\n",
       "      <td>2</td>\n",
       "      <td>Diamonds</td>\n",
       "      <td>1</td>\n",
       "    </tr>\n",
       "    <tr>\n",
       "      <th>2</th>\n",
       "      <td>3</td>\n",
       "      <td>Diamonds</td>\n",
       "      <td>2</td>\n",
       "    </tr>\n",
       "    <tr>\n",
       "      <th>3</th>\n",
       "      <td>4</td>\n",
       "      <td>Diamonds</td>\n",
       "      <td>3</td>\n",
       "    </tr>\n",
       "    <tr>\n",
       "      <th>4</th>\n",
       "      <td>5</td>\n",
       "      <td>Diamonds</td>\n",
       "      <td>4</td>\n",
       "    </tr>\n",
       "    <tr>\n",
       "      <th>5</th>\n",
       "      <td>6</td>\n",
       "      <td>Diamonds</td>\n",
       "      <td>5</td>\n",
       "    </tr>\n",
       "    <tr>\n",
       "      <th>6</th>\n",
       "      <td>7</td>\n",
       "      <td>Diamonds</td>\n",
       "      <td>6</td>\n",
       "    </tr>\n",
       "    <tr>\n",
       "      <th>7</th>\n",
       "      <td>8</td>\n",
       "      <td>Diamonds</td>\n",
       "      <td>7</td>\n",
       "    </tr>\n",
       "    <tr>\n",
       "      <th>8</th>\n",
       "      <td>9</td>\n",
       "      <td>Diamonds</td>\n",
       "      <td>8</td>\n",
       "    </tr>\n",
       "    <tr>\n",
       "      <th>9</th>\n",
       "      <td>10</td>\n",
       "      <td>Diamonds</td>\n",
       "      <td>9</td>\n",
       "    </tr>\n",
       "    <tr>\n",
       "      <th>10</th>\n",
       "      <td>J</td>\n",
       "      <td>Diamonds</td>\n",
       "      <td>10</td>\n",
       "    </tr>\n",
       "    <tr>\n",
       "      <th>11</th>\n",
       "      <td>Q</td>\n",
       "      <td>Diamonds</td>\n",
       "      <td>11</td>\n",
       "    </tr>\n",
       "    <tr>\n",
       "      <th>12</th>\n",
       "      <td>K</td>\n",
       "      <td>Diamonds</td>\n",
       "      <td>12</td>\n",
       "    </tr>\n",
       "    <tr>\n",
       "      <th>13</th>\n",
       "      <td>A</td>\n",
       "      <td>Clubs</td>\n",
       "      <td>13</td>\n",
       "    </tr>\n",
       "    <tr>\n",
       "      <th>14</th>\n",
       "      <td>2</td>\n",
       "      <td>Clubs</td>\n",
       "      <td>1</td>\n",
       "    </tr>\n",
       "    <tr>\n",
       "      <th>15</th>\n",
       "      <td>3</td>\n",
       "      <td>Clubs</td>\n",
       "      <td>2</td>\n",
       "    </tr>\n",
       "    <tr>\n",
       "      <th>16</th>\n",
       "      <td>4</td>\n",
       "      <td>Clubs</td>\n",
       "      <td>3</td>\n",
       "    </tr>\n",
       "    <tr>\n",
       "      <th>17</th>\n",
       "      <td>5</td>\n",
       "      <td>Clubs</td>\n",
       "      <td>4</td>\n",
       "    </tr>\n",
       "    <tr>\n",
       "      <th>18</th>\n",
       "      <td>6</td>\n",
       "      <td>Clubs</td>\n",
       "      <td>5</td>\n",
       "    </tr>\n",
       "    <tr>\n",
       "      <th>19</th>\n",
       "      <td>7</td>\n",
       "      <td>Clubs</td>\n",
       "      <td>6</td>\n",
       "    </tr>\n",
       "    <tr>\n",
       "      <th>20</th>\n",
       "      <td>8</td>\n",
       "      <td>Clubs</td>\n",
       "      <td>7</td>\n",
       "    </tr>\n",
       "    <tr>\n",
       "      <th>21</th>\n",
       "      <td>9</td>\n",
       "      <td>Clubs</td>\n",
       "      <td>8</td>\n",
       "    </tr>\n",
       "    <tr>\n",
       "      <th>22</th>\n",
       "      <td>10</td>\n",
       "      <td>Clubs</td>\n",
       "      <td>9</td>\n",
       "    </tr>\n",
       "    <tr>\n",
       "      <th>23</th>\n",
       "      <td>J</td>\n",
       "      <td>Clubs</td>\n",
       "      <td>10</td>\n",
       "    </tr>\n",
       "    <tr>\n",
       "      <th>24</th>\n",
       "      <td>Q</td>\n",
       "      <td>Clubs</td>\n",
       "      <td>11</td>\n",
       "    </tr>\n",
       "    <tr>\n",
       "      <th>25</th>\n",
       "      <td>K</td>\n",
       "      <td>Clubs</td>\n",
       "      <td>12</td>\n",
       "    </tr>\n",
       "    <tr>\n",
       "      <th>26</th>\n",
       "      <td>A</td>\n",
       "      <td>Hearts</td>\n",
       "      <td>13</td>\n",
       "    </tr>\n",
       "    <tr>\n",
       "      <th>27</th>\n",
       "      <td>2</td>\n",
       "      <td>Hearts</td>\n",
       "      <td>1</td>\n",
       "    </tr>\n",
       "    <tr>\n",
       "      <th>28</th>\n",
       "      <td>3</td>\n",
       "      <td>Hearts</td>\n",
       "      <td>2</td>\n",
       "    </tr>\n",
       "    <tr>\n",
       "      <th>29</th>\n",
       "      <td>4</td>\n",
       "      <td>Hearts</td>\n",
       "      <td>3</td>\n",
       "    </tr>\n",
       "    <tr>\n",
       "      <th>30</th>\n",
       "      <td>5</td>\n",
       "      <td>Hearts</td>\n",
       "      <td>4</td>\n",
       "    </tr>\n",
       "    <tr>\n",
       "      <th>31</th>\n",
       "      <td>6</td>\n",
       "      <td>Hearts</td>\n",
       "      <td>5</td>\n",
       "    </tr>\n",
       "    <tr>\n",
       "      <th>32</th>\n",
       "      <td>7</td>\n",
       "      <td>Hearts</td>\n",
       "      <td>6</td>\n",
       "    </tr>\n",
       "    <tr>\n",
       "      <th>33</th>\n",
       "      <td>8</td>\n",
       "      <td>Hearts</td>\n",
       "      <td>7</td>\n",
       "    </tr>\n",
       "    <tr>\n",
       "      <th>34</th>\n",
       "      <td>9</td>\n",
       "      <td>Hearts</td>\n",
       "      <td>8</td>\n",
       "    </tr>\n",
       "    <tr>\n",
       "      <th>35</th>\n",
       "      <td>10</td>\n",
       "      <td>Hearts</td>\n",
       "      <td>9</td>\n",
       "    </tr>\n",
       "    <tr>\n",
       "      <th>36</th>\n",
       "      <td>J</td>\n",
       "      <td>Hearts</td>\n",
       "      <td>10</td>\n",
       "    </tr>\n",
       "    <tr>\n",
       "      <th>37</th>\n",
       "      <td>Q</td>\n",
       "      <td>Hearts</td>\n",
       "      <td>11</td>\n",
       "    </tr>\n",
       "    <tr>\n",
       "      <th>38</th>\n",
       "      <td>K</td>\n",
       "      <td>Hearts</td>\n",
       "      <td>12</td>\n",
       "    </tr>\n",
       "    <tr>\n",
       "      <th>39</th>\n",
       "      <td>A</td>\n",
       "      <td>Spades</td>\n",
       "      <td>13</td>\n",
       "    </tr>\n",
       "    <tr>\n",
       "      <th>40</th>\n",
       "      <td>2</td>\n",
       "      <td>Spades</td>\n",
       "      <td>1</td>\n",
       "    </tr>\n",
       "    <tr>\n",
       "      <th>41</th>\n",
       "      <td>3</td>\n",
       "      <td>Spades</td>\n",
       "      <td>2</td>\n",
       "    </tr>\n",
       "    <tr>\n",
       "      <th>42</th>\n",
       "      <td>4</td>\n",
       "      <td>Spades</td>\n",
       "      <td>3</td>\n",
       "    </tr>\n",
       "    <tr>\n",
       "      <th>43</th>\n",
       "      <td>5</td>\n",
       "      <td>Spades</td>\n",
       "      <td>4</td>\n",
       "    </tr>\n",
       "    <tr>\n",
       "      <th>44</th>\n",
       "      <td>6</td>\n",
       "      <td>Spades</td>\n",
       "      <td>5</td>\n",
       "    </tr>\n",
       "    <tr>\n",
       "      <th>45</th>\n",
       "      <td>7</td>\n",
       "      <td>Spades</td>\n",
       "      <td>6</td>\n",
       "    </tr>\n",
       "    <tr>\n",
       "      <th>46</th>\n",
       "      <td>8</td>\n",
       "      <td>Spades</td>\n",
       "      <td>7</td>\n",
       "    </tr>\n",
       "    <tr>\n",
       "      <th>47</th>\n",
       "      <td>9</td>\n",
       "      <td>Spades</td>\n",
       "      <td>8</td>\n",
       "    </tr>\n",
       "    <tr>\n",
       "      <th>48</th>\n",
       "      <td>10</td>\n",
       "      <td>Spades</td>\n",
       "      <td>9</td>\n",
       "    </tr>\n",
       "    <tr>\n",
       "      <th>49</th>\n",
       "      <td>J</td>\n",
       "      <td>Spades</td>\n",
       "      <td>10</td>\n",
       "    </tr>\n",
       "    <tr>\n",
       "      <th>50</th>\n",
       "      <td>Q</td>\n",
       "      <td>Spades</td>\n",
       "      <td>11</td>\n",
       "    </tr>\n",
       "    <tr>\n",
       "      <th>51</th>\n",
       "      <td>K</td>\n",
       "      <td>Spades</td>\n",
       "      <td>12</td>\n",
       "    </tr>\n",
       "  </tbody>\n",
       "</table>\n",
       "</div>"
      ],
      "text/plain": [
       "   Rank      Suit  Value\n",
       "0     A  Diamonds     13\n",
       "1     2  Diamonds      1\n",
       "2     3  Diamonds      2\n",
       "3     4  Diamonds      3\n",
       "4     5  Diamonds      4\n",
       "5     6  Diamonds      5\n",
       "6     7  Diamonds      6\n",
       "7     8  Diamonds      7\n",
       "8     9  Diamonds      8\n",
       "9    10  Diamonds      9\n",
       "10    J  Diamonds     10\n",
       "11    Q  Diamonds     11\n",
       "12    K  Diamonds     12\n",
       "13    A     Clubs     13\n",
       "14    2     Clubs      1\n",
       "15    3     Clubs      2\n",
       "16    4     Clubs      3\n",
       "17    5     Clubs      4\n",
       "18    6     Clubs      5\n",
       "19    7     Clubs      6\n",
       "20    8     Clubs      7\n",
       "21    9     Clubs      8\n",
       "22   10     Clubs      9\n",
       "23    J     Clubs     10\n",
       "24    Q     Clubs     11\n",
       "25    K     Clubs     12\n",
       "26    A    Hearts     13\n",
       "27    2    Hearts      1\n",
       "28    3    Hearts      2\n",
       "29    4    Hearts      3\n",
       "30    5    Hearts      4\n",
       "31    6    Hearts      5\n",
       "32    7    Hearts      6\n",
       "33    8    Hearts      7\n",
       "34    9    Hearts      8\n",
       "35   10    Hearts      9\n",
       "36    J    Hearts     10\n",
       "37    Q    Hearts     11\n",
       "38    K    Hearts     12\n",
       "39    A    Spades     13\n",
       "40    2    Spades      1\n",
       "41    3    Spades      2\n",
       "42    4    Spades      3\n",
       "43    5    Spades      4\n",
       "44    6    Spades      5\n",
       "45    7    Spades      6\n",
       "46    8    Spades      7\n",
       "47    9    Spades      8\n",
       "48   10    Spades      9\n",
       "49    J    Spades     10\n",
       "50    Q    Spades     11\n",
       "51    K    Spades     12"
      ]
     },
     "execution_count": 123,
     "metadata": {},
     "output_type": "execute_result"
    }
   ],
   "source": [
    "ranks = [\"A\"] + [str(i) for i in range(2, 11)] + [\"J\", \"Q\", \"K\"]\n",
    "suits = [\"Diamonds\", \"Clubs\", \"Hearts\", \"Spades\"]\n",
    "values = [13] + list(range(1, 13))\n",
    "deck = pd.DataFrame({\"Rank\": np.tile(ranks, 4), \"Suit\": np.repeat(suits, 13), \"Value\": np.tile(values, 4)})\n",
    "deck"
   ]
  },
  {
   "cell_type": "markdown",
   "metadata": {},
   "source": [
    "**Question 1.1:** Write a function that selects five random cards from the deck, and then sorts them according to values, and sorting alphabetically by suits when we have the same values.\n",
    "\n",
    "*Hint:* [sort_values](https://pandas.pydata.org/docs/reference/api/pandas.DataFrame.sort_values.html) can take a *list* of labels by which to sort the data frame."
   ]
  },
  {
   "cell_type": "code",
   "execution_count": 124,
   "metadata": {
    "tags": []
   },
   "outputs": [
    {
     "data": {
      "text/html": [
       "<div>\n",
       "<style scoped>\n",
       "    .dataframe tbody tr th:only-of-type {\n",
       "        vertical-align: middle;\n",
       "    }\n",
       "\n",
       "    .dataframe tbody tr th {\n",
       "        vertical-align: top;\n",
       "    }\n",
       "\n",
       "    .dataframe thead th {\n",
       "        text-align: right;\n",
       "    }\n",
       "</style>\n",
       "<table border=\"1\" class=\"dataframe\">\n",
       "  <thead>\n",
       "    <tr style=\"text-align: right;\">\n",
       "      <th></th>\n",
       "      <th>Rank</th>\n",
       "      <th>Suit</th>\n",
       "      <th>Value</th>\n",
       "    </tr>\n",
       "  </thead>\n",
       "  <tbody>\n",
       "    <tr>\n",
       "      <th>2</th>\n",
       "      <td>3</td>\n",
       "      <td>Diamonds</td>\n",
       "      <td>2</td>\n",
       "    </tr>\n",
       "    <tr>\n",
       "      <th>44</th>\n",
       "      <td>6</td>\n",
       "      <td>Spades</td>\n",
       "      <td>5</td>\n",
       "    </tr>\n",
       "    <tr>\n",
       "      <th>32</th>\n",
       "      <td>7</td>\n",
       "      <td>Hearts</td>\n",
       "      <td>6</td>\n",
       "    </tr>\n",
       "    <tr>\n",
       "      <th>48</th>\n",
       "      <td>10</td>\n",
       "      <td>Spades</td>\n",
       "      <td>9</td>\n",
       "    </tr>\n",
       "    <tr>\n",
       "      <th>12</th>\n",
       "      <td>K</td>\n",
       "      <td>Diamonds</td>\n",
       "      <td>12</td>\n",
       "    </tr>\n",
       "  </tbody>\n",
       "</table>\n",
       "</div>"
      ],
      "text/plain": [
       "   Rank      Suit  Value\n",
       "2     3  Diamonds      2\n",
       "44    6    Spades      5\n",
       "32    7    Hearts      6\n",
       "48   10    Spades      9\n",
       "12    K  Diamonds     12"
      ]
     },
     "execution_count": 124,
     "metadata": {},
     "output_type": "execute_result"
    }
   ],
   "source": [
    "def draw_five():\n",
    "    \"Draws five cards from the deck.\"\n",
    "    return deck.sample(5).sort_values([\"Value\", \"Suit\"])\n",
    "\n",
    "# test\n",
    "draw_five()"
   ]
  },
  {
   "cell_type": "markdown",
   "metadata": {},
   "source": [
    "There are many [poker hands](https://en.wikipedia.org/wiki/List_of_poker_hands), and it is not hard to compute the exact probability of each.  The highest valued hands are extremely unlikely.  For instance, the probability of getting *four of a kind* (four cards with the same rank) is \n",
    "\n",
    "$$\n",
    "\\frac{13 \\cdot 48}{\\displaystyle \\binom{52}{5}} = \\frac{624}{2{,}598{,}960} = \\frac{1}{4{,}165} \\approx 0.00024 = 0.0240\\%.\n",
    "$$\n",
    "\n",
    "A *straight-flush* (five cards in sequence and with the same suit) is even less likely, with a probability of\n",
    "\n",
    "$$\n",
    "\\frac{9 \\cdot 4}{\\displaystyle \\binom{52}{5}} = \\frac{36}{2{,}598{,}960} = \\frac{3}{216{,}580} \\approx 0.00001385 = 0.001385\\%.\n",
    "$$\n",
    "\n",
    "We will focus on lower valued hands, which have a higher probability.  We will look at two hands:\n",
    "\n",
    "  * **Two pairs**: two cards of matching rank, another two cards matching a different rank, and a third card with a rank different from the previous two.  Suits don't matter;\n",
    "  * **Straight**: the ranks in sequence of values of increasing order, like, `[3, 4, 5, 6, 7]`, or `[9, 10, J, K, A]` (we assume `A` comes after `K` and not before `2`), but *not all suits the same*!  (That would be a *straight flush* instead.)"
   ]
  },
  {
   "cell_type": "markdown",
   "metadata": {},
   "source": [
    "---"
   ]
  },
  {
   "cell_type": "markdown",
   "metadata": {},
   "source": [
    "### `value_counts`"
   ]
  },
  {
   "cell_type": "markdown",
   "metadata": {},
   "source": [
    "In solving the problems below, the pandas methods [value_counts](https://pandas.pydata.org/docs/reference/api/pandas.Series.value_counts.html) can come handy.  Let's see it in action:"
   ]
  },
  {
   "cell_type": "code",
   "execution_count": 125,
   "metadata": {
    "tags": []
   },
   "outputs": [
    {
     "data": {
      "text/html": [
       "<div>\n",
       "<style scoped>\n",
       "    .dataframe tbody tr th:only-of-type {\n",
       "        vertical-align: middle;\n",
       "    }\n",
       "\n",
       "    .dataframe tbody tr th {\n",
       "        vertical-align: top;\n",
       "    }\n",
       "\n",
       "    .dataframe thead th {\n",
       "        text-align: right;\n",
       "    }\n",
       "</style>\n",
       "<table border=\"1\" class=\"dataframe\">\n",
       "  <thead>\n",
       "    <tr style=\"text-align: right;\">\n",
       "      <th></th>\n",
       "      <th>Col1</th>\n",
       "      <th>Col2</th>\n",
       "    </tr>\n",
       "  </thead>\n",
       "  <tbody>\n",
       "    <tr>\n",
       "      <th>0</th>\n",
       "      <td>1</td>\n",
       "      <td>B</td>\n",
       "    </tr>\n",
       "    <tr>\n",
       "      <th>1</th>\n",
       "      <td>1</td>\n",
       "      <td>B</td>\n",
       "    </tr>\n",
       "    <tr>\n",
       "      <th>2</th>\n",
       "      <td>3</td>\n",
       "      <td>B</td>\n",
       "    </tr>\n",
       "    <tr>\n",
       "      <th>3</th>\n",
       "      <td>3</td>\n",
       "      <td>A</td>\n",
       "    </tr>\n",
       "    <tr>\n",
       "      <th>4</th>\n",
       "      <td>1</td>\n",
       "      <td>A</td>\n",
       "    </tr>\n",
       "    <tr>\n",
       "      <th>5</th>\n",
       "      <td>4</td>\n",
       "      <td>A</td>\n",
       "    </tr>\n",
       "    <tr>\n",
       "      <th>6</th>\n",
       "      <td>4</td>\n",
       "      <td>C</td>\n",
       "    </tr>\n",
       "    <tr>\n",
       "      <th>7</th>\n",
       "      <td>2</td>\n",
       "      <td>C</td>\n",
       "    </tr>\n",
       "    <tr>\n",
       "      <th>8</th>\n",
       "      <td>3</td>\n",
       "      <td>A</td>\n",
       "    </tr>\n",
       "    <tr>\n",
       "      <th>9</th>\n",
       "      <td>4</td>\n",
       "      <td>A</td>\n",
       "    </tr>\n",
       "    <tr>\n",
       "      <th>10</th>\n",
       "      <td>4</td>\n",
       "      <td>C</td>\n",
       "    </tr>\n",
       "    <tr>\n",
       "      <th>11</th>\n",
       "      <td>3</td>\n",
       "      <td>D</td>\n",
       "    </tr>\n",
       "    <tr>\n",
       "      <th>12</th>\n",
       "      <td>1</td>\n",
       "      <td>B</td>\n",
       "    </tr>\n",
       "    <tr>\n",
       "      <th>13</th>\n",
       "      <td>4</td>\n",
       "      <td>C</td>\n",
       "    </tr>\n",
       "    <tr>\n",
       "      <th>14</th>\n",
       "      <td>3</td>\n",
       "      <td>A</td>\n",
       "    </tr>\n",
       "    <tr>\n",
       "      <th>15</th>\n",
       "      <td>1</td>\n",
       "      <td>C</td>\n",
       "    </tr>\n",
       "    <tr>\n",
       "      <th>16</th>\n",
       "      <td>3</td>\n",
       "      <td>D</td>\n",
       "    </tr>\n",
       "    <tr>\n",
       "      <th>17</th>\n",
       "      <td>2</td>\n",
       "      <td>A</td>\n",
       "    </tr>\n",
       "    <tr>\n",
       "      <th>18</th>\n",
       "      <td>4</td>\n",
       "      <td>C</td>\n",
       "    </tr>\n",
       "    <tr>\n",
       "      <th>19</th>\n",
       "      <td>1</td>\n",
       "      <td>B</td>\n",
       "    </tr>\n",
       "  </tbody>\n",
       "</table>\n",
       "</div>"
      ],
      "text/plain": [
       "    Col1 Col2\n",
       "0      1    B\n",
       "1      1    B\n",
       "2      3    B\n",
       "3      3    A\n",
       "4      1    A\n",
       "5      4    A\n",
       "6      4    C\n",
       "7      2    C\n",
       "8      3    A\n",
       "9      4    A\n",
       "10     4    C\n",
       "11     3    D\n",
       "12     1    B\n",
       "13     4    C\n",
       "14     3    A\n",
       "15     1    C\n",
       "16     3    D\n",
       "17     2    A\n",
       "18     4    C\n",
       "19     1    B"
      ]
     },
     "execution_count": 125,
     "metadata": {},
     "output_type": "execute_result"
    }
   ],
   "source": [
    "df = pd.DataFrame({\"Col1\": np.random.choice(np.arange(1, 5), 20), \"Col2\": np.random.choice(np.array([\"A\", \"B\", \"C\", \"D\"]), 20)})\n",
    "df"
   ]
  },
  {
   "cell_type": "markdown",
   "metadata": {},
   "source": [
    "We use `value_counts` to see how many times each value occur in a column:"
   ]
  },
  {
   "cell_type": "code",
   "execution_count": 126,
   "metadata": {
    "tags": []
   },
   "outputs": [
    {
     "data": {
      "text/plain": [
       "1    6\n",
       "3    6\n",
       "4    6\n",
       "2    2\n",
       "Name: Col1, dtype: int64"
      ]
     },
     "execution_count": 126,
     "metadata": {},
     "output_type": "execute_result"
    }
   ],
   "source": [
    "df[\"Col1\"].value_counts()"
   ]
  },
  {
   "cell_type": "code",
   "execution_count": 127,
   "metadata": {
    "tags": []
   },
   "outputs": [
    {
     "data": {
      "text/plain": [
       "A    7\n",
       "C    6\n",
       "B    5\n",
       "D    2\n",
       "Name: Col2, dtype: int64"
      ]
     },
     "execution_count": 127,
     "metadata": {},
     "output_type": "execute_result"
    }
   ],
   "source": [
    "df[\"Col2\"].value_counts()"
   ]
  },
  {
   "cell_type": "markdown",
   "metadata": {},
   "source": [
    "Note that the *index* (on the left) is the value of the given column, and the entries (of the series) is the count for each value.  By default, it is sorted by the number of occurrences (i.e., counts) in decreasing order."
   ]
  },
  {
   "cell_type": "markdown",
   "metadata": {},
   "source": [
    "We can make this resulting series into an array by using `to_numpy` (the index is dropped):"
   ]
  },
  {
   "cell_type": "code",
   "execution_count": 128,
   "metadata": {
    "tags": []
   },
   "outputs": [
    {
     "data": {
      "text/plain": [
       "array([7, 6, 5, 2])"
      ]
     },
     "execution_count": 128,
     "metadata": {},
     "output_type": "execute_result"
    }
   ],
   "source": [
    "df[\"Col2\"].value_counts().to_numpy()"
   ]
  },
  {
   "cell_type": "markdown",
   "metadata": {},
   "source": [
    "---"
   ]
  },
  {
   "cell_type": "markdown",
   "metadata": {},
   "source": [
    "### Comparing Arrays"
   ]
  },
  {
   "cell_type": "markdown",
   "metadata": {},
   "source": [
    "Remember that if we want to check if two arrays are equal, we don't use `==`:"
   ]
  },
  {
   "cell_type": "code",
   "execution_count": 129,
   "metadata": {
    "tags": []
   },
   "outputs": [],
   "source": [
    "a = np.array([1, 2, 3])\n",
    "b = np.array([1, 2, 3])\n",
    "c = np.array([1, 2, 4])"
   ]
  },
  {
   "cell_type": "markdown",
   "metadata": {},
   "source": [
    "Clearly, `a` and `b` are equal, but `c` is different.\n",
    "\n",
    "If we try to use `==`:"
   ]
  },
  {
   "cell_type": "code",
   "execution_count": 130,
   "metadata": {
    "tags": []
   },
   "outputs": [
    {
     "data": {
      "text/plain": [
       "array([ True,  True,  True])"
      ]
     },
     "execution_count": 130,
     "metadata": {},
     "output_type": "execute_result"
    }
   ],
   "source": [
    "a == b"
   ]
  },
  {
   "cell_type": "code",
   "execution_count": 131,
   "metadata": {
    "tags": []
   },
   "outputs": [
    {
     "data": {
      "text/plain": [
       "array([ True,  True, False])"
      ]
     },
     "execution_count": 131,
     "metadata": {},
     "output_type": "execute_result"
    }
   ],
   "source": [
    "a == c"
   ]
  },
  {
   "cell_type": "markdown",
   "metadata": {},
   "source": [
    "We use instead `np.array_equal`:"
   ]
  },
  {
   "cell_type": "code",
   "execution_count": 132,
   "metadata": {
    "tags": []
   },
   "outputs": [
    {
     "data": {
      "text/plain": [
       "True"
      ]
     },
     "execution_count": 132,
     "metadata": {},
     "output_type": "execute_result"
    }
   ],
   "source": [
    "np.array_equal(a, b)"
   ]
  },
  {
   "cell_type": "code",
   "execution_count": 133,
   "metadata": {
    "tags": []
   },
   "outputs": [
    {
     "data": {
      "text/plain": [
       "False"
      ]
     },
     "execution_count": 133,
     "metadata": {},
     "output_type": "execute_result"
    }
   ],
   "source": [
    "np.array_equal(a, c)"
   ]
  },
  {
   "cell_type": "markdown",
   "metadata": {},
   "source": [
    "---"
   ]
  },
  {
   "cell_type": "markdown",
   "metadata": {},
   "source": [
    "**Question 1.2:** Write a function that returns `True` if `hand` is two pairs, and `False` otherwise.\n",
    "\n",
    "*Hint:* Use `value_counts` and `np.array_equal`.  And careful: `[2, 2, 3, 3, 3]` does not count as two pairs.  (It is a *full house*.)"
   ]
  },
  {
   "cell_type": "code",
   "execution_count": 134,
   "metadata": {
    "tags": []
   },
   "outputs": [],
   "source": [
    "def is_two_pairs(hand):\n",
    "    \"\"\"Check if hand is two pairs.\"\"\"\n",
    "    return np.array_equal(hand[\"Rank\"].value_counts().to_numpy(), np.array([2, 2, 1]))"
   ]
  },
  {
   "cell_type": "markdown",
   "metadata": {},
   "source": [
    "Let's test it.  The first should return `True`, the others should return `False`:"
   ]
  },
  {
   "cell_type": "code",
   "execution_count": 135,
   "metadata": {
    "tags": []
   },
   "outputs": [
    {
     "name": "stdout",
     "output_type": "stream",
     "text": [
      "True\n",
      "False\n",
      "False\n",
      "False\n",
      "False\n"
     ]
    }
   ],
   "source": [
    "print(is_two_pairs(deck.iloc[[2, 43, 50, 28, 30]]))\n",
    "print(is_two_pairs(deck.iloc[[2, 28, 41, 20, 33]]))\n",
    "print(is_two_pairs(deck.iloc[[2, 28, 41, 43, 50]]))\n",
    "print(is_two_pairs(deck.iloc[[2, 28, 30, 40, 50]]))\n",
    "print(is_two_pairs(deck.iloc[[2, 20, 41, 43, 50]]))"
   ]
  },
  {
   "cell_type": "markdown",
   "metadata": {},
   "source": [
    "**Question 1.3:** Write a function that returns `True` if `hand` is a straight, and `False` otherwise.\n",
    "\n",
    "*Hint:* Here you need to check if the *values* of the hand is made of 5 consecutive numbers *and* that not all suits are the same.  \n",
    "  * For the latter, you can use `value_counts` again.  (If the suits are all the same, you can return `False` right away.)\n",
    "  * For the former, you can order the array of values of `hand`, look at its first element (which should be the minimum, since you've ordered it), and see if the array is equal to another one of length five that starts at the same value and made of consecutive numbers.  (You can use `np.arange` to create this last array.)"
   ]
  },
  {
   "cell_type": "code",
   "execution_count": 136,
   "metadata": {
    "tags": []
   },
   "outputs": [],
   "source": [
    "def is_straight(hand):\n",
    "    \"\"\"Check if hand is a straight.\"\"\"\n",
    "    if len(hand[\"Suit\"].value_counts()) == 1:\n",
    "        return False\n",
    "    \n",
    "    values = np.sort(hand[\"Value\"].to_numpy())\n",
    "    return np.array_equal(values, np.arange(values[0], values[0] + 5))"
   ]
  },
  {
   "cell_type": "markdown",
   "metadata": {},
   "source": [
    "Let's test it.  The first *two* should return `True`, the others should return `False`:"
   ]
  },
  {
   "cell_type": "code",
   "execution_count": 137,
   "metadata": {
    "tags": []
   },
   "outputs": [
    {
     "name": "stdout",
     "output_type": "stream",
     "text": [
      "True\n",
      "True\n",
      "False\n",
      "False\n",
      "False\n"
     ]
    }
   ],
   "source": [
    "print(is_straight(deck.iloc[[20, 24, 23, 21, 35]]))\n",
    "print(is_straight(deck.iloc[[36, 51, 26, 37, 9]]))\n",
    "print(is_straight(deck.iloc[[39, 14, 15, 16, 17]]))\n",
    "print(is_straight(deck.iloc[[11, 12, 13, 14, 15]]))\n",
    "print(is_straight(deck.iloc[[2, 3, 17, 19, 20]]))"
   ]
  },
  {
   "cell_type": "markdown",
   "metadata": {},
   "source": [
    "**Question 1.4:** Write a function that takes an argument `number_of_draws` that simulates drawing five cards `number_of_draws` times, and returns a list where the first entry is the number of two pairs in the simulation, and the second is the number of straights.\n"
   ]
  },
  {
   "cell_type": "code",
   "execution_count": 138,
   "metadata": {
    "tags": []
   },
   "outputs": [],
   "source": [
    "def two_pairs_straights(number_of_draws):\n",
    "    \"\"\"Simulates drawing 5 cards number_of_draws times and returns\n",
    "    the number of two pairs and straights.\"\"\"\n",
    "    # initialize the count\n",
    "    number_of_two_pairs = 0\n",
    "    number_of_straights = 0\n",
    "\n",
    "    # loop\n",
    "    for i in range(number_of_draws):\n",
    "        # draw hand\n",
    "        hand = draw_five()\n",
    "\n",
    "        # check if two pairs\n",
    "        if is_two_pairs(hand):\n",
    "            number_of_two_pairs += 1\n",
    "\n",
    "        # check if straight\n",
    "        if is_straight(hand):\n",
    "            number_of_straights += 1\n",
    "        \n",
    "    return [number_of_two_pairs, number_of_straights]"
   ]
  },
  {
   "cell_type": "markdown",
   "metadata": {},
   "source": [
    "We can now estimate the probabilities of drawing a hand with two pairs and straight by drawing a large number of hands, counting the numbers of two pairs and straights, and dividing these by the number of draws.\n",
    "\n",
    "*Note:* \n",
    "  * The actual probabilities are about $4.75\\%$ and $0.35\\%$, but you might not get very close to these with \"only\" $10{,}000$ draws.\n",
    "  * This takes a minute.  When testing, you can change the value of `number_of_draws` to something smaller (like $1{,}000$ or even $500$), but the approximations will be worse.  *Don't forget to make `number_of_draws` $10{,}000$ again when you are done testing!*"
   ]
  },
  {
   "cell_type": "code",
   "execution_count": 139,
   "metadata": {
    "tags": []
   },
   "outputs": [
    {
     "name": "stdout",
     "output_type": "stream",
     "text": [
      "Probability of drawing two pairs: 4.32%.\n",
      "Probability of drawing straight:  0.38%.\n"
     ]
    }
   ],
   "source": [
    "number_of_draws = 10_000\n",
    "\n",
    "number_of_two_pairs, number_of_straights = two_pairs_straights(number_of_draws)\n",
    "\n",
    "# probabilities\n",
    "prob_two_pairs = number_of_two_pairs / number_of_draws\n",
    "prob_straight = number_of_straights / number_of_draws\n",
    "\n",
    "print(f\"Probability of drawing two pairs: {prob_two_pairs:.2%}.\")\n",
    "print(f\"Probability of drawing straight:  {prob_straight:.2%}.\")"
   ]
  },
  {
   "cell_type": "markdown",
   "metadata": {},
   "source": [
    "## 2. Sampling\n",
    "\n",
    "Run the cell below to load the player and salary data."
   ]
  },
  {
   "cell_type": "code",
   "execution_count": 140,
   "metadata": {
    "tags": []
   },
   "outputs": [
    {
     "data": {
      "text/html": [
       "<div>\n",
       "<style scoped>\n",
       "    .dataframe tbody tr th:only-of-type {\n",
       "        vertical-align: middle;\n",
       "    }\n",
       "\n",
       "    .dataframe tbody tr th {\n",
       "        vertical-align: top;\n",
       "    }\n",
       "\n",
       "    .dataframe thead th {\n",
       "        text-align: right;\n",
       "    }\n",
       "</style>\n",
       "<table border=\"1\" class=\"dataframe\">\n",
       "  <thead>\n",
       "    <tr style=\"text-align: right;\">\n",
       "      <th></th>\n",
       "      <th>PlayerName</th>\n",
       "      <th>Age</th>\n",
       "      <th>Team</th>\n",
       "      <th>Games</th>\n",
       "      <th>Rebounds</th>\n",
       "      <th>Assists</th>\n",
       "      <th>Steals</th>\n",
       "      <th>Blocks</th>\n",
       "      <th>Turnovers</th>\n",
       "      <th>Points</th>\n",
       "      <th>Salary</th>\n",
       "    </tr>\n",
       "  </thead>\n",
       "  <tbody>\n",
       "    <tr>\n",
       "      <th>0</th>\n",
       "      <td>Trae Young</td>\n",
       "      <td>23</td>\n",
       "      <td>ATL</td>\n",
       "      <td>42</td>\n",
       "      <td>166</td>\n",
       "      <td>390</td>\n",
       "      <td>41</td>\n",
       "      <td>4</td>\n",
       "      <td>174</td>\n",
       "      <td>1174</td>\n",
       "      <td>8326471</td>\n",
       "    </tr>\n",
       "    <tr>\n",
       "      <th>1</th>\n",
       "      <td>Jayson Tatum</td>\n",
       "      <td>23</td>\n",
       "      <td>BOS</td>\n",
       "      <td>44</td>\n",
       "      <td>378</td>\n",
       "      <td>171</td>\n",
       "      <td>41</td>\n",
       "      <td>33</td>\n",
       "      <td>131</td>\n",
       "      <td>1136</td>\n",
       "      <td>28103500</td>\n",
       "    </tr>\n",
       "    <tr>\n",
       "      <th>2</th>\n",
       "      <td>Giannis Antetokounmpo</td>\n",
       "      <td>27</td>\n",
       "      <td>MIL</td>\n",
       "      <td>39</td>\n",
       "      <td>440</td>\n",
       "      <td>235</td>\n",
       "      <td>40</td>\n",
       "      <td>58</td>\n",
       "      <td>136</td>\n",
       "      <td>1116</td>\n",
       "      <td>39344900</td>\n",
       "    </tr>\n",
       "    <tr>\n",
       "      <th>3</th>\n",
       "      <td>Stephen Curry</td>\n",
       "      <td>33</td>\n",
       "      <td>GSW</td>\n",
       "      <td>43</td>\n",
       "      <td>228</td>\n",
       "      <td>267</td>\n",
       "      <td>61</td>\n",
       "      <td>20</td>\n",
       "      <td>138</td>\n",
       "      <td>1116</td>\n",
       "      <td>45780966</td>\n",
       "    </tr>\n",
       "    <tr>\n",
       "      <th>4</th>\n",
       "      <td>DeMar DeRozan</td>\n",
       "      <td>32</td>\n",
       "      <td>CHI</td>\n",
       "      <td>42</td>\n",
       "      <td>209</td>\n",
       "      <td>200</td>\n",
       "      <td>34</td>\n",
       "      <td>15</td>\n",
       "      <td>92</td>\n",
       "      <td>1105</td>\n",
       "      <td>26000000</td>\n",
       "    </tr>\n",
       "    <tr>\n",
       "      <th>5</th>\n",
       "      <td>Kevin Durant</td>\n",
       "      <td>33</td>\n",
       "      <td>BRK</td>\n",
       "      <td>36</td>\n",
       "      <td>267</td>\n",
       "      <td>207</td>\n",
       "      <td>28</td>\n",
       "      <td>34</td>\n",
       "      <td>107</td>\n",
       "      <td>1053</td>\n",
       "      <td>40918900</td>\n",
       "    </tr>\n",
       "    <tr>\n",
       "      <th>6</th>\n",
       "      <td>Donovan Mitchell</td>\n",
       "      <td>25</td>\n",
       "      <td>UTA</td>\n",
       "      <td>40</td>\n",
       "      <td>158</td>\n",
       "      <td>206</td>\n",
       "      <td>64</td>\n",
       "      <td>9</td>\n",
       "      <td>118</td>\n",
       "      <td>1020</td>\n",
       "      <td>28103500</td>\n",
       "    </tr>\n",
       "    <tr>\n",
       "      <th>7</th>\n",
       "      <td>LeBron James</td>\n",
       "      <td>37</td>\n",
       "      <td>LAL</td>\n",
       "      <td>35</td>\n",
       "      <td>269</td>\n",
       "      <td>221</td>\n",
       "      <td>56</td>\n",
       "      <td>38</td>\n",
       "      <td>111</td>\n",
       "      <td>1014</td>\n",
       "      <td>41180544</td>\n",
       "    </tr>\n",
       "    <tr>\n",
       "      <th>8</th>\n",
       "      <td>Joel Embiid</td>\n",
       "      <td>27</td>\n",
       "      <td>PHI</td>\n",
       "      <td>35</td>\n",
       "      <td>374</td>\n",
       "      <td>149</td>\n",
       "      <td>35</td>\n",
       "      <td>48</td>\n",
       "      <td>102</td>\n",
       "      <td>1003</td>\n",
       "      <td>31579390</td>\n",
       "    </tr>\n",
       "    <tr>\n",
       "      <th>9</th>\n",
       "      <td>Zach LaVine</td>\n",
       "      <td>26</td>\n",
       "      <td>CHI</td>\n",
       "      <td>39</td>\n",
       "      <td>188</td>\n",
       "      <td>165</td>\n",
       "      <td>25</td>\n",
       "      <td>14</td>\n",
       "      <td>111</td>\n",
       "      <td>971</td>\n",
       "      <td>19500000</td>\n",
       "    </tr>\n",
       "  </tbody>\n",
       "</table>\n",
       "</div>"
      ],
      "text/plain": [
       "              PlayerName  Age Team  Games  Rebounds  Assists  Steals  Blocks  \\\n",
       "0             Trae Young   23  ATL     42       166      390      41       4   \n",
       "1           Jayson Tatum   23  BOS     44       378      171      41      33   \n",
       "2  Giannis Antetokounmpo   27  MIL     39       440      235      40      58   \n",
       "3          Stephen Curry   33  GSW     43       228      267      61      20   \n",
       "4          DeMar DeRozan   32  CHI     42       209      200      34      15   \n",
       "5           Kevin Durant   33  BRK     36       267      207      28      34   \n",
       "6       Donovan Mitchell   25  UTA     40       158      206      64       9   \n",
       "7           LeBron James   37  LAL     35       269      221      56      38   \n",
       "8            Joel Embiid   27  PHI     35       374      149      35      48   \n",
       "9            Zach LaVine   26  CHI     39       188      165      25      14   \n",
       "\n",
       "   Turnovers  Points    Salary  \n",
       "0        174    1174   8326471  \n",
       "1        131    1136  28103500  \n",
       "2        136    1116  39344900  \n",
       "3        138    1116  45780966  \n",
       "4         92    1105  26000000  \n",
       "5        107    1053  40918900  \n",
       "6        118    1020  28103500  \n",
       "7        111    1014  41180544  \n",
       "8        102    1003  31579390  \n",
       "9        111     971  19500000  "
      ]
     },
     "execution_count": 140,
     "metadata": {},
     "output_type": "execute_result"
    }
   ],
   "source": [
    "player_data = pd.read_csv(\"player_data.csv\").drop_duplicates(keep=\"last\")\n",
    "salary_data = pd.read_csv(\"salary_data.csv\").drop_duplicates(keep=\"last\")\n",
    "\n",
    "full_data = player_data.merge(salary_data, on=\"PlayerName\")\n",
    "full_data.head(10)"
   ]
  },
  {
   "cell_type": "markdown",
   "metadata": {},
   "source": [
    "Imagine that we have data only on a subset of the players.  Then we want to make a *statistical inference* about the larger underlying population using the smaller sample. "
   ]
  },
  {
   "cell_type": "markdown",
   "metadata": {},
   "source": [
    "**Question 2.1:**. Complete the `histograms` function, which takes a data frame with columns `Age` and `Salary` and draws a *density* histogram for each one. Use the `min` and `max` methods (or functions) to pick the bin boundaries so that all data appears for any data frame passed to your function. For bin sizes, try 2 years for `Age` and 1,000,000 for `Salary`).\n",
    "\n",
    "*Hint:* Make sure your bins include the maxima!  Remember that `np.arange(a, b, step)` *never* includes `b`.  To make sure that it does include `b`, you need `np.arange(a, b + step, step)`."
   ]
  },
  {
   "cell_type": "code",
   "execution_count": 155,
   "metadata": {
    "tags": []
   },
   "outputs": [],
   "source": [
    "def histograms(df):\n",
    "    \"\"\"Display the histograms for Age and Salary columns from a data frame.\"\"\"\n",
    "    ages = df[\"Age\"]\n",
    "    salaries = df[\"Salary\"]\n",
    "    \n",
    "    # bins\n",
    "    age_bins = np.arange(ages.min(), ages.max() + 2, 2)\n",
    "    salary_bins = np.arange(salaries.min(), salaries.max() + 1_000_000, 1_000_000)\n",
    "    \n",
    "    # Age histogram\n",
    "    df.hist(column=\"Age\", bins=age_bins, density=True, color='b')\n",
    "    \n",
    "    # Salary histogram\n",
    "    df.hist(column=\"Salary\", bins=salary_bins, density=True, color='g')"
   ]
  },
  {
   "cell_type": "markdown",
   "metadata": {},
   "source": [
    "Now run the cell below.  It should display *two* histograms."
   ]
  },
  {
   "cell_type": "code",
   "execution_count": 156,
   "metadata": {
    "tags": []
   },
   "outputs": [
    {
     "data": {
      "image/png": "[encoded data removed]",
      "text/plain": [
       "<Figure size 1000x800 with 1 Axes>"
      ]
     },
     "metadata": {},
     "output_type": "display_data"
    },
    {
     "data": {
      "image/png": "[encoded data removed]",
      "text/plain": [
       "<Figure size 1000x800 with 1 Axes>"
      ]
     },
     "metadata": {},
     "output_type": "display_data"
    }
   ],
   "source": [
    "histograms(full_data)"
   ]
  },
  {
   "cell_type": "markdown",
   "metadata": {},
   "source": [
    "**Question 2.2:**. Create a function called `compute_statistics` that takes a data frame containing ages and salaries (labeled as \"Age\" and \"Salary\", respectively) and:\n",
    "- draws a histogram of ages,\n",
    "- draws a histogram of salaries,\n",
    "- returns a two-element *list* containing the average age and average salary.\n",
    "\n",
    "Note that you can call your `histograms` function to draw the histograms."
   ]
  },
  {
   "cell_type": "code",
   "execution_count": 157,
   "metadata": {
    "tags": []
   },
   "outputs": [
    {
     "data": {
      "text/plain": [
       "[26.151119402985074, 6205311.003731343]"
      ]
     },
     "execution_count": 157,
     "metadata": {},
     "output_type": "execute_result"
    },
    {
     "data": {
      "image/png": "[encoded data removed]",
      "text/plain": [
       "<Figure size 1000x800 with 1 Axes>"
      ]
     },
     "metadata": {},
     "output_type": "display_data"
    },
    {
     "data": {
      "image/png": "[encoded data removed]",
      "text/plain": [
       "<Figure size 1000x800 with 1 Axes>"
      ]
     },
     "metadata": {},
     "output_type": "display_data"
    }
   ],
   "source": [
    "def compute_statistics(age_and_salary_data):\n",
    "    \"\"\"Display the histograms for Age and Salary and returns a list with average Age and Salary.\"\"\"\n",
    "    histograms(age_and_salary_data)  # display the histograms for Age and Salary\n",
    "    aver_age = age_and_salary_data[\"Age\"].mean()  # average Age\n",
    "    aver_salary = age_and_salary_data[\"Salary\"].mean()  # average Salary\n",
    "    return [aver_age, aver_salary]\n",
    "\n",
    "\n",
    "full_stats = compute_statistics(full_data)\n",
    "full_stats"
   ]
  },
  {
   "cell_type": "markdown",
   "metadata": {},
   "source": [
    "### Convenience sampling\n",
    "\n",
    "One sampling methodology, which is **generally a bad idea**, is to choose players who are somehow convenient to sample.  This is called *convenience sampling*. Suppose experienced players won't answer your surveys, so  you survey only *relatively new* players with ages less than 22."
   ]
  },
  {
   "cell_type": "markdown",
   "metadata": {},
   "source": [
    "**Question 2.3:**  Assign `convenience_sample_data` to a subset of `full_data` that contains only the rows for players under the age of 22."
   ]
  },
  {
   "cell_type": "code",
   "execution_count": 158,
   "metadata": {
    "tags": []
   },
   "outputs": [
    {
     "data": {
      "text/html": [
       "<div>\n",
       "<style scoped>\n",
       "    .dataframe tbody tr th:only-of-type {\n",
       "        vertical-align: middle;\n",
       "    }\n",
       "\n",
       "    .dataframe tbody tr th {\n",
       "        vertical-align: top;\n",
       "    }\n",
       "\n",
       "    .dataframe thead th {\n",
       "        text-align: right;\n",
       "    }\n",
       "</style>\n",
       "<table border=\"1\" class=\"dataframe\">\n",
       "  <thead>\n",
       "    <tr style=\"text-align: right;\">\n",
       "      <th></th>\n",
       "      <th>PlayerName</th>\n",
       "      <th>Age</th>\n",
       "      <th>Team</th>\n",
       "      <th>Games</th>\n",
       "      <th>Rebounds</th>\n",
       "      <th>Assists</th>\n",
       "      <th>Steals</th>\n",
       "      <th>Blocks</th>\n",
       "      <th>Turnovers</th>\n",
       "      <th>Points</th>\n",
       "      <th>Salary</th>\n",
       "    </tr>\n",
       "  </thead>\n",
       "  <tbody>\n",
       "    <tr>\n",
       "      <th>19</th>\n",
       "      <td>Anthony Edwards</td>\n",
       "      <td>20</td>\n",
       "      <td>MIN</td>\n",
       "      <td>40</td>\n",
       "      <td>203</td>\n",
       "      <td>143</td>\n",
       "      <td>61</td>\n",
       "      <td>26</td>\n",
       "      <td>122</td>\n",
       "      <td>889</td>\n",
       "      <td>10245480</td>\n",
       "    </tr>\n",
       "    <tr>\n",
       "      <th>33</th>\n",
       "      <td>LaMelo Ball</td>\n",
       "      <td>20</td>\n",
       "      <td>CHO</td>\n",
       "      <td>40</td>\n",
       "      <td>292</td>\n",
       "      <td>305</td>\n",
       "      <td>62</td>\n",
       "      <td>18</td>\n",
       "      <td>124</td>\n",
       "      <td>760</td>\n",
       "      <td>8231760</td>\n",
       "    </tr>\n",
       "    <tr>\n",
       "      <th>36</th>\n",
       "      <td>Franz Wagner</td>\n",
       "      <td>20</td>\n",
       "      <td>ORL</td>\n",
       "      <td>48</td>\n",
       "      <td>228</td>\n",
       "      <td>138</td>\n",
       "      <td>46</td>\n",
       "      <td>26</td>\n",
       "      <td>78</td>\n",
       "      <td>738</td>\n",
       "      <td>5007840</td>\n",
       "    </tr>\n",
       "    <tr>\n",
       "      <th>55</th>\n",
       "      <td>Tyrese Maxey</td>\n",
       "      <td>21</td>\n",
       "      <td>PHI</td>\n",
       "      <td>39</td>\n",
       "      <td>134</td>\n",
       "      <td>174</td>\n",
       "      <td>26</td>\n",
       "      <td>20</td>\n",
       "      <td>46</td>\n",
       "      <td>652</td>\n",
       "      <td>2602920</td>\n",
       "    </tr>\n",
       "    <tr>\n",
       "      <th>64</th>\n",
       "      <td>Tyrese Haliburton</td>\n",
       "      <td>21</td>\n",
       "      <td>SAC</td>\n",
       "      <td>44</td>\n",
       "      <td>173</td>\n",
       "      <td>316</td>\n",
       "      <td>72</td>\n",
       "      <td>31</td>\n",
       "      <td>98</td>\n",
       "      <td>615</td>\n",
       "      <td>4023600</td>\n",
       "    </tr>\n",
       "    <tr>\n",
       "      <th>...</th>\n",
       "      <td>...</td>\n",
       "      <td>...</td>\n",
       "      <td>...</td>\n",
       "      <td>...</td>\n",
       "      <td>...</td>\n",
       "      <td>...</td>\n",
       "      <td>...</td>\n",
       "      <td>...</td>\n",
       "      <td>...</td>\n",
       "      <td>...</td>\n",
       "      <td>...</td>\n",
       "    </tr>\n",
       "    <tr>\n",
       "      <th>468</th>\n",
       "      <td>Vernon Carey Jr.</td>\n",
       "      <td>20</td>\n",
       "      <td>CHO</td>\n",
       "      <td>4</td>\n",
       "      <td>5</td>\n",
       "      <td>0</td>\n",
       "      <td>1</td>\n",
       "      <td>0</td>\n",
       "      <td>1</td>\n",
       "      <td>8</td>\n",
       "      <td>1517981</td>\n",
       "    </tr>\n",
       "    <tr>\n",
       "      <th>498</th>\n",
       "      <td>Deividas Sirvydis</td>\n",
       "      <td>21</td>\n",
       "      <td>DET</td>\n",
       "      <td>3</td>\n",
       "      <td>6</td>\n",
       "      <td>1</td>\n",
       "      <td>3</td>\n",
       "      <td>1</td>\n",
       "      <td>0</td>\n",
       "      <td>3</td>\n",
       "      <td>85578</td>\n",
       "    </tr>\n",
       "    <tr>\n",
       "      <th>505</th>\n",
       "      <td>Vit Krejci</td>\n",
       "      <td>21</td>\n",
       "      <td>OKC</td>\n",
       "      <td>3</td>\n",
       "      <td>3</td>\n",
       "      <td>0</td>\n",
       "      <td>0</td>\n",
       "      <td>0</td>\n",
       "      <td>1</td>\n",
       "      <td>2</td>\n",
       "      <td>925258</td>\n",
       "    </tr>\n",
       "    <tr>\n",
       "      <th>508</th>\n",
       "      <td>Jaden Springer</td>\n",
       "      <td>19</td>\n",
       "      <td>PHI</td>\n",
       "      <td>2</td>\n",
       "      <td>2</td>\n",
       "      <td>0</td>\n",
       "      <td>0</td>\n",
       "      <td>2</td>\n",
       "      <td>1</td>\n",
       "      <td>2</td>\n",
       "      <td>2023680</td>\n",
       "    </tr>\n",
       "    <tr>\n",
       "      <th>509</th>\n",
       "      <td>Tyrell Terry</td>\n",
       "      <td>21</td>\n",
       "      <td>MEM</td>\n",
       "      <td>2</td>\n",
       "      <td>0</td>\n",
       "      <td>0</td>\n",
       "      <td>0</td>\n",
       "      <td>0</td>\n",
       "      <td>0</td>\n",
       "      <td>2</td>\n",
       "      <td>85578</td>\n",
       "    </tr>\n",
       "  </tbody>\n",
       "</table>\n",
       "<p>64 rows × 11 columns</p>\n",
       "</div>"
      ],
      "text/plain": [
       "            PlayerName  Age Team  Games  Rebounds  Assists  Steals  Blocks  \\\n",
       "19     Anthony Edwards   20  MIN     40       203      143      61      26   \n",
       "33         LaMelo Ball   20  CHO     40       292      305      62      18   \n",
       "36        Franz Wagner   20  ORL     48       228      138      46      26   \n",
       "55        Tyrese Maxey   21  PHI     39       134      174      26      20   \n",
       "64   Tyrese Haliburton   21  SAC     44       173      316      72      31   \n",
       "..                 ...  ...  ...    ...       ...      ...     ...     ...   \n",
       "468   Vernon Carey Jr.   20  CHO      4         5        0       1       0   \n",
       "498  Deividas Sirvydis   21  DET      3         6        1       3       1   \n",
       "505         Vit Krejci   21  OKC      3         3        0       0       0   \n",
       "508     Jaden Springer   19  PHI      2         2        0       0       2   \n",
       "509       Tyrell Terry   21  MEM      2         0        0       0       0   \n",
       "\n",
       "     Turnovers  Points    Salary  \n",
       "19         122     889  10245480  \n",
       "33         124     760   8231760  \n",
       "36          78     738   5007840  \n",
       "55          46     652   2602920  \n",
       "64          98     615   4023600  \n",
       "..         ...     ...       ...  \n",
       "468          1       8   1517981  \n",
       "498          0       3     85578  \n",
       "505          1       2    925258  \n",
       "508          1       2   2023680  \n",
       "509          0       2     85578  \n",
       "\n",
       "[64 rows x 11 columns]"
      ]
     },
     "execution_count": 158,
     "metadata": {},
     "output_type": "execute_result"
    }
   ],
   "source": [
    "convenience_sample = full_data[full_data[\"Age\"] < 22]\n",
    "convenience_sample"
   ]
  },
  {
   "cell_type": "markdown",
   "metadata": {},
   "source": [
    "**Question 2.4:** Assign `convenience_stats` to a list of the average age and average salary of your convenience sample, using the `compute_statistics` function.  Since they're computed on a sample, these are called *sample averages*.  (It's OK if the histograms are also displayed.)"
   ]
  },
  {
   "cell_type": "code",
   "execution_count": 159,
   "metadata": {
    "tags": []
   },
   "outputs": [
    {
     "data": {
      "text/plain": [
       "[20.375, 3648979.515625]"
      ]
     },
     "execution_count": 159,
     "metadata": {},
     "output_type": "execute_result"
    },
    {
     "data": {
      "image/png": "[encoded data removed]",
      "text/plain": [
       "<Figure size 1000x800 with 1 Axes>"
      ]
     },
     "metadata": {},
     "output_type": "display_data"
    },
    {
     "data": {
      "image/png": "[encoded data removed]",
      "text/plain": [
       "<Figure size 1000x800 with 1 Axes>"
      ]
     },
     "metadata": {},
     "output_type": "display_data"
    }
   ],
   "source": [
    "convenience_stats = compute_statistics(convenience_sample)\n",
    "convenience_stats"
   ]
  },
  {
   "cell_type": "markdown",
   "metadata": {},
   "source": [
    "---"
   ]
  },
  {
   "cell_type": "markdown",
   "metadata": {},
   "source": [
    "Next, we'll compare the convenience sample salaries with the full data salaries in a single histogram. The following cell should not require any changes; just run it."
   ]
  },
  {
   "cell_type": "code",
   "execution_count": 160,
   "metadata": {},
   "outputs": [
    {
     "name": "stdout",
     "output_type": "stream",
     "text": [
      "The highest salary between the convenience sample and all players is 45780966.\n"
     ]
    },
    {
     "data": {
      "image/png": "[encoded data removed]",
      "text/plain": [
       "<Figure size 1000x800 with 1 Axes>"
      ]
     },
     "metadata": {},
     "output_type": "display_data"
    },
    {
     "data": {
      "image/png": "[encoded data removed]",
      "text/plain": [
       "<Figure size 1000x800 with 1 Axes>"
      ]
     },
     "metadata": {},
     "output_type": "display_data"
    }
   ],
   "source": [
    "def compare_salaries(first, second, first_title, second_title):\n",
    "    \"\"\"Compare the salaries in two data frames.\"\"\"\n",
    "    max_salary = max(first[\"Salary\"].max(), second[\"Salary\"].max())\n",
    "    bins = np.arange(0, max_salary + 1e6, 1e6)\n",
    "    first.hist(\"Salary\", bins=bins, density=True, ec=\"white\")\n",
    "    plt.title(first_title)\n",
    "    second.hist(\"Salary\", bins=bins, density=True, ec=\"white\")\n",
    "    plt.title(second_title)\n",
    "    return max_salary\n",
    "\n",
    "\n",
    "max_salary = compare_salaries(full_data, convenience_sample, \"All Players\", \"Convenience Sample\")\n",
    "print(f\"The highest salary between the convenience sample and all players is {max_salary}.\")"
   ]
  },
  {
   "cell_type": "markdown",
   "metadata": {
    "tags": []
   },
   "source": [
    "### Simple random sampling\n",
    "\n",
    "A more principled approach is to sample uniformly at random from the players.  If we ensure that each player is selected at most once, this is a *simple random sample without replacement*, sometimes abbreviated to \"SRSWOR\".  Imagine writing down each player's name on a card, putting the cards in an urn, and shuffling the urn.  Then, pull out cards one by one and set them aside, stopping when the specified *sample size* is reached."
   ]
  },
  {
   "cell_type": "markdown",
   "metadata": {},
   "source": [
    "**Question 2.5:** Create random samples (without replacement) with 44 and 100 players, then use `compute_statistics` to complete the code below.  It should run the same analyses on the small and large samples that you previously ran on the full dataset and on the convenience sample."
   ]
  },
  {
   "cell_type": "code",
   "execution_count": 161,
   "metadata": {
    "tags": []
   },
   "outputs": [
    {
     "name": "stdout",
     "output_type": "stream",
     "text": [
      "Full data stats:                   26.15 average age,  $6,205,311.00 average salary.\n",
      "Convenience data stats:            20.38 average age,  $3,648,979.52 average salary.\n",
      "Small simple random sample stats:  26.07 average age,  $4,736,004.70 average salary.\n",
      "Large simple random sample stats:  26.08 average age,  $6,477,553.91 average salary.\n"
     ]
    },
    {
     "data": {
      "image/png": "[encoded data removed]",
      "text/plain": [
       "<Figure size 1000x800 with 1 Axes>"
      ]
     },
     "metadata": {},
     "output_type": "display_data"
    },
    {
     "data": {
      "image/png": "[encoded data removed]",
      "text/plain": [
       "<Figure size 1000x800 with 1 Axes>"
      ]
     },
     "metadata": {},
     "output_type": "display_data"
    },
    {
     "data": {
      "image/png": "[encoded data removed]",
      "text/plain": [
       "<Figure size 1000x800 with 1 Axes>"
      ]
     },
     "metadata": {},
     "output_type": "display_data"
    },
    {
     "data": {
      "image/png": "[encoded data removed]",
      "text/plain": [
       "<Figure size 1000x800 with 1 Axes>"
      ]
     },
     "metadata": {},
     "output_type": "display_data"
    }
   ],
   "source": [
    "# random sample with 44 players\n",
    "small_srswor_data = full_data.sample(44)\n",
    "\n",
    "# statistics for small_srswor_data data\n",
    "small_stats = compute_statistics(small_srswor_data)\n",
    "\n",
    "# random sample with 100 players\n",
    "large_srswor_data = full_data.sample(100)\n",
    "\n",
    "\n",
    "# statistics for small_srswor_data data\n",
    "large_stats = compute_statistics(large_srswor_data)\n",
    "\n",
    "# print the results\n",
    "print(f\"Full data stats:                   {full_stats[0]:.2f} average age,  ${full_stats[1]:,.2f} average salary.\")\n",
    "print(f\"Convenience data stats:            {convenience_stats[0]:.2f} average age,  ${convenience_stats[1]:,.2f} average salary.\")\n",
    "print(f\"Small simple random sample stats:  {small_stats[0]:.2f} average age,  ${small_stats[1]:,.2f} average salary.\")\n",
    "print(f\"Large simple random sample stats:  {large_stats[0]:.2f} average age,  ${large_stats[1]:,.2f} average salary.\")"
   ]
  },
  {
   "cell_type": "markdown",
   "metadata": {},
   "source": [
    "## 3. Probability"
   ]
  },
  {
   "cell_type": "markdown",
   "metadata": {},
   "source": [
    "We are going to study probabilities in a game in which a player rolls three dice."
   ]
  },
  {
   "cell_type": "markdown",
   "metadata": {},
   "source": [
    "**Question 3.1:** Create a function that simulates the roll of `num_dice` dice, each with `num_faces` faces numbered from 1 to `num_faces`.  It takes the number of dice (`num_dice`) and the number of faces (`num_faces`) as its arguments and returns an array (of legth `num_dice`) with a random result (a number between 1 and `num_faces`) for each die."
   ]
  },
  {
   "cell_type": "code",
   "execution_count": 162,
   "metadata": {
    "tags": []
   },
   "outputs": [],
   "source": [
    "def roll_dice(num_dice, num_faces):\n",
    "    \"\"\"Simulate roll of num_dice dice with num_faces face.\"\"\"\n",
    "    # array of possible results\n",
    "    possible_results = np.arange(1, num_faces +1)\n",
    "    \n",
    "    return np.random.choice(possible_results, num_dice)"
   ]
  },
  {
   "cell_type": "markdown",
   "metadata": {},
   "source": [
    "You can test it by running the cell below a few times.  (You can change `num_dice` and `num_faces` to test different numbers of dice and faces.)"
   ]
  },
  {
   "cell_type": "code",
   "execution_count": 163,
   "metadata": {
    "tags": []
   },
   "outputs": [
    {
     "data": {
      "text/plain": [
       "array([3, 1, 2])"
      ]
     },
     "execution_count": 163,
     "metadata": {},
     "output_type": "execute_result"
    }
   ],
   "source": [
    "num_dice = 3\n",
    "num_faces = 6\n",
    "roll_dice(num_dice, num_faces)"
   ]
  },
  {
   "cell_type": "markdown",
   "metadata": {},
   "source": [
    "**Question 3.2:** Complete the code below to create a data frame called `thousand_rolls` that contains the simulation for a thousand rolls of three six-face dice.  The columns are called `Die 1`, `Die 2`, `Die 3` and contain the corresponding roll of the die.\n",
    "\n",
    "*Hint:* We will use the most efficient way here.  We create arrays `die1`, `die2`, `die3` that will contain the columns of the data frame.  We initialize them as arrays with 1,000 zeros (of type `int`) using [np.zeros](https://numpy.org/doc/stable/reference/generated/numpy.zeros.html).\n",
    "\n",
    "Then, we have a `for` loop with 1,000 iterations where we change the zeros of each column to the results of the rolls.  (Use your `roll_dice` function to simulate a single roll!)\n",
    "\n",
    "When the loop ends, we create the data frame with the completed columns.\n",
    "\n",
    "**Note:** There is an even more efficient way to do this in this case.  Since the rolls of the dice are *independent*, we could simply create the columns with\n",
    "```python\n",
    "die1 = roll_dice(1000, 6)\n",
    "die2 = roll_dice(1000, 6)\n",
    "die3 = roll_dice(1000, 6)\n",
    "```\n",
    "**You cannot do that here**, though!  You cannot always take this shortcut, and I want you to practice creating simulation data frames sample by sample, which is a general method."
   ]
  },
  {
   "cell_type": "code",
   "execution_count": 164,
   "metadata": {
    "tags": []
   },
   "outputs": [
    {
     "data": {
      "text/html": [
       "<div>\n",
       "<style scoped>\n",
       "    .dataframe tbody tr th:only-of-type {\n",
       "        vertical-align: middle;\n",
       "    }\n",
       "\n",
       "    .dataframe tbody tr th {\n",
       "        vertical-align: top;\n",
       "    }\n",
       "\n",
       "    .dataframe thead th {\n",
       "        text-align: right;\n",
       "    }\n",
       "</style>\n",
       "<table border=\"1\" class=\"dataframe\">\n",
       "  <thead>\n",
       "    <tr style=\"text-align: right;\">\n",
       "      <th></th>\n",
       "      <th>Die 1</th>\n",
       "      <th>Die 2</th>\n",
       "      <th>Die 3</th>\n",
       "    </tr>\n",
       "  </thead>\n",
       "  <tbody>\n",
       "    <tr>\n",
       "      <th>0</th>\n",
       "      <td>4</td>\n",
       "      <td>2</td>\n",
       "      <td>3</td>\n",
       "    </tr>\n",
       "    <tr>\n",
       "      <th>1</th>\n",
       "      <td>6</td>\n",
       "      <td>2</td>\n",
       "      <td>4</td>\n",
       "    </tr>\n",
       "    <tr>\n",
       "      <th>2</th>\n",
       "      <td>4</td>\n",
       "      <td>4</td>\n",
       "      <td>3</td>\n",
       "    </tr>\n",
       "    <tr>\n",
       "      <th>3</th>\n",
       "      <td>2</td>\n",
       "      <td>6</td>\n",
       "      <td>6</td>\n",
       "    </tr>\n",
       "    <tr>\n",
       "      <th>4</th>\n",
       "      <td>1</td>\n",
       "      <td>1</td>\n",
       "      <td>3</td>\n",
       "    </tr>\n",
       "    <tr>\n",
       "      <th>...</th>\n",
       "      <td>...</td>\n",
       "      <td>...</td>\n",
       "      <td>...</td>\n",
       "    </tr>\n",
       "    <tr>\n",
       "      <th>995</th>\n",
       "      <td>5</td>\n",
       "      <td>2</td>\n",
       "      <td>6</td>\n",
       "    </tr>\n",
       "    <tr>\n",
       "      <th>996</th>\n",
       "      <td>2</td>\n",
       "      <td>1</td>\n",
       "      <td>3</td>\n",
       "    </tr>\n",
       "    <tr>\n",
       "      <th>997</th>\n",
       "      <td>5</td>\n",
       "      <td>6</td>\n",
       "      <td>2</td>\n",
       "    </tr>\n",
       "    <tr>\n",
       "      <th>998</th>\n",
       "      <td>5</td>\n",
       "      <td>5</td>\n",
       "      <td>6</td>\n",
       "    </tr>\n",
       "    <tr>\n",
       "      <th>999</th>\n",
       "      <td>2</td>\n",
       "      <td>1</td>\n",
       "      <td>4</td>\n",
       "    </tr>\n",
       "  </tbody>\n",
       "</table>\n",
       "<p>1000 rows × 3 columns</p>\n",
       "</div>"
      ],
      "text/plain": [
       "     Die 1  Die 2  Die 3\n",
       "0        4      2      3\n",
       "1        6      2      4\n",
       "2        4      4      3\n",
       "3        2      6      6\n",
       "4        1      1      3\n",
       "..     ...    ...    ...\n",
       "995      5      2      6\n",
       "996      2      1      3\n",
       "997      5      6      2\n",
       "998      5      5      6\n",
       "999      2      1      4\n",
       "\n",
       "[1000 rows x 3 columns]"
      ]
     },
     "execution_count": 164,
     "metadata": {},
     "output_type": "execute_result"
    }
   ],
   "source": [
    "# number of rolls\n",
    "num_rolls = 1_000\n",
    "\n",
    "# initialize the columns\n",
    "die1 = np.zeros(num_rolls, dtype=int)\n",
    "die2 = np.zeros(num_rolls, dtype=int)\n",
    "die3 = np.zeros(num_rolls, dtype=int)\n",
    "\n",
    "# perform rolls and add results to columns\n",
    "for i in range(num_rolls):\n",
    "    # roll\n",
    "    roll_result = roll_dice(3, 6)\n",
    "\n",
    "    # add results to the columns\n",
    "    die1[i] = roll_result[0]\n",
    "    die2[i] = roll_result[1]\n",
    "    die3[i] = roll_result[2]\n",
    "\n",
    "# create the data frame\n",
    "thousand_rolls = pd.DataFrame({\"Die 1\": die1, \"Die 2\": die2, \"Die 3\": die3})\n",
    "\n",
    "thousand_rolls"
   ]
  },
  {
   "cell_type": "markdown",
   "metadata": {},
   "source": [
    "**Question 3.3:** Add a column, labeled \"Sum\", with the sum of the values of the three dice (for each row)."
   ]
  },
  {
   "cell_type": "code",
   "execution_count": 165,
   "metadata": {
    "tags": []
   },
   "outputs": [
    {
     "data": {
      "text/html": [
       "<div>\n",
       "<style scoped>\n",
       "    .dataframe tbody tr th:only-of-type {\n",
       "        vertical-align: middle;\n",
       "    }\n",
       "\n",
       "    .dataframe tbody tr th {\n",
       "        vertical-align: top;\n",
       "    }\n",
       "\n",
       "    .dataframe thead th {\n",
       "        text-align: right;\n",
       "    }\n",
       "</style>\n",
       "<table border=\"1\" class=\"dataframe\">\n",
       "  <thead>\n",
       "    <tr style=\"text-align: right;\">\n",
       "      <th></th>\n",
       "      <th>Die 1</th>\n",
       "      <th>Die 2</th>\n",
       "      <th>Die 3</th>\n",
       "      <th>Sum</th>\n",
       "    </tr>\n",
       "  </thead>\n",
       "  <tbody>\n",
       "    <tr>\n",
       "      <th>0</th>\n",
       "      <td>4</td>\n",
       "      <td>2</td>\n",
       "      <td>3</td>\n",
       "      <td>9</td>\n",
       "    </tr>\n",
       "    <tr>\n",
       "      <th>1</th>\n",
       "      <td>6</td>\n",
       "      <td>2</td>\n",
       "      <td>4</td>\n",
       "      <td>12</td>\n",
       "    </tr>\n",
       "    <tr>\n",
       "      <th>2</th>\n",
       "      <td>4</td>\n",
       "      <td>4</td>\n",
       "      <td>3</td>\n",
       "      <td>11</td>\n",
       "    </tr>\n",
       "    <tr>\n",
       "      <th>3</th>\n",
       "      <td>2</td>\n",
       "      <td>6</td>\n",
       "      <td>6</td>\n",
       "      <td>14</td>\n",
       "    </tr>\n",
       "    <tr>\n",
       "      <th>4</th>\n",
       "      <td>1</td>\n",
       "      <td>1</td>\n",
       "      <td>3</td>\n",
       "      <td>5</td>\n",
       "    </tr>\n",
       "    <tr>\n",
       "      <th>...</th>\n",
       "      <td>...</td>\n",
       "      <td>...</td>\n",
       "      <td>...</td>\n",
       "      <td>...</td>\n",
       "    </tr>\n",
       "    <tr>\n",
       "      <th>995</th>\n",
       "      <td>5</td>\n",
       "      <td>2</td>\n",
       "      <td>6</td>\n",
       "      <td>13</td>\n",
       "    </tr>\n",
       "    <tr>\n",
       "      <th>996</th>\n",
       "      <td>2</td>\n",
       "      <td>1</td>\n",
       "      <td>3</td>\n",
       "      <td>6</td>\n",
       "    </tr>\n",
       "    <tr>\n",
       "      <th>997</th>\n",
       "      <td>5</td>\n",
       "      <td>6</td>\n",
       "      <td>2</td>\n",
       "      <td>13</td>\n",
       "    </tr>\n",
       "    <tr>\n",
       "      <th>998</th>\n",
       "      <td>5</td>\n",
       "      <td>5</td>\n",
       "      <td>6</td>\n",
       "      <td>16</td>\n",
       "    </tr>\n",
       "    <tr>\n",
       "      <th>999</th>\n",
       "      <td>2</td>\n",
       "      <td>1</td>\n",
       "      <td>4</td>\n",
       "      <td>7</td>\n",
       "    </tr>\n",
       "  </tbody>\n",
       "</table>\n",
       "<p>1000 rows × 4 columns</p>\n",
       "</div>"
      ],
      "text/plain": [
       "     Die 1  Die 2  Die 3  Sum\n",
       "0        4      2      3    9\n",
       "1        6      2      4   12\n",
       "2        4      4      3   11\n",
       "3        2      6      6   14\n",
       "4        1      1      3    5\n",
       "..     ...    ...    ...  ...\n",
       "995      5      2      6   13\n",
       "996      2      1      3    6\n",
       "997      5      6      2   13\n",
       "998      5      5      6   16\n",
       "999      2      1      4    7\n",
       "\n",
       "[1000 rows x 4 columns]"
      ]
     },
     "execution_count": 165,
     "metadata": {},
     "output_type": "execute_result"
    }
   ],
   "source": [
    "thousand_rolls[\"Sum\"] = (\n",
    "    thousand_rolls[\"Die 1\"] + thousand_rolls[\"Die 2\"] + thousand_rolls[\"Die 3\"]\n",
    ")\n",
    "thousand_rolls"
   ]
  },
  {
   "cell_type": "markdown",
   "metadata": {},
   "source": [
    "**Question 3.4:** Create a density histogram approximating the probabilities for the resulting sum of a roll (the sum of the dice).  Note that the minimum roll is 3 and the maximum is 18.  Use bins 2.5, 3.5, 4.5, ... 18.5 (so that the roll value is in the middle of the bars)."
   ]
  },
  {
   "cell_type": "code",
   "execution_count": 166,
   "metadata": {
    "tags": []
   },
   "outputs": [
    {
     "data": {
      "image/png": "[encoded data removed]",
      "text/plain": [
       "<Figure size 1000x800 with 1 Axes>"
      ]
     },
     "metadata": {},
     "output_type": "display_data"
    }
   ],
   "source": [
    "# array with 2.5, 3.5, 4.5, ..., 17.5, 18.5\n",
    "bins = np.arange(2.5, 19.5)\n",
    "\n",
    "# probability histogram\n",
    "thousand_rolls.hist(\"Sum\", bins=bins, density=True, ec=\"white\")\n",
    "plt.show()"
   ]
  },
  {
   "cell_type": "markdown",
   "metadata": {},
   "source": [
    "Now suppose that in this game the player can roll again if either the dice all have the same number face up or if their sum is 15 or more.  We want to estimate the probability of that happening based on the data in `thousand_rolls`."
   ]
  },
  {
   "cell_type": "markdown",
   "metadata": {},
   "source": [
    "**Question 3.5:** Filter the data frame `thousand_rolls` to have only rows that results in the player rolling again, i.e., the three dice match or the sum is 15 or more.\n",
    "\n",
    "*Hint:* Both `.loc` and `.query` work.  The latter is much simpler here, so I recommend you use it!  \n",
    "\n",
    "Note that since the column labels have spaces, you need to use back ticks for the columns around the column names (with spaces).  For instance, to filter the `thousand_rows` data frame for rows in which both `Die 1` and `Die 3` are greater than 4, we can do:\n",
    "\n",
    "```python\n",
    "thousand_rolls.query(\"`Die 1` > 4 and `Die 3` > 4\")\n",
    "```"
   ]
  },
  {
   "cell_type": "code",
   "execution_count": 167,
   "metadata": {
    "tags": []
   },
   "outputs": [
    {
     "data": {
      "text/html": [
       "<div>\n",
       "<style scoped>\n",
       "    .dataframe tbody tr th:only-of-type {\n",
       "        vertical-align: middle;\n",
       "    }\n",
       "\n",
       "    .dataframe tbody tr th {\n",
       "        vertical-align: top;\n",
       "    }\n",
       "\n",
       "    .dataframe thead th {\n",
       "        text-align: right;\n",
       "    }\n",
       "</style>\n",
       "<table border=\"1\" class=\"dataframe\">\n",
       "  <thead>\n",
       "    <tr style=\"text-align: right;\">\n",
       "      <th></th>\n",
       "      <th>Die 1</th>\n",
       "      <th>Die 2</th>\n",
       "      <th>Die 3</th>\n",
       "      <th>Sum</th>\n",
       "    </tr>\n",
       "  </thead>\n",
       "  <tbody>\n",
       "    <tr>\n",
       "      <th>6</th>\n",
       "      <td>5</td>\n",
       "      <td>6</td>\n",
       "      <td>6</td>\n",
       "      <td>17</td>\n",
       "    </tr>\n",
       "    <tr>\n",
       "      <th>7</th>\n",
       "      <td>6</td>\n",
       "      <td>4</td>\n",
       "      <td>5</td>\n",
       "      <td>15</td>\n",
       "    </tr>\n",
       "    <tr>\n",
       "      <th>22</th>\n",
       "      <td>3</td>\n",
       "      <td>6</td>\n",
       "      <td>6</td>\n",
       "      <td>15</td>\n",
       "    </tr>\n",
       "    <tr>\n",
       "      <th>29</th>\n",
       "      <td>3</td>\n",
       "      <td>3</td>\n",
       "      <td>3</td>\n",
       "      <td>9</td>\n",
       "    </tr>\n",
       "    <tr>\n",
       "      <th>35</th>\n",
       "      <td>5</td>\n",
       "      <td>5</td>\n",
       "      <td>5</td>\n",
       "      <td>15</td>\n",
       "    </tr>\n",
       "    <tr>\n",
       "      <th>...</th>\n",
       "      <td>...</td>\n",
       "      <td>...</td>\n",
       "      <td>...</td>\n",
       "      <td>...</td>\n",
       "    </tr>\n",
       "    <tr>\n",
       "      <th>949</th>\n",
       "      <td>6</td>\n",
       "      <td>6</td>\n",
       "      <td>5</td>\n",
       "      <td>17</td>\n",
       "    </tr>\n",
       "    <tr>\n",
       "      <th>968</th>\n",
       "      <td>5</td>\n",
       "      <td>6</td>\n",
       "      <td>6</td>\n",
       "      <td>17</td>\n",
       "    </tr>\n",
       "    <tr>\n",
       "      <th>975</th>\n",
       "      <td>1</td>\n",
       "      <td>1</td>\n",
       "      <td>1</td>\n",
       "      <td>3</td>\n",
       "    </tr>\n",
       "    <tr>\n",
       "      <th>978</th>\n",
       "      <td>5</td>\n",
       "      <td>5</td>\n",
       "      <td>5</td>\n",
       "      <td>15</td>\n",
       "    </tr>\n",
       "    <tr>\n",
       "      <th>998</th>\n",
       "      <td>5</td>\n",
       "      <td>5</td>\n",
       "      <td>6</td>\n",
       "      <td>16</td>\n",
       "    </tr>\n",
       "  </tbody>\n",
       "</table>\n",
       "<p>102 rows × 4 columns</p>\n",
       "</div>"
      ],
      "text/plain": [
       "     Die 1  Die 2  Die 3  Sum\n",
       "6        5      6      6   17\n",
       "7        6      4      5   15\n",
       "22       3      6      6   15\n",
       "29       3      3      3    9\n",
       "35       5      5      5   15\n",
       "..     ...    ...    ...  ...\n",
       "949      6      6      5   17\n",
       "968      5      6      6   17\n",
       "975      1      1      1    3\n",
       "978      5      5      5   15\n",
       "998      5      5      6   16\n",
       "\n",
       "[102 rows x 4 columns]"
      ]
     },
     "execution_count": 167,
     "metadata": {},
     "output_type": "execute_result"
    }
   ],
   "source": [
    "roll_again = thousand_rolls.query(\"(`Die 1` == `Die 2` and `Die 2` == `Die 3`) or (`Die 1` + `Die 2` + `Die 3` >= 15)\")\n",
    "\n",
    "roll_again"
   ]
  },
  {
   "cell_type": "markdown",
   "metadata": {},
   "source": [
    "**Question 3.6:** We now estimate the probability of a player rolling again.  Pretend that we do not know that the `thousand_rolls` correspond to 1,000 rolls.  (This way the code works if you change the number of rolls.)  First find from the data frame itself the number of rolls (which is simply the number of rows), then find the number of occurrences that result in the player rolling again inside it.  (*Hint:* Use the `roll_again` data frame.)  The estimated probability is shown at the end."
   ]
  },
  {
   "cell_type": "code",
   "execution_count": 168,
   "metadata": {
    "tags": []
   },
   "outputs": [
    {
     "name": "stdout",
     "output_type": "stream",
     "text": [
      "The estimated probability of rolling again is: 10.20%\n"
     ]
    }
   ],
   "source": [
    "total_num_rolls = len(thousand_rolls)\n",
    "\n",
    "roll_again_rolls = len(roll_again)\n",
    "\n",
    "roll_again_prob = roll_again_rolls / total_num_rolls\n",
    "\n",
    "print(f\"The estimated probability of rolling again is: {roll_again_prob:,.2%}\")"
   ]
  },
  {
   "cell_type": "markdown",
   "metadata": {},
   "source": [
    "**Note:** With some math we can actually compute the exact probability: it is $\\dfrac{24}{6^3} \\approx 11.11\\%$."
   ]
  },
  {
   "cell_type": "markdown",
   "metadata": {},
   "source": [
    "## 4. Submission\n",
    "\n",
    "You're finished with lab 7. **To submit this lab**, please download your notebook as a .ipynb file and submit in Canvas under Lab 7 (under Assignments). To export, go to the toolbar at the top of this page, click File > Download. Then, go to our class's Canvas page and upload your file under \"Lab 7\".\n",
    "\n",
    "For easy identification, **please add your surname to the file**, as in: lab_07_DS201_Name.ipynb"
   ]
  }
 ],
 "metadata": {
  "anaconda-cloud": {},
  "kernelspec": {
   "display_name": "Python 3 (ipykernel)",
   "language": "python",
   "name": "python3"
  },
  "language_info": {
   "codemirror_mode": {
    "name": "ipython",
    "version": 3
   },
   "file_extension": ".py",
   "mimetype": "text/x-python",
   "name": "python",
   "nbconvert_exporter": "python",
   "pygments_lexer": "ipython3",
   "version": "3.11.4"
  }
 },
 "nbformat": 4,
 "nbformat_minor": 4
}
