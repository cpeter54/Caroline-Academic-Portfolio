{
 "cells": [
  {
   "cell_type": "markdown",
   "id": "0cafb0ce-4c09-415f-8307-a798be6ec594",
   "metadata": {},
   "source": [
    "# Lab 10: Bootstrap and Predictions"
   ]
  },
  {
   "cell_type": "markdown",
   "id": "c8cd541f-ab24-41d5-b812-c8a700a0f19b",
   "metadata": {},
   "source": [
    "## Your Name: Caroline Petersen"
   ]
  },
  {
   "cell_type": "code",
   "execution_count": 1,
   "id": "5f9b0023-1848-455c-9719-78e6fbb43a50",
   "metadata": {},
   "outputs": [],
   "source": [
    "import numpy as np\n",
    "import pandas as pd\n",
    "import matplotlib.pyplot as plt\n",
    "\n",
    "%matplotlib inline\n",
    "plt.rcParams['figure.figsize'] = (10, 8)\n",
    "\n",
    "# style\n",
    "# plt.style.use('fivethirtyeight')\n",
    "plt.style.use(\"ggplot\")"
   ]
  },
  {
   "cell_type": "markdown",
   "id": "9929f549-6488-42d8-8a3d-eb3cbb968414",
   "metadata": {},
   "source": [
    "## 1. Diamonds "
   ]
  },
  {
   "cell_type": "markdown",
   "id": "676f6634-8983-40ed-a168-dc376767849a",
   "metadata": {},
   "source": [
    "The data frame `diamonds` (loaded below) contains data about price and weight of 600 diamonds (among other info)."
   ]
  },
  {
   "cell_type": "code",
   "execution_count": 2,
   "id": "0cc12513-48ce-4013-a1b9-e967294122b5",
   "metadata": {
    "tags": []
   },
   "outputs": [
    {
     "data": {
      "text/html": [
       "<div>\n",
       "<style scoped>\n",
       "    .dataframe tbody tr th:only-of-type {\n",
       "        vertical-align: middle;\n",
       "    }\n",
       "\n",
       "    .dataframe tbody tr th {\n",
       "        vertical-align: top;\n",
       "    }\n",
       "\n",
       "    .dataframe thead th {\n",
       "        text-align: right;\n",
       "    }\n",
       "</style>\n",
       "<table border=\"1\" class=\"dataframe\">\n",
       "  <thead>\n",
       "    <tr style=\"text-align: right;\">\n",
       "      <th></th>\n",
       "      <th>Carat Weight</th>\n",
       "      <th>Cut</th>\n",
       "      <th>Color</th>\n",
       "      <th>Clarity</th>\n",
       "      <th>Polish</th>\n",
       "      <th>Symmetry</th>\n",
       "      <th>Report</th>\n",
       "      <th>Price</th>\n",
       "    </tr>\n",
       "  </thead>\n",
       "  <tbody>\n",
       "    <tr>\n",
       "      <th>0</th>\n",
       "      <td>1.10</td>\n",
       "      <td>Ideal</td>\n",
       "      <td>H</td>\n",
       "      <td>SI1</td>\n",
       "      <td>VG</td>\n",
       "      <td>EX</td>\n",
       "      <td>GIA</td>\n",
       "      <td>5169</td>\n",
       "    </tr>\n",
       "    <tr>\n",
       "      <th>1</th>\n",
       "      <td>0.83</td>\n",
       "      <td>Ideal</td>\n",
       "      <td>H</td>\n",
       "      <td>VS1</td>\n",
       "      <td>ID</td>\n",
       "      <td>ID</td>\n",
       "      <td>AGSL</td>\n",
       "      <td>3470</td>\n",
       "    </tr>\n",
       "    <tr>\n",
       "      <th>2</th>\n",
       "      <td>0.85</td>\n",
       "      <td>Ideal</td>\n",
       "      <td>H</td>\n",
       "      <td>SI1</td>\n",
       "      <td>EX</td>\n",
       "      <td>EX</td>\n",
       "      <td>GIA</td>\n",
       "      <td>3183</td>\n",
       "    </tr>\n",
       "    <tr>\n",
       "      <th>3</th>\n",
       "      <td>0.91</td>\n",
       "      <td>Ideal</td>\n",
       "      <td>E</td>\n",
       "      <td>SI1</td>\n",
       "      <td>VG</td>\n",
       "      <td>VG</td>\n",
       "      <td>GIA</td>\n",
       "      <td>4370</td>\n",
       "    </tr>\n",
       "    <tr>\n",
       "      <th>4</th>\n",
       "      <td>0.83</td>\n",
       "      <td>Ideal</td>\n",
       "      <td>G</td>\n",
       "      <td>SI1</td>\n",
       "      <td>EX</td>\n",
       "      <td>EX</td>\n",
       "      <td>GIA</td>\n",
       "      <td>3171</td>\n",
       "    </tr>\n",
       "    <tr>\n",
       "      <th>...</th>\n",
       "      <td>...</td>\n",
       "      <td>...</td>\n",
       "      <td>...</td>\n",
       "      <td>...</td>\n",
       "      <td>...</td>\n",
       "      <td>...</td>\n",
       "      <td>...</td>\n",
       "      <td>...</td>\n",
       "    </tr>\n",
       "    <tr>\n",
       "      <th>5995</th>\n",
       "      <td>1.03</td>\n",
       "      <td>Ideal</td>\n",
       "      <td>D</td>\n",
       "      <td>SI1</td>\n",
       "      <td>EX</td>\n",
       "      <td>EX</td>\n",
       "      <td>GIA</td>\n",
       "      <td>6250</td>\n",
       "    </tr>\n",
       "    <tr>\n",
       "      <th>5996</th>\n",
       "      <td>1.00</td>\n",
       "      <td>Very Good</td>\n",
       "      <td>D</td>\n",
       "      <td>SI1</td>\n",
       "      <td>VG</td>\n",
       "      <td>VG</td>\n",
       "      <td>GIA</td>\n",
       "      <td>5328</td>\n",
       "    </tr>\n",
       "    <tr>\n",
       "      <th>5997</th>\n",
       "      <td>1.02</td>\n",
       "      <td>Ideal</td>\n",
       "      <td>D</td>\n",
       "      <td>SI1</td>\n",
       "      <td>EX</td>\n",
       "      <td>EX</td>\n",
       "      <td>GIA</td>\n",
       "      <td>6157</td>\n",
       "    </tr>\n",
       "    <tr>\n",
       "      <th>5998</th>\n",
       "      <td>1.27</td>\n",
       "      <td>Signature-Ideal</td>\n",
       "      <td>G</td>\n",
       "      <td>VS1</td>\n",
       "      <td>EX</td>\n",
       "      <td>EX</td>\n",
       "      <td>GIA</td>\n",
       "      <td>11206</td>\n",
       "    </tr>\n",
       "    <tr>\n",
       "      <th>5999</th>\n",
       "      <td>2.19</td>\n",
       "      <td>Ideal</td>\n",
       "      <td>E</td>\n",
       "      <td>VS1</td>\n",
       "      <td>EX</td>\n",
       "      <td>EX</td>\n",
       "      <td>GIA</td>\n",
       "      <td>30507</td>\n",
       "    </tr>\n",
       "  </tbody>\n",
       "</table>\n",
       "<p>6000 rows × 8 columns</p>\n",
       "</div>"
      ],
      "text/plain": [
       "      Carat Weight              Cut Color Clarity Polish Symmetry Report  \\\n",
       "0             1.10            Ideal     H     SI1     VG       EX    GIA   \n",
       "1             0.83            Ideal     H     VS1     ID       ID   AGSL   \n",
       "2             0.85            Ideal     H     SI1     EX       EX    GIA   \n",
       "3             0.91            Ideal     E     SI1     VG       VG    GIA   \n",
       "4             0.83            Ideal     G     SI1     EX       EX    GIA   \n",
       "...            ...              ...   ...     ...    ...      ...    ...   \n",
       "5995          1.03            Ideal     D     SI1     EX       EX    GIA   \n",
       "5996          1.00        Very Good     D     SI1     VG       VG    GIA   \n",
       "5997          1.02            Ideal     D     SI1     EX       EX    GIA   \n",
       "5998          1.27  Signature-Ideal     G     VS1     EX       EX    GIA   \n",
       "5999          2.19            Ideal     E     VS1     EX       EX    GIA   \n",
       "\n",
       "      Price  \n",
       "0      5169  \n",
       "1      3470  \n",
       "2      3183  \n",
       "3      4370  \n",
       "4      3171  \n",
       "...     ...  \n",
       "5995   6250  \n",
       "5996   5328  \n",
       "5997   6157  \n",
       "5998  11206  \n",
       "5999  30507  \n",
       "\n",
       "[6000 rows x 8 columns]"
      ]
     },
     "execution_count": 2,
     "metadata": {},
     "output_type": "execute_result"
    }
   ],
   "source": [
    "diamonds = pd.read_csv(\"diamonds.csv\")\n",
    "diamonds"
   ]
  },
  {
   "cell_type": "markdown",
   "id": "cd390a54-15f3-4264-897c-39296d6fbba6",
   "metadata": {},
   "source": [
    "In this section we will use a sample and bootstrap to predict the average ratio of price over weight for the whole data frame."
   ]
  },
  {
   "cell_type": "markdown",
   "id": "c59c14a1-d4eb-46b4-8bf1-4d7e59ab0205",
   "metadata": {},
   "source": [
    "**Question 1.1:** Add a column labeled `Ratio` to the `diamonds` data frame containing the ratio between the price and (carat) weight."
   ]
  },
  {
   "cell_type": "code",
   "execution_count": 3,
   "id": "0608b28b-3855-4dab-9095-f44fb65ff448",
   "metadata": {},
   "outputs": [
    {
     "data": {
      "text/html": [
       "<div>\n",
       "<style scoped>\n",
       "    .dataframe tbody tr th:only-of-type {\n",
       "        vertical-align: middle;\n",
       "    }\n",
       "\n",
       "    .dataframe tbody tr th {\n",
       "        vertical-align: top;\n",
       "    }\n",
       "\n",
       "    .dataframe thead th {\n",
       "        text-align: right;\n",
       "    }\n",
       "</style>\n",
       "<table border=\"1\" class=\"dataframe\">\n",
       "  <thead>\n",
       "    <tr style=\"text-align: right;\">\n",
       "      <th></th>\n",
       "      <th>Carat Weight</th>\n",
       "      <th>Cut</th>\n",
       "      <th>Color</th>\n",
       "      <th>Clarity</th>\n",
       "      <th>Polish</th>\n",
       "      <th>Symmetry</th>\n",
       "      <th>Report</th>\n",
       "      <th>Price</th>\n",
       "      <th>Ratio</th>\n",
       "    </tr>\n",
       "  </thead>\n",
       "  <tbody>\n",
       "    <tr>\n",
       "      <th>0</th>\n",
       "      <td>1.10</td>\n",
       "      <td>Ideal</td>\n",
       "      <td>H</td>\n",
       "      <td>SI1</td>\n",
       "      <td>VG</td>\n",
       "      <td>EX</td>\n",
       "      <td>GIA</td>\n",
       "      <td>5169</td>\n",
       "      <td>4699.090909</td>\n",
       "    </tr>\n",
       "    <tr>\n",
       "      <th>1</th>\n",
       "      <td>0.83</td>\n",
       "      <td>Ideal</td>\n",
       "      <td>H</td>\n",
       "      <td>VS1</td>\n",
       "      <td>ID</td>\n",
       "      <td>ID</td>\n",
       "      <td>AGSL</td>\n",
       "      <td>3470</td>\n",
       "      <td>4180.722892</td>\n",
       "    </tr>\n",
       "    <tr>\n",
       "      <th>2</th>\n",
       "      <td>0.85</td>\n",
       "      <td>Ideal</td>\n",
       "      <td>H</td>\n",
       "      <td>SI1</td>\n",
       "      <td>EX</td>\n",
       "      <td>EX</td>\n",
       "      <td>GIA</td>\n",
       "      <td>3183</td>\n",
       "      <td>3744.705882</td>\n",
       "    </tr>\n",
       "    <tr>\n",
       "      <th>3</th>\n",
       "      <td>0.91</td>\n",
       "      <td>Ideal</td>\n",
       "      <td>E</td>\n",
       "      <td>SI1</td>\n",
       "      <td>VG</td>\n",
       "      <td>VG</td>\n",
       "      <td>GIA</td>\n",
       "      <td>4370</td>\n",
       "      <td>4802.197802</td>\n",
       "    </tr>\n",
       "    <tr>\n",
       "      <th>4</th>\n",
       "      <td>0.83</td>\n",
       "      <td>Ideal</td>\n",
       "      <td>G</td>\n",
       "      <td>SI1</td>\n",
       "      <td>EX</td>\n",
       "      <td>EX</td>\n",
       "      <td>GIA</td>\n",
       "      <td>3171</td>\n",
       "      <td>3820.481928</td>\n",
       "    </tr>\n",
       "    <tr>\n",
       "      <th>...</th>\n",
       "      <td>...</td>\n",
       "      <td>...</td>\n",
       "      <td>...</td>\n",
       "      <td>...</td>\n",
       "      <td>...</td>\n",
       "      <td>...</td>\n",
       "      <td>...</td>\n",
       "      <td>...</td>\n",
       "      <td>...</td>\n",
       "    </tr>\n",
       "    <tr>\n",
       "      <th>5995</th>\n",
       "      <td>1.03</td>\n",
       "      <td>Ideal</td>\n",
       "      <td>D</td>\n",
       "      <td>SI1</td>\n",
       "      <td>EX</td>\n",
       "      <td>EX</td>\n",
       "      <td>GIA</td>\n",
       "      <td>6250</td>\n",
       "      <td>6067.961165</td>\n",
       "    </tr>\n",
       "    <tr>\n",
       "      <th>5996</th>\n",
       "      <td>1.00</td>\n",
       "      <td>Very Good</td>\n",
       "      <td>D</td>\n",
       "      <td>SI1</td>\n",
       "      <td>VG</td>\n",
       "      <td>VG</td>\n",
       "      <td>GIA</td>\n",
       "      <td>5328</td>\n",
       "      <td>5328.000000</td>\n",
       "    </tr>\n",
       "    <tr>\n",
       "      <th>5997</th>\n",
       "      <td>1.02</td>\n",
       "      <td>Ideal</td>\n",
       "      <td>D</td>\n",
       "      <td>SI1</td>\n",
       "      <td>EX</td>\n",
       "      <td>EX</td>\n",
       "      <td>GIA</td>\n",
       "      <td>6157</td>\n",
       "      <td>6036.274510</td>\n",
       "    </tr>\n",
       "    <tr>\n",
       "      <th>5998</th>\n",
       "      <td>1.27</td>\n",
       "      <td>Signature-Ideal</td>\n",
       "      <td>G</td>\n",
       "      <td>VS1</td>\n",
       "      <td>EX</td>\n",
       "      <td>EX</td>\n",
       "      <td>GIA</td>\n",
       "      <td>11206</td>\n",
       "      <td>8823.622047</td>\n",
       "    </tr>\n",
       "    <tr>\n",
       "      <th>5999</th>\n",
       "      <td>2.19</td>\n",
       "      <td>Ideal</td>\n",
       "      <td>E</td>\n",
       "      <td>VS1</td>\n",
       "      <td>EX</td>\n",
       "      <td>EX</td>\n",
       "      <td>GIA</td>\n",
       "      <td>30507</td>\n",
       "      <td>13930.136986</td>\n",
       "    </tr>\n",
       "  </tbody>\n",
       "</table>\n",
       "<p>6000 rows × 9 columns</p>\n",
       "</div>"
      ],
      "text/plain": [
       "      Carat Weight              Cut Color Clarity Polish Symmetry Report  \\\n",
       "0             1.10            Ideal     H     SI1     VG       EX    GIA   \n",
       "1             0.83            Ideal     H     VS1     ID       ID   AGSL   \n",
       "2             0.85            Ideal     H     SI1     EX       EX    GIA   \n",
       "3             0.91            Ideal     E     SI1     VG       VG    GIA   \n",
       "4             0.83            Ideal     G     SI1     EX       EX    GIA   \n",
       "...            ...              ...   ...     ...    ...      ...    ...   \n",
       "5995          1.03            Ideal     D     SI1     EX       EX    GIA   \n",
       "5996          1.00        Very Good     D     SI1     VG       VG    GIA   \n",
       "5997          1.02            Ideal     D     SI1     EX       EX    GIA   \n",
       "5998          1.27  Signature-Ideal     G     VS1     EX       EX    GIA   \n",
       "5999          2.19            Ideal     E     VS1     EX       EX    GIA   \n",
       "\n",
       "      Price         Ratio  \n",
       "0      5169   4699.090909  \n",
       "1      3470   4180.722892  \n",
       "2      3183   3744.705882  \n",
       "3      4370   4802.197802  \n",
       "4      3171   3820.481928  \n",
       "...     ...           ...  \n",
       "5995   6250   6067.961165  \n",
       "5996   5328   5328.000000  \n",
       "5997   6157   6036.274510  \n",
       "5998  11206   8823.622047  \n",
       "5999  30507  13930.136986  \n",
       "\n",
       "[6000 rows x 9 columns]"
      ]
     },
     "execution_count": 3,
     "metadata": {},
     "output_type": "execute_result"
    }
   ],
   "source": [
    "diamonds[\"Ratio\"] = diamonds[\"Price\"] / diamonds[\"Carat Weight\"]\n",
    "diamonds"
   ]
  },
  {
   "cell_type": "markdown",
   "id": "9fb285f7-2a30-4ee8-8e29-e304e680ef9c",
   "metadata": {},
   "source": [
    "**Question 1.2:** Compute the *average* and *standard deviation* of the ratio of price over weight for the whole `diamonds` data frame."
   ]
  },
  {
   "cell_type": "code",
   "execution_count": 4,
   "id": "45803b17-7277-478e-9592-6744f7dbfcaf",
   "metadata": {},
   "outputs": [
    {
     "name": "stdout",
     "output_type": "stream",
     "text": [
      "Diamonds average ratio: 7821.411595285629.\n",
      "Standard deviation:     3905.439565640553.\n"
     ]
    }
   ],
   "source": [
    "diamonds_ratio_aver = diamonds[\"Ratio\"].mean()\n",
    "diamonds_ratio_sd = diamonds[\"Ratio\"].std()\n",
    "\n",
    "print(f\"Diamonds average ratio: {diamonds_ratio_aver}.\")\n",
    "print(f\"Standard deviation:     {diamonds_ratio_sd}.\")"
   ]
  },
  {
   "cell_type": "markdown",
   "id": "7d41d6a0-7e2d-472d-840a-b721783f064e",
   "metadata": {},
   "source": [
    "Let's now get a sample to be used to estimate the real average."
   ]
  },
  {
   "cell_type": "markdown",
   "id": "551caa51-06cd-439a-a52f-552faf8262cb",
   "metadata": {},
   "source": [
    "**Question 1.3:** Create a sample from `diamonds` with 100 samples (*without replacement*).  (Reset the index, dropping the old one!)"
   ]
  },
  {
   "cell_type": "code",
   "execution_count": 5,
   "id": "3747385f-89ee-4d23-a7c4-35aac7dc0499",
   "metadata": {},
   "outputs": [
    {
     "data": {
      "text/html": [
       "<div>\n",
       "<style scoped>\n",
       "    .dataframe tbody tr th:only-of-type {\n",
       "        vertical-align: middle;\n",
       "    }\n",
       "\n",
       "    .dataframe tbody tr th {\n",
       "        vertical-align: top;\n",
       "    }\n",
       "\n",
       "    .dataframe thead th {\n",
       "        text-align: right;\n",
       "    }\n",
       "</style>\n",
       "<table border=\"1\" class=\"dataframe\">\n",
       "  <thead>\n",
       "    <tr style=\"text-align: right;\">\n",
       "      <th></th>\n",
       "      <th>Carat Weight</th>\n",
       "      <th>Cut</th>\n",
       "      <th>Color</th>\n",
       "      <th>Clarity</th>\n",
       "      <th>Polish</th>\n",
       "      <th>Symmetry</th>\n",
       "      <th>Report</th>\n",
       "      <th>Price</th>\n",
       "      <th>Ratio</th>\n",
       "    </tr>\n",
       "  </thead>\n",
       "  <tbody>\n",
       "    <tr>\n",
       "      <th>0</th>\n",
       "      <td>2.03</td>\n",
       "      <td>Ideal</td>\n",
       "      <td>F</td>\n",
       "      <td>VS2</td>\n",
       "      <td>EX</td>\n",
       "      <td>EX</td>\n",
       "      <td>GIA</td>\n",
       "      <td>31773</td>\n",
       "      <td>15651.724138</td>\n",
       "    </tr>\n",
       "    <tr>\n",
       "      <th>1</th>\n",
       "      <td>0.90</td>\n",
       "      <td>Ideal</td>\n",
       "      <td>H</td>\n",
       "      <td>VS1</td>\n",
       "      <td>VG</td>\n",
       "      <td>EX</td>\n",
       "      <td>AGSL</td>\n",
       "      <td>4634</td>\n",
       "      <td>5148.888889</td>\n",
       "    </tr>\n",
       "    <tr>\n",
       "      <th>2</th>\n",
       "      <td>1.08</td>\n",
       "      <td>Very Good</td>\n",
       "      <td>F</td>\n",
       "      <td>VVS2</td>\n",
       "      <td>G</td>\n",
       "      <td>VG</td>\n",
       "      <td>GIA</td>\n",
       "      <td>8221</td>\n",
       "      <td>7612.037037</td>\n",
       "    </tr>\n",
       "    <tr>\n",
       "      <th>3</th>\n",
       "      <td>1.28</td>\n",
       "      <td>Ideal</td>\n",
       "      <td>G</td>\n",
       "      <td>SI1</td>\n",
       "      <td>VG</td>\n",
       "      <td>VG</td>\n",
       "      <td>GIA</td>\n",
       "      <td>7660</td>\n",
       "      <td>5984.375000</td>\n",
       "    </tr>\n",
       "    <tr>\n",
       "      <th>4</th>\n",
       "      <td>1.13</td>\n",
       "      <td>Ideal</td>\n",
       "      <td>H</td>\n",
       "      <td>SI1</td>\n",
       "      <td>EX</td>\n",
       "      <td>EX</td>\n",
       "      <td>GIA</td>\n",
       "      <td>6075</td>\n",
       "      <td>5376.106195</td>\n",
       "    </tr>\n",
       "    <tr>\n",
       "      <th>...</th>\n",
       "      <td>...</td>\n",
       "      <td>...</td>\n",
       "      <td>...</td>\n",
       "      <td>...</td>\n",
       "      <td>...</td>\n",
       "      <td>...</td>\n",
       "      <td>...</td>\n",
       "      <td>...</td>\n",
       "      <td>...</td>\n",
       "    </tr>\n",
       "    <tr>\n",
       "      <th>95</th>\n",
       "      <td>0.90</td>\n",
       "      <td>Very Good</td>\n",
       "      <td>G</td>\n",
       "      <td>SI1</td>\n",
       "      <td>EX</td>\n",
       "      <td>G</td>\n",
       "      <td>GIA</td>\n",
       "      <td>3752</td>\n",
       "      <td>4168.888889</td>\n",
       "    </tr>\n",
       "    <tr>\n",
       "      <th>96</th>\n",
       "      <td>0.81</td>\n",
       "      <td>Good</td>\n",
       "      <td>H</td>\n",
       "      <td>SI1</td>\n",
       "      <td>G</td>\n",
       "      <td>VG</td>\n",
       "      <td>GIA</td>\n",
       "      <td>2599</td>\n",
       "      <td>3208.641975</td>\n",
       "    </tr>\n",
       "    <tr>\n",
       "      <th>97</th>\n",
       "      <td>2.01</td>\n",
       "      <td>Very Good</td>\n",
       "      <td>H</td>\n",
       "      <td>VS2</td>\n",
       "      <td>VG</td>\n",
       "      <td>VG</td>\n",
       "      <td>GIA</td>\n",
       "      <td>19591</td>\n",
       "      <td>9746.766169</td>\n",
       "    </tr>\n",
       "    <tr>\n",
       "      <th>98</th>\n",
       "      <td>2.00</td>\n",
       "      <td>Very Good</td>\n",
       "      <td>E</td>\n",
       "      <td>VVS2</td>\n",
       "      <td>EX</td>\n",
       "      <td>EX</td>\n",
       "      <td>GIA</td>\n",
       "      <td>35038</td>\n",
       "      <td>17519.000000</td>\n",
       "    </tr>\n",
       "    <tr>\n",
       "      <th>99</th>\n",
       "      <td>1.04</td>\n",
       "      <td>Very Good</td>\n",
       "      <td>H</td>\n",
       "      <td>VVS2</td>\n",
       "      <td>VG</td>\n",
       "      <td>G</td>\n",
       "      <td>GIA</td>\n",
       "      <td>6364</td>\n",
       "      <td>6119.230769</td>\n",
       "    </tr>\n",
       "  </tbody>\n",
       "</table>\n",
       "<p>100 rows × 9 columns</p>\n",
       "</div>"
      ],
      "text/plain": [
       "    Carat Weight        Cut Color Clarity Polish Symmetry Report  Price  \\\n",
       "0           2.03      Ideal     F     VS2     EX       EX    GIA  31773   \n",
       "1           0.90      Ideal     H     VS1     VG       EX   AGSL   4634   \n",
       "2           1.08  Very Good     F    VVS2      G       VG    GIA   8221   \n",
       "3           1.28      Ideal     G     SI1     VG       VG    GIA   7660   \n",
       "4           1.13      Ideal     H     SI1     EX       EX    GIA   6075   \n",
       "..           ...        ...   ...     ...    ...      ...    ...    ...   \n",
       "95          0.90  Very Good     G     SI1     EX        G    GIA   3752   \n",
       "96          0.81       Good     H     SI1      G       VG    GIA   2599   \n",
       "97          2.01  Very Good     H     VS2     VG       VG    GIA  19591   \n",
       "98          2.00  Very Good     E    VVS2     EX       EX    GIA  35038   \n",
       "99          1.04  Very Good     H    VVS2     VG        G    GIA   6364   \n",
       "\n",
       "           Ratio  \n",
       "0   15651.724138  \n",
       "1    5148.888889  \n",
       "2    7612.037037  \n",
       "3    5984.375000  \n",
       "4    5376.106195  \n",
       "..           ...  \n",
       "95   4168.888889  \n",
       "96   3208.641975  \n",
       "97   9746.766169  \n",
       "98  17519.000000  \n",
       "99   6119.230769  \n",
       "\n",
       "[100 rows x 9 columns]"
      ]
     },
     "execution_count": 5,
     "metadata": {},
     "output_type": "execute_result"
    }
   ],
   "source": [
    "sample_size = 100\n",
    "sample = diamonds.sample(sample_size).reset_index(drop=True)\n",
    "sample"
   ]
  },
  {
   "cell_type": "markdown",
   "id": "0ad3a49b-f33a-4146-9955-c3334a69225c",
   "metadata": {},
   "source": [
    "**Question 1.4.:** Write a function that takes in a data frame with a column labeled `Ratio` and returns the average of the column."
   ]
  },
  {
   "cell_type": "code",
   "execution_count": 6,
   "id": "847061c7-c7e9-4b5c-81ad-0615a2ae67b1",
   "metadata": {},
   "outputs": [
    {
     "data": {
      "text/plain": [
       "7419.733174187988"
      ]
     },
     "execution_count": 6,
     "metadata": {},
     "output_type": "execute_result"
    }
   ],
   "source": [
    "def ratio_aver(df):\n",
    "    return df[\"Ratio\"].mean()\n",
    "\n",
    "ratio_aver(sample)"
   ]
  },
  {
   "cell_type": "markdown",
   "id": "bd74cb42-2ebc-4f7c-a825-9737c33a7d40",
   "metadata": {},
   "source": [
    "**Question 1.5:** Here we do the bootstrap.  Resample the `sample` data frame (*with replacement*) 5,000 times, computing the average of the ratios for each resample, and saving it in an array named `averages`."
   ]
  },
  {
   "cell_type": "code",
   "execution_count": 7,
   "id": "cb8aef0e-64cf-45e1-8649-d8f164c71ca5",
   "metadata": {},
   "outputs": [],
   "source": [
    "# number of resamples\n",
    "num_resamples = 5_000\n",
    "\n",
    "# initialize averages with 0's\n",
    "averages = np.zeros(num_resamples)\n",
    "\n",
    "for i in np.arange(num_resamples):\n",
    "    # resample once\n",
    "    resample = sample.sample(frac=1, replace=True)\n",
    "    \n",
    "    # add ratio average to averages array\n",
    "    averages[i] = ratio_aver(resample)"
   ]
  },
  {
   "cell_type": "markdown",
   "id": "d1a25a8a-d48a-434e-9485-5d8086353b46",
   "metadata": {},
   "source": [
    "Here is the histogram for the obtained averages:"
   ]
  },
  {
   "cell_type": "code",
   "execution_count": 8,
   "id": "f43cb6fa-dc16-4ed0-9f91-6da4269d16a4",
   "metadata": {},
   "outputs": [
    {
     "data": {
      "image/png": "[encoded data removed]",
      "text/plain": [
       "<Figure size 1000x800 with 1 Axes>"
      ]
     },
     "metadata": {},
     "output_type": "display_data"
    }
   ],
   "source": [
    "plt.hist(averages, bins=20, density=True, ec=\"white\")\n",
    "\n",
    "plt.show()"
   ]
  },
  {
   "cell_type": "markdown",
   "id": "e4cca4bf-17a1-4f99-aff1-90d07aa1e793",
   "metadata": {},
   "source": [
    "We will now compute a confidence interval."
   ]
  },
  {
   "cell_type": "markdown",
   "id": "7c5db52c-a883-44ee-a753-483f989e6981",
   "metadata": {},
   "source": [
    "**Question 1.6:** Write a function that `confidence_interval` that takes a percent (like 80, for the 80% confidence interval) and returns a list with the left and right boundaries for the confidence interval of the given percent.\n",
    "\n",
    "*Hint:* You should use percentiles (of `averages`) to compute the left and right boundaries for our confidence interval.  The variables `left_perc` and `right_perc` are the percentiles used to get these boundaries (computed using the argument `percent`)."
   ]
  },
  {
   "cell_type": "code",
   "execution_count": 9,
   "id": "a7f21b02-112a-4445-b93c-d76bdf2a4135",
   "metadata": {},
   "outputs": [],
   "source": [
    "def confidence_interval(percent):\n",
    "    # percentile for the left boundary\n",
    "    left_perc = (100 - percent) / 2\n",
    "    \n",
    "    # percentile for the right boundary\n",
    "    right_perc = percent + left_perc\n",
    "\n",
    "    # left boundary for the confidence interval\n",
    "    left = np.percentile(averages, left_perc)\n",
    "    \n",
    "    # right boundary for the confidence interval\n",
    "    right = np.percentile(averages, right_perc)\n",
    "\n",
    "    return [left, right]"
   ]
  },
  {
   "cell_type": "markdown",
   "id": "30dd53dc-f749-448f-b594-99b622288950",
   "metadata": {},
   "source": [
    "Let's test it computing the 80% confidence interval:"
   ]
  },
  {
   "cell_type": "code",
   "execution_count": 10,
   "id": "0d7ec506-a106-455b-b79c-3d0b5f8882e4",
   "metadata": {},
   "outputs": [
    {
     "data": {
      "text/plain": [
       "[6942.319092587025, 7901.652010497374]"
      ]
     },
     "execution_count": 10,
     "metadata": {},
     "output_type": "execute_result"
    }
   ],
   "source": [
    "ci_boundaries = confidence_interval(80)\n",
    "ci_boundaries"
   ]
  },
  {
   "cell_type": "markdown",
   "id": "14f64851-7f7d-41d7-bcc4-31f9df5dcc49",
   "metadata": {},
   "source": [
    "Let's now plot the histogram again with the confidence interval and actual value for the average of the ratios in the the `diamonds` data frame."
   ]
  },
  {
   "cell_type": "code",
   "execution_count": 11,
   "id": "9e5187e6-0a2a-49d5-8ea6-043ef5458f29",
   "metadata": {},
   "outputs": [
    {
     "data": {
      "image/png": "[encoded data removed]",
      "text/plain": [
       "<Figure size 1000x800 with 1 Axes>"
      ]
     },
     "metadata": {},
     "output_type": "display_data"
    }
   ],
   "source": [
    "plt.hist(averages, bins=20, density=True, ec=\"white\", zorder=1)\n",
    "plt.plot(ci_boundaries, [0, 0], color=\"yellow\", lw=12, zorder=2)\n",
    "plt.scatter([diamonds_ratio_aver], [0], color=\"green\", s=100, zorder=3)\n",
    "\n",
    "plt.ylim(-0.00005, 0.0012)\n",
    "\n",
    "plt.show()"
   ]
  },
  {
   "cell_type": "markdown",
   "id": "05e56e52-ccb0-4d61-b56a-8199c2c7a418",
   "metadata": {},
   "source": [
    "Now we will find (a close approximation for) the smallest percentage for the confidence interval that contains the actual average ratio for the whole data frame."
   ]
  },
  {
   "cell_type": "markdown",
   "id": "32514496-4b45-4c7a-8b66-fed8667ba1dd",
   "metadata": {},
   "source": [
    "**Question 1.7:** Find the p-value for the actual average (`diamonds_ratio_aver`).  Note that since the p-value depends on which side of the distribution we are, we have two cases, depending if it is on the left or right of the median of `averages`."
   ]
  },
  {
   "cell_type": "code",
   "execution_count": 12,
   "id": "ca0e94ca-9356-4def-8091-f974f87a8977",
   "metadata": {},
   "outputs": [
    {
     "data": {
      "text/plain": [
       "0.1444"
      ]
     },
     "execution_count": 12,
     "metadata": {},
     "output_type": "execute_result"
    }
   ],
   "source": [
    "# median of the array averages\n",
    "averages_median = np.percentile(averages, 50, method=\"inverted_cdf\")\n",
    "\n",
    "if diamonds_ratio_aver <= averages_median:\n",
    "    # the real value is on the left side of the graph\n",
    "    p_value = np.count_nonzero(averages <= diamonds_ratio_aver) / len(averages)\n",
    "else:\n",
    "    # the real value is on the right side of the graph\n",
    "    p_value = np.count_nonzero(averages >= diamonds_ratio_aver) / len(averages)\n",
    "\n",
    "p_value"
   ]
  },
  {
   "cell_type": "markdown",
   "id": "3626a549-40d1-4d91-b2a6-bdeb8ffe0640",
   "metadata": {},
   "source": [
    "**Question 1.8:** Use the `p_value` above to find the smallest percentage for a confidence interval to contain the average ratio for the whole `diamonds` data frame (i.e., to contain `diamonds_ratio_aver`)."
   ]
  },
  {
   "cell_type": "code",
   "execution_count": 13,
   "id": "e76d3c02-06d4-4266-8f29-2ebc9dc172b8",
   "metadata": {},
   "outputs": [
    {
     "data": {
      "text/plain": [
       "71.12"
      ]
     },
     "execution_count": 13,
     "metadata": {},
     "output_type": "execute_result"
    }
   ],
   "source": [
    "# percentage for the smallest confidence interval containing diamons_ratio_average\n",
    "confidence = 100 - 100 * 2 * p_value\n",
    "confidence"
   ]
  },
  {
   "cell_type": "markdown",
   "id": "49bd20ee-2c36-4549-9364-761e0d48507a",
   "metadata": {},
   "source": [
    "In the plot below, you should see the green dot (the actual median) at the very end of the yellow bar (the confidence interval)."
   ]
  },
  {
   "cell_type": "code",
   "execution_count": 14,
   "id": "2673c567-4013-432d-a2f3-21071ab04f56",
   "metadata": {
    "tags": []
   },
   "outputs": [
    {
     "data": {
      "image/png": "[encoded data removed]",
      "text/plain": [
       "<Figure size 1000x800 with 1 Axes>"
      ]
     },
     "metadata": {},
     "output_type": "display_data"
    }
   ],
   "source": [
    "ci_boundaries = confidence_interval(confidence)\n",
    "\n",
    "plt.hist(averages, bins=20, density=True, ec=\"white\", zorder=1)\n",
    "plt.plot(ci_boundaries, [0, 0], color=\"yellow\", lw=12, zorder=2)\n",
    "plt.scatter([diamonds_ratio_aver], [0], color=\"green\", s=100, zorder=3)\n",
    "\n",
    "plt.ylim(-0.00005, 0.0012)\n",
    "\n",
    "plt.show()"
   ]
  },
  {
   "cell_type": "markdown",
   "id": "1fa75da6-6047-4991-a882-a3afd4d6f215",
   "metadata": {},
   "source": [
    "## 2. Female Literacy and Fertility"
   ]
  },
  {
   "cell_type": "markdown",
   "id": "a7887e9d-1b5a-49b4-b0ef-ed34ae1f11ff",
   "metadata": {},
   "source": [
    "In this section will investigate the relation between female literacy and fertility.\n",
    "\n",
    "First, load these functions:"
   ]
  },
  {
   "cell_type": "code",
   "execution_count": 15,
   "id": "4b4b0866-d92a-463f-9273-92a1d73a6f6a",
   "metadata": {},
   "outputs": [],
   "source": [
    "def standard_units(array):\n",
    "    \"Convert any array of numbers to standard units.\"\n",
    "    return (array - np.mean(array)) / np.std(array)\n",
    "\n",
    "\n",
    "def regression_data(df, label_x, label_y):\n",
    "    \"\"\"\n",
    "    Given a data frame and columns labels for the x and y columns,\n",
    "    computes correlation, slope, intercept, and prediction function.\n",
    "    \"\"\"\n",
    "\n",
    "    r = df[label_x].corr(df[label_y])\n",
    "\n",
    "    slope = r * df[label_y].std() / df[label_x].std()\n",
    "\n",
    "    intercept = df[label_y].mean() - slope * df[label_x].mean()\n",
    "\n",
    "    prediction_fct = lambda x: slope * x + intercept\n",
    "\n",
    "    return r, slope, intercept, prediction_fct\n",
    "\n",
    "\n",
    "def residual(df, x_label, y_label, prediction_fct=None):\n",
    "    \"\"\"\n",
    "    Computers the residual between observed and estimated values.\n",
    "    \"\"\"\n",
    "    if prediction_fct is None:\n",
    "        prediction_fct = regression_data(df, x_label, y_label)[-1]\n",
    "\n",
    "    return df[y_label] - prediction_fct(df[x_label])\n",
    "\n",
    "\n",
    "def residual_plot(df, x_label, y_label):\n",
    "    \"\"\"\n",
    "    Residual plot of colums labeled x_label and y_label from\n",
    "    data frame df.\n",
    "    \"\"\"\n",
    "    # we use different colors from scatter graphs\n",
    "    cmap = plt.get_cmap(\"tab10\")\n",
    "\n",
    "    x_array = df[x_label]\n",
    "    t = pd.DataFrame({x_label: x_array, \"residuals\": residual(df, x_label, y_label)})\n",
    "    t.plot(x_label, \"residuals\", kind=\"scatter\", color=cmap(2))\n",
    "    xlims = np.array([x_array.min(), x_array.max()])\n",
    "    plt.plot(xlims, np.array([0, 0]), lw=4, color=cmap(4))\n",
    "    plt.title(\"Residual Plot\")\n",
    "\n",
    "\n",
    "def mult_scatter(df):\n",
    "    \"\"\"\n",
    "    Given a data frame, draws the scatter graphs with the\n",
    "    first column as x, and every other column as y.\n",
    "    \"\"\"\n",
    "    # column labels\n",
    "    cols = df.columns\n",
    "\n",
    "    # colors\n",
    "    cmap = plt.get_cmap(\"tab10\")\n",
    "\n",
    "    # initialize plot\n",
    "    fig, ax = plt.subplots()\n",
    "\n",
    "    # plot graphs\n",
    "    for i, col in enumerate(cols[1:]):\n",
    "        df.plot(0, i + 1, kind=\"scatter\", label=cols[i + 1], color=cmap(i), ax=ax)\n",
    "\n",
    "    # set the x-label\n",
    "    plt.xlabel(cols[0])\n",
    "    plt.ylabel(\"\")\n",
    "\n",
    "\n",
    "def scatter_and_fit(df):\n",
    "    \"\"\"\n",
    "    Plot multiple scatter plots and the fitted line for the first.\n",
    "    \"\"\"\n",
    "    # column labels\n",
    "    cols = df.columns\n",
    "    n_cols = len(cols)\n",
    "\n",
    "    # colors\n",
    "    cmap = plt.get_cmap(\"tab10\")\n",
    "\n",
    "    # initialize plot\n",
    "    fig, ax = plt.subplots()\n",
    "\n",
    "    # plot graphs\n",
    "    for i, col in enumerate(cols[1:]):\n",
    "        df.plot(0, i + 1, kind=\"scatter\", label=cols[i + 1], color=cmap(i), ax=ax)\n",
    "\n",
    "    # if only two columns\n",
    "    if n_cols == 2:\n",
    "        plt.ylabel(cols[1])\n",
    "        ax.get_legend().remove()\n",
    "    else:\n",
    "        plt.ylabel(\"\")\n",
    "\n",
    "    # fitted line\n",
    "    prediction_fct = regression_data(df, cols[0], cols[1])[-1]\n",
    "    xs = np.array([df[cols[0]].min(), df[cols[0]].max()])\n",
    "    ys = prediction_fct(xs)\n",
    "    plt.plot(xs, ys, color=cmap(n_cols + 1), lw=3)\n",
    "\n",
    "    # set the x-label\n",
    "    plt.xlabel(cols[0])"
   ]
  },
  {
   "cell_type": "markdown",
   "id": "4ba4ba3e-fa7a-43bc-9864-bd127eeb776b",
   "metadata": {},
   "source": [
    "Now let's load our data frame.  "
   ]
  },
  {
   "cell_type": "code",
   "execution_count": 16,
   "id": "eac69698-8194-43d6-8c85-1e2807642d7f",
   "metadata": {},
   "outputs": [
    {
     "data": {
      "text/html": [
       "<div>\n",
       "<style scoped>\n",
       "    .dataframe tbody tr th:only-of-type {\n",
       "        vertical-align: middle;\n",
       "    }\n",
       "\n",
       "    .dataframe tbody tr th {\n",
       "        vertical-align: top;\n",
       "    }\n",
       "\n",
       "    .dataframe thead th {\n",
       "        text-align: right;\n",
       "    }\n",
       "</style>\n",
       "<table border=\"1\" class=\"dataframe\">\n",
       "  <thead>\n",
       "    <tr style=\"text-align: right;\">\n",
       "      <th></th>\n",
       "      <th>Country</th>\n",
       "      <th>Continent</th>\n",
       "      <th>female literacy</th>\n",
       "      <th>fertility</th>\n",
       "      <th>population</th>\n",
       "    </tr>\n",
       "  </thead>\n",
       "  <tbody>\n",
       "    <tr>\n",
       "      <th>0</th>\n",
       "      <td>Chine</td>\n",
       "      <td>ASI</td>\n",
       "      <td>90.5</td>\n",
       "      <td>1.769</td>\n",
       "      <td>1,324,655,000</td>\n",
       "    </tr>\n",
       "    <tr>\n",
       "      <th>1</th>\n",
       "      <td>Inde</td>\n",
       "      <td>ASI</td>\n",
       "      <td>50.8</td>\n",
       "      <td>2.682</td>\n",
       "      <td>1,139,964,932</td>\n",
       "    </tr>\n",
       "    <tr>\n",
       "      <th>2</th>\n",
       "      <td>USA</td>\n",
       "      <td>NAM</td>\n",
       "      <td>99.0</td>\n",
       "      <td>2.077</td>\n",
       "      <td>304,060,000</td>\n",
       "    </tr>\n",
       "    <tr>\n",
       "      <th>3</th>\n",
       "      <td>Indonésie</td>\n",
       "      <td>ASI</td>\n",
       "      <td>88.8</td>\n",
       "      <td>2.132</td>\n",
       "      <td>227,345,082</td>\n",
       "    </tr>\n",
       "    <tr>\n",
       "      <th>4</th>\n",
       "      <td>Brésil</td>\n",
       "      <td>LAT</td>\n",
       "      <td>90.2</td>\n",
       "      <td>1.827</td>\n",
       "      <td>191,971,506</td>\n",
       "    </tr>\n",
       "    <tr>\n",
       "      <th>...</th>\n",
       "      <td>...</td>\n",
       "      <td>...</td>\n",
       "      <td>...</td>\n",
       "      <td>...</td>\n",
       "      <td>...</td>\n",
       "    </tr>\n",
       "    <tr>\n",
       "      <th>157</th>\n",
       "      <td>Vanuatu</td>\n",
       "      <td>OCE</td>\n",
       "      <td>79.5</td>\n",
       "      <td>3.883</td>\n",
       "      <td>233,866</td>\n",
       "    </tr>\n",
       "    <tr>\n",
       "      <th>158</th>\n",
       "      <td>Samoa</td>\n",
       "      <td>OCE</td>\n",
       "      <td>98.5</td>\n",
       "      <td>3.852</td>\n",
       "      <td>178,869</td>\n",
       "    </tr>\n",
       "    <tr>\n",
       "      <th>159</th>\n",
       "      <td>Sao Tomé-et-Principe</td>\n",
       "      <td>AF</td>\n",
       "      <td>83.3</td>\n",
       "      <td>3.718</td>\n",
       "      <td>160,174</td>\n",
       "    </tr>\n",
       "    <tr>\n",
       "      <th>160</th>\n",
       "      <td>Aruba</td>\n",
       "      <td>LAT</td>\n",
       "      <td>98.0</td>\n",
       "      <td>1.732</td>\n",
       "      <td>105,455</td>\n",
       "    </tr>\n",
       "    <tr>\n",
       "      <th>161</th>\n",
       "      <td>Tonga</td>\n",
       "      <td>ASI</td>\n",
       "      <td>99.1</td>\n",
       "      <td>3.928</td>\n",
       "      <td>103,566</td>\n",
       "    </tr>\n",
       "  </tbody>\n",
       "</table>\n",
       "<p>162 rows × 5 columns</p>\n",
       "</div>"
      ],
      "text/plain": [
       "                 Country  Continent  female literacy  fertility     population\n",
       "0                   Chine       ASI             90.5      1.769  1,324,655,000\n",
       "1                    Inde       ASI             50.8      2.682  1,139,964,932\n",
       "2                     USA       NAM             99.0      2.077    304,060,000\n",
       "3               Indonésie       ASI             88.8      2.132    227,345,082\n",
       "4                  Brésil       LAT             90.2      1.827    191,971,506\n",
       "..                    ...       ...              ...        ...            ...\n",
       "157               Vanuatu       OCE             79.5      3.883        233,866\n",
       "158                 Samoa       OCE             98.5      3.852        178,869\n",
       "159  Sao Tomé-et-Principe        AF             83.3      3.718        160,174\n",
       "160                 Aruba       LAT             98.0      1.732        105,455\n",
       "161                 Tonga       ASI             99.1      3.928        103,566\n",
       "\n",
       "[162 rows x 5 columns]"
      ]
     },
     "execution_count": 16,
     "metadata": {},
     "output_type": "execute_result"
    }
   ],
   "source": [
    "full_df = pd.read_csv(\"female_literacy_fertility.csv\")\n",
    "full_df"
   ]
  },
  {
   "cell_type": "markdown",
   "id": "a75583df-436a-4038-a54a-542bc49dfe8e",
   "metadata": {},
   "source": [
    "It contains female literacy rates and fertility rates for 162 countries.\n",
    "\n",
    "We will only look at those two columns, so we drop the rest."
   ]
  },
  {
   "cell_type": "code",
   "execution_count": 17,
   "id": "dd43e6a4-accf-45c5-87e7-e333d3805058",
   "metadata": {},
   "outputs": [
    {
     "data": {
      "text/html": [
       "<div>\n",
       "<style scoped>\n",
       "    .dataframe tbody tr th:only-of-type {\n",
       "        vertical-align: middle;\n",
       "    }\n",
       "\n",
       "    .dataframe tbody tr th {\n",
       "        vertical-align: top;\n",
       "    }\n",
       "\n",
       "    .dataframe thead th {\n",
       "        text-align: right;\n",
       "    }\n",
       "</style>\n",
       "<table border=\"1\" class=\"dataframe\">\n",
       "  <thead>\n",
       "    <tr style=\"text-align: right;\">\n",
       "      <th></th>\n",
       "      <th>female literacy</th>\n",
       "      <th>fertility</th>\n",
       "    </tr>\n",
       "  </thead>\n",
       "  <tbody>\n",
       "    <tr>\n",
       "      <th>0</th>\n",
       "      <td>90.5</td>\n",
       "      <td>1.769</td>\n",
       "    </tr>\n",
       "    <tr>\n",
       "      <th>1</th>\n",
       "      <td>50.8</td>\n",
       "      <td>2.682</td>\n",
       "    </tr>\n",
       "    <tr>\n",
       "      <th>2</th>\n",
       "      <td>99.0</td>\n",
       "      <td>2.077</td>\n",
       "    </tr>\n",
       "    <tr>\n",
       "      <th>3</th>\n",
       "      <td>88.8</td>\n",
       "      <td>2.132</td>\n",
       "    </tr>\n",
       "    <tr>\n",
       "      <th>4</th>\n",
       "      <td>90.2</td>\n",
       "      <td>1.827</td>\n",
       "    </tr>\n",
       "    <tr>\n",
       "      <th>...</th>\n",
       "      <td>...</td>\n",
       "      <td>...</td>\n",
       "    </tr>\n",
       "    <tr>\n",
       "      <th>157</th>\n",
       "      <td>79.5</td>\n",
       "      <td>3.883</td>\n",
       "    </tr>\n",
       "    <tr>\n",
       "      <th>158</th>\n",
       "      <td>98.5</td>\n",
       "      <td>3.852</td>\n",
       "    </tr>\n",
       "    <tr>\n",
       "      <th>159</th>\n",
       "      <td>83.3</td>\n",
       "      <td>3.718</td>\n",
       "    </tr>\n",
       "    <tr>\n",
       "      <th>160</th>\n",
       "      <td>98.0</td>\n",
       "      <td>1.732</td>\n",
       "    </tr>\n",
       "    <tr>\n",
       "      <th>161</th>\n",
       "      <td>99.1</td>\n",
       "      <td>3.928</td>\n",
       "    </tr>\n",
       "  </tbody>\n",
       "</table>\n",
       "<p>162 rows × 2 columns</p>\n",
       "</div>"
      ],
      "text/plain": [
       "     female literacy  fertility\n",
       "0               90.5      1.769\n",
       "1               50.8      2.682\n",
       "2               99.0      2.077\n",
       "3               88.8      2.132\n",
       "4               90.2      1.827\n",
       "..               ...        ...\n",
       "157             79.5      3.883\n",
       "158             98.5      3.852\n",
       "159             83.3      3.718\n",
       "160             98.0      1.732\n",
       "161             99.1      3.928\n",
       "\n",
       "[162 rows x 2 columns]"
      ]
     },
     "execution_count": 17,
     "metadata": {},
     "output_type": "execute_result"
    }
   ],
   "source": [
    "female_literacy_fetitlity = full_df[[\"female literacy\", \"fertility\"]]\n",
    "\n",
    "female_literacy_fetitlity"
   ]
  },
  {
   "cell_type": "markdown",
   "id": "d752d5dd-2f3d-4bef-802a-c6b28faf3366",
   "metadata": {},
   "source": [
    "First let's see if there is a correlation."
   ]
  },
  {
   "cell_type": "markdown",
   "id": "e03522c2-4d5d-41b3-8329-31c1e43739bd",
   "metadata": {},
   "source": [
    "Find the correlation, slope, intercept, and prediction function for fertility based on female literacy."
   ]
  },
  {
   "cell_type": "code",
   "execution_count": 18,
   "id": "8a2a5ef4-3724-48fb-b4c8-2d939829893a",
   "metadata": {},
   "outputs": [
    {
     "name": "stdout",
     "output_type": "stream",
     "text": [
      "Correlation:  -0.80\n",
      "Slope:        -0.05\n",
      "Intercept:    6.87\n"
     ]
    }
   ],
   "source": [
    "flf_r, flf_slope, flf_intercept, flf_pred_fct = regression_data(\n",
    "    female_literacy_fetitlity, \"female literacy\", \"fertility\"\n",
    ")\n",
    "\n",
    "print(f\"Correlation:  {flf_r:.2f}\")\n",
    "print(f\"Slope:        {flf_slope:.2f}\")\n",
    "print(f\"Intercept:    {flf_intercept:.2f}\")"
   ]
  },
  {
   "cell_type": "markdown",
   "id": "61f6d05b-0e46-47fc-a29c-865b0dd6d16b",
   "metadata": {},
   "source": [
    "Remember that a correlation coefficient close to 1 *in absolute value* indicates that the data can be relatively well approximated by a line."
   ]
  },
  {
   "cell_type": "markdown",
   "id": "f965d177-f310-46d2-89aa-faa6f41a5fd1",
   "metadata": {},
   "source": [
    "Let's visualize the data:"
   ]
  },
  {
   "cell_type": "markdown",
   "id": "9373fd0f-3a52-4ab3-abdc-7156cf1ceef2",
   "metadata": {},
   "source": [
    "**Question 2.1:** Plot a scatter graph for literacy and fertility *with a regression line*. "
   ]
  },
  {
   "cell_type": "code",
   "execution_count": 19,
   "id": "7ee5be43-6142-4b88-8a89-f1bfd4d9306b",
   "metadata": {},
   "outputs": [
    {
     "data": {
      "image/png": "[encoded data removed]",
      "text/plain": [
       "<Figure size 1000x800 with 1 Axes>"
      ]
     },
     "metadata": {},
     "output_type": "display_data"
    }
   ],
   "source": [
    "scatter_and_fit(female_literacy_fetitlity)"
   ]
  },
  {
   "cell_type": "markdown",
   "id": "3cd2b3f4-4fb8-429e-a811-83a249ea7808",
   "metadata": {},
   "source": [
    "We will now randomly split our data frame in two parts, with 70%-30% percentages.  We will use the larger part to \"train\" the regression model and the smaller part to check how well it predicts.\n",
    "\n",
    "This is a very common practice: we use only part of the data to find the prediction function, and see how well it works on values that were excluded in finding the function.  \n",
    "\n",
    "If it works well, we have good indication that the approximation will also work well on other values we do not possess (like if we only know the female literacy rate on a country not in our data frame).\n",
    "\n",
    "The function below does the job:"
   ]
  },
  {
   "cell_type": "code",
   "execution_count": 20,
   "id": "b0488369-115b-4fa2-a7a7-7f25d1b48b34",
   "metadata": {},
   "outputs": [],
   "source": [
    "def split_df(df, first_prop):\n",
    "    \"\"\"\n",
    "    Splits df randomly in two: one with proportion first_prop, and \n",
    "    the other containing the rest.\n",
    "    \"\"\"\n",
    "    \n",
    "    df1 = df.sample(frac=first_prop)\n",
    "    \n",
    "    df2 = df.drop(df1.index)\n",
    "    \n",
    "    return df1.reset_index(drop=True), df2.reset_index(drop=True)"
   ]
  },
  {
   "cell_type": "markdown",
   "id": "454f6235-fa61-435c-8dd3-0305f3869d61",
   "metadata": {},
   "source": [
    "Let's split then:"
   ]
  },
  {
   "cell_type": "code",
   "execution_count": 21,
   "id": "76a320ef-a722-4c1a-b2de-42e15c5a792f",
   "metadata": {},
   "outputs": [],
   "source": [
    "train_df, test_df = split_df(female_literacy_fetitlity, 0.7)"
   ]
  },
  {
   "cell_type": "markdown",
   "id": "e403ddae-fe96-44af-81c6-2d6a5690efda",
   "metadata": {},
   "source": [
    "**Question 2.2:** Find the correlation, slope, intercept, and prediction function for fertility based on female literacy for `tain_df` and graph its scatter plot *with the regression line*."
   ]
  },
  {
   "cell_type": "code",
   "execution_count": 22,
   "id": "04b2a589-f9ad-4bc6-b696-30b352b260fa",
   "metadata": {},
   "outputs": [
    {
     "name": "stdout",
     "output_type": "stream",
     "text": [
      "Correlation:  -0.81\n",
      "Slope:        -0.05\n",
      "Intercept:    6.85\n"
     ]
    }
   ],
   "source": [
    "train_r, train_slope, train_intercept, train_pred_fct = regression_data(\n",
    "    train_df, \"female literacy\", \"fertility\"\n",
    ")\n",
    "\n",
    "print(f\"Correlation:  {train_r:.2f}\")\n",
    "print(f\"Slope:        {train_slope:.2f}\")\n",
    "print(f\"Intercept:    {train_intercept:.2f}\")"
   ]
  },
  {
   "cell_type": "code",
   "execution_count": 23,
   "id": "9d0809a0-8951-4cfc-a94a-2e453ad137c1",
   "metadata": {},
   "outputs": [
    {
     "data": {
      "image/png": "[encoded data removed]",
      "text/plain": [
       "<Figure size 1000x800 with 1 Axes>"
      ]
     },
     "metadata": {},
     "output_type": "display_data"
    }
   ],
   "source": [
    "scatter_and_fit(train_df)"
   ]
  },
  {
   "cell_type": "markdown",
   "id": "d1c3f1a4-c39a-426d-a8da-2db5b5692671",
   "metadata": {},
   "source": [
    "The differences between the whole data frame and the training one should be small:"
   ]
  },
  {
   "cell_type": "code",
   "execution_count": 24,
   "id": "701edde3-9839-4be3-8765-b0abb5f6935d",
   "metadata": {},
   "outputs": [
    {
     "name": "stdout",
     "output_type": "stream",
     "text": [
      "Correlation difference:  0.01\n",
      "Slope difference:        -0.00\n",
      "Intercept difference:    0.02\n"
     ]
    }
   ],
   "source": [
    "print(f\"Correlation difference:  {flf_r - train_r:.2f}\")\n",
    "print(f\"Slope difference:        {flf_slope - train_slope:.2f}\")\n",
    "print(f\"Intercept difference:    {flf_intercept - train_intercept:.2f}\")"
   ]
  },
  {
   "cell_type": "markdown",
   "id": "573c79ae-02b0-4d62-8359-29553afa6ac5",
   "metadata": {},
   "source": [
    "This indicates that we expect the function we obtained from the training data only will likely work well on the test data."
   ]
  },
  {
   "cell_type": "markdown",
   "id": "cee5a129-b8ab-4b2b-ad77-e76fa27c31f0",
   "metadata": {},
   "source": [
    "**Question 2.3:** Create a data frame `test_df_pred` that is a copy of `test_df` but with a column labeled `Prediction` added, which contains the fertility predictions (based on female literacy) given by the function `train_pred_fct` from the previous exercise."
   ]
  },
  {
   "cell_type": "code",
   "execution_count": 27,
   "id": "b84d741e-6da9-48dd-a5bb-ead6bbbd7c62",
   "metadata": {},
   "outputs": [
    {
     "data": {
      "text/html": [
       "<div>\n",
       "<style scoped>\n",
       "    .dataframe tbody tr th:only-of-type {\n",
       "        vertical-align: middle;\n",
       "    }\n",
       "\n",
       "    .dataframe tbody tr th {\n",
       "        vertical-align: top;\n",
       "    }\n",
       "\n",
       "    .dataframe thead th {\n",
       "        text-align: right;\n",
       "    }\n",
       "</style>\n",
       "<table border=\"1\" class=\"dataframe\">\n",
       "  <thead>\n",
       "    <tr style=\"text-align: right;\">\n",
       "      <th></th>\n",
       "      <th>female literacy</th>\n",
       "      <th>fertility</th>\n",
       "      <th>Predicted</th>\n",
       "    </tr>\n",
       "  </thead>\n",
       "  <tbody>\n",
       "    <tr>\n",
       "      <th>0</th>\n",
       "      <td>99.4</td>\n",
       "      <td>1.393</td>\n",
       "      <td>1.931169</td>\n",
       "    </tr>\n",
       "    <tr>\n",
       "      <th>1</th>\n",
       "      <td>98.5</td>\n",
       "      <td>1.390</td>\n",
       "      <td>1.975663</td>\n",
       "    </tr>\n",
       "    <tr>\n",
       "      <th>2</th>\n",
       "      <td>88.1</td>\n",
       "      <td>2.505</td>\n",
       "      <td>2.489812</td>\n",
       "    </tr>\n",
       "    <tr>\n",
       "      <th>3</th>\n",
       "      <td>96.6</td>\n",
       "      <td>1.224</td>\n",
       "      <td>2.069594</td>\n",
       "    </tr>\n",
       "    <tr>\n",
       "      <th>4</th>\n",
       "      <td>96.9</td>\n",
       "      <td>1.468</td>\n",
       "      <td>2.054763</td>\n",
       "    </tr>\n",
       "    <tr>\n",
       "      <th>5</th>\n",
       "      <td>93.4</td>\n",
       "      <td>2.404</td>\n",
       "      <td>2.227794</td>\n",
       "    </tr>\n",
       "    <tr>\n",
       "      <th>6</th>\n",
       "      <td>66.8</td>\n",
       "      <td>6.254</td>\n",
       "      <td>3.542830</td>\n",
       "    </tr>\n",
       "    <tr>\n",
       "      <th>7</th>\n",
       "      <td>69.2</td>\n",
       "      <td>3.961</td>\n",
       "      <td>3.424180</td>\n",
       "    </tr>\n",
       "    <tr>\n",
       "      <th>8</th>\n",
       "      <td>12.6</td>\n",
       "      <td>6.505</td>\n",
       "      <td>6.222338</td>\n",
       "    </tr>\n",
       "    <tr>\n",
       "      <th>9</th>\n",
       "      <td>94.9</td>\n",
       "      <td>2.498</td>\n",
       "      <td>2.153638</td>\n",
       "    </tr>\n",
       "  </tbody>\n",
       "</table>\n",
       "</div>"
      ],
      "text/plain": [
       "   female literacy  fertility  Predicted\n",
       "0             99.4      1.393   1.931169\n",
       "1             98.5      1.390   1.975663\n",
       "2             88.1      2.505   2.489812\n",
       "3             96.6      1.224   2.069594\n",
       "4             96.9      1.468   2.054763\n",
       "5             93.4      2.404   2.227794\n",
       "6             66.8      6.254   3.542830\n",
       "7             69.2      3.961   3.424180\n",
       "8             12.6      6.505   6.222338\n",
       "9             94.9      2.498   2.153638"
      ]
     },
     "execution_count": 27,
     "metadata": {},
     "output_type": "execute_result"
    }
   ],
   "source": [
    "test_df_pred = test_df.assign(Predicted=train_pred_fct(test_df[\"female literacy\"]))\n",
    "\n",
    "test_df_pred.head(10)"
   ]
  },
  {
   "cell_type": "markdown",
   "id": "0724ee7f-e601-44f6-844e-c176214eae58",
   "metadata": {},
   "source": [
    "Use `mult_scatter` for a scatter graph containing the points for female literacy and fertility from `test_df_pred`, together with the predicted values as well."
   ]
  },
  {
   "cell_type": "code",
   "execution_count": 28,
   "id": "293c9f4a-309c-45e1-bff5-2cae9479a64b",
   "metadata": {},
   "outputs": [
    {
     "data": {
      "image/png": "[encoded data removed]",
      "text/plain": [
       "<Figure size 1000x800 with 1 Axes>"
      ]
     },
     "metadata": {},
     "output_type": "display_data"
    }
   ],
   "source": [
    "mult_scatter(test_df_pred)"
   ]
  },
  {
   "cell_type": "markdown",
   "id": "beec613c-6234-4f8a-b6de-51ff97f29306",
   "metadata": {},
   "source": [
    "**Question 2.4:**  Add a column labeled `Error` to `test_df_pred`, with the difference between the actual fertility and predicted fertility."
   ]
  },
  {
   "cell_type": "code",
   "execution_count": 29,
   "id": "3488e4fb-7b3b-4154-9dce-5b1cd015d9cd",
   "metadata": {},
   "outputs": [
    {
     "data": {
      "text/html": [
       "<div>\n",
       "<style scoped>\n",
       "    .dataframe tbody tr th:only-of-type {\n",
       "        vertical-align: middle;\n",
       "    }\n",
       "\n",
       "    .dataframe tbody tr th {\n",
       "        vertical-align: top;\n",
       "    }\n",
       "\n",
       "    .dataframe thead th {\n",
       "        text-align: right;\n",
       "    }\n",
       "</style>\n",
       "<table border=\"1\" class=\"dataframe\">\n",
       "  <thead>\n",
       "    <tr style=\"text-align: right;\">\n",
       "      <th></th>\n",
       "      <th>female literacy</th>\n",
       "      <th>fertility</th>\n",
       "      <th>Predicted</th>\n",
       "      <th>Error</th>\n",
       "    </tr>\n",
       "  </thead>\n",
       "  <tbody>\n",
       "    <tr>\n",
       "      <th>0</th>\n",
       "      <td>99.4</td>\n",
       "      <td>1.393</td>\n",
       "      <td>1.931169</td>\n",
       "      <td>-0.538169</td>\n",
       "    </tr>\n",
       "    <tr>\n",
       "      <th>1</th>\n",
       "      <td>98.5</td>\n",
       "      <td>1.390</td>\n",
       "      <td>1.975663</td>\n",
       "      <td>-0.585663</td>\n",
       "    </tr>\n",
       "    <tr>\n",
       "      <th>2</th>\n",
       "      <td>88.1</td>\n",
       "      <td>2.505</td>\n",
       "      <td>2.489812</td>\n",
       "      <td>0.015188</td>\n",
       "    </tr>\n",
       "    <tr>\n",
       "      <th>3</th>\n",
       "      <td>96.6</td>\n",
       "      <td>1.224</td>\n",
       "      <td>2.069594</td>\n",
       "      <td>-0.845594</td>\n",
       "    </tr>\n",
       "    <tr>\n",
       "      <th>4</th>\n",
       "      <td>96.9</td>\n",
       "      <td>1.468</td>\n",
       "      <td>2.054763</td>\n",
       "      <td>-0.586763</td>\n",
       "    </tr>\n",
       "  </tbody>\n",
       "</table>\n",
       "</div>"
      ],
      "text/plain": [
       "   female literacy  fertility  Predicted     Error\n",
       "0             99.4      1.393   1.931169 -0.538169\n",
       "1             98.5      1.390   1.975663 -0.585663\n",
       "2             88.1      2.505   2.489812  0.015188\n",
       "3             96.6      1.224   2.069594 -0.845594\n",
       "4             96.9      1.468   2.054763 -0.586763"
      ]
     },
     "execution_count": 29,
     "metadata": {},
     "output_type": "execute_result"
    }
   ],
   "source": [
    "test_df_pred[\"Error\"] = test_df_pred[\"fertility\"] - test_df_pred[\"Predicted\"]\n",
    "test_df_pred.head(5)"
   ]
  },
  {
   "cell_type": "markdown",
   "id": "f39eb5a3-6a03-461c-9c61-b8d52f8f210f",
   "metadata": {},
   "source": [
    "**Question 2.5:** Compute the root mean squared error (rmse) for our approximation in `test_df_pred`."
   ]
  },
  {
   "cell_type": "code",
   "execution_count": 30,
   "id": "3879ec54-449c-4521-9018-0b939e6bd586",
   "metadata": {},
   "outputs": [
    {
     "data": {
      "text/plain": [
       "0.8282005203209818"
      ]
     },
     "execution_count": 30,
     "metadata": {},
     "output_type": "execute_result"
    }
   ],
   "source": [
    "test_rmse = np.sqrt((test_df_pred[\"Error\"] ** 2).mean())\n",
    "test_rmse"
   ]
  },
  {
   "cell_type": "markdown",
   "id": "2d72308c-8f17-4bef-853e-1e2f299a920f",
   "metadata": {},
   "source": [
    "Now let's compare with how well our prediction function did on the actual points used for training."
   ]
  },
  {
   "cell_type": "markdown",
   "id": "03f874c3-7e8f-4b6b-9bcd-45f732c66dc1",
   "metadata": {},
   "source": [
    "**Question 2.6:** Compute the root mean squared error (rmse) for our approximation in the *training* data frame `train_df`.\n",
    "\n",
    "*Hint:* You will need a few lines of code here, but it is very similar to steps you've taken above in Questions 2.3, 2.4, and 2.5."
   ]
  },
  {
   "cell_type": "code",
   "execution_count": 34,
   "id": "99501894-321c-4c7f-a33d-2727419d8d4a",
   "metadata": {
    "tags": []
   },
   "outputs": [
    {
     "data": {
      "text/plain": [
       "0.8537108205205306"
      ]
     },
     "execution_count": 34,
     "metadata": {},
     "output_type": "execute_result"
    }
   ],
   "source": [
    "# copy train_df with predictions\n",
    "train_df_pred = train_df.assign(Prediction=train_pred_fct(train_df[\"female literacy\"]))\n",
    "\n",
    "# add error\n",
    "train_df_pred[\"Error\"] = train_df_pred[\"fertility\"] - train_df_pred[\"Prediction\"]\n",
    "\n",
    "# rmse\n",
    "train_rmse = np.sqrt((train_df_pred[\"Error\"] ** 2).mean())\n",
    "\n",
    "train_rmse"
   ]
  },
  {
   "cell_type": "markdown",
   "id": "3d403e02-e42f-4e73-8392-aeb0d3da54c4",
   "metadata": {},
   "source": [
    "A small difference between rmse's means that the prediction function worked almost as well in the test data as in the training data:"
   ]
  },
  {
   "cell_type": "code",
   "execution_count": 35,
   "id": "e9b505d6-b995-4410-9dd3-54840695082b",
   "metadata": {},
   "outputs": [
    {
     "data": {
      "text/plain": [
       "-0.025510300199548808"
      ]
     },
     "execution_count": 35,
     "metadata": {},
     "output_type": "execute_result"
    }
   ],
   "source": [
    "test_rmse - train_rmse"
   ]
  },
  {
   "cell_type": "markdown",
   "id": "4ca5f578-e09c-4102-b83b-9c58a71a82a8",
   "metadata": {
    "tags": []
   },
   "source": [
    "## 3. Submission\n",
    "You're finished with lab 10. **To submit this lab**, please download your notebook as a .ipynb file and submit in Canvas under Lab 10 (under Assignments). To export, go to the toolbar at the top of this page, click File > Download as... > Notebook (.ipynb). Then, go to our class's Canvas page and upload your file under \"Lab 10\".\n",
    "\n",
    "For easy identification, **please add your surname to the file**, as in: lab_09_DS201_Name.ipynb"
   ]
  }
 ],
 "metadata": {
  "kernelspec": {
   "display_name": "Python 3 (ipykernel)",
   "language": "python",
   "name": "python3"
  },
  "language_info": {
   "codemirror_mode": {
    "name": "ipython",
    "version": 3
   },
   "file_extension": ".py",
   "mimetype": "text/x-python",
   "name": "python",
   "nbconvert_exporter": "python",
   "pygments_lexer": "ipython3",
   "version": "3.11.4"
  }
 },
 "nbformat": 4,
 "nbformat_minor": 5
}
