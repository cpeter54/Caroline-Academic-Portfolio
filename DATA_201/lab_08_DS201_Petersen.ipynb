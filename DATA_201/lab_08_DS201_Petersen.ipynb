{
 "cells": [
  {
   "cell_type": "markdown",
   "id": "2168ebfb-487c-4e34-8d46-0903658cbe4c",
   "metadata": {},
   "source": [
    "# Lab 8: Hypotheses"
   ]
  },
  {
   "cell_type": "markdown",
   "id": "4aa566a8-6776-49a4-ad0f-eea509c6b739",
   "metadata": {},
   "source": [
    "## Your Name: Caroline Petersen"
   ]
  },
  {
   "cell_type": "code",
   "execution_count": 67,
   "id": "8aecefdf-887e-4831-823e-eb3ef59acda6",
   "metadata": {},
   "outputs": [],
   "source": [
    "import numpy as np\n",
    "import pandas as pd\n",
    "import matplotlib.pyplot as plt\n",
    "\n",
    "%matplotlib inline\n",
    "plt.rcParams['figure.figsize'] = (10, 8)\n",
    "\n",
    "# style\n",
    "# plt.style.use('fivethirtyeight')\n",
    "plt.style.use(\"ggplot\")"
   ]
  },
  {
   "cell_type": "markdown",
   "id": "e184383a-8582-43a0-9da3-8f6632a2d596",
   "metadata": {},
   "source": [
    "## 1. Sampling"
   ]
  },
  {
   "cell_type": "markdown",
   "id": "0a90474c-a62e-4286-ae63-17f1770044ad",
   "metadata": {},
   "source": [
    "Let's start by loading a data frame the *mimics* a population of 50,000 American adults.  It contains a row for each individual with gender (male and female only), ethnicity, marital status, and income class (lower, middle, or upper only).\n",
    "\n",
    "Each columns was randomly generated with similar proportions to the US population, *but correlations were not preserved*.  (So, for instance, although we expect ethnicities to distribute differently into income classes in the real world, this is not the case in this fake data frame.)"
   ]
  },
  {
   "cell_type": "code",
   "execution_count": 68,
   "id": "db6d200a-eaac-4878-8c0a-4d81bdef19cf",
   "metadata": {},
   "outputs": [
    {
     "data": {
      "text/html": [
       "<div>\n",
       "<style scoped>\n",
       "    .dataframe tbody tr th:only-of-type {\n",
       "        vertical-align: middle;\n",
       "    }\n",
       "\n",
       "    .dataframe tbody tr th {\n",
       "        vertical-align: top;\n",
       "    }\n",
       "\n",
       "    .dataframe thead th {\n",
       "        text-align: right;\n",
       "    }\n",
       "</style>\n",
       "<table border=\"1\" class=\"dataframe\">\n",
       "  <thead>\n",
       "    <tr style=\"text-align: right;\">\n",
       "      <th></th>\n",
       "      <th>Gender</th>\n",
       "      <th>Ethnicity</th>\n",
       "      <th>Married</th>\n",
       "      <th>Income</th>\n",
       "    </tr>\n",
       "  </thead>\n",
       "  <tbody>\n",
       "    <tr>\n",
       "      <th>0</th>\n",
       "      <td>F</td>\n",
       "      <td>Hisp</td>\n",
       "      <td>Single</td>\n",
       "      <td>Lower</td>\n",
       "    </tr>\n",
       "    <tr>\n",
       "      <th>1</th>\n",
       "      <td>F</td>\n",
       "      <td>Black</td>\n",
       "      <td>Single</td>\n",
       "      <td>Lower</td>\n",
       "    </tr>\n",
       "    <tr>\n",
       "      <th>2</th>\n",
       "      <td>F</td>\n",
       "      <td>White</td>\n",
       "      <td>Married</td>\n",
       "      <td>Lower</td>\n",
       "    </tr>\n",
       "    <tr>\n",
       "      <th>3</th>\n",
       "      <td>M</td>\n",
       "      <td>Hisp</td>\n",
       "      <td>Single</td>\n",
       "      <td>Middle</td>\n",
       "    </tr>\n",
       "    <tr>\n",
       "      <th>4</th>\n",
       "      <td>M</td>\n",
       "      <td>Hisp</td>\n",
       "      <td>Married</td>\n",
       "      <td>Lower</td>\n",
       "    </tr>\n",
       "    <tr>\n",
       "      <th>...</th>\n",
       "      <td>...</td>\n",
       "      <td>...</td>\n",
       "      <td>...</td>\n",
       "      <td>...</td>\n",
       "    </tr>\n",
       "    <tr>\n",
       "      <th>49995</th>\n",
       "      <td>M</td>\n",
       "      <td>White</td>\n",
       "      <td>Married</td>\n",
       "      <td>Middle</td>\n",
       "    </tr>\n",
       "    <tr>\n",
       "      <th>49996</th>\n",
       "      <td>M</td>\n",
       "      <td>Hisp</td>\n",
       "      <td>Married</td>\n",
       "      <td>Middle</td>\n",
       "    </tr>\n",
       "    <tr>\n",
       "      <th>49997</th>\n",
       "      <td>M</td>\n",
       "      <td>Hisp</td>\n",
       "      <td>Married</td>\n",
       "      <td>Upper</td>\n",
       "    </tr>\n",
       "    <tr>\n",
       "      <th>49998</th>\n",
       "      <td>F</td>\n",
       "      <td>Black</td>\n",
       "      <td>Married</td>\n",
       "      <td>Middle</td>\n",
       "    </tr>\n",
       "    <tr>\n",
       "      <th>49999</th>\n",
       "      <td>F</td>\n",
       "      <td>Black</td>\n",
       "      <td>Single</td>\n",
       "      <td>Lower</td>\n",
       "    </tr>\n",
       "  </tbody>\n",
       "</table>\n",
       "<p>50000 rows × 4 columns</p>\n",
       "</div>"
      ],
      "text/plain": [
       "      Gender Ethnicity  Married  Income\n",
       "0          F      Hisp   Single   Lower\n",
       "1          F     Black   Single   Lower\n",
       "2          F     White  Married   Lower\n",
       "3          M      Hisp   Single  Middle\n",
       "4          M      Hisp  Married   Lower\n",
       "...      ...       ...      ...     ...\n",
       "49995      M     White  Married  Middle\n",
       "49996      M      Hisp  Married  Middle\n",
       "49997      M      Hisp  Married   Upper\n",
       "49998      F     Black  Married  Middle\n",
       "49999      F     Black   Single   Lower\n",
       "\n",
       "[50000 rows x 4 columns]"
      ]
     },
     "execution_count": 68,
     "metadata": {},
     "output_type": "execute_result"
    }
   ],
   "source": [
    "adult_pop = pd.read_csv(\"adult_pop.csv\")\n",
    "adult_pop"
   ]
  },
  {
   "cell_type": "markdown",
   "id": "489e0a44-c570-4071-8a7b-aac2de4e137d",
   "metadata": {},
   "source": [
    "**Question 1.1:** Find the total population on data frame and save it in the variable `total_pop` (which we can use later.)"
   ]
  },
  {
   "cell_type": "code",
   "execution_count": 69,
   "id": "fba351f2-ba5f-4ca7-b992-4191a34c5e6c",
   "metadata": {},
   "outputs": [
    {
     "data": {
      "text/plain": [
       "50000"
      ]
     },
     "execution_count": 69,
     "metadata": {},
     "output_type": "execute_result"
    }
   ],
   "source": [
    "total_pop = len(adult_pop)\n",
    "total_pop"
   ]
  },
  {
   "cell_type": "markdown",
   "id": "0e2cda5f-2224-4656-b494-f50071694715",
   "metadata": {},
   "source": [
    "**Question 1.2:** Find the total number of Asian individuals and its proportion in the adult population (of `adult_pop`):"
   ]
  },
  {
   "cell_type": "code",
   "execution_count": 70,
   "id": "8afda280-3e99-4689-8474-b8a275cb7039",
   "metadata": {
    "tags": []
   },
   "outputs": [
    {
     "data": {
      "text/plain": [
       "0.06062"
      ]
     },
     "execution_count": 70,
     "metadata": {},
     "output_type": "execute_result"
    }
   ],
   "source": [
    "total_asian = adult_pop['Ethnicity'].value_counts()['Asian']\n",
    "asian_perc = total_asian / total_pop\n",
    "asian_perc"
   ]
  },
  {
   "cell_type": "markdown",
   "id": "f2786d37-aa05-420c-a140-44ffc12a0e4f",
   "metadata": {},
   "source": [
    "**Question 1.3:** Let's automate this process.  Write a function `column_proportions` that takes a data frame and column as the input, and returns a data frame with three columns:\n",
    "- \"Value\": contains the values that appear in the selected column.\n",
    "- \"Total\": contains the number of occurrences of the value in the data frame's column *in increasing order*.\n",
    "- \"Proportion\": contains the proportion of that particular value in the data frame's column.\n",
    "\n",
    "*Hints:* \n",
    "\n",
    "1. `groupby` can help create the first two columns.  It will give a *series*, rather than a data frame, with the values as index.  \n",
    "2. You will need to convert it to a data frame (you can use `to_frame` for that) and change the columns names.  \n",
    "3. Then, you will need to sort and add the extra third column."
   ]
  },
  {
   "cell_type": "code",
   "execution_count": 71,
   "id": "0ac0091d-de45-4d9e-8420-f7eb706f4f7a",
   "metadata": {},
   "outputs": [],
   "source": [
    "def column_proportions(df, col_name):\n",
    "    \"\"\"Given a data frame and name of a column, produce a new data frame with values, \n",
    "    number of occurrences, and  for each value.\"\"\"\n",
    "    # number of rows of data frame\n",
    "    size = len(df)\n",
    "    \n",
    "    # create the data frame with the first two columns\n",
    "    res = df.groupby(col_name).size().to_frame()\n",
    "    \n",
    "    # make index into a column:\n",
    "    res.reset_index(inplace=True)\n",
    "    \n",
    "    # rename the columns\n",
    "    res.rename(columns={col_name: \"Value\", 0: \"Total\"}, inplace=True)\n",
    "    \n",
    "    # add Proportions column\n",
    "    res[\"Proportion\"] = res[\"Total\"] / size\n",
    "\n",
    "    # sort by total in increasing order (and fix the index)\n",
    "    res = res.sort_values(\"Total\")\n",
    "    \n",
    "    # reset index dropping old\n",
    "    res = res.reset_index(drop=True)\n",
    "    \n",
    "    return res"
   ]
  },
  {
   "cell_type": "markdown",
   "id": "1bcd4007-1136-4bcb-88af-606b1a216fdf",
   "metadata": {},
   "source": [
    "Run the cells below to check.  (The values resemble the actual values of the US adult population.)"
   ]
  },
  {
   "cell_type": "code",
   "execution_count": 72,
   "id": "3ffbba19-903f-4cee-932c-578e79bb1892",
   "metadata": {
    "tags": []
   },
   "outputs": [
    {
     "data": {
      "text/html": [
       "<div>\n",
       "<style scoped>\n",
       "    .dataframe tbody tr th:only-of-type {\n",
       "        vertical-align: middle;\n",
       "    }\n",
       "\n",
       "    .dataframe tbody tr th {\n",
       "        vertical-align: top;\n",
       "    }\n",
       "\n",
       "    .dataframe thead th {\n",
       "        text-align: right;\n",
       "    }\n",
       "</style>\n",
       "<table border=\"1\" class=\"dataframe\">\n",
       "  <thead>\n",
       "    <tr style=\"text-align: right;\">\n",
       "      <th></th>\n",
       "      <th>Value</th>\n",
       "      <th>Total</th>\n",
       "      <th>Proportion</th>\n",
       "    </tr>\n",
       "  </thead>\n",
       "  <tbody>\n",
       "    <tr>\n",
       "      <th>0</th>\n",
       "      <td>Other</td>\n",
       "      <td>1046</td>\n",
       "      <td>0.02092</td>\n",
       "    </tr>\n",
       "    <tr>\n",
       "      <th>1</th>\n",
       "      <td>Asian</td>\n",
       "      <td>3031</td>\n",
       "      <td>0.06062</td>\n",
       "    </tr>\n",
       "    <tr>\n",
       "      <th>2</th>\n",
       "      <td>Black</td>\n",
       "      <td>7020</td>\n",
       "      <td>0.14040</td>\n",
       "    </tr>\n",
       "    <tr>\n",
       "      <th>3</th>\n",
       "      <td>Hisp</td>\n",
       "      <td>9550</td>\n",
       "      <td>0.19100</td>\n",
       "    </tr>\n",
       "    <tr>\n",
       "      <th>4</th>\n",
       "      <td>White</td>\n",
       "      <td>29353</td>\n",
       "      <td>0.58706</td>\n",
       "    </tr>\n",
       "  </tbody>\n",
       "</table>\n",
       "</div>"
      ],
      "text/plain": [
       "   Value  Total  Proportion\n",
       "0  Other   1046     0.02092\n",
       "1  Asian   3031     0.06062\n",
       "2  Black   7020     0.14040\n",
       "3   Hisp   9550     0.19100\n",
       "4  White  29353     0.58706"
      ]
     },
     "execution_count": 72,
     "metadata": {},
     "output_type": "execute_result"
    }
   ],
   "source": [
    "column_proportions(adult_pop, \"Ethnicity\")"
   ]
  },
  {
   "cell_type": "code",
   "execution_count": 73,
   "id": "5fba68e6-5541-450b-a834-35bb5c8981ac",
   "metadata": {},
   "outputs": [
    {
     "data": {
      "text/html": [
       "<div>\n",
       "<style scoped>\n",
       "    .dataframe tbody tr th:only-of-type {\n",
       "        vertical-align: middle;\n",
       "    }\n",
       "\n",
       "    .dataframe tbody tr th {\n",
       "        vertical-align: top;\n",
       "    }\n",
       "\n",
       "    .dataframe thead th {\n",
       "        text-align: right;\n",
       "    }\n",
       "</style>\n",
       "<table border=\"1\" class=\"dataframe\">\n",
       "  <thead>\n",
       "    <tr style=\"text-align: right;\">\n",
       "      <th></th>\n",
       "      <th>Value</th>\n",
       "      <th>Total</th>\n",
       "      <th>Proportion</th>\n",
       "    </tr>\n",
       "  </thead>\n",
       "  <tbody>\n",
       "    <tr>\n",
       "      <th>0</th>\n",
       "      <td>Upper</td>\n",
       "      <td>10422</td>\n",
       "      <td>0.20844</td>\n",
       "    </tr>\n",
       "    <tr>\n",
       "      <th>1</th>\n",
       "      <td>Lower</td>\n",
       "      <td>14587</td>\n",
       "      <td>0.29174</td>\n",
       "    </tr>\n",
       "    <tr>\n",
       "      <th>2</th>\n",
       "      <td>Middle</td>\n",
       "      <td>24991</td>\n",
       "      <td>0.49982</td>\n",
       "    </tr>\n",
       "  </tbody>\n",
       "</table>\n",
       "</div>"
      ],
      "text/plain": [
       "    Value  Total  Proportion\n",
       "0   Upper  10422     0.20844\n",
       "1   Lower  14587     0.29174\n",
       "2  Middle  24991     0.49982"
      ]
     },
     "execution_count": 73,
     "metadata": {},
     "output_type": "execute_result"
    }
   ],
   "source": [
    "column_proportions(adult_pop, \"Income\")"
   ]
  },
  {
   "cell_type": "code",
   "execution_count": 74,
   "id": "eb243a0e-f430-4b22-8189-081d7b939528",
   "metadata": {},
   "outputs": [
    {
     "data": {
      "text/html": [
       "<div>\n",
       "<style scoped>\n",
       "    .dataframe tbody tr th:only-of-type {\n",
       "        vertical-align: middle;\n",
       "    }\n",
       "\n",
       "    .dataframe tbody tr th {\n",
       "        vertical-align: top;\n",
       "    }\n",
       "\n",
       "    .dataframe thead th {\n",
       "        text-align: right;\n",
       "    }\n",
       "</style>\n",
       "<table border=\"1\" class=\"dataframe\">\n",
       "  <thead>\n",
       "    <tr style=\"text-align: right;\">\n",
       "      <th></th>\n",
       "      <th>Value</th>\n",
       "      <th>Total</th>\n",
       "      <th>Proportion</th>\n",
       "    </tr>\n",
       "  </thead>\n",
       "  <tbody>\n",
       "    <tr>\n",
       "      <th>0</th>\n",
       "      <td>Single</td>\n",
       "      <td>19091</td>\n",
       "      <td>0.38182</td>\n",
       "    </tr>\n",
       "    <tr>\n",
       "      <th>1</th>\n",
       "      <td>Married</td>\n",
       "      <td>30909</td>\n",
       "      <td>0.61818</td>\n",
       "    </tr>\n",
       "  </tbody>\n",
       "</table>\n",
       "</div>"
      ],
      "text/plain": [
       "     Value  Total  Proportion\n",
       "0   Single  19091     0.38182\n",
       "1  Married  30909     0.61818"
      ]
     },
     "execution_count": 74,
     "metadata": {},
     "output_type": "execute_result"
    }
   ],
   "source": [
    "column_proportions(adult_pop, \"Married\")"
   ]
  },
  {
   "cell_type": "code",
   "execution_count": 75,
   "id": "ed142faf-17a7-4710-9336-6f75583e4123",
   "metadata": {},
   "outputs": [
    {
     "data": {
      "text/html": [
       "<div>\n",
       "<style scoped>\n",
       "    .dataframe tbody tr th:only-of-type {\n",
       "        vertical-align: middle;\n",
       "    }\n",
       "\n",
       "    .dataframe tbody tr th {\n",
       "        vertical-align: top;\n",
       "    }\n",
       "\n",
       "    .dataframe thead th {\n",
       "        text-align: right;\n",
       "    }\n",
       "</style>\n",
       "<table border=\"1\" class=\"dataframe\">\n",
       "  <thead>\n",
       "    <tr style=\"text-align: right;\">\n",
       "      <th></th>\n",
       "      <th>Value</th>\n",
       "      <th>Total</th>\n",
       "      <th>Proportion</th>\n",
       "    </tr>\n",
       "  </thead>\n",
       "  <tbody>\n",
       "    <tr>\n",
       "      <th>0</th>\n",
       "      <td>F</td>\n",
       "      <td>24950</td>\n",
       "      <td>0.499</td>\n",
       "    </tr>\n",
       "    <tr>\n",
       "      <th>1</th>\n",
       "      <td>M</td>\n",
       "      <td>25050</td>\n",
       "      <td>0.501</td>\n",
       "    </tr>\n",
       "  </tbody>\n",
       "</table>\n",
       "</div>"
      ],
      "text/plain": [
       "  Value  Total  Proportion\n",
       "0     F  24950       0.499\n",
       "1     M  25050       0.501"
      ]
     },
     "execution_count": 75,
     "metadata": {},
     "output_type": "execute_result"
    }
   ],
   "source": [
    "column_proportions(adult_pop, \"Gender\")"
   ]
  },
  {
   "cell_type": "markdown",
   "id": "51571205-0214-4e38-b573-5263dcb69814",
   "metadata": {},
   "source": [
    "**Question 1.4:** Create samples from `adult_pop` (*with replacement*) of sizes 10, 100, and 1000.  Remember to reset and drop the index."
   ]
  },
  {
   "cell_type": "code",
   "execution_count": 76,
   "id": "f46f3e15-9c24-4907-932e-a3ba6a4da290",
   "metadata": {},
   "outputs": [],
   "source": [
    "# sample of 10\n",
    "sample_10 = adult_pop.sample(10, replace=True).reset_index(drop=True)\n",
    "\n",
    "# sample of 100\n",
    "sample_100 = adult_pop.sample(100, replace=True).reset_index(drop=True)\n",
    "\n",
    "# sample of 1000\n",
    "sample_1000 = adult_pop.sample(1000, replace=True).reset_index(drop=True)"
   ]
  },
  {
   "cell_type": "markdown",
   "id": "5c8ce2dd-93b8-4893-8085-f99b0afd40c1",
   "metadata": {},
   "source": [
    "Run the cells below to test the results."
   ]
  },
  {
   "cell_type": "code",
   "execution_count": 77,
   "id": "72fa57cc-c213-4aa8-b14d-48f00931bd47",
   "metadata": {},
   "outputs": [
    {
     "data": {
      "text/html": [
       "<div>\n",
       "<style scoped>\n",
       "    .dataframe tbody tr th:only-of-type {\n",
       "        vertical-align: middle;\n",
       "    }\n",
       "\n",
       "    .dataframe tbody tr th {\n",
       "        vertical-align: top;\n",
       "    }\n",
       "\n",
       "    .dataframe thead th {\n",
       "        text-align: right;\n",
       "    }\n",
       "</style>\n",
       "<table border=\"1\" class=\"dataframe\">\n",
       "  <thead>\n",
       "    <tr style=\"text-align: right;\">\n",
       "      <th></th>\n",
       "      <th>Gender</th>\n",
       "      <th>Ethnicity</th>\n",
       "      <th>Married</th>\n",
       "      <th>Income</th>\n",
       "    </tr>\n",
       "  </thead>\n",
       "  <tbody>\n",
       "    <tr>\n",
       "      <th>0</th>\n",
       "      <td>M</td>\n",
       "      <td>Black</td>\n",
       "      <td>Married</td>\n",
       "      <td>Lower</td>\n",
       "    </tr>\n",
       "    <tr>\n",
       "      <th>1</th>\n",
       "      <td>M</td>\n",
       "      <td>White</td>\n",
       "      <td>Married</td>\n",
       "      <td>Upper</td>\n",
       "    </tr>\n",
       "    <tr>\n",
       "      <th>2</th>\n",
       "      <td>F</td>\n",
       "      <td>Black</td>\n",
       "      <td>Married</td>\n",
       "      <td>Middle</td>\n",
       "    </tr>\n",
       "    <tr>\n",
       "      <th>3</th>\n",
       "      <td>F</td>\n",
       "      <td>White</td>\n",
       "      <td>Married</td>\n",
       "      <td>Upper</td>\n",
       "    </tr>\n",
       "    <tr>\n",
       "      <th>4</th>\n",
       "      <td>M</td>\n",
       "      <td>White</td>\n",
       "      <td>Single</td>\n",
       "      <td>Middle</td>\n",
       "    </tr>\n",
       "    <tr>\n",
       "      <th>5</th>\n",
       "      <td>F</td>\n",
       "      <td>White</td>\n",
       "      <td>Married</td>\n",
       "      <td>Middle</td>\n",
       "    </tr>\n",
       "    <tr>\n",
       "      <th>6</th>\n",
       "      <td>F</td>\n",
       "      <td>Black</td>\n",
       "      <td>Married</td>\n",
       "      <td>Middle</td>\n",
       "    </tr>\n",
       "    <tr>\n",
       "      <th>7</th>\n",
       "      <td>F</td>\n",
       "      <td>White</td>\n",
       "      <td>Single</td>\n",
       "      <td>Upper</td>\n",
       "    </tr>\n",
       "    <tr>\n",
       "      <th>8</th>\n",
       "      <td>F</td>\n",
       "      <td>White</td>\n",
       "      <td>Married</td>\n",
       "      <td>Lower</td>\n",
       "    </tr>\n",
       "    <tr>\n",
       "      <th>9</th>\n",
       "      <td>F</td>\n",
       "      <td>White</td>\n",
       "      <td>Single</td>\n",
       "      <td>Middle</td>\n",
       "    </tr>\n",
       "  </tbody>\n",
       "</table>\n",
       "</div>"
      ],
      "text/plain": [
       "  Gender Ethnicity  Married  Income\n",
       "0      M     Black  Married   Lower\n",
       "1      M     White  Married   Upper\n",
       "2      F     Black  Married  Middle\n",
       "3      F     White  Married   Upper\n",
       "4      M     White   Single  Middle\n",
       "5      F     White  Married  Middle\n",
       "6      F     Black  Married  Middle\n",
       "7      F     White   Single   Upper\n",
       "8      F     White  Married   Lower\n",
       "9      F     White   Single  Middle"
      ]
     },
     "execution_count": 77,
     "metadata": {},
     "output_type": "execute_result"
    }
   ],
   "source": [
    "sample_10"
   ]
  },
  {
   "cell_type": "code",
   "execution_count": 78,
   "id": "f2a3adc1-46f1-4b46-997d-b50b5332981a",
   "metadata": {},
   "outputs": [
    {
     "data": {
      "text/html": [
       "<div>\n",
       "<style scoped>\n",
       "    .dataframe tbody tr th:only-of-type {\n",
       "        vertical-align: middle;\n",
       "    }\n",
       "\n",
       "    .dataframe tbody tr th {\n",
       "        vertical-align: top;\n",
       "    }\n",
       "\n",
       "    .dataframe thead th {\n",
       "        text-align: right;\n",
       "    }\n",
       "</style>\n",
       "<table border=\"1\" class=\"dataframe\">\n",
       "  <thead>\n",
       "    <tr style=\"text-align: right;\">\n",
       "      <th></th>\n",
       "      <th>Gender</th>\n",
       "      <th>Ethnicity</th>\n",
       "      <th>Married</th>\n",
       "      <th>Income</th>\n",
       "    </tr>\n",
       "  </thead>\n",
       "  <tbody>\n",
       "    <tr>\n",
       "      <th>0</th>\n",
       "      <td>M</td>\n",
       "      <td>Hisp</td>\n",
       "      <td>Married</td>\n",
       "      <td>Middle</td>\n",
       "    </tr>\n",
       "    <tr>\n",
       "      <th>1</th>\n",
       "      <td>M</td>\n",
       "      <td>White</td>\n",
       "      <td>Single</td>\n",
       "      <td>Lower</td>\n",
       "    </tr>\n",
       "    <tr>\n",
       "      <th>2</th>\n",
       "      <td>M</td>\n",
       "      <td>Hisp</td>\n",
       "      <td>Married</td>\n",
       "      <td>Lower</td>\n",
       "    </tr>\n",
       "    <tr>\n",
       "      <th>3</th>\n",
       "      <td>M</td>\n",
       "      <td>Hisp</td>\n",
       "      <td>Married</td>\n",
       "      <td>Middle</td>\n",
       "    </tr>\n",
       "    <tr>\n",
       "      <th>4</th>\n",
       "      <td>M</td>\n",
       "      <td>White</td>\n",
       "      <td>Single</td>\n",
       "      <td>Lower</td>\n",
       "    </tr>\n",
       "    <tr>\n",
       "      <th>...</th>\n",
       "      <td>...</td>\n",
       "      <td>...</td>\n",
       "      <td>...</td>\n",
       "      <td>...</td>\n",
       "    </tr>\n",
       "    <tr>\n",
       "      <th>95</th>\n",
       "      <td>M</td>\n",
       "      <td>Hisp</td>\n",
       "      <td>Married</td>\n",
       "      <td>Upper</td>\n",
       "    </tr>\n",
       "    <tr>\n",
       "      <th>96</th>\n",
       "      <td>F</td>\n",
       "      <td>White</td>\n",
       "      <td>Single</td>\n",
       "      <td>Middle</td>\n",
       "    </tr>\n",
       "    <tr>\n",
       "      <th>97</th>\n",
       "      <td>M</td>\n",
       "      <td>Black</td>\n",
       "      <td>Married</td>\n",
       "      <td>Lower</td>\n",
       "    </tr>\n",
       "    <tr>\n",
       "      <th>98</th>\n",
       "      <td>M</td>\n",
       "      <td>White</td>\n",
       "      <td>Married</td>\n",
       "      <td>Middle</td>\n",
       "    </tr>\n",
       "    <tr>\n",
       "      <th>99</th>\n",
       "      <td>F</td>\n",
       "      <td>White</td>\n",
       "      <td>Single</td>\n",
       "      <td>Middle</td>\n",
       "    </tr>\n",
       "  </tbody>\n",
       "</table>\n",
       "<p>100 rows × 4 columns</p>\n",
       "</div>"
      ],
      "text/plain": [
       "   Gender Ethnicity  Married  Income\n",
       "0       M      Hisp  Married  Middle\n",
       "1       M     White   Single   Lower\n",
       "2       M      Hisp  Married   Lower\n",
       "3       M      Hisp  Married  Middle\n",
       "4       M     White   Single   Lower\n",
       "..    ...       ...      ...     ...\n",
       "95      M      Hisp  Married   Upper\n",
       "96      F     White   Single  Middle\n",
       "97      M     Black  Married   Lower\n",
       "98      M     White  Married  Middle\n",
       "99      F     White   Single  Middle\n",
       "\n",
       "[100 rows x 4 columns]"
      ]
     },
     "execution_count": 78,
     "metadata": {},
     "output_type": "execute_result"
    }
   ],
   "source": [
    "sample_100"
   ]
  },
  {
   "cell_type": "code",
   "execution_count": 79,
   "id": "a1d09d89-5182-4e9f-9373-0d9ce43ee584",
   "metadata": {},
   "outputs": [
    {
     "data": {
      "text/html": [
       "<div>\n",
       "<style scoped>\n",
       "    .dataframe tbody tr th:only-of-type {\n",
       "        vertical-align: middle;\n",
       "    }\n",
       "\n",
       "    .dataframe tbody tr th {\n",
       "        vertical-align: top;\n",
       "    }\n",
       "\n",
       "    .dataframe thead th {\n",
       "        text-align: right;\n",
       "    }\n",
       "</style>\n",
       "<table border=\"1\" class=\"dataframe\">\n",
       "  <thead>\n",
       "    <tr style=\"text-align: right;\">\n",
       "      <th></th>\n",
       "      <th>Gender</th>\n",
       "      <th>Ethnicity</th>\n",
       "      <th>Married</th>\n",
       "      <th>Income</th>\n",
       "    </tr>\n",
       "  </thead>\n",
       "  <tbody>\n",
       "    <tr>\n",
       "      <th>0</th>\n",
       "      <td>F</td>\n",
       "      <td>White</td>\n",
       "      <td>Married</td>\n",
       "      <td>Middle</td>\n",
       "    </tr>\n",
       "    <tr>\n",
       "      <th>1</th>\n",
       "      <td>F</td>\n",
       "      <td>Hisp</td>\n",
       "      <td>Single</td>\n",
       "      <td>Lower</td>\n",
       "    </tr>\n",
       "    <tr>\n",
       "      <th>2</th>\n",
       "      <td>F</td>\n",
       "      <td>Hisp</td>\n",
       "      <td>Single</td>\n",
       "      <td>Upper</td>\n",
       "    </tr>\n",
       "    <tr>\n",
       "      <th>3</th>\n",
       "      <td>M</td>\n",
       "      <td>White</td>\n",
       "      <td>Married</td>\n",
       "      <td>Lower</td>\n",
       "    </tr>\n",
       "    <tr>\n",
       "      <th>4</th>\n",
       "      <td>M</td>\n",
       "      <td>Asian</td>\n",
       "      <td>Married</td>\n",
       "      <td>Middle</td>\n",
       "    </tr>\n",
       "    <tr>\n",
       "      <th>...</th>\n",
       "      <td>...</td>\n",
       "      <td>...</td>\n",
       "      <td>...</td>\n",
       "      <td>...</td>\n",
       "    </tr>\n",
       "    <tr>\n",
       "      <th>995</th>\n",
       "      <td>M</td>\n",
       "      <td>Hisp</td>\n",
       "      <td>Married</td>\n",
       "      <td>Upper</td>\n",
       "    </tr>\n",
       "    <tr>\n",
       "      <th>996</th>\n",
       "      <td>F</td>\n",
       "      <td>Hisp</td>\n",
       "      <td>Married</td>\n",
       "      <td>Middle</td>\n",
       "    </tr>\n",
       "    <tr>\n",
       "      <th>997</th>\n",
       "      <td>M</td>\n",
       "      <td>White</td>\n",
       "      <td>Single</td>\n",
       "      <td>Lower</td>\n",
       "    </tr>\n",
       "    <tr>\n",
       "      <th>998</th>\n",
       "      <td>F</td>\n",
       "      <td>White</td>\n",
       "      <td>Married</td>\n",
       "      <td>Middle</td>\n",
       "    </tr>\n",
       "    <tr>\n",
       "      <th>999</th>\n",
       "      <td>M</td>\n",
       "      <td>White</td>\n",
       "      <td>Married</td>\n",
       "      <td>Lower</td>\n",
       "    </tr>\n",
       "  </tbody>\n",
       "</table>\n",
       "<p>1000 rows × 4 columns</p>\n",
       "</div>"
      ],
      "text/plain": [
       "    Gender Ethnicity  Married  Income\n",
       "0        F     White  Married  Middle\n",
       "1        F      Hisp   Single   Lower\n",
       "2        F      Hisp   Single   Upper\n",
       "3        M     White  Married   Lower\n",
       "4        M     Asian  Married  Middle\n",
       "..     ...       ...      ...     ...\n",
       "995      M      Hisp  Married   Upper\n",
       "996      F      Hisp  Married  Middle\n",
       "997      M     White   Single   Lower\n",
       "998      F     White  Married  Middle\n",
       "999      M     White  Married   Lower\n",
       "\n",
       "[1000 rows x 4 columns]"
      ]
     },
     "execution_count": 79,
     "metadata": {},
     "output_type": "execute_result"
    }
   ],
   "source": [
    "sample_1000"
   ]
  },
  {
   "cell_type": "markdown",
   "id": "5d04e4d9-deb8-4775-8c0a-347f035ea2e8",
   "metadata": {
    "tags": []
   },
   "source": [
    "**Question 1.5:** Create a data frame with five columns:\n",
    "* `Ethnicity`, containing the possible ethnicities from `adult_pop` **in alphabetical order**;\n",
    "* `Sample 10`, with proportions for each ethnicity from `sample_10`;\n",
    "* `Sample 100`, with proportions for each ethnicity from `sample_100`;\n",
    "* `Sample 1000`, with proportions for each ethnicity from `sample_1000`;\n",
    "* `Total Population`, with proportions for each ethnicity from `adult_pop`.\n",
    "\n",
    "*The columns must be in the order above!*\n",
    "\n",
    "*Hint:* \n",
    "1. Use the function `column_proportions` to generate the proportions (for each `adult_pop`, `sample_10`, `sample_100`, and `sample_1000`).\n",
    "2. Select only `Value` and `Proportion` for each data frame.\n",
    "3. Rename the columns appropriately.\n",
    "4. Merge the data frames, setting `NaN` to zero.  (You will need to use the `merge` method multiple times!)\n",
    "5. When merging the data frames, *start with the one for the total population* and use the `merge` option `how=\"left\"`, to avoid dropping rows (if some data frame is missing some ethnicity).\n",
    "6. Reorder the columns if necessary.\n",
    "7. Don't forget to sort the rows (resetting and dropping the index)."
   ]
  },
  {
   "cell_type": "code",
   "execution_count": 80,
   "id": "7497b553-eb6b-44ba-83ac-95eb7239b285",
   "metadata": {},
   "outputs": [
    {
     "data": {
      "text/html": [
       "<div>\n",
       "<style scoped>\n",
       "    .dataframe tbody tr th:only-of-type {\n",
       "        vertical-align: middle;\n",
       "    }\n",
       "\n",
       "    .dataframe tbody tr th {\n",
       "        vertical-align: top;\n",
       "    }\n",
       "\n",
       "    .dataframe thead th {\n",
       "        text-align: right;\n",
       "    }\n",
       "</style>\n",
       "<table border=\"1\" class=\"dataframe\">\n",
       "  <thead>\n",
       "    <tr style=\"text-align: right;\">\n",
       "      <th></th>\n",
       "      <th>Ethnicity</th>\n",
       "      <th>Sample 10</th>\n",
       "      <th>Sample 100</th>\n",
       "      <th>Sample 1000</th>\n",
       "      <th>Total Population</th>\n",
       "    </tr>\n",
       "  </thead>\n",
       "  <tbody>\n",
       "    <tr>\n",
       "      <th>0</th>\n",
       "      <td>Asian</td>\n",
       "      <td>0.0</td>\n",
       "      <td>0.05</td>\n",
       "      <td>0.052</td>\n",
       "      <td>0.06062</td>\n",
       "    </tr>\n",
       "    <tr>\n",
       "      <th>1</th>\n",
       "      <td>Black</td>\n",
       "      <td>0.3</td>\n",
       "      <td>0.15</td>\n",
       "      <td>0.148</td>\n",
       "      <td>0.14040</td>\n",
       "    </tr>\n",
       "    <tr>\n",
       "      <th>2</th>\n",
       "      <td>Hisp</td>\n",
       "      <td>0.0</td>\n",
       "      <td>0.24</td>\n",
       "      <td>0.195</td>\n",
       "      <td>0.19100</td>\n",
       "    </tr>\n",
       "    <tr>\n",
       "      <th>3</th>\n",
       "      <td>Other</td>\n",
       "      <td>0.0</td>\n",
       "      <td>0.03</td>\n",
       "      <td>0.025</td>\n",
       "      <td>0.02092</td>\n",
       "    </tr>\n",
       "    <tr>\n",
       "      <th>4</th>\n",
       "      <td>White</td>\n",
       "      <td>0.7</td>\n",
       "      <td>0.53</td>\n",
       "      <td>0.580</td>\n",
       "      <td>0.58706</td>\n",
       "    </tr>\n",
       "  </tbody>\n",
       "</table>\n",
       "</div>"
      ],
      "text/plain": [
       "  Ethnicity  Sample 10  Sample 100  Sample 1000  Total Population\n",
       "0     Asian        0.0        0.05        0.052           0.06062\n",
       "1     Black        0.3        0.15        0.148           0.14040\n",
       "2      Hisp        0.0        0.24        0.195           0.19100\n",
       "3     Other        0.0        0.03        0.025           0.02092\n",
       "4     White        0.7        0.53        0.580           0.58706"
      ]
     },
     "execution_count": 80,
     "metadata": {},
     "output_type": "execute_result"
    }
   ],
   "source": [
    "# ethnicity proportion of total population\n",
    "# (with correct column names: \"Ethniticty\" and \"Total Population\")\n",
    "total_pop_prop = column_proportions(adult_pop, \"Ethnicity\")[\n",
    "    [\"Value\", \"Proportion\"]\n",
    "].rename(columns={\"Value\": \"Ethnicity\", \"Proportion\": \"Total Population\"})\n",
    "\n",
    "# ethnicity proportion of sample_10\n",
    "# (with correct column names: \"Ethniticty\" and \"Sample 10\")\n",
    "sample_10_prop = column_proportions(sample_10, \"Ethnicity\")[\n",
    "    [\"Value\", \"Proportion\"]\n",
    "].rename(columns={\"Value\": \"Ethnicity\", \"Proportion\": \"Sample 10\"})\n",
    "\n",
    "# ethnicity proportion of sample_100\n",
    "# (with correct column names: \"Ethniticty\" and \"Sample 100\")\n",
    "sample_100_prop = column_proportions(sample_100, \"Ethnicity\")[\n",
    "    [\"Value\", \"Proportion\"]\n",
    "].rename(columns={\"Value\": \"Ethnicity\", \"Proportion\": \"Sample 100\"})\n",
    "\n",
    "# ethnicity proportion of sample_1000\n",
    "# (with correct column names: \"Ethniticty\" and \"Sample 1000\")\n",
    "sample_1000_prop = column_proportions(sample_1000, \"Ethnicity\")[\n",
    "    [\"Value\", \"Proportion\"]\n",
    "].rename(columns={\"Value\": \"Ethnicity\", \"Proportion\": \"Sample 1000\"})\n",
    "\n",
    "# merge all proporiton data frames (matching the \"Ethnicity\" column)\n",
    "# and setting NaN to zero\n",
    "ethnicity_props = (\n",
    "    total_pop_prop.merge(sample_10_prop, how=\"left\")\n",
    "    .fillna(0)\n",
    "    .merge(sample_100_prop)\n",
    "    .fillna(0)\n",
    "    .merge(sample_1000_prop)\n",
    "    .fillna(0)\n",
    "    .sort_values(\"Ethnicity\")\n",
    ")\n",
    "\n",
    "# sort rows with Ethnicity in alphabetical order\n",
    "ethnicity_props = ethnicity_props.sort_values(\"Ethnicity\").reset_index(drop=True)\n",
    "\n",
    "\n",
    "# reorder columns to required order\n",
    "ethnicity_props = ethnicity_props[\n",
    "    [\"Ethnicity\", \"Sample 10\", \"Sample 100\", \"Sample 1000\", \"Total Population\"]\n",
    "]\n",
    "\n",
    "ethnicity_props"
   ]
  },
  {
   "cell_type": "markdown",
   "id": "6e72a396-a926-49c0-b529-c5201b1223a8",
   "metadata": {
    "tags": []
   },
   "source": [
    "**Question 1.6:** Draw a (horizontal) bar graph comparing the percentages from the total population and samples of sizes 10, 100, and 1000.\n",
    "\n",
    "*Hint:* Use `ethnicity_props`."
   ]
  },
  {
   "cell_type": "code",
   "execution_count": 81,
   "id": "48f15cf9-d298-4133-a94e-e88456c33b6e",
   "metadata": {},
   "outputs": [
    {
     "data": {
      "image/png": "[encoded data removed]",
      "text/plain": [
       "<Figure size 1000x800 with 1 Axes>"
      ]
     },
     "metadata": {},
     "output_type": "display_data"
    }
   ],
   "source": [
    "ethnicity_props.plot(\"Ethnicity\", kind=\"barh\")\n",
    "plt.show()"
   ]
  },
  {
   "cell_type": "markdown",
   "id": "1fa3ad5c-fa0a-41e5-85e8-289eb333900e",
   "metadata": {},
   "source": [
    "**Question 1.7:** `sample_1000` should be a fairly close representation of the real total population.  Compute the absolute value of the differences between the **percentage** (in %) of male, single, hispanic in `sample_1000` and `adult_pop`:"
   ]
  },
  {
   "cell_type": "code",
   "execution_count": 82,
   "id": "1d5d083a-4f60-428f-8395-9a89a9ea6eb3",
   "metadata": {},
   "outputs": [
    {
     "data": {
      "text/plain": [
       "0.9940000000000002"
      ]
     },
     "execution_count": 82,
     "metadata": {},
     "output_type": "execute_result"
    }
   ],
   "source": [
    "# total number of male, single, hispanic individuals in sample_1000\n",
    "male_single_hisp_sample_1000 = len(\n",
    "    sample_1000.query(\"Gender == 'M' and Ethnicity == 'Hisp' and Married == 'Single'\")\n",
    ")\n",
    "\n",
    "# percentage of male, single, hispanic individuals in sample_1000\n",
    "male_single_hisp_sample_1000_perc = (\n",
    "    100 * male_single_hisp_sample_1000 / len(sample_1000)\n",
    ")\n",
    "\n",
    "# total number of male, single, hispanic individuals in adult_pop\n",
    "male_single_hisp_adult_pop = len(\n",
    "    adult_pop.query(\"Gender == 'M' and Ethnicity == 'Hisp' and Married == 'Single'\")\n",
    ")\n",
    "\n",
    "# percentage of male, single, hispanic individuals in adult_pop\n",
    "male_single_hisp_adult_pop_perc = 100 * male_single_hisp_adult_pop / len(adult_pop)\n",
    "\n",
    "# absolute value of the difference in the percentages\n",
    "male_single_hisp_diff = np.abs(\n",
    "    male_single_hisp_sample_1000_perc - male_single_hisp_adult_pop_perc\n",
    ")\n",
    "\n",
    "male_single_hisp_diff"
   ]
  },
  {
   "cell_type": "markdown",
   "id": "3b110921-a269-4f99-a876-c28486dc8ef5",
   "metadata": {},
   "source": [
    "## 2. Females from Lower Income Class"
   ]
  },
  {
   "cell_type": "markdown",
   "id": "87c2265d-ab76-4e97-a94c-4ced3953aa35",
   "metadata": {},
   "source": [
    "**Question 2.1:**  Find the percentage of female from the lower income class in `adult_pop`:"
   ]
  },
  {
   "cell_type": "code",
   "execution_count": 90,
   "id": "36985a70-f8b4-4724-a430-caaf0b43236f",
   "metadata": {},
   "outputs": [
    {
     "data": {
      "text/plain": [
       "0.1446"
      ]
     },
     "execution_count": 90,
     "metadata": {},
     "output_type": "execute_result"
    }
   ],
   "source": [
    "total_fem_lower_class = len(adult_pop.query(\"Gender == 'F' and Income == 'Lower'\"))\n",
    "perc_fem_lower_class = total_fem_lower_class / total_pop\n",
    "perc_fem_lower_class"
   ]
  },
  {
   "cell_type": "markdown",
   "id": "a9696397-9881-47cf-8682-cd110dcf92cd",
   "metadata": {},
   "source": [
    "**Question 2.2:** Write a function that takes a data frame with the same columns as `adult_pop` and gives the total number of females from the lower income class in the data frame."
   ]
  },
  {
   "cell_type": "code",
   "execution_count": 91,
   "id": "8f459513-e19e-4a43-9836-a2d77688793a",
   "metadata": {},
   "outputs": [],
   "source": [
    "def female_lower_income(df):\n",
    "    \"\"\"\n",
    "    Get the total number of females in the lower income class of the given data frame.\n",
    "    \"\"\"\n",
    "    return len(df.query(\"Gender == 'F' and Income == 'Lower'\"))"
   ]
  },
  {
   "cell_type": "markdown",
   "id": "81675a93-41e7-46d3-999c-d0910f16ad73",
   "metadata": {},
   "source": [
    "Run the cells below to test the results."
   ]
  },
  {
   "cell_type": "code",
   "execution_count": 92,
   "id": "486eab66-83e8-442e-818c-4eddc1905b65",
   "metadata": {},
   "outputs": [
    {
     "data": {
      "text/plain": [
       "7230"
      ]
     },
     "execution_count": 92,
     "metadata": {},
     "output_type": "execute_result"
    }
   ],
   "source": [
    "female_lower_income(adult_pop)"
   ]
  },
  {
   "cell_type": "code",
   "execution_count": 93,
   "id": "da6b8065-888d-45d4-af69-f70667fa9320",
   "metadata": {},
   "outputs": [
    {
     "data": {
      "text/plain": [
       "1"
      ]
     },
     "execution_count": 93,
     "metadata": {},
     "output_type": "execute_result"
    }
   ],
   "source": [
    "female_lower_income(sample_10)"
   ]
  },
  {
   "cell_type": "code",
   "execution_count": 94,
   "id": "837046c0-0e2c-48c3-a809-7ebfd734ee1b",
   "metadata": {},
   "outputs": [
    {
     "data": {
      "text/plain": [
       "17"
      ]
     },
     "execution_count": 94,
     "metadata": {},
     "output_type": "execute_result"
    }
   ],
   "source": [
    "female_lower_income(sample_100)"
   ]
  },
  {
   "cell_type": "code",
   "execution_count": 95,
   "id": "cb7c408b-a63c-43aa-829c-57716028bb34",
   "metadata": {},
   "outputs": [
    {
     "data": {
      "text/plain": [
       "131"
      ]
     },
     "execution_count": 95,
     "metadata": {},
     "output_type": "execute_result"
    }
   ],
   "source": [
    "female_lower_income(sample_1000)"
   ]
  },
  {
   "cell_type": "markdown",
   "id": "84910037-7ff7-4eee-92f3-554d37e71598",
   "metadata": {},
   "source": [
    "**Question 2.3:** Create a histogram of number of females from lower income class from 10,000 random samples of 100 people from the total population.\n",
    "\n",
    "*Hint:* Use the `female_lower_income` function."
   ]
  },
  {
   "cell_type": "code",
   "execution_count": 97,
   "id": "62a23c6e-ffdd-434c-9d85-1cf263c5dd29",
   "metadata": {},
   "outputs": [
    {
     "data": {
      "image/png": "[encoded data removed]",
      "text/plain": [
       "<Figure size 1000x800 with 1 Axes>"
      ]
     },
     "metadata": {},
     "output_type": "display_data"
    }
   ],
   "source": [
    "# number of samples\n",
    "num_samples = 10_000\n",
    "\n",
    "# initialize the array that will contain the number of\n",
    "# females from lower income class in samples\n",
    "numbers = np.zeros(num_samples)\n",
    "\n",
    "# add the values to the array\n",
    "for i in np.arange(num_samples):\n",
    "    numbers[i] = female_lower_income(adult_pop.sample(100, replace=True))\n",
    "\n",
    "# create a data frame with the resutls\n",
    "samples_df = pd.DataFrame({\"Count\": numbers})\n",
    "\n",
    "# create the histogram\n",
    "samples_df.hist(\"Count\", bins=np.arange(-0.5, 101.5, 1), ec=\"white\", density=True)\n",
    "\n",
    "plt.show()"
   ]
  },
  {
   "cell_type": "markdown",
   "id": "3e0c82e3-595c-4078-bf2f-21ea6845b934",
   "metadata": {
    "tags": []
   },
   "source": [
    "**Question 2.4:** Using `samples_df` (from the previous question) to give the empirical probability distribution of samples of 100 individuals from `adult_pop`, find the p-values for having 10 and 21 women from lower income class in a panel of a supposedly random sample of 100 individuals from the adult population.\n",
    "\n",
    "*Hint:* The histogram above can help on deciding how to compute these p-values.  (Remember that the *p-value* of a test is the chance that the test statistic will be equal to the observed value in the sample *or even further in the direction that supports the alternative hypothesis*.)  The alternative hypothesis here is simply that the null-hypothesis (that the 100 individuals were randomly chosen) is false.  We thus could have either too many or too few females from the lower income class."
   ]
  },
  {
   "cell_type": "code",
   "execution_count": 100,
   "id": "73f5559a-c5d7-497f-aa14-f3ca0413d6f4",
   "metadata": {},
   "outputs": [
    {
     "data": {
      "text/plain": [
       "0.1239"
      ]
     },
     "execution_count": 100,
     "metadata": {},
     "output_type": "execute_result"
    }
   ],
   "source": [
    "p_val_10 = len(samples_df.loc[samples_df[\"Count\"] <= 10]) / len(samples_df)\n",
    "p_val_10"
   ]
  },
  {
   "cell_type": "code",
   "execution_count": 101,
   "id": "e612ece5-3fa0-4d18-b85e-6fb9fba75c34",
   "metadata": {},
   "outputs": [
    {
     "data": {
      "text/plain": [
       "0.0462"
      ]
     },
     "execution_count": 101,
     "metadata": {},
     "output_type": "execute_result"
    }
   ],
   "source": [
    "p_val_21 = len(samples_df.loc[samples_df[\"Count\"] >= 21]) / len(samples_df)\n",
    "p_val_21"
   ]
  },
  {
   "cell_type": "markdown",
   "id": "9a58ea5e-41db-47a3-b2a7-d74092382b1c",
   "metadata": {},
   "source": [
    "### Quantiles"
   ]
  },
  {
   "cell_type": "markdown",
   "id": "a57a4e35-38ec-4a09-9c1e-505fea8e38ff",
   "metadata": {},
   "source": [
    "Remember that a test is *statistically significant* if its p-value is less than 5%, and it is *highly statistically significant* if its p-value is less than 1%.  To find what are the boundaries for those p-values, we can use [NumPy's quantile](https://numpy.org/doc/stable/reference/generated/numpy.quantile.html) (or [Panda's](https://pandas.pydata.org/docs/reference/api/pandas.DataFrame.quantile.html))."
   ]
  },
  {
   "cell_type": "markdown",
   "id": "96378645-f155-422e-88e1-1c6f7db29a1b",
   "metadata": {},
   "source": [
    "For instance, to find the number of females from the lower income class such that any less would be statistically significant, we can do:"
   ]
  },
  {
   "cell_type": "code",
   "execution_count": 102,
   "id": "492f8a84-9265-41cd-ab04-0f373078dea2",
   "metadata": {},
   "outputs": [
    {
     "data": {
      "text/plain": [
       "9.0"
      ]
     },
     "execution_count": 102,
     "metadata": {},
     "output_type": "execute_result"
    }
   ],
   "source": [
    "samples_df[\"Count\"].quantile(0.05)"
   ]
  },
  {
   "cell_type": "markdown",
   "id": "741083ca-c7fb-4134-b7f8-9a2ef2ecff23",
   "metadata": {},
   "source": [
    "And for *highly* statistically significant:"
   ]
  },
  {
   "cell_type": "code",
   "execution_count": 103,
   "id": "cb1dd3dc-486b-4391-8682-262fdedfc1f5",
   "metadata": {},
   "outputs": [
    {
     "data": {
      "text/plain": [
       "7.0"
      ]
     },
     "execution_count": 103,
     "metadata": {},
     "output_type": "execute_result"
    }
   ],
   "source": [
    "samples_df[\"Count\"].quantile(0.01)"
   ]
  },
  {
   "cell_type": "markdown",
   "id": "85adbe78-40a0-4303-bd9b-5529fe61cf5a",
   "metadata": {},
   "source": [
    "**Question 2.5:** On the other hand, some tests might be statistically significant for having too many females from the lower income class.  Find values for which a higher number would be statistically significant and highly statistically significant."
   ]
  },
  {
   "cell_type": "code",
   "execution_count": 113,
   "id": "ac35d2b7-1576-4450-a40f-82580de4e6c1",
   "metadata": {},
   "outputs": [
    {
     "data": {
      "text/plain": [
       "20.0"
      ]
     },
     "execution_count": 113,
     "metadata": {},
     "output_type": "execute_result"
    }
   ],
   "source": [
    "# statistically significant\n",
    "stat_sig = samples_df[\"Count\"].quantile(0.95)\n",
    "stat_sig"
   ]
  },
  {
   "cell_type": "code",
   "execution_count": 114,
   "id": "d19ac838-5e42-49ea-81e3-56303dc19a93",
   "metadata": {},
   "outputs": [
    {
     "data": {
      "text/plain": [
       "23.0"
      ]
     },
     "execution_count": 114,
     "metadata": {},
     "output_type": "execute_result"
    }
   ],
   "source": [
    "# highly statistically significant\n",
    "highly_stat_sig = samples_df[\"Count\"].quantile(0.99)\n",
    "highly_stat_sig"
   ]
  },
  {
   "cell_type": "markdown",
   "id": "6753934c-4938-45b8-a72f-b7e25436335c",
   "metadata": {},
   "source": [
    "## 3. Total Variation Distance"
   ]
  },
  {
   "cell_type": "markdown",
   "id": "d4eef79c-4275-4494-9417-84eaa868f7b5",
   "metadata": {},
   "source": [
    "Suppose you have a panel of 100 people with the following proportions on income:"
   ]
  },
  {
   "cell_type": "code",
   "execution_count": 104,
   "id": "c5986a5f-79d8-4c32-ab2f-c45773ce111f",
   "metadata": {},
   "outputs": [
    {
     "data": {
      "text/html": [
       "<div>\n",
       "<style scoped>\n",
       "    .dataframe tbody tr th:only-of-type {\n",
       "        vertical-align: middle;\n",
       "    }\n",
       "\n",
       "    .dataframe tbody tr th {\n",
       "        vertical-align: top;\n",
       "    }\n",
       "\n",
       "    .dataframe thead th {\n",
       "        text-align: right;\n",
       "    }\n",
       "</style>\n",
       "<table border=\"1\" class=\"dataframe\">\n",
       "  <thead>\n",
       "    <tr style=\"text-align: right;\">\n",
       "      <th></th>\n",
       "      <th>Income</th>\n",
       "      <th>Proportion</th>\n",
       "    </tr>\n",
       "  </thead>\n",
       "  <tbody>\n",
       "    <tr>\n",
       "      <th>0</th>\n",
       "      <td>Lower</td>\n",
       "      <td>0.22</td>\n",
       "    </tr>\n",
       "    <tr>\n",
       "      <th>1</th>\n",
       "      <td>Middle</td>\n",
       "      <td>0.54</td>\n",
       "    </tr>\n",
       "    <tr>\n",
       "      <th>2</th>\n",
       "      <td>Upper</td>\n",
       "      <td>0.24</td>\n",
       "    </tr>\n",
       "  </tbody>\n",
       "</table>\n",
       "</div>"
      ],
      "text/plain": [
       "   Income  Proportion\n",
       "0   Lower        0.22\n",
       "1  Middle        0.54\n",
       "2   Upper        0.24"
      ]
     },
     "execution_count": 104,
     "metadata": {},
     "output_type": "execute_result"
    }
   ],
   "source": [
    "panel_income = pd.DataFrame(\n",
    "    {\n",
    "        \"Income\": np.array([\"Lower\", \"Middle\", \"Upper\"]),\n",
    "        \"Proportion\": np.array([0.22, 0.54, 0.24]),\n",
    "    }\n",
    ")\n",
    "panel_income"
   ]
  },
  {
   "cell_type": "markdown",
   "id": "6893517f-a2dc-4f4f-8a44-0cf0c8633b69",
   "metadata": {},
   "source": [
    "Remember that we can find the populations proportions (sorting to match `panel_income`):"
   ]
  },
  {
   "cell_type": "code",
   "execution_count": 105,
   "id": "9487d9bc-2e5f-4d78-a5fb-17aaa5ca60b8",
   "metadata": {},
   "outputs": [
    {
     "data": {
      "text/html": [
       "<div>\n",
       "<style scoped>\n",
       "    .dataframe tbody tr th:only-of-type {\n",
       "        vertical-align: middle;\n",
       "    }\n",
       "\n",
       "    .dataframe tbody tr th {\n",
       "        vertical-align: top;\n",
       "    }\n",
       "\n",
       "    .dataframe thead th {\n",
       "        text-align: right;\n",
       "    }\n",
       "</style>\n",
       "<table border=\"1\" class=\"dataframe\">\n",
       "  <thead>\n",
       "    <tr style=\"text-align: right;\">\n",
       "      <th></th>\n",
       "      <th>Value</th>\n",
       "      <th>Total</th>\n",
       "      <th>Proportion</th>\n",
       "    </tr>\n",
       "  </thead>\n",
       "  <tbody>\n",
       "    <tr>\n",
       "      <th>0</th>\n",
       "      <td>Lower</td>\n",
       "      <td>14587</td>\n",
       "      <td>0.29174</td>\n",
       "    </tr>\n",
       "    <tr>\n",
       "      <th>1</th>\n",
       "      <td>Middle</td>\n",
       "      <td>24991</td>\n",
       "      <td>0.49982</td>\n",
       "    </tr>\n",
       "    <tr>\n",
       "      <th>2</th>\n",
       "      <td>Upper</td>\n",
       "      <td>10422</td>\n",
       "      <td>0.20844</td>\n",
       "    </tr>\n",
       "  </tbody>\n",
       "</table>\n",
       "</div>"
      ],
      "text/plain": [
       "    Value  Total  Proportion\n",
       "0   Lower  14587     0.29174\n",
       "1  Middle  24991     0.49982\n",
       "2   Upper  10422     0.20844"
      ]
     },
     "execution_count": 105,
     "metadata": {},
     "output_type": "execute_result"
    }
   ],
   "source": [
    "pop_income = (\n",
    "    column_proportions(adult_pop, \"Income\").sort_values(\"Value\").reset_index(drop=True)\n",
    ")\n",
    "pop_income"
   ]
  },
  {
   "cell_type": "markdown",
   "id": "89e6ed09-f8d3-47d2-b826-52b1726a5380",
   "metadata": {},
   "source": [
    "**Question 3.1:** Compute the total variation distance (TVD) of the *percentages* of income classes between the total population (`pop_income`) and the panel above (`panel_income`).\n",
    "\n",
    "*Hint:* \n",
    "1. **You cannot enter the values by hand!**  You need to use the `pop_income` and `panel_income` variables to get the TVD.\n",
    "2. Note we are asking for *percentages*, and not proportions."
   ]
  },
  {
   "cell_type": "code",
   "execution_count": 106,
   "id": "94079277-7481-482a-8967-014302c2eac7",
   "metadata": {},
   "outputs": [
    {
     "data": {
      "text/plain": [
       "7.174000000000003"
      ]
     },
     "execution_count": 106,
     "metadata": {},
     "output_type": "execute_result"
    }
   ],
   "source": [
    "panel_tvd = (\n",
    "    100 * np.sum(np.abs(panel_income[\"Proportion\"] - pop_income[\"Proportion\"])) / 2\n",
    ")\n",
    "panel_tvd"
   ]
  },
  {
   "cell_type": "markdown",
   "id": "f7aeef59-e7b5-4e87-9439-fae009a96f6d",
   "metadata": {},
   "source": [
    "**Question 3.2:** Create an array `tvd_values` with the TVDs for the percentage of each income class between each of 10,000 samples of 100 people selected from `adult_pop` and `adult_pop` itself.\n",
    "\n",
    "*Hint:* \n",
    "- Use `column_proportions` to get the proportions from the sample.\n",
    "- Again, careful with order of rows!  (Sort as done with `pop_income` above!)"
   ]
  },
  {
   "cell_type": "code",
   "execution_count": 108,
   "id": "e58a8d70-3016-4282-9cb2-32d3cd9530e3",
   "metadata": {},
   "outputs": [
    {
     "data": {
      "text/plain": [
       "array([ 6.982, 12.156,  5.844,  2.844,  2.156,  5.982,  0.982,  8.826,\n",
       "        8.982,  5.174,  2.156,  5.018,  4.174,  3.018,  5.826,  5.156,\n",
       "        4.156,  1.982,  5.174,  5.982])"
      ]
     },
     "execution_count": 108,
     "metadata": {},
     "output_type": "execute_result"
    }
   ],
   "source": [
    "# number of samples\n",
    "number_of_samples = 10_000\n",
    "\n",
    "# percentages from adult_pop (sorted!)\n",
    "pop_income_perc = 100 * pop_income.sort_values(\"Value\")[\"Proportion\"]\n",
    "\n",
    "# initialize array of TVDs\n",
    "tvd_values = np.zeros(number_of_samples)\n",
    "\n",
    "for i in np.arange(number_of_samples):\n",
    "    # percentages for the sample (sorted!)\n",
    "    sample_income_perc = 100 * column_proportions(\n",
    "        adult_pop.sample(100), \"Income\"\n",
    "    ).sort_values(\"Value\").reset_index(drop=True)[\"Proportion\"]\n",
    "\n",
    "    # tvd between sample and total population\n",
    "    tvd = np.sum(np.abs(pop_income_perc - sample_income_perc)) / 2\n",
    "    \n",
    "    # add tvd to the array tvd_values\n",
    "    tvd_values[i] = tvd\n",
    "\n",
    "# first 20 entries of tvd_values\n",
    "tvd_values[:20]"
   ]
  },
  {
   "cell_type": "markdown",
   "id": "fc87126b-7b88-4400-ac64-70dd220d9a5f",
   "metadata": {},
   "source": [
    "Below we draw the histogram for the TVD values found from the 10,000 sample.  In green, we mark the one found for the panel above."
   ]
  },
  {
   "cell_type": "code",
   "execution_count": 109,
   "id": "1ace9329-2b12-4035-83b5-3f5a47da0543",
   "metadata": {},
   "outputs": [
    {
     "data": {
      "image/png": "[encoded data removed]",
      "text/plain": [
       "<Figure size 1000x800 with 1 Axes>"
      ]
     },
     "metadata": {},
     "output_type": "display_data"
    }
   ],
   "source": [
    "plt.hist(tvd_values,  bins = np.arange(0, 30, 1), density=True, ec=\"white\")\n",
    "plt.scatter(panel_tvd, 0, color=\"green\")\n",
    "plt.ylim(-0.01, 0.2)\n",
    "plt.show()"
   ]
  },
  {
   "cell_type": "markdown",
   "id": "101d0efe-b10f-4dc9-afee-73f591ee11f8",
   "metadata": {},
   "source": [
    "**Question 3.3:**  Using the histogram for `tvd_values` as our empirical probability distribution, what is the p-value for the TVD between`panel_income` and `pop_income` (computed in `panel_tvd`)?\n",
    "\n",
    "*Hint:* You've done that in a previous question where the data was in a data frame.  Here the data in an array.  You could put the array in a data frame, but it is easier than that!\n",
    "\n",
    "For instance, if I wanted to count the number of `5`'s in an array `a`, I can simply do:\n",
    "\n",
    "```python\n",
    "np.count_nonzero(a == 5)\n",
    "```\n",
    "\n",
    "You can use a similar idea for other tests with the array."
   ]
  },
  {
   "cell_type": "code",
   "execution_count": 111,
   "id": "a04fa83c-8ed1-480d-9d03-b5daf9a46457",
   "metadata": {},
   "outputs": [
    {
     "data": {
      "text/plain": [
       "0.2182"
      ]
     },
     "execution_count": 111,
     "metadata": {},
     "output_type": "execute_result"
    }
   ],
   "source": [
    "panel_p_val = np.count_nonzero(tvd_values > panel_tvd) / len(tvd_values)\n",
    "panel_p_val"
   ]
  },
  {
   "cell_type": "markdown",
   "id": "39e2a089-664d-4bc8-88f3-9c31c1de62ea",
   "metadata": {},
   "source": [
    "**Question 3.4:** What is the largest value for a TVD between a test and `pop_income` still statistically *insignificant*?"
   ]
  },
  {
   "cell_type": "code",
   "execution_count": 112,
   "id": "ba1738ab-f4d9-4279-b9e4-720a3be8b666",
   "metadata": {},
   "outputs": [
    {
     "data": {
      "text/plain": [
       "10.825999999999999"
      ]
     },
     "execution_count": 112,
     "metadata": {},
     "output_type": "execute_result"
    }
   ],
   "source": [
    "largest_stat_ins = np.quantile(tvd_values, 0.95)\n",
    "largest_stat_ins"
   ]
  },
  {
   "cell_type": "markdown",
   "id": "8b7451b1-ba3b-4e4d-be23-7f4c9e981fb5",
   "metadata": {},
   "source": [
    "## 4. Submission\n",
    "\n",
    "You're finished with lab 8. **To submit this lab**, please download your notebook as a .ipynb file and submit in Canvas under Lab 8 (under Assignments). To export, go to the toolbar at the top of this page, click File > Download. Then, go to our class's Canvas page and upload your file under \"Lab 8\".\n",
    "\n",
    "For easy identification, **please add your surname to the file**, as in: lab_08_DS201_Name.ipynb"
   ]
  }
 ],
 "metadata": {
  "kernelspec": {
   "display_name": "Python 3 (ipykernel)",
   "language": "python",
   "name": "python3"
  },
  "language_info": {
   "codemirror_mode": {
    "name": "ipython",
    "version": 3
   },
   "file_extension": ".py",
   "mimetype": "text/x-python",
   "name": "python",
   "nbconvert_exporter": "python",
   "pygments_lexer": "ipython3",
   "version": "3.11.4"
  }
 },
 "nbformat": 4,
 "nbformat_minor": 5
}
